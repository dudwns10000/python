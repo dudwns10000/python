{
 "cells": [
  {
   "cell_type": "markdown",
   "id": "4b68a014",
   "metadata": {},
   "source": [
    "# 인덱싱과 슬라이싱을 이용한 배열의 원소 조회"
   ]
  },
  {
   "cell_type": "markdown",
   "id": "29fc8be1",
   "metadata": {},
   "source": [
    "## 배열 인덱싱(Indexing)\n",
    "- ### index\n",
    "    - 배열내의 원소의 식별번호\n",
    "    - 0부터 시작 \n",
    "- ### indexing \n",
    "    – index를 이용해 원소 조회\n",
    "    - [] 표기법 사용\n",
    "- ### 구문 \n",
    "    - ndarray[index]\n",
    "    - 양수는 지정한 index의 값을 조회한다. \n",
    "    - 음수는 뒤부터 조회한다. \n",
    "        - 마지막 index가 -1\n",
    "    - 2차원배열의 경우 \n",
    "        - arr[행index, 열index]\n",
    "        - 파이썬 리스트와 차이점 (list[행][열])\n",
    "    - N차원 배열의 경우\n",
    "        - arr[0축 index, 1축 index, ..., n축 index]\n",
    "- ### 팬시(fancy) 인덱싱\n",
    "    - **여러개의 원소를 한번에 조회**할 경우 리스트에 담아 전달한다.\n",
    "    - 다차원 배열의 경우 각 축별로 list로 지정\n",
    "    - `arr[[1,2,3,4,5]]`\n",
    "        - 1차원 배열(vector): 1,2,3,4,5 번 index의 원소들 한번에 조회\n",
    "    - `arr[[0,3],[ 1,4]]`\n",
    "        - [0,3] - 1번축 index list, [1,4] - 2번축 index list\n",
    "        - 2차원 배열(matrix): [0,1], [3,4] 의 원소들 조회"
   ]
  },
  {
   "cell_type": "markdown",
   "id": "c7a87233",
   "metadata": {},
   "source": [
    "#### 1차원 배열"
   ]
  },
  {
   "cell_type": "code",
   "execution_count": 1,
   "id": "d68cf8e8",
   "metadata": {},
   "outputs": [
    {
     "name": "stdout",
     "output_type": "stream",
     "text": [
      "[0 1 2 3 4 5 6 7 8 9]\n",
      "한개: 0 5\n",
      "여러개(3, 6, 7)-fancy indexing: [3 6 7]\n",
      "음수index: 9\n"
     ]
    }
   ],
   "source": [
    "import numpy as np\n",
    "\n",
    "a1 = np.arange(10)\n",
    "print(a1)\n",
    "print(\"한개:\", a1[0], a1[5])\n",
    "print('여러개(3, 6, 7)-fancy indexing:', a1[[3,6,7]])\n",
    "print('음수index:', a1[-1])"
   ]
  },
  {
   "cell_type": "markdown",
   "id": "2e1a3819",
   "metadata": {},
   "source": [
    "#### 값 변경"
   ]
  },
  {
   "cell_type": "code",
   "execution_count": 2,
   "id": "bfd7aace",
   "metadata": {},
   "outputs": [
    {
     "data": {
      "text/plain": [
       "array([100,   1,   2,   3,   4,   5,   6,   7,   8,   9])"
      ]
     },
     "execution_count": 2,
     "metadata": {},
     "output_type": "execute_result"
    }
   ],
   "source": [
    "a1[0] = 100\n",
    "a1"
   ]
  },
  {
   "cell_type": "code",
   "execution_count": 3,
   "id": "1b88ee48",
   "metadata": {},
   "outputs": [
    {
     "data": {
      "text/plain": [
       "array([10000, 10000, 10000,     3,     4,     5,     6,     7,     8,\n",
       "           9])"
      ]
     },
     "execution_count": 3,
     "metadata": {},
     "output_type": "execute_result"
    }
   ],
   "source": [
    "a1[[0,1,2]]  = 10000   # 여러 index의 값을 한번에 같은 값으로 변경\n",
    "a1"
   ]
  },
  {
   "cell_type": "code",
   "execution_count": 4,
   "id": "e103f899",
   "metadata": {},
   "outputs": [
    {
     "data": {
      "text/plain": [
       "array([10000, 10000, 10000,   700,     4,   800,     6,   900,     8,\n",
       "           9])"
      ]
     },
     "execution_count": 4,
     "metadata": {},
     "output_type": "execute_result"
    }
   ],
   "source": [
    "a1[[3,5,7]] = [700,800,900] # 여러 index의 값을 서로 다른 값으로 변경\n",
    "a1"
   ]
  },
  {
   "cell_type": "markdown",
   "id": "92309c6a",
   "metadata": {},
   "source": [
    "#### 다차원 배열"
   ]
  },
  {
   "cell_type": "code",
   "execution_count": 8,
   "id": "e0e3fafe",
   "metadata": {},
   "outputs": [
    {
     "name": "stdout",
     "output_type": "stream",
     "text": [
      "[[ 0  1  2  3  4  5]\n",
      " [ 6  7  8  9 10 11]\n",
      " [12 13 14 15 16 17]\n",
      " [18 19 20 21 22 23]\n",
      " [24 25 26 27 28 29]]\n",
      "0축: [0 1 2 3 4 5]\n",
      "(0축,1축) 3\n",
      "[0축들],[1축들]: [13 19 26]\n"
     ]
    }
   ],
   "source": [
    "a2 = np.arange(30).reshape(5, 6)\n",
    "print(a2)\n",
    "print('0축:',a2[0])  #0축\n",
    "print('(0축,1축)',a2[0, 3])\n",
    "print('[0축들],[1축들]:',a2[ [2,3,4] , [1,1,2] ])  #[0축들, 1축들])"
   ]
  },
  {
   "cell_type": "markdown",
   "id": "e2ce2760",
   "metadata": {},
   "source": [
    "## 슬라이싱\n",
    "- 배열의 부분 집합을 하위배열로 조회 및 변경하는 방식\n",
    "- ndarry[start : stop : step ]\n",
    "    - start : 시작 인덱스. 기본값 0\n",
    "    - stop : 끝 index. stop은 포함하지 않는다. 기본값 마지막 index\n",
    "    - step : 증감 간격. 기본값 1)"
   ]
  },
  {
   "cell_type": "code",
   "execution_count": 9,
   "id": "574658f7",
   "metadata": {},
   "outputs": [
    {
     "name": "stdout",
     "output_type": "stream",
     "text": [
      "(100,)\n"
     ]
    },
    {
     "data": {
      "text/plain": [
       "array([ 5,  6,  7,  8,  9, 10, 11, 12, 13, 14, 15, 16, 17, 18, 19])"
      ]
     },
     "execution_count": 9,
     "metadata": {},
     "output_type": "execute_result"
    }
   ],
   "source": [
    "a1 = np.arange(100)\n",
    "print(a1.shape)\n",
    "a1[5:20]  # 5 ~ 20-1, step: 1"
   ]
  },
  {
   "cell_type": "code",
   "execution_count": 10,
   "id": "8900f308",
   "metadata": {},
   "outputs": [
    {
     "data": {
      "text/plain": [
       "array([ 5, 10, 15, 20, 25, 30, 35, 40, 45, 50, 55, 60, 65, 70])"
      ]
     },
     "execution_count": 10,
     "metadata": {},
     "output_type": "execute_result"
    }
   ],
   "source": [
    "a1[5:75:5]  # 5 ~ 75-1: step: 5"
   ]
  },
  {
   "cell_type": "markdown",
   "id": "2d5fb3ad",
   "metadata": {},
   "source": [
    "### 다차원 배열 슬라이싱\n",
    "- 각 축에 slicing 문법 적용\n",
    "- 2차원의 경우\n",
    "    - arr [행 slicing, 열 slicing]\n",
    "        - `arr[:3, :]`\n",
    "    - `,` 로 행과 열을 구분한 다중 슬라이싱 사용\n",
    "- 다차원의 경우\n",
    "    - arr[0축 slicing, 1축 slicing, ..., n축 slicing]\n",
    "- slicing과 indexing 문법은 같이 쓸 수 있다.\n",
    "- 모든 축에 index를 지정할 필요는 없다."
   ]
  },
  {
   "cell_type": "code",
   "execution_count": 16,
   "id": "973a6533",
   "metadata": {},
   "outputs": [
    {
     "name": "stdout",
     "output_type": "stream",
     "text": [
      "[[ 0  1  2  3  4  5]\n",
      " [ 6  7  8  9 10 11]\n",
      " [12 13 14 15 16 17]\n",
      " [18 19 20 21 22 23]\n",
      " [24 25 26 27 28 29]]\n",
      "--------------------\n",
      "[[ 0  1  2  3  4  5]\n",
      " [ 6  7  8  9 10 11]\n",
      " [12 13 14 15 16 17]]\n"
     ]
    }
   ],
   "source": [
    "# a2[0축 , 1축]\n",
    "print(a2)\n",
    "print('--------------------')\n",
    "print(a2[:3])"
   ]
  },
  {
   "cell_type": "code",
   "execution_count": 17,
   "id": "b84d1691",
   "metadata": {},
   "outputs": [
    {
     "data": {
      "text/plain": [
       "array([[ 7,  8,  9, 10],\n",
       "       [13, 14, 15, 16],\n",
       "       [19, 20, 21, 22]])"
      ]
     },
     "execution_count": 17,
     "metadata": {},
     "output_type": "execute_result"
    }
   ],
   "source": [
    "a2[1:4, 1:5]"
   ]
  },
  {
   "cell_type": "code",
   "execution_count": 18,
   "id": "36fd43fc",
   "metadata": {},
   "outputs": [
    {
     "data": {
      "text/plain": [
       "array([[ 8, 10, 11],\n",
       "       [14, 16, 17],\n",
       "       [20, 22, 23]])"
      ]
     },
     "execution_count": 18,
     "metadata": {},
     "output_type": "execute_result"
    }
   ],
   "source": [
    "a2[1:4, [2,4,5]] #0축: slicing, 1축: fancy indexing"
   ]
  },
  {
   "cell_type": "markdown",
   "id": "dd50b98c",
   "metadata": {},
   "source": [
    "### 슬라이싱은 원본에 대한 View \n",
    "- slicing한 결과는 새로운 배열을 생성하는 것이 아니라 기존 배열을 참조한다.\n",
    "- slicing한 배열의 원소를 변경하면 원본 배열의 것도 바뀐다.\n",
    "- 배열.copy()\n",
    "    - 배열을 복사한 새로운 배열 생성\n",
    "    - 복사후 처리하면 원본이 바뀌지 않는다."
   ]
  },
  {
   "cell_type": "markdown",
   "id": "44722650",
   "metadata": {},
   "source": [
    "#### slicing 후 원소를 변경하면 원본의 원소도 변경됨"
   ]
  },
  {
   "cell_type": "code",
   "execution_count": 19,
   "id": "80106cb2",
   "metadata": {},
   "outputs": [
    {
     "data": {
      "text/plain": [
       "array([0, 1, 2, 3, 4, 5, 6, 7, 8, 9])"
      ]
     },
     "execution_count": 19,
     "metadata": {},
     "output_type": "execute_result"
    }
   ],
   "source": [
    "b = a1[:10]\n",
    "b"
   ]
  },
  {
   "cell_type": "code",
   "execution_count": 20,
   "id": "c13712f0",
   "metadata": {},
   "outputs": [
    {
     "data": {
      "text/plain": [
       "array([1000,    1,    2,    3,    4,    5,    6,    7,    8,    9])"
      ]
     },
     "execution_count": 20,
     "metadata": {},
     "output_type": "execute_result"
    }
   ],
   "source": [
    "# b는 a1을 slicing 한 결과. b의 원소를 변경하면 a1의 원소도 같이 변경 -> (slicing: shallow copy)\n",
    "b[0] = 1000\n",
    "b"
   ]
  },
  {
   "cell_type": "markdown",
   "id": "e3a54a12",
   "metadata": {},
   "source": [
    "#### 원본을 복사 후 값변경 -> 원본 변경 x"
   ]
  },
  {
   "cell_type": "code",
   "execution_count": 21,
   "id": "80e38291",
   "metadata": {},
   "outputs": [
    {
     "data": {
      "text/plain": [
       "array([50000,     1,     2,     3,     4,     5,     6,     7,     8,\n",
       "           9])"
      ]
     },
     "execution_count": 21,
     "metadata": {},
     "output_type": "execute_result"
    }
   ],
   "source": [
    "b2 = a1[:10].copy()  # copy() 깊은복사(deep copy)\n",
    "b2[0] = 50000\n",
    "b2"
   ]
  },
  {
   "cell_type": "code",
   "execution_count": 22,
   "id": "2bf456cd",
   "metadata": {},
   "outputs": [
    {
     "data": {
      "text/plain": [
       "array([1000,    1,    2,    3,    4,    5,    6,    7,    8,    9])"
      ]
     },
     "execution_count": 22,
     "metadata": {},
     "output_type": "execute_result"
    }
   ],
   "source": [
    "b"
   ]
  },
  {
   "cell_type": "markdown",
   "id": "f8e5de7d",
   "metadata": {},
   "source": [
    "## boolean indexing\n",
    "- Index 연산자에 Boolean 배열을 넣으면 True인 index의 값만 조회 (False가 있는 index는 조회하지 않는다.)\n",
    "- ndarray내의 원소 중에서 원하는 조건의 값들만 조회할 때 사용"
   ]
  },
  {
   "cell_type": "code",
   "execution_count": 23,
   "id": "86cce173",
   "metadata": {},
   "outputs": [
    {
     "name": "stdout",
     "output_type": "stream",
     "text": [
      "[1 2 3 4 5 6 7 8 9]\n",
      "[False  True  True False  True False  True  True False]\n"
     ]
    }
   ],
   "source": [
    "import numpy as np\n",
    "# a,b 동일한 shape\n",
    "a = np.arange(1,10)\n",
    "b = np.random.choice([True, False], 9)\n",
    "print(a)\n",
    "print(b)"
   ]
  },
  {
   "cell_type": "code",
   "execution_count": 24,
   "id": "533736ee",
   "metadata": {},
   "outputs": [
    {
     "data": {
      "text/plain": [
       "array([2, 3, 5, 7, 8])"
      ]
     },
     "execution_count": 24,
     "metadata": {},
     "output_type": "execute_result"
    }
   ],
   "source": [
    "a[b] # b의 True가 있는 index의 값을 a에서 조회"
   ]
  },
  {
   "cell_type": "markdown",
   "id": "c01a5de0",
   "metadata": {},
   "source": [
    "#### and: & , or: |, not: ~\n",
    "#### 파이썬 and, or, not 키워드 연산자는 사용안됨.(넘파이, 판다스)\n",
    "#### 피연산자는 ( )로 묶어준다.(넘파이, 판다스)"
   ]
  },
  {
   "cell_type": "code",
   "execution_count": 25,
   "id": "4639277a",
   "metadata": {},
   "outputs": [
    {
     "data": {
      "text/plain": [
       "array([1, 2, 3, 4, 5, 9])"
      ]
     },
     "execution_count": 25,
     "metadata": {},
     "output_type": "execute_result"
    }
   ],
   "source": [
    "a[~((a>5) & (a<9))]"
   ]
  },
  {
   "cell_type": "markdown",
   "id": "8fcced9f",
   "metadata": {},
   "source": [
    "### np.where()\n",
    "- np.where(boolean 배열) - True인 index를 반환\n",
    "- boolean연산과 같이쓰면 특정 조건을 만족하는 원소의 index조회됨.\n",
    "- np.where(boolean 배열, True를 대체할 값, False를 대체할 값)\n",
    "    - True와 False를 다른 값으로 변경한다."
   ]
  },
  {
   "cell_type": "code",
   "execution_count": 26,
   "id": "1fb1e0eb",
   "metadata": {},
   "outputs": [
    {
     "data": {
      "text/plain": [
       "(array([0, 2], dtype=int64),)"
      ]
     },
     "execution_count": 26,
     "metadata": {},
     "output_type": "execute_result"
    }
   ],
   "source": [
    "np.where([True, False, True])  #True의 index들을 ndarray로 묶어서 반환. 반환타입: Tuple (축별로 묶어서 반환)"
   ]
  },
  {
   "cell_type": "code",
   "execution_count": 27,
   "id": "e2099c49",
   "metadata": {},
   "outputs": [
    {
     "data": {
      "text/plain": [
       "(array([0, 1], dtype=int64), array([0, 0], dtype=int64))"
      ]
     },
     "execution_count": 27,
     "metadata": {},
     "output_type": "execute_result"
    }
   ],
   "source": [
    "np.where([[True, False], [True, False]])\n",
    "# [0, 1]: 0축의 index들, [0, 0]: 1축의 index들  ===> (실제 값의 index는 같은 index끼리 묶어준다.) (0, 0), (1, 0)"
   ]
  },
  {
   "cell_type": "markdown",
   "id": "a72cd430",
   "metadata": {},
   "source": [
    "- 2차원도 마찮가지\n",
    "    - 단 where는 축별로 배열이 반환된다. [0,1], [2,3] => (0,2)  (1,3)\n",
    "    - 보통 Vector에 적용한다."
   ]
  },
  {
   "cell_type": "code",
   "execution_count": 29,
   "id": "fb7f0527",
   "metadata": {},
   "outputs": [
    {
     "data": {
      "text/plain": [
       "array([1, 2, 3, 4, 5, 6, 7, 8, 9])"
      ]
     },
     "execution_count": 29,
     "metadata": {},
     "output_type": "execute_result"
    }
   ],
   "source": [
    "a"
   ]
  },
  {
   "cell_type": "code",
   "execution_count": 28,
   "id": "8b998e8b",
   "metadata": {},
   "outputs": [
    {
     "data": {
      "text/plain": [
       "array(['5미만', '5미만', '5미만', '5미만', '5미만', '5이상', '5이상', '5이상', '5이상'],\n",
       "      dtype='<U3')"
      ]
     },
     "execution_count": 28,
     "metadata": {},
     "output_type": "execute_result"
    }
   ],
   "source": [
    "# True, False 를 다른 값으로 변경\n",
    "np.where(a > 5, \"5이상\", \"5미만\")"
   ]
  },
  {
   "cell_type": "code",
   "execution_count": 30,
   "id": "32037d8f",
   "metadata": {},
   "outputs": [
    {
     "data": {
      "text/plain": [
       "array(['1', '2', '3', '4', '5', '5이상', '5이상', '5이상', '5이상'], dtype='<U11')"
      ]
     },
     "execution_count": 30,
     "metadata": {},
     "output_type": "execute_result"
    }
   ],
   "source": [
    "# value자리에 배열객체를 넣으면 비교한 조건의 값이 그대로 나온다.\n",
    "np.where(a>5, \"5이상\", a)  "
   ]
  },
  {
   "cell_type": "markdown",
   "id": "d4a96e41",
   "metadata": {},
   "source": [
    "### 기타\n",
    "- np.any(boolean 배열)\n",
    "    - 배열에 True가 하나라도 있으면 True 반환\n",
    "- np.all(boolean 배열)\n",
    "    - 배열의 모든 원소가 True이면 True 반환"
   ]
  },
  {
   "cell_type": "code",
   "execution_count": 33,
   "id": "8205e28e",
   "metadata": {},
   "outputs": [
    {
     "name": "stdout",
     "output_type": "stream",
     "text": [
      "True\n",
      "False\n"
     ]
    }
   ],
   "source": [
    "# 특정조건을 만족하는 값이 하나라도 있는지 확인 -> any()\n",
    "# 특정조건을 배열의 모든 원소가 만족하는지 확인 -> all()\n",
    "print(np.any(a > 5))\n",
    "print(np.all(a > 5))"
   ]
  },
  {
   "cell_type": "markdown",
   "id": "7e99e8f1",
   "metadata": {},
   "source": [
    "### 정렬\n",
    "- np.sort(arr): arr을 정렬\n",
    "- np.argsort(arr): 정렬 후 index를 반환"
   ]
  },
  {
   "cell_type": "code",
   "execution_count": 35,
   "id": "3013d8b3",
   "metadata": {},
   "outputs": [
    {
     "data": {
      "text/plain": [
       "array([10, 12, 12, 18, 18, 18, 18, 10, 18, 10])"
      ]
     },
     "execution_count": 35,
     "metadata": {},
     "output_type": "execute_result"
    }
   ],
   "source": [
    "x = np.random.randint(10,20,10)\n",
    "x"
   ]
  },
  {
   "cell_type": "code",
   "execution_count": 36,
   "id": "fa458a29",
   "metadata": {},
   "outputs": [
    {
     "name": "stdout",
     "output_type": "stream",
     "text": [
      "[10 12 12 18 18 18 18 10 18 10]\n",
      "[10 10 10 12 12 18 18 18 18 18]\n"
     ]
    }
   ],
   "source": [
    "y = np.sort(x) \n",
    "#x를 정렬한 새로운 배열을 반환 (원본을 정렬하지 않는다.)\n",
    "#오름차순 정렬\n",
    "print(x)\n",
    "print(y)"
   ]
  },
  {
   "cell_type": "code",
   "execution_count": 37,
   "id": "d1fdc1aa",
   "metadata": {},
   "outputs": [
    {
     "data": {
      "text/plain": [
       "array([18, 18, 18, 18, 18, 12, 12, 10, 10, 10])"
      ]
     },
     "execution_count": 37,
     "metadata": {},
     "output_type": "execute_result"
    }
   ],
   "source": [
    "# 내림차순정렬 - sort()로 정렬한 뒤에서 reverse시킨다.\n",
    "y2 = np.sort(x)[::-1]\n",
    "y2"
   ]
  },
  {
   "cell_type": "code",
   "execution_count": 39,
   "id": "f6da81a4",
   "metadata": {},
   "outputs": [
    {
     "data": {
      "text/plain": [
       "array([10, 10, 10, 12, 12, 18, 18, 18, 18, 18])"
      ]
     },
     "execution_count": 39,
     "metadata": {},
     "output_type": "execute_result"
    }
   ],
   "source": [
    "# 배열객체.sort() => 원본이 정렬\n",
    "x.sort()\n",
    "x"
   ]
  },
  {
   "cell_type": "code",
   "execution_count": 40,
   "id": "400e337c",
   "metadata": {},
   "outputs": [
    {
     "name": "stdout",
     "output_type": "stream",
     "text": [
      "[[11 18 12 14]\n",
      " [16 10 12 16]\n",
      " [10 11 10 16]\n",
      " [10 12 19 17]\n",
      " [16 15 16 10]]\n",
      "[[10 10 10 10]\n",
      " [10 11 12 14]\n",
      " [11 12 12 16]\n",
      " [16 15 16 16]\n",
      " [16 18 19 17]]\n"
     ]
    }
   ],
   "source": [
    "x2 = np.random.randint(10,20,size=(5,4))\n",
    "print(x2)\n",
    "y = np.sort(x2, axis=0)\n",
    "print(y)"
   ]
  },
  {
   "cell_type": "code",
   "execution_count": 41,
   "id": "9def633e",
   "metadata": {},
   "outputs": [
    {
     "data": {
      "text/plain": [
       "array([[11, 12, 14, 18],\n",
       "       [10, 12, 16, 16],\n",
       "       [10, 10, 11, 16],\n",
       "       [10, 12, 17, 19],\n",
       "       [10, 15, 16, 16]])"
      ]
     },
     "execution_count": 41,
     "metadata": {},
     "output_type": "execute_result"
    }
   ],
   "source": [
    "np.sort(x2, axis=1)  #axis=None(기본) None-마지막축을 기준으로 정렬"
   ]
  },
  {
   "cell_type": "code",
   "execution_count": 42,
   "id": "98abc21a",
   "metadata": {},
   "outputs": [
    {
     "name": "stdout",
     "output_type": "stream",
     "text": [
      "[12 17 13 17 19 10 12 12 14 15]\n",
      "[5 0 6 7 2 8 9 1 3 4]\n"
     ]
    }
   ],
   "source": [
    "x3 = np.random.randint(10,20,10)\n",
    "print(x3)\n",
    "y = np.argsort(x3)\n",
    "#  정렬한 것을 index로 반환.\n",
    "print(y)"
   ]
  }
 ],
 "metadata": {
  "kernelspec": {
   "display_name": "Python 3 (ipykernel)",
   "language": "python",
   "name": "python3"
  },
  "language_info": {
   "codemirror_mode": {
    "name": "ipython",
    "version": 3
   },
   "file_extension": ".py",
   "mimetype": "text/x-python",
   "name": "python",
   "nbconvert_exporter": "python",
   "pygments_lexer": "ipython3",
   "version": "3.9.12"
  }
 },
 "nbformat": 4,
 "nbformat_minor": 5
}
