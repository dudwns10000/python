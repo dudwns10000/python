{
 "cells": [
  {
   "cell_type": "code",
   "execution_count": 1,
   "id": "012206b9",
   "metadata": {},
   "outputs": [
    {
     "name": "stdout",
     "output_type": "stream",
     "text": [
      "ㄴ\n",
      "ㄴ\n"
     ]
    }
   ],
   "source": [
    "s = input()   # input 함수를 사용,호출(call)\n",
    "print(s)   # print 함수를 호출"
   ]
  },
  {
   "cell_type": "code",
   "execution_count": 2,
   "id": "7a0c3fdf",
   "metadata": {},
   "outputs": [
    {
     "name": "stdout",
     "output_type": "stream",
     "text": [
      "100\n"
     ]
    }
   ],
   "source": [
    "i = int('100')  # '100': argument(인수) => 피연산자\n",
    "print(i)  # i의 100 => int() 함수의 반환값"
   ]
  },
  {
   "cell_type": "code",
   "execution_count": 3,
   "id": "60fe7970",
   "metadata": {},
   "outputs": [
    {
     "name": "stdout",
     "output_type": "stream",
     "text": [
      "test\n",
      "None\n"
     ]
    }
   ],
   "source": [
    "j = print('test')\n",
    "print(j)  # 반혼값이 없는 함수"
   ]
  },
  {
   "cell_type": "markdown",
   "id": "b790d1da",
   "metadata": {},
   "source": [
    "# 함수(Function)\n",
    "- 사용자정의 연산자\n",
    "- 구문\n",
    "```python\n",
    "def 함수이름([매개변수, ...]):  # [] 옵션\n",
    "    실행 구분들을 순서대로 작성\n",
    "    ...\n",
    "    [return value]\n",
    "```\n",
    "- 함수 이름\n",
    "    - 규칙: 변수와 동일\n",
    "    - 관례: 변수와 동일 - snake 표기법"
   ]
  },
  {
   "cell_type": "code",
   "execution_count": 4,
   "id": "077aee4b",
   "metadata": {},
   "outputs": [],
   "source": [
    "# 함수 정의\n",
    "# 정의된 함수는 사용하기 위해서는 메모리에 로딩되어야 한다. -> 실행, import\n",
    "def say_hello():\n",
    "    print('안녕하세요')\n",
    "    print('Hello')"
   ]
  },
  {
   "cell_type": "code",
   "execution_count": 5,
   "id": "1d67dbfb",
   "metadata": {},
   "outputs": [
    {
     "name": "stdout",
     "output_type": "stream",
     "text": [
      "안녕하세요\n",
      "Hello\n"
     ]
    }
   ],
   "source": [
    "# 호출: 함수명([argument])\n",
    "# 리턴값이 있는 함수 호출: 변수 = 함수명([argument])\n",
    "say_hello()"
   ]
  },
  {
   "cell_type": "code",
   "execution_count": 6,
   "id": "2040d497",
   "metadata": {},
   "outputs": [],
   "source": [
    "# 매개변수가 있는 함수\n",
    "def say_hello2(name):  # name: 매개변수(parameter) -> 호출한 곳으로 부터 전달된 값(parameter)을 받을 변수\n",
    "    greeting = f'{name}님 반갑습니다'\n",
    "    print(greeting)"
   ]
  },
  {
   "cell_type": "code",
   "execution_count": 7,
   "id": "094f6e49",
   "metadata": {},
   "outputs": [
    {
     "name": "stdout",
     "output_type": "stream",
     "text": [
      "홍길동님 반갑습니다\n"
     ]
    }
   ],
   "source": [
    "say_hello2(\"홍길동\")  #매개변수가 있는 함수 호출 시 반드시 값을 전달해야 한다."
   ]
  },
  {
   "cell_type": "code",
   "execution_count": 8,
   "id": "c0790b3a",
   "metadata": {},
   "outputs": [],
   "source": [
    "# 반환값(리턴값)이 있는 함수\n",
    "def say_hello2(name, age):\n",
    "    greeting = f'{age}세 {name}님 환영합니다.'\n",
    "    return greeting  # greeting 변수의 값(처리결과)를 호출한 곳을 전달 => 리턴값\n",
    "                      # return: 호출한 곳으로 돌아가라는 명령어"
   ]
  },
  {
   "cell_type": "code",
   "execution_count": 12,
   "id": "4422f33c",
   "metadata": {},
   "outputs": [
    {
     "name": "stdout",
     "output_type": "stream",
     "text": [
      "20세 홍길동님 환영합니다.30세 이순신님 환영합니다.\n"
     ]
    }
   ],
   "source": [
    "g1 = say_hello2('홍길동',20)\n",
    "g2 = say_hello2('이순신',30)\n",
    "print(g1+g2)"
   ]
  },
  {
   "cell_type": "code",
   "execution_count": 24,
   "id": "bfd7443a",
   "metadata": {},
   "outputs": [],
   "source": [
    "# 매개변수는 여러개 선언 가능. 리턴값은 1개만 가능.\n",
    "# (처리결과가 여러개인 경우 => 자료구조로 묶어서 전달)\n",
    "# 두개의 값을 받아서 4칙연산한 결과를 반환하는 함수\n",
    "def calc(num1, num2):\n",
    "    a = num1 + num2\n",
    "    b = num1 - num2\n",
    "    c = num1 * num2\n",
    "    d = None\n",
    "    if num2:\n",
    "        d = num1 / num2\n",
    "    \n",
    "#    return [a,b,c,d] # 리스트\n",
    "#    return a,b,c,d # 튜플\n",
    "    return {'plus':a, 'minus':b, 'multiply':c, 'divide':d} #dic"
   ]
  },
  {
   "cell_type": "code",
   "execution_count": 19,
   "id": "270d32fd",
   "metadata": {},
   "outputs": [
    {
     "name": "stdout",
     "output_type": "stream",
     "text": [
      "(15, 5, 50, 2.0)\n",
      "30 10 200 2.0\n"
     ]
    }
   ],
   "source": [
    "result = calc(10,5)\n",
    "print(result)\n",
    "r1, r2, r3, r4 = calc(20,10) #리스트 대입\n",
    "print(r1, r2, r3, r4)"
   ]
  },
  {
   "cell_type": "code",
   "execution_count": 21,
   "id": "8360c2b7",
   "metadata": {},
   "outputs": [
    {
     "name": "stdout",
     "output_type": "stream",
     "text": [
      "{'plus': 15, 'minus': 5, 'multiply': 50, 'divide': 2.0}\n",
      "덧셈결과: 15\n"
     ]
    }
   ],
   "source": [
    "result = calc(10,5)\n",
    "print(result)\n",
    "print(\"덧셈결과:\",result['plus'])"
   ]
  },
  {
   "cell_type": "code",
   "execution_count": 26,
   "id": "06bb0464",
   "metadata": {},
   "outputs": [
    {
     "data": {
      "text/plain": [
       "{'plus': 10, 'minus': 10, 'multiply': 0, 'divide': None}"
      ]
     },
     "execution_count": 26,
     "metadata": {},
     "output_type": "execute_result"
    }
   ],
   "source": [
    "result = calc(10,0)\n",
    "result"
   ]
  },
  {
   "cell_type": "code",
   "execution_count": 27,
   "id": "5c42d3f1",
   "metadata": {},
   "outputs": [
    {
     "ename": "NameError",
     "evalue": "name 'num1' is not defined",
     "output_type": "error",
     "traceback": [
      "\u001b[1;31m---------------------------------------------------------------------------\u001b[0m",
      "\u001b[1;31mNameError\u001b[0m                                 Traceback (most recent call last)",
      "\u001b[1;32m~\\AppData\\Local\\Temp/ipykernel_17152/1813985459.py\u001b[0m in \u001b[0;36m<module>\u001b[1;34m\u001b[0m\n\u001b[0;32m      1\u001b[0m \u001b[0mcalc\u001b[0m\u001b[1;33m(\u001b[0m\u001b[1;36m10\u001b[0m\u001b[1;33m,\u001b[0m  \u001b[1;36m5\u001b[0m\u001b[1;33m)\u001b[0m\u001b[1;33m\u001b[0m\u001b[1;33m\u001b[0m\u001b[0m\n\u001b[1;32m----> 2\u001b[1;33m \u001b[0mprint\u001b[0m\u001b[1;33m(\u001b[0m\u001b[0mnum1\u001b[0m\u001b[1;33m,\u001b[0m \u001b[0mnum2\u001b[0m\u001b[1;33m,\u001b[0m \u001b[0ma\u001b[0m\u001b[1;33m,\u001b[0m \u001b[0mb\u001b[0m\u001b[1;33m,\u001b[0m \u001b[0mc\u001b[0m\u001b[1;33m,\u001b[0m \u001b[0md\u001b[0m\u001b[1;33m)\u001b[0m  \u001b[1;31m# calc() 함수안에서 선언한 변수들을 사용\u001b[0m\u001b[1;33m\u001b[0m\u001b[1;33m\u001b[0m\u001b[0m\n\u001b[0m\u001b[0;32m      3\u001b[0m \u001b[1;31m# 함수 안에 선언된 변수: Local Variable(지역변수) => 사용범위는 함수가 실행하는 동안\u001b[0m\u001b[1;33m\u001b[0m\u001b[1;33m\u001b[0m\u001b[0m\n",
      "\u001b[1;31mNameError\u001b[0m: name 'num1' is not defined"
     ]
    }
   ],
   "source": [
    "calc(10,  5)\n",
    "print(num1, num2, a, b, c, d)  # calc() 함수안에서 선언한 변수들을 사용\n",
    "# 함수 안에 선언된 변수: Local Variable(지역변수) => 사용범위는 함수가 실행하는 동안\n",
    "# 함수 안에서만 사용가능"
   ]
  },
  {
   "cell_type": "markdown",
   "id": "c9d4d0ec",
   "metadata": {},
   "source": [
    "## 매개변수와 관련된 문법\n",
    "\n",
    "### Positional Parameter(Argument)\n",
    "- 일반적인 매개변수(parameter)\n",
    "- 매개변수가 선언된 순서대로 값을 전달한다."
   ]
  },
  {
   "cell_type": "code",
   "execution_count": 28,
   "id": "22ce39ab",
   "metadata": {},
   "outputs": [],
   "source": [
    "def print_info(name, age, address):\n",
    "    print(f\"이름:{name}, 나이:{age}, 주소:{address}\")"
   ]
  },
  {
   "cell_type": "code",
   "execution_count": 30,
   "id": "05a8f0fb",
   "metadata": {},
   "outputs": [
    {
     "name": "stdout",
     "output_type": "stream",
     "text": [
      "이름:홍길동, 나이:20, 주소:서울\n"
     ]
    }
   ],
   "source": [
    "print_info(\"홍길동\",20,\"서울\")  #순서에 맞춰서 값들을 전달"
   ]
  },
  {
   "cell_type": "code",
   "execution_count": 31,
   "id": "7fcb7ede",
   "metadata": {},
   "outputs": [
    {
     "ename": "TypeError",
     "evalue": "print_info() missing 2 required positional arguments: 'age' and 'address'",
     "output_type": "error",
     "traceback": [
      "\u001b[1;31m---------------------------------------------------------------------------\u001b[0m",
      "\u001b[1;31mTypeError\u001b[0m                                 Traceback (most recent call last)",
      "\u001b[1;32m~\\AppData\\Local\\Temp/ipykernel_17152/294754206.py\u001b[0m in \u001b[0;36m<module>\u001b[1;34m\u001b[0m\n\u001b[1;32m----> 1\u001b[1;33m \u001b[0mprint_info\u001b[0m\u001b[1;33m(\u001b[0m\u001b[1;34m\"홍길동\"\u001b[0m\u001b[1;33m)\u001b[0m  \u001b[1;31m# 매개변수에 값을 다 전달해야 한다\u001b[0m\u001b[1;33m\u001b[0m\u001b[1;33m\u001b[0m\u001b[0m\n\u001b[0m",
      "\u001b[1;31mTypeError\u001b[0m: print_info() missing 2 required positional arguments: 'age' and 'address'"
     ]
    }
   ],
   "source": [
    "print_info(\"홍길동\")  # 매개변수에 값을 다 전달해야 한다"
   ]
  },
  {
   "cell_type": "markdown",
   "id": "0a667089",
   "metadata": {},
   "source": [
    "### 기본값이 있는 매개변수\n",
    "- 매개변수에 값을 대입, 기본값 설정\n",
    "    - 호출할 때 값이 안 전달되면 기본값을 사용."
   ]
  },
  {
   "cell_type": "code",
   "execution_count": 32,
   "id": "079e6831",
   "metadata": {},
   "outputs": [],
   "source": [
    "def print_info2(name=None, age=0, address=None):\n",
    "     print(f\"이름:{name}, 나이:{age}, 주소:{address}\")"
   ]
  },
  {
   "cell_type": "code",
   "execution_count": 33,
   "id": "ffaeafb8",
   "metadata": {},
   "outputs": [
    {
     "name": "stdout",
     "output_type": "stream",
     "text": [
      "이름:이순신, 나이:30, 주소:서울\n"
     ]
    }
   ],
   "source": [
    "print_info2(\"이순신\", 30, \"서울\")"
   ]
  },
  {
   "cell_type": "code",
   "execution_count": 34,
   "id": "004183b1",
   "metadata": {},
   "outputs": [
    {
     "name": "stdout",
     "output_type": "stream",
     "text": [
      "이름:None, 나이:0, 주소:None\n"
     ]
    }
   ],
   "source": [
    "print_info2()  #argument 생략하면 기본값을 함수내에서 사용한다."
   ]
  },
  {
   "cell_type": "code",
   "execution_count": 35,
   "id": "a74c8462",
   "metadata": {},
   "outputs": [
    {
     "name": "stdout",
     "output_type": "stream",
     "text": [
      "이름:홍길동, 나이:25, 주소:None\n"
     ]
    }
   ],
   "source": [
    "# name, age는 전달 / address는 기본값\n",
    "print_info2(\"홍길동\",25)"
   ]
  },
  {
   "cell_type": "code",
   "execution_count": 36,
   "id": "63ac7889",
   "metadata": {},
   "outputs": [
    {
     "name": "stdout",
     "output_type": "stream",
     "text": [
      "이름:강감찬, 나이:0, 주소:None\n"
     ]
    }
   ],
   "source": [
    "# name 만 전달 / age, address는 기본값(두번째 매개변수 부터)\n",
    "print_info2(\"강감찬\")"
   ]
  },
  {
   "cell_type": "code",
   "execution_count": 38,
   "id": "876218cc",
   "metadata": {},
   "outputs": [
    {
     "name": "stdout",
     "output_type": "stream",
     "text": [
      "이름:부산, 나이:0, 주소:None\n",
      "이름:None, 나이:0, 주소:부산\n",
      "이름:None, 나이:0, 주소:부산\n"
     ]
    }
   ],
   "source": [
    "# address만 전달 / name, age는 기본값 => positional argument로는 안된다.\n",
    "# 뒷쪽의 매개변수에만 값을 전달 할 수 없다. => keyward argument 사용\n",
    "print_info2(\"부산\")\n",
    "print_info2(None,0,\"부산\")\n",
    "print_info2(address = \"부산\")  # 매개변수를 지정해서 값을 전달 => keyward argument"
   ]
  },
  {
   "cell_type": "code",
   "execution_count": 39,
   "id": "69731a8c",
   "metadata": {},
   "outputs": [
    {
     "name": "stdout",
     "output_type": "stream",
     "text": [
      "이름:홍길동, 나이:10, 주소:인천\n"
     ]
    }
   ],
   "source": [
    "print_info2(address=\"인천\", name=\"홍길동\", age=10)  # keyward argument를 사용하면 순서 상관없이 대입"
   ]
  },
  {
   "cell_type": "code",
   "execution_count": 40,
   "id": "bac94b29",
   "metadata": {},
   "outputs": [],
   "source": [
    "# 기본값이 없는 매개변수들을 먼저 선언하고 이어서 기본값 있는 매개변수들을 선언\n",
    "def print_info3(name, age, address=None, email=None):\n",
    "    print(f\"이름:{name}, 나이:{age}, 주소:{address}, 이메일:{email}\")"
   ]
  },
  {
   "cell_type": "code",
   "execution_count": 41,
   "id": "4bb3fdb3",
   "metadata": {},
   "outputs": [
    {
     "name": "stdout",
     "output_type": "stream",
     "text": [
      "이름:홍길동, 나이:20, 주소:None, 이메일:None\n",
      "이름:이순신, 나이:30, 주소:None, 이메일:None\n"
     ]
    }
   ],
   "source": [
    "# 기본값 없는 것과 있는 매개변수들이 섞여 있는 경우 기본값 없는 매개변수에는 값을 반드시 전달해야한다.\n",
    "# 기본값 없는 매개변수: 필수입력사항\n",
    "# 기본값 있는 매개변수: 옵션입력사항\n",
    "print_info3(\"홍길동\",20)\n",
    "print_info3(name=\"이순신\", age=30)"
   ]
  },
  {
   "cell_type": "markdown",
   "id": "5cc75016",
   "metadata": {},
   "source": [
    "## 가변인자"
   ]
  },
  {
   "cell_type": "code",
   "execution_count": 42,
   "id": "86792fd0",
   "metadata": {},
   "outputs": [],
   "source": [
    "def sum_function(num_list):  # 정수 여러개(정해지지 않은 개수)를 받아서 합계를 리턴하는 함수\n",
    "                             # argument: 자료구조\n",
    "        sum_value = 0\n",
    "        for v in num_list:\n",
    "            sum_value += v\n",
    "        return sum_value"
   ]
  },
  {
   "cell_type": "code",
   "execution_count": 43,
   "id": "da89f4bc",
   "metadata": {},
   "outputs": [
    {
     "name": "stdout",
     "output_type": "stream",
     "text": [
      "55\n"
     ]
    }
   ],
   "source": [
    "result = sum_function([1,2,3,4,5,6,7,8,9,10])\n",
    "print(result)"
   ]
  },
  {
   "cell_type": "code",
   "execution_count": 82,
   "id": "0b6858be",
   "metadata": {},
   "outputs": [],
   "source": [
    "# 가변인자: 개수가 정해지지 않은 값들을 받아서 처리할 경우 사용\n",
    "# *변수명 - 튜플로 처리, 호출할떄는 전단할 값들(argument)을 나열해서 전달한다\n",
    "def sum_function2(*num_list):\n",
    "    print(type(num_list), num_list)\n",
    "    sum_value = 0\n",
    "    for v in num_list:\n",
    "        sum_value += v\n",
    "    return sum_value"
   ]
  },
  {
   "cell_type": "code",
   "execution_count": 83,
   "id": "041958d1",
   "metadata": {},
   "outputs": [
    {
     "name": "stdout",
     "output_type": "stream",
     "text": [
      "<class 'tuple'> (1, 2, 3, 4, 5)\n",
      "15\n"
     ]
    },
    {
     "data": {
      "text/plain": [
       "int"
      ]
     },
     "execution_count": 83,
     "metadata": {},
     "output_type": "execute_result"
    }
   ],
   "source": [
    "r1 = sum_function2(1,2,3,4,5)\n",
    "print(r1)"
   ]
  },
  {
   "cell_type": "code",
   "execution_count": 85,
   "id": "bfc13bb0",
   "metadata": {},
   "outputs": [],
   "source": [
    "# 가변인자: **변수명 - 딕셔너리로 처리, 호출할 떄는 keyword argument형식으로 전달\n",
    "def print_info(**info):\n",
    "    return_value = ''\n",
    "    for key, value in info.items():\n",
    "        return_value = f\"{key}:{value}\"\n",
    "    return return_value"
   ]
  },
  {
   "cell_type": "code",
   "execution_count": 86,
   "id": "e5cab578",
   "metadata": {},
   "outputs": [
    {
     "data": {
      "text/plain": [
       "''"
      ]
     },
     "execution_count": 86,
     "metadata": {},
     "output_type": "execute_result"
    }
   ],
   "source": [
    "print_info()"
   ]
  },
  {
   "cell_type": "code",
   "execution_count": 87,
   "id": "459ed69a",
   "metadata": {},
   "outputs": [
    {
     "name": "stdout",
     "output_type": "stream",
     "text": [
      "이름:홍길동\n",
      "주소:서울\n"
     ]
    },
    {
     "data": {
      "text/plain": [
       "str"
      ]
     },
     "execution_count": 87,
     "metadata": {},
     "output_type": "execute_result"
    }
   ],
   "source": [
    "v1 = print_info(이름=\"홍길동\")\n",
    "v2 = print_info(나이=20, 주소=\"서울\")\n",
    "print(v1)\n",
    "print(v2)"
   ]
  },
  {
   "cell_type": "code",
   "execution_count": 64,
   "id": "646be533",
   "metadata": {},
   "outputs": [
    {
     "ename": "SyntaxError",
     "evalue": "invalid syntax (Temp/ipykernel_17152/3320563825.py, line 1)",
     "output_type": "error",
     "traceback": [
      "\u001b[1;36m  File \u001b[1;32m\"C:\\Users\\user\\AppData\\Local\\Temp/ipykernel_17152/3320563825.py\"\u001b[1;36m, line \u001b[1;32m1\u001b[0m\n\u001b[1;33m    def test_fn(*a, *b, *c):  # 가변인자는 한 함수에 종류별(*,**)로 하나씩만 선언 가능\u001b[0m\n\u001b[1;37m                    ^\u001b[0m\n\u001b[1;31mSyntaxError\u001b[0m\u001b[1;31m:\u001b[0m invalid syntax\n"
     ]
    }
   ],
   "source": [
    "def test_fn(*a, *b, *c):  # 가변인자는 한 함수에 종류별(*,**)로 하나씩만 선언 가능\n",
    "    pass"
   ]
  },
  {
   "cell_type": "code",
   "execution_count": 65,
   "id": "d9730d9e",
   "metadata": {},
   "outputs": [],
   "source": [
    "def test_fn2(*args, **kwargs):\n",
    "    pass"
   ]
  },
  {
   "cell_type": "code",
   "execution_count": 66,
   "id": "bb0d1733",
   "metadata": {},
   "outputs": [],
   "source": [
    "def test_fn3(var1, var2, *args, **kwargs): #일반 변수와 같이 선언할 경우 가변인자는 마지막에 와야한다\n",
    "    pass"
   ]
  },
  {
   "cell_type": "markdown",
   "id": "386866fd",
   "metadata": {},
   "source": [
    "# 함수는 일급시민객체\n",
    "- 함수를 변수에 할당, 함수를 (다른)함수호출할 때 argument로 전달, \n",
    "  함수가 리턴값으로 함수를 반환할 수 있다.\n",
    "- 함수도 값으로 처리할 수 있다."
   ]
  },
  {
   "cell_type": "code",
   "execution_count": 97,
   "id": "16810a26",
   "metadata": {},
   "outputs": [],
   "source": [
    "def my_fn(name):\n",
    "    print(name+\"님 안녕하세요\")\n",
    "    return \"리턴값\""
   ]
  },
  {
   "cell_type": "code",
   "execution_count": 99,
   "id": "2bf15b47",
   "metadata": {},
   "outputs": [
    {
     "name": "stdout",
     "output_type": "stream",
     "text": [
      "홍길동님 안녕하세요\n",
      "리턴값\n"
     ]
    }
   ],
   "source": [
    "# 함수 호출\n",
    "r1 = my_fn('홍길동')\n",
    "print(r1)"
   ]
  },
  {
   "cell_type": "code",
   "execution_count": 92,
   "id": "b35ef094",
   "metadata": {},
   "outputs": [],
   "source": [
    "your_fn = my_fn  # 함수 자체가 your_fn에 저장"
   ]
  },
  {
   "cell_type": "code",
   "execution_count": 100,
   "id": "af802d21",
   "metadata": {},
   "outputs": [
    {
     "name": "stdout",
     "output_type": "stream",
     "text": [
      "이순신님 안녕하세요\n"
     ]
    }
   ],
   "source": [
    "your_fn('이순신')"
   ]
  },
  {
   "cell_type": "code",
   "execution_count": 116,
   "id": "36f0e9ac",
   "metadata": {},
   "outputs": [],
   "source": [
    "# 함수를 매개변수의 argument 전달\n",
    "def calculator(fn):\n",
    "    # 처리할 값이 있다. (num1, num2)\n",
    "    # 어떻게 처리할지 방법이 없다. 처리방법(함수)을 매개변수로 받는다\n",
    "    num1, num2 = 10, 20\n",
    "    result = fn(num1,num2)\n",
    "    print('calculator()결과:',result)"
   ]
  },
  {
   "cell_type": "code",
   "execution_count": 117,
   "id": "5d482315",
   "metadata": {},
   "outputs": [],
   "source": [
    "def plus(n1,n2):\n",
    "    return n1+n2"
   ]
  },
  {
   "cell_type": "code",
   "execution_count": 118,
   "id": "347a541c",
   "metadata": {},
   "outputs": [
    {
     "name": "stdout",
     "output_type": "stream",
     "text": [
      "calculator()결과: 30\n"
     ]
    }
   ],
   "source": [
    "calculator(plus)"
   ]
  },
  {
   "cell_type": "markdown",
   "id": "80238e00",
   "metadata": {},
   "source": [
    "## lambda 표현식\n",
    "- 함수를 단일 구문(식)으로 작성하는 방법\n",
    "- 다시 사용할 필요 없이 함수 호출할 떄 넘겨줄 함수를 만들 때 주로 사용\n",
    "- lambda[매개변수]: 리턴값처리"
   ]
  },
  {
   "cell_type": "code",
   "execution_count": 113,
   "id": "d2dd7be5",
   "metadata": {},
   "outputs": [],
   "source": [
    "def plus(n1,n2):\n",
    "    return n1 + n2"
   ]
  },
  {
   "cell_type": "code",
   "execution_count": 114,
   "id": "7e1513de",
   "metadata": {},
   "outputs": [
    {
     "data": {
      "text/plain": [
       "3"
      ]
     },
     "execution_count": 114,
     "metadata": {},
     "output_type": "execute_result"
    }
   ],
   "source": [
    "x = lambda n1, n2: n1+n2\n",
    "x(1,2)"
   ]
  },
  {
   "cell_type": "code",
   "execution_count": 115,
   "id": "90e40614",
   "metadata": {},
   "outputs": [
    {
     "data": {
      "text/plain": [
       "100"
      ]
     },
     "execution_count": 115,
     "metadata": {},
     "output_type": "execute_result"
    }
   ],
   "source": [
    "# 하나의 값을 받아서 제곱한 값을 반환하는 함수\n",
    "y = lambda v: v**2\n",
    "y(10)"
   ]
  },
  {
   "cell_type": "code",
   "execution_count": 119,
   "id": "f1975b88",
   "metadata": {},
   "outputs": [
    {
     "name": "stdout",
     "output_type": "stream",
     "text": [
      "calculator()결과: 30\n"
     ]
    }
   ],
   "source": [
    "calculator(lambda n1,n2: n1+n2)"
   ]
  },
  {
   "cell_type": "code",
   "execution_count": 120,
   "id": "cc3f5643",
   "metadata": {},
   "outputs": [],
   "source": [
    "l = [10, 20, 30]\n",
    "# mapping 각 원소에 *10\n",
    "# map( 각원소들을 어떻게 처리할지 정의한 함수, Iterable)\n",
    "def m10(x):\n",
    "    return x*10"
   ]
  },
  {
   "cell_type": "code",
   "execution_count": 122,
   "id": "9fb3e50d",
   "metadata": {},
   "outputs": [
    {
     "data": {
      "text/plain": [
       "[100, 200, 300]"
      ]
     },
     "execution_count": 122,
     "metadata": {},
     "output_type": "execute_result"
    }
   ],
   "source": [
    "list(map(m10,l))"
   ]
  },
  {
   "cell_type": "code",
   "execution_count": 125,
   "id": "06795b33",
   "metadata": {},
   "outputs": [
    {
     "data": {
      "text/plain": [
       "[100, 200, 300]"
      ]
     },
     "execution_count": 125,
     "metadata": {},
     "output_type": "execute_result"
    }
   ],
   "source": [
    "list(map(lambda x:x*10,l))"
   ]
  },
  {
   "cell_type": "markdown",
   "id": "ea6d5c96",
   "metadata": {},
   "source": [
    "## docstring\n",
    "- 함수(class, 메소드 등) 구현시 함수에 대한 설명을 문자열로 정의하는 것\n",
    "- 선언부와 구현부 사이에 여러줄 문자열(''' ''')을 이용하여 작성\n",
    "- 보통 작성하는 내용\n",
    "    - 함수 설명\n",
    "    - 매개변수에 대한 설명\n",
    "    - 리턴 값에 대한 설명\n",
    "    - 발생 Excerption(Error)에 대한 설명"
   ]
  },
  {
   "cell_type": "code",
   "execution_count": 126,
   "id": "b0d05805",
   "metadata": {},
   "outputs": [],
   "source": [
    "def print_info(name, age):\n",
    "    \"\"\"\n",
    "       회원정보를 출력하는 함수\n",
    "       회원의 이름과 나이를 받아서 출력하고 나이의 10배를 반환한다\n",
    "       [parameter]\n",
    "           name: string - 회원이름\n",
    "           age: int - 회원의 나이\n",
    "       [return value]\n",
    "           int - 나이에 10배의 값\n",
    "       [Exception]\n",
    "           발생할 가능성이 있는 에러에 대한 설명\n",
    "    \"\"\"\n",
    "    print(f\"이름:{name},나이:{age}\")\n",
    "    return age*10"
   ]
  },
  {
   "cell_type": "code",
   "execution_count": 127,
   "id": "7858ff9d",
   "metadata": {},
   "outputs": [],
   "source": [
    "# 주피터 노트북 docstring을 조회하는 명령어/단축키\n",
    "# 함수명?\n",
    "print?"
   ]
  },
  {
   "cell_type": "code",
   "execution_count": 128,
   "id": "d78b4a14",
   "metadata": {},
   "outputs": [
    {
     "data": {
      "text/plain": [
       "<function __main__.print_info(name, age)>"
      ]
     },
     "execution_count": 128,
     "metadata": {},
     "output_type": "execute_result"
    }
   ],
   "source": [
    "# 함수명을 작성한 상태에서 shift + tab\n",
    "# tab: 자동완성\n",
    "# shift + tab: docstring 팝업으로 불러오기"
   ]
  },
  {
   "cell_type": "code",
   "execution_count": null,
   "id": "c016a3e1",
   "metadata": {},
   "outputs": [],
   "source": []
  }
 ],
 "metadata": {
  "kernelspec": {
   "display_name": "Python 3 (ipykernel)",
   "language": "python",
   "name": "python3"
  },
  "language_info": {
   "codemirror_mode": {
    "name": "ipython",
    "version": 3
   },
   "file_extension": ".py",
   "mimetype": "text/x-python",
   "name": "python",
   "nbconvert_exporter": "python",
   "pygments_lexer": "ipython3",
   "version": "3.9.7"
  }
 },
 "nbformat": 4,
 "nbformat_minor": 5
}
