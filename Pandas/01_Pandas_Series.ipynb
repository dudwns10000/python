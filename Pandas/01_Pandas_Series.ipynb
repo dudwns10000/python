{
 "cells": [
  {
   "cell_type": "markdown",
   "id": "d83b29e8",
   "metadata": {},
   "source": [
    "# 판다스 (Pandas)"
   ]
  },
  {
   "cell_type": "markdown",
   "id": "d87a40a9",
   "metadata": {},
   "source": [
    "## Pandas 개요\n",
    "- 데이터 분석과 관련된 다양한 기능을 제공하는 파이썬 패키지\n",
    "    - 데이터 셋을 이용한 다양한 통계 처리 기능을 제공한다.\n",
    "    - 표 형태의 데이터를 다루는데 특화된 파이썬 모듈.\n",
    "        - 엑셀의 기능을 제공하는 파이썬 모듈이라고 생각하면 이해가 쉽다.\n",
    "    - 표 형태의 데이터를 다루기 위한 **시리즈(Series)**와 **데이터프레임(DataFrame)** 클래스 제공\n",
    "        - Series : 1차원 자료구조를 표현\n",
    "        - DataFrame : 행렬의 표를 표현\n",
    "- 설치\n",
    "    - `pip install pandas`\n",
    "    - `conda instll pandas`\n",
    "    - 아나콘다에는 미리 install 되어 제공된다.\n",
    "- https://pandas.pydata.org/\n",
    "- https://pandas.pydata.org/docs/\n"
   ]
  },
  {
   "cell_type": "markdown",
   "id": "ca5370f9",
   "metadata": {},
   "source": [
    "# Series"
   ]
  },
  {
   "cell_type": "markdown",
   "id": "487e36b8",
   "metadata": {},
   "source": [
    "## Series 개요\n",
    "- 1차원 자료구조\n",
    "- DataFrame(표)의 한 행이나 한 열을 표현한다.\n",
    "- 각 원소는 index로 접근할 수 있다.\n",
    "    - index는 순번과 지정한 이름 두가지로 구성된다.\n",
    "        - index명을 명시적으로 지정하지 않으면 순번이 index명이 된다.\n",
    "    - 순번은 0부터 1씩 증가하는 정수.  \n",
    "- 벡터화 연산(element-wise 연산)을 지원\n",
    "    - Series 객체에 연산을 하면 각각의 Series 원소들에 연산이 된다.\n",
    "- Series를 구성하는 원소들을 다루는 다양한 메소드 제공    "
   ]
  },
  {
   "cell_type": "markdown",
   "id": "5fc1c859",
   "metadata": {},
   "source": [
    "## Series생성\n",
    "- 구문\n",
    "    - `Series(배열형태 자료구조)`\n",
    "> #### 배열형태 자료구조    \n",
    "> - 리스트\n",
    "> - 튜플\n",
    "> - 넘파이 배열(ndarray)"
   ]
  },
  {
   "cell_type": "code",
   "execution_count": 1,
   "id": "9925476c",
   "metadata": {
    "scrolled": true
   },
   "outputs": [
    {
     "name": "stdout",
     "output_type": "stream",
     "text": [
      "<class 'pandas.core.series.Series'>\n",
      "0    1\n",
      "1    2\n",
      "2    3\n",
      "3    4\n",
      "4    5\n",
      "dtype: int64\n"
     ]
    }
   ],
   "source": [
    "import pandas as pd  # 처음 실행할때 pandas 실행\n",
    "\n",
    "s1 = pd.Series([1,2,3,4,5])  # Series 생성\n",
    "print(type(s1))              # Series 각 원소들의 타입\n",
    "print(s1)"
   ]
  },
  {
   "cell_type": "code",
   "execution_count": 2,
   "id": "b9e7da0a",
   "metadata": {},
   "outputs": [
    {
     "data": {
      "text/plain": [
       "가    1\n",
       "나    2\n",
       "다    3\n",
       "dtype: int64"
      ]
     },
     "execution_count": 2,
     "metadata": {},
     "output_type": "execute_result"
    }
   ],
   "source": [
    "d = {              # dic\n",
    "    '가':1, \n",
    "    '나':2,\n",
    "    '다':3\n",
    "}\n",
    "\n",
    "s2 = pd.Series(d)\n",
    "s2"
   ]
  },
  {
   "cell_type": "code",
   "execution_count": 4,
   "id": "e3bee633",
   "metadata": {},
   "outputs": [
    {
     "data": {
      "text/plain": [
       "국어     80\n",
       "영어     70\n",
       "과학     90\n",
       "수학    100\n",
       "dtype: int64"
      ]
     },
     "execution_count": 4,
     "metadata": {},
     "output_type": "execute_result"
    }
   ],
   "source": [
    "s3 = pd.Series([80, 70, 90, 100], index=['국어', '영어', '과학', '수학'])  #index=[index명]\n",
    "s3"
   ]
  },
  {
   "cell_type": "markdown",
   "id": "4f46ee3c",
   "metadata": {},
   "source": [
    "## Series안의 원소(element) 접근\n",
    "### Indexing\n",
    "- **index 순번으로 조회**\n",
    "    - Series[순번]\n",
    "    - Series.iloc[순번]"
   ]
  },
  {
   "cell_type": "code",
   "execution_count": 6,
   "id": "1fb338aa",
   "metadata": {},
   "outputs": [
    {
     "name": "stdout",
     "output_type": "stream",
     "text": [
      "80 70\n",
      "100 90\n",
      "80 70\n",
      "100 90\n"
     ]
    }
   ],
   "source": [
    "# index(순번) 으로 조회\n",
    "print(s3[0], s3[1])    # 양수 index\n",
    "print(s3[-1], s3[-2])  # 음수 index\n",
    "# iloc indexer\n",
    "print(s3.iloc[0], s3.iloc[1])\n",
    "print(s3.iloc[-1], s3.iloc[-2])"
   ]
  },
  {
   "cell_type": "markdown",
   "id": "d42220c0",
   "metadata": {},
   "source": [
    "- **index 이름으로 조회**\n",
    "    - Series[index명]\n",
    "    - Series.loc[index명]\n",
    "    - Series.index명\n",
    "        - index명이 문자열일 경우 `. 표기법` 사용가능\n",
    "    - index명이 문자열이면 문자열(\" \") 로, 정수이면 정수로 호출\n",
    "        - s['name'], s[2], s.loc['name'], s.loc[2]"
   ]
  },
  {
   "cell_type": "code",
   "execution_count": 7,
   "id": "b59fa041",
   "metadata": {},
   "outputs": [
    {
     "name": "stdout",
     "output_type": "stream",
     "text": [
      "70 100\n",
      "80 90\n",
      "80 90\n"
     ]
    }
   ],
   "source": [
    "# index이름(명) 조회\n",
    "print(s3['영어'], s3['수학'])\n",
    "# loc indexer\n",
    "print(s3.loc['국어'], s3.loc['과학'])\n",
    "# . 표기법(dot notation)\n",
    "print(s3.국어, s3.과학)"
   ]
  },
  {
   "cell_type": "markdown",
   "id": "e5a55b51",
   "metadata": {},
   "source": [
    "- **팬시(fancy) 인덱싱**\n",
    "    - Series[index리스트] \n",
    "    - 여러 원소 조회 시 조회할 index를 list로 전달\n",
    "        - `s[[1,2,3]]`\n",
    "    - 리스트, 튜플은 fnacy indexing 기능이 없다"
   ]
  },
  {
   "cell_type": "code",
   "execution_count": 8,
   "id": "9d02e620",
   "metadata": {},
   "outputs": [
    {
     "data": {
      "text/plain": [
       "국어    80\n",
       "영어    70\n",
       "과학    90\n",
       "dtype: int64"
      ]
     },
     "execution_count": 8,
     "metadata": {},
     "output_type": "execute_result"
    }
   ],
   "source": [
    "# fancy indexing - 한번에 여러개의 원소(element)들을 조회. \n",
    "# 조회하려는 index들을 리스트로 묶어서 전달.\n",
    "s3[[0, 1, 2]]"
   ]
  },
  {
   "cell_type": "markdown",
   "id": "8ed46626",
   "metadata": {},
   "source": [
    "    \n",
    "### Slicing\n",
    "- **Series[start index :  end index : step]**\n",
    "    - start index 생략 : 0번 부터\n",
    "    - end index\n",
    "        - **index 순번일 경우는 포함 하지는다.**\n",
    "        - **index 명의 경우는 포함한다.**\n",
    "    - end index 생략 : 마지막 index까지\n",
    "    - step 생략 : 1씩 증가\n",
    "- **Slicing의 결과는 원본의 참조(View)를 반환**\n",
    "    - slicing한 결과를 변경시 원본도 같이 바뀐다.\n",
    "    - Series.copy() : Series를 복사한 새로운 객체 반환"
   ]
  },
  {
   "cell_type": "code",
   "execution_count": 9,
   "id": "37c69edc",
   "metadata": {},
   "outputs": [
    {
     "name": "stdout",
     "output_type": "stream",
     "text": [
      "c    3\n",
      "k    5\n",
      "r    7\n",
      "dtype: int64\n"
     ]
    }
   ],
   "source": [
    "# slicing\n",
    "s4 = pd.Series(range(10), index=list('deacfkxrju'))  #index(순번): 0 ~ 9\n",
    "print(s4[3:8:2])"
   ]
  },
  {
   "cell_type": "code",
   "execution_count": 10,
   "id": "c8fe1ecc",
   "metadata": {},
   "outputs": [
    {
     "data": {
      "text/plain": [
       "e    1\n",
       "a    2\n",
       "c    3\n",
       "f    4\n",
       "k    5\n",
       "x    6\n",
       "r    7\n",
       "dtype: int64"
      ]
     },
     "execution_count": 10,
     "metadata": {},
     "output_type": "execute_result"
    }
   ],
   "source": [
    "#index명으로 slicing 할 때 end index도 포함해서 조회\n",
    "s4['e':'r']  "
   ]
  },
  {
   "cell_type": "markdown",
   "id": "1a1b1124",
   "metadata": {},
   "source": [
    "#### Series/DataFrame - index 명은 중복될 수 있다."
   ]
  },
  {
   "cell_type": "code",
   "execution_count": 13,
   "id": "6bfb4abf",
   "metadata": {},
   "outputs": [
    {
     "name": "stdout",
     "output_type": "stream",
     "text": [
      "A    0\n",
      "A    1\n",
      "A    2\n",
      "B    3\n",
      "B    4\n",
      "B    5\n",
      "C    6\n",
      "C    7\n",
      "C    8\n",
      "C    9\n",
      "dtype: int64\n",
      "A    0\n",
      "A    1\n",
      "A    2\n",
      "B    3\n",
      "B    4\n",
      "B    5\n",
      "dtype: int64\n"
     ]
    }
   ],
   "source": [
    "s5 = pd.Series(range(10), index=list('AAABBBCCCC'))\n",
    "print(s5)\n",
    "print(s5['A':'B'])  #index명 중복된 경우\n",
    "                    # 첫번째 start index명  ~  마지막 end index명"
   ]
  },
  {
   "cell_type": "markdown",
   "id": "95247741",
   "metadata": {},
   "source": [
    ">  ## shallow copy와 deep copy\n",
    "   - slicing을 이용해 단순 조회만 하거나 변경을 하더라도 원본이 같이 바뀌어도 상관없는 경우는 그냥 slicing 을 하고     \n",
    "      원본이 변경되어선 안되는 경우 copy()를 이용해 깊은복사(deep copy)를 한다.\n",
    "> - ### deep copy(깊은 복사)\n",
    "    - 원본의 카피본을 반환하여 값 변경시 원본이 변경되지 않는다.\n",
    "    - 파이썬 리스트는 slicing시 deep copy\n",
    "    - indexing은 deep copy\n",
    "> - ### shallow copy(얕은 복사)\n",
    "    - 원본을 반환하여 값 변경시 원본에 영향을 준다.\n",
    "    - Series, DataFrame, 넘파이 배열(ndarray)은 slicing 조회시 shallow copy"
   ]
  },
  {
   "cell_type": "code",
   "execution_count": 14,
   "id": "714c7459",
   "metadata": {},
   "outputs": [
    {
     "data": {
      "text/plain": [
       "0    0\n",
       "1    1\n",
       "2    2\n",
       "3    3\n",
       "4    4\n",
       "5    5\n",
       "6    6\n",
       "7    7\n",
       "8    8\n",
       "9    9\n",
       "dtype: int64"
      ]
     },
     "execution_count": 14,
     "metadata": {},
     "output_type": "execute_result"
    }
   ],
   "source": [
    "s2 = pd.Series(range(10))\n",
    "s2"
   ]
  },
  {
   "cell_type": "code",
   "execution_count": 15,
   "id": "706273fd",
   "metadata": {},
   "outputs": [
    {
     "data": {
      "text/plain": [
       "2    2\n",
       "3    3\n",
       "4    4\n",
       "5    5\n",
       "6    6\n",
       "7    7\n",
       "dtype: int64"
      ]
     },
     "execution_count": 15,
     "metadata": {},
     "output_type": "execute_result"
    }
   ],
   "source": [
    "s100 = s2[2:8]\n",
    "s100"
   ]
  },
  {
   "cell_type": "code",
   "execution_count": 16,
   "id": "52bacc7c",
   "metadata": {},
   "outputs": [
    {
     "data": {
      "text/plain": [
       "2        2\n",
       "3    10000\n",
       "4        4\n",
       "5        5\n",
       "6        6\n",
       "7        7\n",
       "dtype: int64"
      ]
     },
     "execution_count": 16,
     "metadata": {},
     "output_type": "execute_result"
    }
   ],
   "source": [
    "s100[3] = 10000\n",
    "s100"
   ]
  },
  {
   "cell_type": "code",
   "execution_count": 17,
   "id": "c484dd99",
   "metadata": {},
   "outputs": [
    {
     "data": {
      "text/plain": [
       "0        0\n",
       "1        1\n",
       "2        2\n",
       "3    10000\n",
       "4        4\n",
       "5        5\n",
       "6        6\n",
       "7        7\n",
       "8        8\n",
       "9        9\n",
       "dtype: int64"
      ]
     },
     "execution_count": 17,
     "metadata": {},
     "output_type": "execute_result"
    }
   ],
   "source": [
    "s2   # slicing 한 결과의 원소를 변경하면 원본도 같이 바뀐다. (shallow copy)"
   ]
  },
  {
   "cell_type": "markdown",
   "id": "19b4bcaf",
   "metadata": {},
   "source": [
    "> - ### copy() 메소드\n",
    "    - Series, DataFrame, ndarray를 복사하여 반환한다."
   ]
  },
  {
   "cell_type": "code",
   "execution_count": 20,
   "id": "e3c51213",
   "metadata": {},
   "outputs": [
    {
     "data": {
      "text/plain": [
       "2        2\n",
       "3    10000\n",
       "4        4\n",
       "5        5\n",
       "6        6\n",
       "7        7\n",
       "dtype: int64"
      ]
     },
     "execution_count": 20,
     "metadata": {},
     "output_type": "execute_result"
    }
   ],
   "source": [
    "s200 = s2[2:8].copy()  #series/dataframe 객체.copy() : deep copy \n",
    "s200"
   ]
  },
  {
   "cell_type": "code",
   "execution_count": 21,
   "id": "daad47d3",
   "metadata": {},
   "outputs": [
    {
     "name": "stdout",
     "output_type": "stream",
     "text": [
      "2    2\n",
      "3    3\n",
      "4    4\n",
      "5    5\n",
      "6    6\n",
      "7    7\n",
      "dtype: int64\n",
      "0        0\n",
      "1        1\n",
      "2        2\n",
      "3    10000\n",
      "4        4\n",
      "5        5\n",
      "6        6\n",
      "7        7\n",
      "8        8\n",
      "9        9\n",
      "dtype: int64\n"
     ]
    }
   ],
   "source": [
    "s200[3] = 3  #Deep copy이므로 원본은 변경되지 않는다.\n",
    "print(s200)\n",
    "print(s2)"
   ]
  },
  {
   "cell_type": "markdown",
   "id": "3d5107bc",
   "metadata": {},
   "source": [
    "#### pandas 에서 결측치값(수집이 안된값, 모르는 값, 없는 값) ==> NA(Not Available), N/A, NaN (Not A Number)\n",
    "- 1.None,  2. numpy의 nan 변수를 이용\n",
    "-  결측치를 가지면 type이 float이 된다."
   ]
  },
  {
   "cell_type": "code",
   "execution_count": 19,
   "id": "f8b0db89",
   "metadata": {},
   "outputs": [
    {
     "data": {
      "text/plain": [
       "0    1.0\n",
       "1    2.0\n",
       "2    NaN\n",
       "3    4.0\n",
       "4    5.0\n",
       "5    NaN\n",
       "dtype: float64"
      ]
     },
     "execution_count": 19,
     "metadata": {},
     "output_type": "execute_result"
    }
   ],
   "source": [
    "s1[2] = None\n",
    "import numpy as np\n",
    "s1[5] = np.nan\n",
    "s1"
   ]
  },
  {
   "cell_type": "markdown",
   "id": "7d4d47d3",
   "metadata": {},
   "source": [
    "## Boolean 인덱싱 (Masking)\n",
    "- Series 의 indexing 연산자에 boolean 리스트를 넣으면 True인 index의 값들만 조회한다. \n",
    "    - Boolean 연산자들을 이용해 원하는 조건의 값들을 조회할 수 있다\n",
    "    - 다중 조건인 경우 반드시 ( )로 조건을 묶어야 한다.\n",
    "    - 파이썬과는 다르게 `and`, `or` 예약어는 사용할 수 없다.\n",
    "    - &: and 연산자, |: or 연산자, ~: not 연산자"
   ]
  },
  {
   "cell_type": "code",
   "execution_count": 22,
   "id": "c340c228",
   "metadata": {},
   "outputs": [
    {
     "data": {
      "text/plain": [
       "0    70\n",
       "1    20\n",
       "4    50\n",
       "dtype: int64"
      ]
     },
     "execution_count": 22,
     "metadata": {},
     "output_type": "execute_result"
    }
   ],
   "source": [
    "s3 = pd.Series([70, 20, 100, 200, 50])\n",
    "bool_index = [True, True, False, False, True] #bool값을 원소로 가지며 s3와 크기가 같은 list\n",
    "s3[bool_index]  #True 와 같은 index의 값들이 조회\n",
    "# sql의 where 절 역할."
   ]
  },
  {
   "cell_type": "code",
   "execution_count": 23,
   "id": "a8f5a49a",
   "metadata": {},
   "outputs": [
    {
     "data": {
      "text/plain": [
       "0     70\n",
       "2    100\n",
       "4     50\n",
       "dtype: int64"
      ]
     },
     "execution_count": 23,
     "metadata": {},
     "output_type": "execute_result"
    }
   ],
   "source": [
    "# s3에서 50 ~ 150 사이의 값들만 조회.  and 는 사용 못함. &  사용하고 피연산자를 ( )로 묶는다.\n",
    "s3[(s3>=50) & (s3<=150)]"
   ]
  },
  {
   "cell_type": "markdown",
   "id": "5a06e264",
   "metadata": {},
   "source": [
    "#### head(), tail()\n",
    "- 앞 뒤의 일부 데이터만 조회"
   ]
  },
  {
   "cell_type": "code",
   "execution_count": 26,
   "id": "36dd3b06",
   "metadata": {},
   "outputs": [
    {
     "name": "stdout",
     "output_type": "stream",
     "text": [
      "0    1.0\n",
      "1    2.0\n",
      "2    NaN\n",
      "3    4.0\n",
      "4    5.0\n",
      "dtype: float64\n",
      "0    1.0\n",
      "1    2.0\n",
      "dtype: float64\n"
     ]
    }
   ],
   "source": [
    "a = s1.head() # 앞의 5개 원소\n",
    "b = s1.head(2)# 개수를 명시\n",
    "print(a)\n",
    "print(b)"
   ]
  },
  {
   "cell_type": "code",
   "execution_count": 28,
   "id": "22dea06e",
   "metadata": {},
   "outputs": [
    {
     "name": "stdout",
     "output_type": "stream",
     "text": [
      "1    2.0\n",
      "2    NaN\n",
      "3    4.0\n",
      "4    5.0\n",
      "5    NaN\n",
      "dtype: float64\n",
      "0    1.0\n",
      "1    2.0\n",
      "2    NaN\n",
      "3    4.0\n",
      "4    5.0\n",
      "5    NaN\n",
      "dtype: float64\n"
     ]
    }
   ],
   "source": [
    "c = s1.tail() #뒤의 5개 원소\n",
    "d = s1.tail(7)\n",
    "print(c)\n",
    "print(d)"
   ]
  },
  {
   "cell_type": "markdown",
   "id": "80c2fd59",
   "metadata": {},
   "source": [
    "#### value_counts()\n",
    "- 고유한 값의 빈도수 조회\n",
    "- DataFrame은 지원 안함"
   ]
  },
  {
   "cell_type": "code",
   "execution_count": 29,
   "id": "ee20b391",
   "metadata": {},
   "outputs": [
    {
     "data": {
      "text/plain": [
       "0      A\n",
       "1      A\n",
       "2     AB\n",
       "3      O\n",
       "4      B\n",
       "5      O\n",
       "6     AB\n",
       "7      B\n",
       "8      O\n",
       "9      O\n",
       "10     A\n",
       "dtype: object"
      ]
     },
     "execution_count": 29,
     "metadata": {},
     "output_type": "execute_result"
    }
   ],
   "source": [
    "s2 = pd.Series(['A', 'A', 'AB', 'O', 'B', 'O', 'AB', 'B', 'O', 'O', 'A']) # 범주형 - 정해진 범위의 값들로 구성된 타입 => 분류시 사용.\n",
    "s2"
   ]
  },
  {
   "cell_type": "code",
   "execution_count": 30,
   "id": "6247b2c6",
   "metadata": {},
   "outputs": [
    {
     "data": {
      "text/plain": [
       "O     4\n",
       "A     3\n",
       "AB    2\n",
       "B     2\n",
       "dtype: int64"
      ]
     },
     "execution_count": 30,
     "metadata": {},
     "output_type": "execute_result"
    }
   ],
   "source": [
    "r = s2.value_counts() #각각의 범주값들이 몇개씩 있는지 조회\n",
    "r"
   ]
  },
  {
   "cell_type": "code",
   "execution_count": 31,
   "id": "d8a269eb",
   "metadata": {},
   "outputs": [
    {
     "data": {
      "text/plain": [
       "O     0.363636\n",
       "A     0.272727\n",
       "AB    0.181818\n",
       "B     0.181818\n",
       "dtype: float64"
      ]
     },
     "execution_count": 31,
     "metadata": {},
     "output_type": "execute_result"
    }
   ],
   "source": [
    "s2.value_counts(normalize=True) # 비율"
   ]
  },
  {
   "cell_type": "markdown",
   "id": "48fd6a27",
   "metadata": {},
   "source": [
    "#### shape, size\n",
    "- 원소 갯수 반환"
   ]
  },
  {
   "cell_type": "code",
   "execution_count": 32,
   "id": "a0320275",
   "metadata": {},
   "outputs": [
    {
     "name": "stdout",
     "output_type": "stream",
     "text": [
      "(11,)\n",
      "11\n"
     ]
    }
   ],
   "source": [
    "print(s2.shape) # *****  차원별(순서의 방향-축(axis))로 원소가 몇개씩 구성되었는지 반환(튜플)\n",
    "print(s2.size)  # 전체 원소의 개수"
   ]
  },
  {
   "cell_type": "markdown",
   "id": "7c7889b2",
   "metadata": {},
   "source": [
    "#### unique\n",
    "- 고유값 반환"
   ]
  },
  {
   "cell_type": "code",
   "execution_count": 33,
   "id": "41757d73",
   "metadata": {},
   "outputs": [
    {
     "data": {
      "text/plain": [
       "array(['A', 'AB', 'O', 'B'], dtype=object)"
      ]
     },
     "execution_count": 33,
     "metadata": {},
     "output_type": "execute_result"
    }
   ],
   "source": [
    "s2.unique()"
   ]
  },
  {
   "cell_type": "markdown",
   "id": "9c1a063d",
   "metadata": {},
   "source": [
    "#### nunique()\n",
    "-  고유값의 개수"
   ]
  },
  {
   "cell_type": "code",
   "execution_count": 34,
   "id": "fc9abd50",
   "metadata": {},
   "outputs": [
    {
     "data": {
      "text/plain": [
       "4"
      ]
     },
     "execution_count": 34,
     "metadata": {},
     "output_type": "execute_result"
    }
   ],
   "source": [
    "s2.nunique()# 고유값의 개수"
   ]
  },
  {
   "cell_type": "markdown",
   "id": "243fe341",
   "metadata": {},
   "source": [
    "#### isin()\n",
    "- [ ]의 값인 index는 True, 아니면 False 반환"
   ]
  },
  {
   "cell_type": "code",
   "execution_count": 36,
   "id": "74824011",
   "metadata": {},
   "outputs": [
    {
     "data": {
      "text/plain": [
       "0      True\n",
       "1      True\n",
       "2      True\n",
       "3     False\n",
       "4     False\n",
       "5     False\n",
       "6      True\n",
       "7     False\n",
       "8     False\n",
       "9     False\n",
       "10     True\n",
       "dtype: bool"
      ]
     },
     "execution_count": 36,
     "metadata": {},
     "output_type": "execute_result"
    }
   ],
   "source": [
    "s2.isin(['A', 'AB']) "
   ]
  },
  {
   "cell_type": "markdown",
   "id": "2fb82993",
   "metadata": {},
   "source": [
    "## 기술 통계량\n",
    "- 데이터셋의 데이터들의 특징을 하나의 숫자로 요약한 것.\n",
    "- ### 평균 \n",
    "    - 전체 데이터들의 합계를 총 개수로 나눈 통계량\n",
    "    - 전체 데이터셋의 데이터들은 평균값 근처에 분포되어 데이터셋의 대표값으로 사용한다.\n",
    "    - 이상치(너무 크거나 작은 값)의 영향을 많이 받는다.\n",
    "\n",
    "\n",
    "$$평균 = \\cfrac{1}{n}\\sum_{i=1}^{n}{X_i}$$"
   ]
  },
  {
   "cell_type": "code",
   "execution_count": 37,
   "id": "9f570570",
   "metadata": {},
   "outputs": [
    {
     "data": {
      "text/plain": [
       "4.5"
      ]
     },
     "execution_count": 37,
     "metadata": {},
     "output_type": "execute_result"
    }
   ],
   "source": [
    "# 평균\n",
    "s4.mean()"
   ]
  },
  {
   "cell_type": "markdown",
   "id": "759a5c83",
   "metadata": {},
   "source": [
    "- ### 중앙값\n",
    "    - 분포된 값들을 작은값 부터 순서대로 나열한 뒤 그 중앙에 위치한 값\n",
    "    - 이상치에 영향을 받지 않아 평균대신 집단의 대표값으로 사용한다."
   ]
  },
  {
   "cell_type": "code",
   "execution_count": 38,
   "id": "07986189",
   "metadata": {},
   "outputs": [
    {
     "data": {
      "text/plain": [
       "4.5"
      ]
     },
     "execution_count": 38,
     "metadata": {},
     "output_type": "execute_result"
    }
   ],
   "source": [
    "#중앙값\n",
    "s4.median() "
   ]
  },
  {
   "cell_type": "markdown",
   "id": "0049039e",
   "metadata": {},
   "source": [
    "#### 평균과 중앙값을 조회 - 값의 차이가 많이 나면 극단적으로 크거나 작은 값이 있다는 의미."
   ]
  },
  {
   "cell_type": "markdown",
   "id": "0667e680",
   "metadata": {},
   "source": [
    "#### sort_values()"
   ]
  },
  {
   "cell_type": "code",
   "execution_count": 39,
   "id": "6596c1c9",
   "metadata": {},
   "outputs": [
    {
     "data": {
      "text/plain": [
       "d    0\n",
       "e    1\n",
       "a    2\n",
       "c    3\n",
       "f    4\n",
       "k    5\n",
       "x    6\n",
       "r    7\n",
       "j    8\n",
       "u    9\n",
       "dtype: int64"
      ]
     },
     "execution_count": 39,
     "metadata": {},
     "output_type": "execute_result"
    }
   ],
   "source": [
    "s4.sort_values()"
   ]
  },
  {
   "cell_type": "markdown",
   "id": "18a745f4",
   "metadata": {},
   "source": [
    "- ### 표준편차/분산\n",
    "    - 값들이 흩어져있는 상태(분포)를 추정하는 통계량으로 분포된 값들이 평균에서 부터 얼마나 떨어져 있는지를 나타내는 통계량.\n",
    "    - 각 데이터가 평균으로 부터 얼마나 차이가 있는지를 편차(Deviation)라고 한다. ($평균-데이터$)\n",
    "    - 분산 : 편차 제곱의 합을 총 개수로 나눈 값 \n",
    "    $$분산 = \\cfrac{1}{n}\\sum_{i=1}^{n}(평균-X_i)^2$$\n",
    "    - 표준편차\n",
    "        - 분산의 제곱근\n",
    "        - 분산은 원래 값에 제곱을 했으므로 다시 원래 단위로 계산한 값.\n",
    "    $$표준편차 = \\sqrt{\\cfrac{1}{n}\\sum_{i=1}^{n}(평균-X_i)^2}$$"
   ]
  },
  {
   "cell_type": "code",
   "execution_count": 42,
   "id": "e13edb21",
   "metadata": {},
   "outputs": [
    {
     "name": "stdout",
     "output_type": "stream",
     "text": [
      "9.166666666666666\n"
     ]
    }
   ],
   "source": [
    "# 분산\n",
    "print(s4.var())"
   ]
  },
  {
   "cell_type": "code",
   "execution_count": 43,
   "id": "1fa69f36",
   "metadata": {},
   "outputs": [
    {
     "name": "stdout",
     "output_type": "stream",
     "text": [
      "3.0276503540974917\n"
     ]
    }
   ],
   "source": [
    "# 표준편차\n",
    "print(s4.std())"
   ]
  },
  {
   "cell_type": "markdown",
   "id": "27d8a91e",
   "metadata": {},
   "source": [
    "- ### 최빈값(mode)\n",
    "    - 데이터 셋에서 가장 많이 있는 값."
   ]
  },
  {
   "cell_type": "code",
   "execution_count": 44,
   "id": "396ed00b",
   "metadata": {},
   "outputs": [
    {
     "data": {
      "text/plain": [
       "0    A\n",
       "1    O\n",
       "dtype: object"
      ]
     },
     "execution_count": 44,
     "metadata": {},
     "output_type": "execute_result"
    }
   ],
   "source": [
    "# 최빈값 - 빈도수가 가장 많은 원소(값)\n",
    "s6 =  pd.Series(['A', 'A', 'AB', 'O', 'B', 'O', 'AB', 'B', 'O', 'O', 'A', 'A']) \n",
    "s6.mode() # Series"
   ]
  },
  {
   "cell_type": "markdown",
   "id": "2eee900a",
   "metadata": {},
   "source": [
    "- ### 분위수(Quantile)\n",
    "    - 데이터의 크기 순서에 따른 위치값\n",
    "        - 데이터셋을 크기순으로 정렬한뒤 N등분했을 때 특정 위치에서의 값 (단면)\n",
    "        - N등분한 특정위치의 값들 통해 전체 데이터셋을 분포를 파악한다.\n",
    "        - 대표적인 분위수 : 4분위, 10분위, 100분위\n",
    "    - 데이터의 분포를 파악할 때 사용\n",
    "    - 이상치 중 극단값들을 찾을 때 사용 (4분위수)\n",
    "<img src='https://img1.daumcdn.net/thumb/R1280x0/?scode=mtistory2&fname=http%3A%2F%2Fcfile4.uf.tistory.com%2Fimage%2F99BCE04D5DF076AB2FA02D'>\n",
    "<img src='https://t1.daumcdn.net/cfile/tistory/99E6BD465DF0782433'>"
   ]
  },
  {
   "cell_type": "code",
   "execution_count": 45,
   "id": "125ec108",
   "metadata": {},
   "outputs": [
    {
     "data": {
      "text/plain": [
       "4.5"
      ]
     },
     "execution_count": 45,
     "metadata": {},
     "output_type": "execute_result"
    }
   ],
   "source": [
    "# 분위수 계산 (연속형 타입-값이 실수(정수)로 구성된 변수-의 변수에 사용) - quantile() 메소드 사용\n",
    "s4.quantile() # default: 중앙값"
   ]
  },
  {
   "cell_type": "code",
   "execution_count": 47,
   "id": "2265fa05",
   "metadata": {},
   "outputs": [
    {
     "data": {
      "text/plain": [
       "0.1    0.9\n",
       "dtype: float64"
      ]
     },
     "execution_count": 47,
     "metadata": {},
     "output_type": "execute_result"
    }
   ],
   "source": [
    "s5.quantile(q=[0.1])  # 10분위에서 1분위수\n",
    "# q: 분위의 비율값을 0  ~  1사이 실수로 설정."
   ]
  },
  {
   "cell_type": "code",
   "execution_count": 49,
   "id": "6cb00f4e",
   "metadata": {},
   "outputs": [
    {
     "data": {
      "text/plain": [
       "0.25    2.25\n",
       "0.50    4.50\n",
       "0.75    6.75\n",
       "dtype: float64"
      ]
     },
     "execution_count": 49,
     "metadata": {},
     "output_type": "execute_result"
    }
   ],
   "source": [
    "# 4분위 - 0.25, 0.5, 0.75\n",
    "s5.quantile(q=[0.25, 0.5, 0.75])"
   ]
  },
  {
   "cell_type": "code",
   "execution_count": 51,
   "id": "8b57ebe6",
   "metadata": {},
   "outputs": [
    {
     "data": {
      "text/plain": [
       "0.1    0.9\n",
       "0.2    1.8\n",
       "0.3    2.7\n",
       "0.4    3.6\n",
       "0.5    4.5\n",
       "0.6    5.4\n",
       "0.7    6.3\n",
       "0.8    7.2\n",
       "0.9    8.1\n",
       "dtype: float64"
      ]
     },
     "execution_count": 51,
     "metadata": {},
     "output_type": "execute_result"
    }
   ],
   "source": [
    "# 10분위\n",
    "s5.quantile(q=[x/10 for x in range(1,10)])"
   ]
  },
  {
   "cell_type": "markdown",
   "id": "57617046",
   "metadata": {},
   "source": [
    " #### describe()\n",
    " - 여러 기술통계량을 묶어서 반환."
   ]
  },
  {
   "cell_type": "code",
   "execution_count": 53,
   "id": "3615f453",
   "metadata": {},
   "outputs": [
    {
     "data": {
      "text/plain": [
       "count    10.00000\n",
       "mean      4.50000\n",
       "std       3.02765\n",
       "min       0.00000\n",
       "25%       2.25000\n",
       "50%       4.50000\n",
       "75%       6.75000\n",
       "max       9.00000\n",
       "dtype: float64"
      ]
     },
     "execution_count": 53,
     "metadata": {},
     "output_type": "execute_result"
    }
   ],
   "source": [
    "# 숫자(정수,실수) 타입의 원소를 가진 Series\n",
    "s4.describe() "
   ]
  },
  {
   "cell_type": "code",
   "execution_count": 54,
   "id": "4eb3a2eb",
   "metadata": {},
   "outputs": [
    {
     "data": {
      "text/plain": [
       "count     12\n",
       "unique     4\n",
       "top        A\n",
       "freq       4\n",
       "dtype: object"
      ]
     },
     "execution_count": 54,
     "metadata": {},
     "output_type": "execute_result"
    }
   ],
   "source": [
    "# 범주형(문자열 타입-object)의 원소를 가진 Series\n",
    "s6.describe()"
   ]
  },
  {
   "cell_type": "code",
   "execution_count": 56,
   "id": "40e14d47",
   "metadata": {},
   "outputs": [
    {
     "name": "stdout",
     "output_type": "stream",
     "text": [
      "10 7\n",
      "42.0\n",
      "3.0 9.0\n",
      "6.0\n"
     ]
    }
   ],
   "source": [
    "#Pandas의 기술통계함수는 NaN(결측치)는 제외하고 계산한다.\n",
    "s5[:3] = None\n",
    "print(s5.size, s5.count()) # size: 총 원소개수(결측치 상관없이), count(): NaN이 아닌 원소들의 개수\n",
    "print(s5.sum())\n",
    "print(s5.min(), s5.max())\n",
    "print(s5.mean())"
   ]
  },
  {
   "cell_type": "markdown",
   "id": "0c1305a7",
   "metadata": {},
   "source": [
    "## 결측치 (Missing Value, Not Available)\n",
    "- 판다스에서 결측치\n",
    "    - None, numpy.nan, numpy.NAN\n",
    "    \n",
    "### 결측치 확인\n",
    "- Numpy\n",
    "    - np.isnan(배열)\n",
    "    ```python\n",
    "import numpy as np\n",
    "a = np.array([1,np.nan])\n",
    "np.isnan(a)\n",
    "```"
   ]
  },
  {
   "cell_type": "code",
   "execution_count": 58,
   "id": "cbff44b0",
   "metadata": {},
   "outputs": [
    {
     "data": {
      "text/plain": [
       "0     10.0\n",
       "1      5.0\n",
       "2     30.0\n",
       "3      NaN\n",
       "4    100.0\n",
       "5      NaN\n",
       "6    120.0\n",
       "7     90.0\n",
       "8      NaN\n",
       "dtype: float64"
      ]
     },
     "execution_count": 58,
     "metadata": {},
     "output_type": "execute_result"
    }
   ],
   "source": [
    "import numpy as np\n",
    "import pandas as pd\n",
    "\n",
    "s1 = pd.Series([10, 5, 30, None, 100, np.nan, 120, 90, np.NAN])\n",
    "s1"
   ]
  },
  {
   "cell_type": "code",
   "execution_count": 59,
   "id": "9a7ed11f",
   "metadata": {},
   "outputs": [
    {
     "data": {
      "text/plain": [
       "0    False\n",
       "1    False\n",
       "2    False\n",
       "3     True\n",
       "4    False\n",
       "5     True\n",
       "6    False\n",
       "7    False\n",
       "8     True\n",
       "dtype: bool"
      ]
     },
     "execution_count": 59,
     "metadata": {},
     "output_type": "execute_result"
    }
   ],
   "source": [
    "# 결측치 확인\n",
    "# numpy 함수\n",
    "np.isnan(s1) #False: 값, True: 결측치 => 원소별로 체크"
   ]
  },
  {
   "cell_type": "markdown",
   "id": "290a7c2b",
   "metadata": {},
   "source": [
    "- Series\n",
    "    - Series객체.isnull(), .isna(): 결측치: True, 결측치아닌값: False\n",
    "    - Series.notnull(), .notna()   : 결측치: False, 결측치아닌값: True"
   ]
  },
  {
   "cell_type": "code",
   "execution_count": 60,
   "id": "a2f6820b",
   "metadata": {
    "scrolled": true
   },
   "outputs": [
    {
     "data": {
      "text/plain": [
       "0    False\n",
       "1    False\n",
       "2    False\n",
       "3     True\n",
       "4    False\n",
       "5     True\n",
       "6    False\n",
       "7    False\n",
       "8     True\n",
       "dtype: bool"
      ]
     },
     "execution_count": 60,
     "metadata": {},
     "output_type": "execute_result"
    }
   ],
   "source": [
    "# Series함수\n",
    "s1.isnull()"
   ]
  },
  {
   "cell_type": "code",
   "execution_count": 61,
   "id": "e5651a74",
   "metadata": {},
   "outputs": [
    {
     "data": {
      "text/plain": [
       "0     True\n",
       "1     True\n",
       "2     True\n",
       "3    False\n",
       "4     True\n",
       "5    False\n",
       "6     True\n",
       "7     True\n",
       "8    False\n",
       "dtype: bool"
      ]
     },
     "execution_count": 61,
     "metadata": {},
     "output_type": "execute_result"
    }
   ],
   "source": [
    "s1.notnull()"
   ]
  },
  {
   "cell_type": "markdown",
   "id": "382b00b0",
   "metadata": {},
   "source": [
    "- DataFrame\n",
    "    - DataFrame객체.isnull(), DataFrame객체.isna()\n",
    "    - DataFrame객체.notnull(), DataFrame객체.notna()"
   ]
  },
  {
   "cell_type": "code",
   "execution_count": 62,
   "id": "e954c90c",
   "metadata": {},
   "outputs": [
    {
     "data": {
      "text/plain": [
       "3"
      ]
     },
     "execution_count": 62,
     "metadata": {},
     "output_type": "execute_result"
    }
   ],
   "source": [
    "# 결측치 개수 확인.\n",
    "s1.isnull().sum()\n",
    "# bool 값을 가진 Series.sum() => True의 개수\n",
    "# sum() 계산-True: 1, False: 0 해서 계산"
   ]
  },
  {
   "cell_type": "markdown",
   "id": "6678bc20",
   "metadata": {},
   "source": [
    "### 결측치 처리\n",
    "- 제거 \n",
    "    - dropna()"
   ]
  },
  {
   "cell_type": "code",
   "execution_count": 63,
   "id": "83f14eae",
   "metadata": {},
   "outputs": [
    {
     "data": {
      "text/plain": [
       "0     10.0\n",
       "1      5.0\n",
       "2     30.0\n",
       "4    100.0\n",
       "6    120.0\n",
       "7     90.0\n",
       "dtype: float64"
      ]
     },
     "execution_count": 63,
     "metadata": {},
     "output_type": "execute_result"
    }
   ],
   "source": [
    "# 3, 5, 8 index\n",
    "s2 = s1.dropna() #\n",
    "s2"
   ]
  },
  {
   "cell_type": "markdown",
   "id": "e1fa5822",
   "metadata": {},
   "source": [
    "- 다른값으로 대체 \n",
    "    - fillna()    "
   ]
  },
  {
   "cell_type": "code",
   "execution_count": 66,
   "id": "b98f54c4",
   "metadata": {},
   "outputs": [
    {
     "data": {
      "text/plain": [
       "0     10.0\n",
       "1      5.0\n",
       "2     30.0\n",
       "3      0.0\n",
       "4    100.0\n",
       "5      0.0\n",
       "6    120.0\n",
       "7     90.0\n",
       "8      0.0\n",
       "dtype: float64"
      ]
     },
     "execution_count": 66,
     "metadata": {},
     "output_type": "execute_result"
    }
   ],
   "source": [
    "s1.fillna(0) #NA를 0으로 대체"
   ]
  },
  {
   "cell_type": "markdown",
   "id": "517d4515",
   "metadata": {},
   "source": [
    "Pandas 의 Series나 DataFrame의 원소를 변경(추가,수정,삭제) 하는 함수나 메소드 대부분은 원본을 변경하지 않고 변경된 결과를 새로운 객체에 담아 반환한다.  ==> 원본을 변경하려는 경우 **inplace=True**  argument를 설정한다."
   ]
  },
  {
   "cell_type": "markdown",
   "id": "ef4a607c",
   "metadata": {},
   "source": [
    "### 정렬\n",
    "- Series.sort_index()\n",
    "    - index 명을 기준으로 정렬"
   ]
  },
  {
   "cell_type": "code",
   "execution_count": 67,
   "id": "d02bb85f",
   "metadata": {},
   "outputs": [
    {
     "data": {
      "text/plain": [
       "a      5\n",
       "c      7\n",
       "e     10\n",
       "h     90\n",
       "k     22\n",
       "q     23\n",
       "r    100\n",
       "s      4\n",
       "dtype: int64"
      ]
     },
     "execution_count": 67,
     "metadata": {},
     "output_type": "execute_result"
    }
   ],
   "source": [
    "s2 = pd.Series([10, 5, 22, 100, 4, 7, 90, 23], index=list('eakrschq'))\n",
    "s2.sort_index()"
   ]
  },
  {
   "cell_type": "markdown",
   "id": "bc2ad71b",
   "metadata": {},
   "source": [
    "- Series.sort_values()\n",
    "    - 값을 기준으로 정렬"
   ]
  },
  {
   "cell_type": "code",
   "execution_count": 70,
   "id": "f7d854c4",
   "metadata": {},
   "outputs": [
    {
     "data": {
      "text/plain": [
       "s      4\n",
       "a      5\n",
       "c      7\n",
       "e     10\n",
       "k     22\n",
       "q     23\n",
       "h     90\n",
       "r    100\n",
       "dtype: int64"
      ]
     },
     "execution_count": 70,
     "metadata": {},
     "output_type": "execute_result"
    }
   ],
   "source": [
    "s2.sort_values()"
   ]
  },
  {
   "cell_type": "markdown",
   "id": "7ad51cba",
   "metadata": {},
   "source": [
    "- 공통매개변수    \n",
    "    - ascending=True: True(기본값)-오름차순, False-내림차순\n",
    "    - inplace=False: True: 원본을 정렬, False(기본값): 정렬결과를 새로운 Series에 담아서 반환."
   ]
  },
  {
   "cell_type": "code",
   "execution_count": 71,
   "id": "64b50ffd",
   "metadata": {},
   "outputs": [
    {
     "data": {
      "text/plain": [
       "s      4\n",
       "r    100\n",
       "q     23\n",
       "k     22\n",
       "h     90\n",
       "e     10\n",
       "c      7\n",
       "a      5\n",
       "dtype: int64"
      ]
     },
     "execution_count": 71,
     "metadata": {},
     "output_type": "execute_result"
    }
   ],
   "source": [
    "s2.sort_index(ascending=False)"
   ]
  },
  {
   "cell_type": "markdown",
   "id": "6042383f",
   "metadata": {},
   "source": [
    "## 벡터화 (연산)\n",
    "- Elements-wise 연산\n",
    "- Numpy 배열(ndarray)과 마찬가지로 Series 객체과 연산을 하면 Series 내의 원소 별 연산을 한다.\n",
    "- index명과 원소의 개수가 동일한 것끼리만 가능."
   ]
  },
  {
   "cell_type": "code",
   "execution_count": 72,
   "id": "409c0a49",
   "metadata": {},
   "outputs": [
    {
     "data": {
      "text/plain": [
       "e     20\n",
       "a     15\n",
       "k     32\n",
       "r    110\n",
       "s     14\n",
       "c     17\n",
       "h    100\n",
       "q     33\n",
       "dtype: int64"
      ]
     },
     "execution_count": 72,
     "metadata": {},
     "output_type": "execute_result"
    }
   ],
   "source": [
    "# Series와 상수 간의 연산\n",
    "s2 + 10"
   ]
  },
  {
   "cell_type": "code",
   "execution_count": 74,
   "id": "299a15cf",
   "metadata": {},
   "outputs": [],
   "source": [
    "# Series 간의 연산\n",
    "# 같은 **index명** 끼리 연산\n",
    "s10 = pd.Series([1,2,3])\n",
    "s20 = pd.Series([10,20,30])\n",
    "s30 = pd.Series([100,200,300], index=['가', '나', '다'])\n",
    "s40 = pd.Series([1,2,3,4,5])"
   ]
  },
  {
   "cell_type": "code",
   "execution_count": 75,
   "id": "84629ff0",
   "metadata": {},
   "outputs": [
    {
     "data": {
      "text/plain": [
       "0    11\n",
       "1    22\n",
       "2    33\n",
       "dtype: int64"
      ]
     },
     "execution_count": 75,
     "metadata": {},
     "output_type": "execute_result"
    }
   ],
   "source": [
    "s10 + s20"
   ]
  },
  {
   "cell_type": "code",
   "execution_count": 76,
   "id": "937b27c4",
   "metadata": {},
   "outputs": [
    {
     "data": {
      "text/plain": [
       "0    2.0\n",
       "1    4.0\n",
       "2    6.0\n",
       "3    NaN\n",
       "4    NaN\n",
       "dtype: float64"
      ]
     },
     "execution_count": 76,
     "metadata": {},
     "output_type": "execute_result"
    }
   ],
   "source": [
    "s10 + s40  #index명이 같은 것까지만 계산"
   ]
  }
 ],
 "metadata": {
  "kernelspec": {
   "display_name": "Python 3 (ipykernel)",
   "language": "python",
   "name": "python3"
  },
  "language_info": {
   "codemirror_mode": {
    "name": "ipython",
    "version": 3
   },
   "file_extension": ".py",
   "mimetype": "text/x-python",
   "name": "python",
   "nbconvert_exporter": "python",
   "pygments_lexer": "ipython3",
   "version": "3.9.12"
  }
 },
 "nbformat": 4,
 "nbformat_minor": 5
}
