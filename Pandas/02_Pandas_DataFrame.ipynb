{
 "cells": [
  {
   "cell_type": "markdown",
   "id": "3568e24a",
   "metadata": {},
   "source": [
    "# DataFrame(데이터프레임)"
   ]
  },
  {
   "cell_type": "markdown",
   "id": "813705c3",
   "metadata": {},
   "source": [
    "## DataFrame 개요\n",
    "- 표(테이블-행렬)를 다루는 Pandas 클래스\n",
    "    - 데이터베이스의 Table이나 R의 data.frame이나 Excel의 표와 동일한 역할\n",
    "- 분석할 데이터를 가지는 판다스의 가장 핵심적인 클래스\n",
    "- 행이름: index 열이름: column\n",
    "    - 행이름과 열이름은 명시적으로 지정할 수 있다.\n",
    "    - 명시적으로 지정하지 않으면 순번 (0부터 1씩 증가) 이 index, column 명으로 사용된다.\n",
    "    - 하나의 행과 하나의 열은 Series로 구성된다.\n",
    "- 직접 데이터를 넣어 생성하거나 데이터 셋을 파일(csv, 엑셀, DB 등)로 부터 읽어와 생성한다."
   ]
  },
  {
   "cell_type": "markdown",
   "id": "c2c2aec6",
   "metadata": {},
   "source": [
    "## DataFrame 생성\n",
    "###  직접 생성\n",
    "- `pd.DataFrame(data [, index=None, columns=None])`\n",
    "- data \n",
    "    - DataFrame을 구성할 값을 설정\n",
    "        - Series, List, ndarray를 담은 2차원 배열\n",
    "        - 열이름을 key로 컬럼의 값 value로 하는 딕션어리(사전)\n",
    "    - index\n",
    "        - index명으로 사용할 값 배열로 설정\n",
    "    - columns\n",
    "        - 컬럼명으로 사용할 값 배열로 설정"
   ]
  },
  {
   "cell_type": "code",
   "execution_count": 1,
   "id": "ec8182ef",
   "metadata": {},
   "outputs": [],
   "source": [
    "import pandas as pd"
   ]
  },
  {
   "cell_type": "code",
   "execution_count": 2,
   "id": "a1e608fb",
   "metadata": {},
   "outputs": [
    {
     "data": {
      "text/html": [
       "<div>\n",
       "<style scoped>\n",
       "    .dataframe tbody tr th:only-of-type {\n",
       "        vertical-align: middle;\n",
       "    }\n",
       "\n",
       "    .dataframe tbody tr th {\n",
       "        vertical-align: top;\n",
       "    }\n",
       "\n",
       "    .dataframe thead th {\n",
       "        text-align: right;\n",
       "    }\n",
       "</style>\n",
       "<table border=\"1\" class=\"dataframe\">\n",
       "  <thead>\n",
       "    <tr style=\"text-align: right;\">\n",
       "      <th></th>\n",
       "      <th>id</th>\n",
       "      <th>korean</th>\n",
       "      <th>math</th>\n",
       "    </tr>\n",
       "  </thead>\n",
       "  <tbody>\n",
       "    <tr>\n",
       "      <th>0</th>\n",
       "      <td>id-1</td>\n",
       "      <td>100</td>\n",
       "      <td>80</td>\n",
       "    </tr>\n",
       "    <tr>\n",
       "      <th>1</th>\n",
       "      <td>id-2</td>\n",
       "      <td>50</td>\n",
       "      <td>50</td>\n",
       "    </tr>\n",
       "    <tr>\n",
       "      <th>2</th>\n",
       "      <td>id-3</td>\n",
       "      <td>70</td>\n",
       "      <td>90</td>\n",
       "    </tr>\n",
       "    <tr>\n",
       "      <th>3</th>\n",
       "      <td>id-4</td>\n",
       "      <td>90</td>\n",
       "      <td>100</td>\n",
       "    </tr>\n",
       "    <tr>\n",
       "      <th>4</th>\n",
       "      <td>id-5</td>\n",
       "      <td>85</td>\n",
       "      <td>100</td>\n",
       "    </tr>\n",
       "  </tbody>\n",
       "</table>\n",
       "</div>"
      ],
      "text/plain": [
       "     id  korean  math\n",
       "0  id-1     100    80\n",
       "1  id-2      50    50\n",
       "2  id-3      70    90\n",
       "3  id-4      90   100\n",
       "4  id-5      85   100"
      ]
     },
     "execution_count": 2,
     "metadata": {},
     "output_type": "execute_result"
    }
   ],
   "source": [
    "# dictionary 를 이용해 DataFrame 생성\n",
    "# 컬럼명:[컬럼값들, ...]  (원소들의 개수는 같아야한다.)\n",
    "d = {\n",
    "    'id':['id-1', 'id-2', 'id-3', 'id-4', 'id-5'],\n",
    "    'korean':[100, 50, 70, 90, 85],\n",
    "    'math':[80, 50, 90, 100, 100]\n",
    "}\n",
    "grade = pd.DataFrame(d)\n",
    "grade"
   ]
  },
  {
   "cell_type": "code",
   "execution_count": 3,
   "id": "ab7da541",
   "metadata": {},
   "outputs": [
    {
     "data": {
      "text/html": [
       "<div>\n",
       "<style scoped>\n",
       "    .dataframe tbody tr th:only-of-type {\n",
       "        vertical-align: middle;\n",
       "    }\n",
       "\n",
       "    .dataframe tbody tr th {\n",
       "        vertical-align: top;\n",
       "    }\n",
       "\n",
       "    .dataframe thead th {\n",
       "        text-align: right;\n",
       "    }\n",
       "</style>\n",
       "<table border=\"1\" class=\"dataframe\">\n",
       "  <thead>\n",
       "    <tr style=\"text-align: right;\">\n",
       "      <th></th>\n",
       "      <th>ID</th>\n",
       "      <th>국어</th>\n",
       "      <th>수학</th>\n",
       "    </tr>\n",
       "  </thead>\n",
       "  <tbody>\n",
       "    <tr>\n",
       "      <th>0</th>\n",
       "      <td>my-1</td>\n",
       "      <td>20</td>\n",
       "      <td>50</td>\n",
       "    </tr>\n",
       "    <tr>\n",
       "      <th>1</th>\n",
       "      <td>my-2</td>\n",
       "      <td>70</td>\n",
       "      <td>20</td>\n",
       "    </tr>\n",
       "    <tr>\n",
       "      <th>2</th>\n",
       "      <td>my-3</td>\n",
       "      <td>100</td>\n",
       "      <td>90</td>\n",
       "    </tr>\n",
       "    <tr>\n",
       "      <th>3</th>\n",
       "      <td>my-4</td>\n",
       "      <td>70</td>\n",
       "      <td>100</td>\n",
       "    </tr>\n",
       "    <tr>\n",
       "      <th>4</th>\n",
       "      <td>my-5</td>\n",
       "      <td>60</td>\n",
       "      <td>80</td>\n",
       "    </tr>\n",
       "    <tr>\n",
       "      <th>5</th>\n",
       "      <td>my-6</td>\n",
       "      <td>100</td>\n",
       "      <td>100</td>\n",
       "    </tr>\n",
       "  </tbody>\n",
       "</table>\n",
       "</div>"
      ],
      "text/plain": [
       "     ID   국어   수학\n",
       "0  my-1   20   50\n",
       "1  my-2   70   20\n",
       "2  my-3  100   90\n",
       "3  my-4   70  100\n",
       "4  my-5   60   80\n",
       "5  my-6  100  100"
      ]
     },
     "execution_count": 3,
     "metadata": {},
     "output_type": "execute_result"
    }
   ],
   "source": [
    "# 2차원 형태의 리스트(배열)을 이용해 생성\n",
    "lst = [\n",
    "    ['my-1', 20, 50],\n",
    "    ['my-2', 70, 20],\n",
    "    ['my-3', 100, 90],\n",
    "    ['my-4', 70, 100],\n",
    "    ['my-5', 60, 80],\n",
    "    ['my-6', 100, 100]\n",
    "]\n",
    "grade2 = pd.DataFrame(lst, columns=['ID', '국어', '수학'])\n",
    "grade2"
   ]
  },
  {
   "cell_type": "markdown",
   "id": "02cf0537",
   "metadata": {},
   "source": [
    "### DataFrame 파일로 저장\n",
    "\n",
    "- ### DataFrame객체.to_파일타입()\n",
    "- DataFrame객체.to_csv(파일경로,sep=',', index=True, header=True, encoding)\n",
    "    - 텍스트 파일로 저장\n",
    "    - 파일경로: 저장할 파일경로(경로/파일명)\n",
    "    - sep : 데이터 구분자\n",
    "    - index, header: 인덱스/헤더 저장 여부\n",
    "    - encoding\n",
    "        - 파일인코딩\n",
    "        - <del>생략시 운영체제 기본 encoding 방식</del>\n",
    "        - 생략시 UTF-8 로 저장\n",
    "    \n",
    "- DataFrame객체.to_excel(파일경로, index=True, header=True)\n",
    "    - 엑셀파일로 저장"
   ]
  },
  {
   "cell_type": "markdown",
   "id": "cf9544a7",
   "metadata": {},
   "source": [
    "##### 파일 경로 및 파일 생성"
   ]
  },
  {
   "cell_type": "code",
   "execution_count": 4,
   "id": "e70b5239",
   "metadata": {},
   "outputs": [],
   "source": [
    "import os"
   ]
  },
  {
   "cell_type": "code",
   "execution_count": 7,
   "id": "06f8abe5",
   "metadata": {},
   "outputs": [],
   "source": [
    "# csv 파일로 저장\n",
    "import os\n",
    "save_dir = 'save_data1'  # DataFrame의 데이터를 저장할 디렉토리 생성\n",
    "if not os.path.isdir(save_dir):  #디렉토리가 없으면\n",
    "    os.mkdir(save_dir) # save_data라는 디렉토리를 생성."
   ]
  },
  {
   "cell_type": "code",
   "execution_count": 8,
   "id": "ea99829e",
   "metadata": {},
   "outputs": [
    {
     "data": {
      "text/plain": [
       "'save_data1\\\\grade1.csv'"
      ]
     },
     "execution_count": 8,
     "metadata": {},
     "output_type": "execute_result"
    }
   ],
   "source": [
    "save_file_path = os.path.join(save_dir, 'grade1.csv')\n",
    "save_file_path"
   ]
  },
  {
   "cell_type": "markdown",
   "id": "19b1d10b",
   "metadata": {},
   "source": [
    "##### Grade파일을 다른 이름의 파일로 저장"
   ]
  },
  {
   "cell_type": "code",
   "execution_count": 9,
   "id": "b0c80efc",
   "metadata": {},
   "outputs": [],
   "source": [
    "#index명은 저장하지 않겠다. (1씩 증가하는 정수를 index명으로 사용한 경우 저장하지 않는다.)\n",
    "grade.to_csv(save_file_path,index=False)"
   ]
  },
  {
   "cell_type": "code",
   "execution_count": 10,
   "id": "8a935eec",
   "metadata": {},
   "outputs": [],
   "source": [
    "# 컬럼명을 저장하지 않겠다.\n",
    "save_file_path2 = os.path.join(save_dir, 'grade2.csv')\n",
    "grade.to_csv(save_file_path2, index=False, header=False)"
   ]
  },
  {
   "cell_type": "code",
   "execution_count": 20,
   "id": "c3cc6c4f",
   "metadata": {},
   "outputs": [],
   "source": [
    "# 열(값) 구분자를 설정 (default: `,` => 탭)\n",
    "save_file_path3 = os.path.join(save_dir, 'grade3.csv')\n",
    "grade.to_csv(save_file_path3, index=False,sep='|') "
   ]
  },
  {
   "cell_type": "markdown",
   "id": "e059fdd2",
   "metadata": {},
   "source": [
    "##### excel 형식으로 저장"
   ]
  },
  {
   "cell_type": "code",
   "execution_count": 13,
   "id": "783af06e",
   "metadata": {},
   "outputs": [
    {
     "name": "stderr",
     "output_type": "stream",
     "text": [
      "C:\\Users\\user\\AppData\\Local\\Temp\\ipykernel_7696\\515915669.py:2: FutureWarning: As the xlwt package is no longer maintained, the xlwt engine will be removed in a future version of pandas. This is the only engine in pandas that supports writing in the xls format. Install openpyxl and write to an xlsx file instead. You can set the option io.excel.xls.writer to 'xlwt' to silence this warning. While this option is deprecated and will also raise a warning, it can be globally set and the warning suppressed.\n",
      "  grade.to_excel(save_file_path4, index=False)\n"
     ]
    }
   ],
   "source": [
    "save_file_path4 = os.path.join(save_dir, 'grade.xls')\n",
    "grade.to_excel(save_file_path4, index=False)"
   ]
  },
  {
   "cell_type": "markdown",
   "id": "0b2ae7f8",
   "metadata": {},
   "source": [
    "##### pickle 형식으로 저장"
   ]
  },
  {
   "cell_type": "code",
   "execution_count": 14,
   "id": "299519e7",
   "metadata": {},
   "outputs": [],
   "source": [
    "save_file_path5 = os.path.join(save_dir, 'grade.pkl')\n",
    "grade.to_pickle(save_file_path5)"
   ]
  },
  {
   "cell_type": "markdown",
   "id": "1722dad7",
   "metadata": {},
   "source": [
    "#### html 형식으로 저장"
   ]
  },
  {
   "cell_type": "code",
   "execution_count": 15,
   "id": "ecf75603",
   "metadata": {},
   "outputs": [],
   "source": [
    "save_file_path6 = os.path.join(save_dir, 'grade.html')\n",
    "grade.to_html(save_file_path6)"
   ]
  },
  {
   "cell_type": "markdown",
   "id": "46c821d0",
   "metadata": {},
   "source": [
    "### 파일로 부터 데이터셋을 읽어와 생성하기\n",
    "### csv 파일 등 텍스트 파일로 부터 읽어와 생성\n",
    "- `pd.read_csv(파일경로, sep=',', header, index_col, na_values, encoding)`\n",
    "    - 파일경로 : 읽어올 파일의 경로\n",
    "    - sep\n",
    "        - 데이터 구분자. \n",
    "        - 기본값: 쉼표\n",
    "    - header=정수\n",
    "        - 열이름(컬럼이름)으로 사용할 행 지정\n",
    "        - 기본값: 첫번째 행\n",
    "        - None 설정: 첫번째 행부터 데이터로 사용하고 header(컬럼명)는 0부터 자동증가하는 값을 붙인다.\n",
    "    - index_col=정수,컬럼명\n",
    "        - index 명으로 사용할 열이름(문자열)이나 열의 순번(정수)을 지정.\n",
    "        - 생략시 0부터 자동증가하는 값을 붙인다.\n",
    "    - na_values\n",
    "        - 읽어올 데이터셋의 값 중 결측치로 처리할 문자열 지정. \n",
    "    - encoding\n",
    "        - 파일 인코딩\n",
    "        - 생략시 운영체제 기본 encoding 방식"
   ]
  },
  {
   "cell_type": "code",
   "execution_count": 16,
   "id": "f52c1f30",
   "metadata": {},
   "outputs": [
    {
     "data": {
      "text/html": [
       "<div>\n",
       "<style scoped>\n",
       "    .dataframe tbody tr th:only-of-type {\n",
       "        vertical-align: middle;\n",
       "    }\n",
       "\n",
       "    .dataframe tbody tr th {\n",
       "        vertical-align: top;\n",
       "    }\n",
       "\n",
       "    .dataframe thead th {\n",
       "        text-align: right;\n",
       "    }\n",
       "</style>\n",
       "<table border=\"1\" class=\"dataframe\">\n",
       "  <thead>\n",
       "    <tr style=\"text-align: right;\">\n",
       "      <th></th>\n",
       "      <th>id</th>\n",
       "      <th>korean</th>\n",
       "      <th>math</th>\n",
       "    </tr>\n",
       "  </thead>\n",
       "  <tbody>\n",
       "    <tr>\n",
       "      <th>0</th>\n",
       "      <td>id-1</td>\n",
       "      <td>100</td>\n",
       "      <td>80</td>\n",
       "    </tr>\n",
       "    <tr>\n",
       "      <th>1</th>\n",
       "      <td>id-2</td>\n",
       "      <td>50</td>\n",
       "      <td>50</td>\n",
       "    </tr>\n",
       "    <tr>\n",
       "      <th>2</th>\n",
       "      <td>id-3</td>\n",
       "      <td>70</td>\n",
       "      <td>90</td>\n",
       "    </tr>\n",
       "    <tr>\n",
       "      <th>3</th>\n",
       "      <td>id-4</td>\n",
       "      <td>90</td>\n",
       "      <td>100</td>\n",
       "    </tr>\n",
       "    <tr>\n",
       "      <th>4</th>\n",
       "      <td>id-5</td>\n",
       "      <td>85</td>\n",
       "      <td>100</td>\n",
       "    </tr>\n",
       "  </tbody>\n",
       "</table>\n",
       "</div>"
      ],
      "text/plain": [
       "     id  korean  math\n",
       "0  id-1     100    80\n",
       "1  id-2      50    50\n",
       "2  id-3      70    90\n",
       "3  id-4      90   100\n",
       "4  id-5      85   100"
      ]
     },
     "execution_count": 16,
     "metadata": {},
     "output_type": "execute_result"
    }
   ],
   "source": [
    "grade_df1 = pd.read_csv(save_file_path)\n",
    "grade_df1"
   ]
  },
  {
   "cell_type": "markdown",
   "id": "f7406edf",
   "metadata": {},
   "source": [
    "##### header 설정 x\n",
    "- header설정을 하지 않으면 첫번째 행을 컬럼명으로 읽는다."
   ]
  },
  {
   "cell_type": "code",
   "execution_count": 17,
   "id": "4a630cac",
   "metadata": {},
   "outputs": [
    {
     "data": {
      "text/html": [
       "<div>\n",
       "<style scoped>\n",
       "    .dataframe tbody tr th:only-of-type {\n",
       "        vertical-align: middle;\n",
       "    }\n",
       "\n",
       "    .dataframe tbody tr th {\n",
       "        vertical-align: top;\n",
       "    }\n",
       "\n",
       "    .dataframe thead th {\n",
       "        text-align: right;\n",
       "    }\n",
       "</style>\n",
       "<table border=\"1\" class=\"dataframe\">\n",
       "  <thead>\n",
       "    <tr style=\"text-align: right;\">\n",
       "      <th></th>\n",
       "      <th>ID</th>\n",
       "      <th>Korean</th>\n",
       "      <th>Math</th>\n",
       "    </tr>\n",
       "  </thead>\n",
       "  <tbody>\n",
       "    <tr>\n",
       "      <th>0</th>\n",
       "      <td>id-1</td>\n",
       "      <td>100</td>\n",
       "      <td>80</td>\n",
       "    </tr>\n",
       "    <tr>\n",
       "      <th>1</th>\n",
       "      <td>id-2</td>\n",
       "      <td>50</td>\n",
       "      <td>50</td>\n",
       "    </tr>\n",
       "    <tr>\n",
       "      <th>2</th>\n",
       "      <td>id-3</td>\n",
       "      <td>70</td>\n",
       "      <td>90</td>\n",
       "    </tr>\n",
       "    <tr>\n",
       "      <th>3</th>\n",
       "      <td>id-4</td>\n",
       "      <td>90</td>\n",
       "      <td>100</td>\n",
       "    </tr>\n",
       "    <tr>\n",
       "      <th>4</th>\n",
       "      <td>id-5</td>\n",
       "      <td>85</td>\n",
       "      <td>100</td>\n",
       "    </tr>\n",
       "  </tbody>\n",
       "</table>\n",
       "</div>"
      ],
      "text/plain": [
       "     ID  Korean  Math\n",
       "0  id-1     100    80\n",
       "1  id-2      50    50\n",
       "2  id-3      70    90\n",
       "3  id-4      90   100\n",
       "4  id-5      85   100"
      ]
     },
     "execution_count": 17,
     "metadata": {},
     "output_type": "execute_result"
    }
   ],
   "source": [
    "grade_df2 = pd.read_csv(save_file_path2, \n",
    "                        header=None,   # header 행이 없다 설정\n",
    "                        names=['ID', 'Korean', 'Math']) # header=None 으로 하면 순번(0,1,2,..)이 컬럼명이 된다. names=[컬럼명]\n",
    "grade_df2"
   ]
  },
  {
   "cell_type": "markdown",
   "id": "f37839cc",
   "metadata": {},
   "source": [
    "##### na_values"
   ]
  },
  {
   "cell_type": "code",
   "execution_count": 25,
   "id": "52b2691f",
   "metadata": {},
   "outputs": [
    {
     "data": {
      "text/html": [
       "<div>\n",
       "<style scoped>\n",
       "    .dataframe tbody tr th:only-of-type {\n",
       "        vertical-align: middle;\n",
       "    }\n",
       "\n",
       "    .dataframe tbody tr th {\n",
       "        vertical-align: top;\n",
       "    }\n",
       "\n",
       "    .dataframe thead th {\n",
       "        text-align: right;\n",
       "    }\n",
       "</style>\n",
       "<table border=\"1\" class=\"dataframe\">\n",
       "  <thead>\n",
       "    <tr style=\"text-align: right;\">\n",
       "      <th></th>\n",
       "      <th>0</th>\n",
       "      <th>1</th>\n",
       "      <th>2</th>\n",
       "    </tr>\n",
       "  </thead>\n",
       "  <tbody>\n",
       "    <tr>\n",
       "      <th>0</th>\n",
       "      <td>id-1</td>\n",
       "      <td>100.0</td>\n",
       "      <td>80</td>\n",
       "    </tr>\n",
       "    <tr>\n",
       "      <th>1</th>\n",
       "      <td>id-2</td>\n",
       "      <td>50.0</td>\n",
       "      <td>50</td>\n",
       "    </tr>\n",
       "    <tr>\n",
       "      <th>2</th>\n",
       "      <td>id-3</td>\n",
       "      <td>NaN</td>\n",
       "      <td>90</td>\n",
       "    </tr>\n",
       "    <tr>\n",
       "      <th>3</th>\n",
       "      <td>id-4</td>\n",
       "      <td>90.0</td>\n",
       "      <td>100</td>\n",
       "    </tr>\n",
       "    <tr>\n",
       "      <th>4</th>\n",
       "      <td>id-5</td>\n",
       "      <td>85.0</td>\n",
       "      <td>100</td>\n",
       "    </tr>\n",
       "  </tbody>\n",
       "</table>\n",
       "</div>"
      ],
      "text/plain": [
       "      0      1    2\n",
       "0  id-1  100.0   80\n",
       "1  id-2   50.0   50\n",
       "2  id-3    NaN   90\n",
       "3  id-4   90.0  100\n",
       "4  id-5   85.0  100"
      ]
     },
     "execution_count": 25,
     "metadata": {},
     "output_type": "execute_result"
    }
   ],
   "source": [
    "grade_df5 = pd.read_csv(save_file_path2, header=None,\n",
    "                       na_values=['결측치'])\n",
    "# 문자열 \"결측치\" 는 값이 아니라 NA로 읽어들여라.\n",
    "grade_df5"
   ]
  },
  {
   "cell_type": "markdown",
   "id": "1469c37a",
   "metadata": {},
   "source": [
    "##### 엑셀파일 읽기"
   ]
  },
  {
   "cell_type": "code",
   "execution_count": null,
   "id": "d3bab3b6",
   "metadata": {},
   "outputs": [],
   "source": [
    "!pip install xlrd\n",
    "# 엑셀 읽기 위해 install"
   ]
  },
  {
   "cell_type": "code",
   "execution_count": 27,
   "id": "cf2f2d17",
   "metadata": {},
   "outputs": [
    {
     "data": {
      "text/html": [
       "<div>\n",
       "<style scoped>\n",
       "    .dataframe tbody tr th:only-of-type {\n",
       "        vertical-align: middle;\n",
       "    }\n",
       "\n",
       "    .dataframe tbody tr th {\n",
       "        vertical-align: top;\n",
       "    }\n",
       "\n",
       "    .dataframe thead th {\n",
       "        text-align: right;\n",
       "    }\n",
       "</style>\n",
       "<table border=\"1\" class=\"dataframe\">\n",
       "  <thead>\n",
       "    <tr style=\"text-align: right;\">\n",
       "      <th></th>\n",
       "      <th>id</th>\n",
       "      <th>korean</th>\n",
       "      <th>math</th>\n",
       "    </tr>\n",
       "  </thead>\n",
       "  <tbody>\n",
       "    <tr>\n",
       "      <th>0</th>\n",
       "      <td>id-1</td>\n",
       "      <td>100</td>\n",
       "      <td>80</td>\n",
       "    </tr>\n",
       "    <tr>\n",
       "      <th>1</th>\n",
       "      <td>id-2</td>\n",
       "      <td>50</td>\n",
       "      <td>50</td>\n",
       "    </tr>\n",
       "    <tr>\n",
       "      <th>2</th>\n",
       "      <td>id-3</td>\n",
       "      <td>70</td>\n",
       "      <td>90</td>\n",
       "    </tr>\n",
       "    <tr>\n",
       "      <th>3</th>\n",
       "      <td>id-4</td>\n",
       "      <td>90</td>\n",
       "      <td>100</td>\n",
       "    </tr>\n",
       "    <tr>\n",
       "      <th>4</th>\n",
       "      <td>id-5</td>\n",
       "      <td>85</td>\n",
       "      <td>100</td>\n",
       "    </tr>\n",
       "  </tbody>\n",
       "</table>\n",
       "</div>"
      ],
      "text/plain": [
       "     id  korean  math\n",
       "0  id-1     100    80\n",
       "1  id-2      50    50\n",
       "2  id-3      70    90\n",
       "3  id-4      90   100\n",
       "4  id-5      85   100"
      ]
     },
     "execution_count": 27,
     "metadata": {},
     "output_type": "execute_result"
    }
   ],
   "source": [
    "grade_df6 = pd.read_excel('save_data1/grade.xls')\n",
    "grade_df6"
   ]
  },
  {
   "cell_type": "markdown",
   "id": "ab6dcb09",
   "metadata": {},
   "source": [
    "## 주요 메소드, 속성 "
   ]
  },
  {
   "cell_type": "code",
   "execution_count": 31,
   "id": "ae23293f",
   "metadata": {},
   "outputs": [
    {
     "data": {
      "text/plain": [
       "(4916, 28)"
      ]
     },
     "execution_count": 31,
     "metadata": {},
     "output_type": "execute_result"
    }
   ],
   "source": [
    "movie_df = pd.read_csv('data/movie.csv')\n",
    "movie_df.shape"
   ]
  },
  {
   "cell_type": "code",
   "execution_count": 29,
   "id": "9be61077",
   "metadata": {},
   "outputs": [
    {
     "data": {
      "text/html": [
       "<div>\n",
       "<style scoped>\n",
       "    .dataframe tbody tr th:only-of-type {\n",
       "        vertical-align: middle;\n",
       "    }\n",
       "\n",
       "    .dataframe tbody tr th {\n",
       "        vertical-align: top;\n",
       "    }\n",
       "\n",
       "    .dataframe thead th {\n",
       "        text-align: right;\n",
       "    }\n",
       "</style>\n",
       "<table border=\"1\" class=\"dataframe\">\n",
       "  <thead>\n",
       "    <tr style=\"text-align: right;\">\n",
       "      <th></th>\n",
       "      <th>id</th>\n",
       "      <th>korean</th>\n",
       "      <th>math</th>\n",
       "    </tr>\n",
       "  </thead>\n",
       "  <tbody>\n",
       "    <tr>\n",
       "      <th>0</th>\n",
       "      <td>id-1</td>\n",
       "      <td>100</td>\n",
       "      <td>80</td>\n",
       "    </tr>\n",
       "    <tr>\n",
       "      <th>1</th>\n",
       "      <td>id-2</td>\n",
       "      <td>50</td>\n",
       "      <td>50</td>\n",
       "    </tr>\n",
       "    <tr>\n",
       "      <th>2</th>\n",
       "      <td>id-3</td>\n",
       "      <td>70</td>\n",
       "      <td>90</td>\n",
       "    </tr>\n",
       "    <tr>\n",
       "      <th>3</th>\n",
       "      <td>id-4</td>\n",
       "      <td>90</td>\n",
       "      <td>100</td>\n",
       "    </tr>\n",
       "    <tr>\n",
       "      <th>4</th>\n",
       "      <td>id-5</td>\n",
       "      <td>85</td>\n",
       "      <td>100</td>\n",
       "    </tr>\n",
       "  </tbody>\n",
       "</table>\n",
       "</div>"
      ],
      "text/plain": [
       "     id  korean  math\n",
       "0  id-1     100    80\n",
       "1  id-2      50    50\n",
       "2  id-3      70    90\n",
       "3  id-4      90   100\n",
       "4  id-5      85   100"
      ]
     },
     "execution_count": 29,
     "metadata": {},
     "output_type": "execute_result"
    }
   ],
   "source": [
    "grade = pd.read_csv('save_data1/grade1.csv')\n",
    "grade"
   ]
  },
  {
   "cell_type": "markdown",
   "id": "b6383850",
   "metadata": {},
   "source": [
    "#### T\n",
    "- 행 / 열을 바꾼다"
   ]
  },
  {
   "cell_type": "code",
   "execution_count": 30,
   "id": "132ed8b8",
   "metadata": {},
   "outputs": [
    {
     "data": {
      "text/html": [
       "<div>\n",
       "<style scoped>\n",
       "    .dataframe tbody tr th:only-of-type {\n",
       "        vertical-align: middle;\n",
       "    }\n",
       "\n",
       "    .dataframe tbody tr th {\n",
       "        vertical-align: top;\n",
       "    }\n",
       "\n",
       "    .dataframe thead th {\n",
       "        text-align: right;\n",
       "    }\n",
       "</style>\n",
       "<table border=\"1\" class=\"dataframe\">\n",
       "  <thead>\n",
       "    <tr style=\"text-align: right;\">\n",
       "      <th></th>\n",
       "      <th>0</th>\n",
       "      <th>1</th>\n",
       "      <th>2</th>\n",
       "      <th>3</th>\n",
       "      <th>4</th>\n",
       "    </tr>\n",
       "  </thead>\n",
       "  <tbody>\n",
       "    <tr>\n",
       "      <th>id</th>\n",
       "      <td>id-1</td>\n",
       "      <td>id-2</td>\n",
       "      <td>id-3</td>\n",
       "      <td>id-4</td>\n",
       "      <td>id-5</td>\n",
       "    </tr>\n",
       "    <tr>\n",
       "      <th>korean</th>\n",
       "      <td>100</td>\n",
       "      <td>50</td>\n",
       "      <td>70</td>\n",
       "      <td>90</td>\n",
       "      <td>85</td>\n",
       "    </tr>\n",
       "    <tr>\n",
       "      <th>math</th>\n",
       "      <td>80</td>\n",
       "      <td>50</td>\n",
       "      <td>90</td>\n",
       "      <td>100</td>\n",
       "      <td>100</td>\n",
       "    </tr>\n",
       "  </tbody>\n",
       "</table>\n",
       "</div>"
      ],
      "text/plain": [
       "           0     1     2     3     4\n",
       "id      id-1  id-2  id-3  id-4  id-5\n",
       "korean   100    50    70    90    85\n",
       "math      80    50    90   100   100"
      ]
     },
     "execution_count": 30,
     "metadata": {},
     "output_type": "execute_result"
    }
   ],
   "source": [
    "grade.T"
   ]
  },
  {
   "cell_type": "markdown",
   "id": "c550d69e",
   "metadata": {},
   "source": [
    "#### head( ),tail( )\n",
    "- 데이터 정수 행만큼 조회, 기본값: 5"
   ]
  },
  {
   "cell_type": "code",
   "execution_count": 32,
   "id": "bfecb4fc",
   "metadata": {},
   "outputs": [
    {
     "data": {
      "text/html": [
       "<div>\n",
       "<style scoped>\n",
       "    .dataframe tbody tr th:only-of-type {\n",
       "        vertical-align: middle;\n",
       "    }\n",
       "\n",
       "    .dataframe tbody tr th {\n",
       "        vertical-align: top;\n",
       "    }\n",
       "\n",
       "    .dataframe thead th {\n",
       "        text-align: right;\n",
       "    }\n",
       "</style>\n",
       "<table border=\"1\" class=\"dataframe\">\n",
       "  <thead>\n",
       "    <tr style=\"text-align: right;\">\n",
       "      <th></th>\n",
       "      <th>color</th>\n",
       "      <th>director_name</th>\n",
       "      <th>num_critic_for_reviews</th>\n",
       "      <th>duration</th>\n",
       "      <th>director_facebook_likes</th>\n",
       "      <th>actor_3_facebook_likes</th>\n",
       "      <th>actor_2_name</th>\n",
       "      <th>actor_1_facebook_likes</th>\n",
       "      <th>gross</th>\n",
       "      <th>genres</th>\n",
       "      <th>...</th>\n",
       "      <th>num_user_for_reviews</th>\n",
       "      <th>language</th>\n",
       "      <th>country</th>\n",
       "      <th>content_rating</th>\n",
       "      <th>budget</th>\n",
       "      <th>title_year</th>\n",
       "      <th>actor_2_facebook_likes</th>\n",
       "      <th>imdb_score</th>\n",
       "      <th>aspect_ratio</th>\n",
       "      <th>movie_facebook_likes</th>\n",
       "    </tr>\n",
       "  </thead>\n",
       "  <tbody>\n",
       "    <tr>\n",
       "      <th>0</th>\n",
       "      <td>Color</td>\n",
       "      <td>James Cameron</td>\n",
       "      <td>723.0</td>\n",
       "      <td>178.0</td>\n",
       "      <td>0.0</td>\n",
       "      <td>855.0</td>\n",
       "      <td>Joel David Moore</td>\n",
       "      <td>1000.0</td>\n",
       "      <td>760505847.0</td>\n",
       "      <td>Action|Adventure|Fantasy|Sci-Fi</td>\n",
       "      <td>...</td>\n",
       "      <td>3054.0</td>\n",
       "      <td>English</td>\n",
       "      <td>USA</td>\n",
       "      <td>PG-13</td>\n",
       "      <td>237000000.0</td>\n",
       "      <td>2009.0</td>\n",
       "      <td>936.0</td>\n",
       "      <td>7.9</td>\n",
       "      <td>1.78</td>\n",
       "      <td>33000</td>\n",
       "    </tr>\n",
       "    <tr>\n",
       "      <th>1</th>\n",
       "      <td>Color</td>\n",
       "      <td>Gore Verbinski</td>\n",
       "      <td>302.0</td>\n",
       "      <td>169.0</td>\n",
       "      <td>563.0</td>\n",
       "      <td>1000.0</td>\n",
       "      <td>Orlando Bloom</td>\n",
       "      <td>40000.0</td>\n",
       "      <td>309404152.0</td>\n",
       "      <td>Action|Adventure|Fantasy</td>\n",
       "      <td>...</td>\n",
       "      <td>1238.0</td>\n",
       "      <td>English</td>\n",
       "      <td>USA</td>\n",
       "      <td>PG-13</td>\n",
       "      <td>300000000.0</td>\n",
       "      <td>2007.0</td>\n",
       "      <td>5000.0</td>\n",
       "      <td>7.1</td>\n",
       "      <td>2.35</td>\n",
       "      <td>0</td>\n",
       "    </tr>\n",
       "    <tr>\n",
       "      <th>2</th>\n",
       "      <td>Color</td>\n",
       "      <td>Sam Mendes</td>\n",
       "      <td>602.0</td>\n",
       "      <td>148.0</td>\n",
       "      <td>0.0</td>\n",
       "      <td>161.0</td>\n",
       "      <td>Rory Kinnear</td>\n",
       "      <td>11000.0</td>\n",
       "      <td>200074175.0</td>\n",
       "      <td>Action|Adventure|Thriller</td>\n",
       "      <td>...</td>\n",
       "      <td>994.0</td>\n",
       "      <td>English</td>\n",
       "      <td>UK</td>\n",
       "      <td>PG-13</td>\n",
       "      <td>245000000.0</td>\n",
       "      <td>2015.0</td>\n",
       "      <td>393.0</td>\n",
       "      <td>6.8</td>\n",
       "      <td>2.35</td>\n",
       "      <td>85000</td>\n",
       "    </tr>\n",
       "    <tr>\n",
       "      <th>3</th>\n",
       "      <td>Color</td>\n",
       "      <td>Christopher Nolan</td>\n",
       "      <td>813.0</td>\n",
       "      <td>164.0</td>\n",
       "      <td>22000.0</td>\n",
       "      <td>23000.0</td>\n",
       "      <td>Christian Bale</td>\n",
       "      <td>27000.0</td>\n",
       "      <td>448130642.0</td>\n",
       "      <td>Action|Thriller</td>\n",
       "      <td>...</td>\n",
       "      <td>2701.0</td>\n",
       "      <td>English</td>\n",
       "      <td>USA</td>\n",
       "      <td>PG-13</td>\n",
       "      <td>250000000.0</td>\n",
       "      <td>2012.0</td>\n",
       "      <td>23000.0</td>\n",
       "      <td>8.5</td>\n",
       "      <td>2.35</td>\n",
       "      <td>164000</td>\n",
       "    </tr>\n",
       "    <tr>\n",
       "      <th>4</th>\n",
       "      <td>NaN</td>\n",
       "      <td>Doug Walker</td>\n",
       "      <td>NaN</td>\n",
       "      <td>NaN</td>\n",
       "      <td>131.0</td>\n",
       "      <td>NaN</td>\n",
       "      <td>Rob Walker</td>\n",
       "      <td>131.0</td>\n",
       "      <td>NaN</td>\n",
       "      <td>Documentary</td>\n",
       "      <td>...</td>\n",
       "      <td>NaN</td>\n",
       "      <td>NaN</td>\n",
       "      <td>NaN</td>\n",
       "      <td>NaN</td>\n",
       "      <td>NaN</td>\n",
       "      <td>NaN</td>\n",
       "      <td>12.0</td>\n",
       "      <td>7.1</td>\n",
       "      <td>NaN</td>\n",
       "      <td>0</td>\n",
       "    </tr>\n",
       "    <tr>\n",
       "      <th>5</th>\n",
       "      <td>Color</td>\n",
       "      <td>Andrew Stanton</td>\n",
       "      <td>462.0</td>\n",
       "      <td>132.0</td>\n",
       "      <td>475.0</td>\n",
       "      <td>530.0</td>\n",
       "      <td>Samantha Morton</td>\n",
       "      <td>640.0</td>\n",
       "      <td>73058679.0</td>\n",
       "      <td>Action|Adventure|Sci-Fi</td>\n",
       "      <td>...</td>\n",
       "      <td>738.0</td>\n",
       "      <td>English</td>\n",
       "      <td>USA</td>\n",
       "      <td>PG-13</td>\n",
       "      <td>263700000.0</td>\n",
       "      <td>2012.0</td>\n",
       "      <td>632.0</td>\n",
       "      <td>6.6</td>\n",
       "      <td>2.35</td>\n",
       "      <td>24000</td>\n",
       "    </tr>\n",
       "    <tr>\n",
       "      <th>6</th>\n",
       "      <td>Color</td>\n",
       "      <td>Sam Raimi</td>\n",
       "      <td>392.0</td>\n",
       "      <td>156.0</td>\n",
       "      <td>0.0</td>\n",
       "      <td>4000.0</td>\n",
       "      <td>James Franco</td>\n",
       "      <td>24000.0</td>\n",
       "      <td>336530303.0</td>\n",
       "      <td>Action|Adventure|Romance</td>\n",
       "      <td>...</td>\n",
       "      <td>1902.0</td>\n",
       "      <td>English</td>\n",
       "      <td>USA</td>\n",
       "      <td>PG-13</td>\n",
       "      <td>258000000.0</td>\n",
       "      <td>2007.0</td>\n",
       "      <td>11000.0</td>\n",
       "      <td>6.2</td>\n",
       "      <td>2.35</td>\n",
       "      <td>0</td>\n",
       "    </tr>\n",
       "  </tbody>\n",
       "</table>\n",
       "<p>7 rows × 28 columns</p>\n",
       "</div>"
      ],
      "text/plain": [
       "   color      director_name  num_critic_for_reviews  duration  \\\n",
       "0  Color      James Cameron                   723.0     178.0   \n",
       "1  Color     Gore Verbinski                   302.0     169.0   \n",
       "2  Color         Sam Mendes                   602.0     148.0   \n",
       "3  Color  Christopher Nolan                   813.0     164.0   \n",
       "4    NaN        Doug Walker                     NaN       NaN   \n",
       "5  Color     Andrew Stanton                   462.0     132.0   \n",
       "6  Color          Sam Raimi                   392.0     156.0   \n",
       "\n",
       "   director_facebook_likes  actor_3_facebook_likes      actor_2_name  \\\n",
       "0                      0.0                   855.0  Joel David Moore   \n",
       "1                    563.0                  1000.0     Orlando Bloom   \n",
       "2                      0.0                   161.0      Rory Kinnear   \n",
       "3                  22000.0                 23000.0    Christian Bale   \n",
       "4                    131.0                     NaN        Rob Walker   \n",
       "5                    475.0                   530.0   Samantha Morton   \n",
       "6                      0.0                  4000.0      James Franco   \n",
       "\n",
       "   actor_1_facebook_likes        gross                           genres  ...  \\\n",
       "0                  1000.0  760505847.0  Action|Adventure|Fantasy|Sci-Fi  ...   \n",
       "1                 40000.0  309404152.0         Action|Adventure|Fantasy  ...   \n",
       "2                 11000.0  200074175.0        Action|Adventure|Thriller  ...   \n",
       "3                 27000.0  448130642.0                  Action|Thriller  ...   \n",
       "4                   131.0          NaN                      Documentary  ...   \n",
       "5                   640.0   73058679.0          Action|Adventure|Sci-Fi  ...   \n",
       "6                 24000.0  336530303.0         Action|Adventure|Romance  ...   \n",
       "\n",
       "  num_user_for_reviews language  country  content_rating       budget  \\\n",
       "0               3054.0  English      USA           PG-13  237000000.0   \n",
       "1               1238.0  English      USA           PG-13  300000000.0   \n",
       "2                994.0  English       UK           PG-13  245000000.0   \n",
       "3               2701.0  English      USA           PG-13  250000000.0   \n",
       "4                  NaN      NaN      NaN             NaN          NaN   \n",
       "5                738.0  English      USA           PG-13  263700000.0   \n",
       "6               1902.0  English      USA           PG-13  258000000.0   \n",
       "\n",
       "   title_year actor_2_facebook_likes imdb_score  aspect_ratio  \\\n",
       "0      2009.0                  936.0        7.9          1.78   \n",
       "1      2007.0                 5000.0        7.1          2.35   \n",
       "2      2015.0                  393.0        6.8          2.35   \n",
       "3      2012.0                23000.0        8.5          2.35   \n",
       "4         NaN                   12.0        7.1           NaN   \n",
       "5      2012.0                  632.0        6.6          2.35   \n",
       "6      2007.0                11000.0        6.2          2.35   \n",
       "\n",
       "  movie_facebook_likes  \n",
       "0                33000  \n",
       "1                    0  \n",
       "2                85000  \n",
       "3               164000  \n",
       "4                    0  \n",
       "5                24000  \n",
       "6                    0  \n",
       "\n",
       "[7 rows x 28 columns]"
      ]
     },
     "execution_count": 32,
     "metadata": {},
     "output_type": "execute_result"
    }
   ],
   "source": [
    "movie_df.head(7)"
   ]
  },
  {
   "cell_type": "code",
   "execution_count": 33,
   "id": "b2f70ab1",
   "metadata": {},
   "outputs": [
    {
     "data": {
      "text/html": [
       "<div>\n",
       "<style scoped>\n",
       "    .dataframe tbody tr th:only-of-type {\n",
       "        vertical-align: middle;\n",
       "    }\n",
       "\n",
       "    .dataframe tbody tr th {\n",
       "        vertical-align: top;\n",
       "    }\n",
       "\n",
       "    .dataframe thead th {\n",
       "        text-align: right;\n",
       "    }\n",
       "</style>\n",
       "<table border=\"1\" class=\"dataframe\">\n",
       "  <thead>\n",
       "    <tr style=\"text-align: right;\">\n",
       "      <th></th>\n",
       "      <th>color</th>\n",
       "      <th>director_name</th>\n",
       "      <th>num_critic_for_reviews</th>\n",
       "      <th>duration</th>\n",
       "      <th>director_facebook_likes</th>\n",
       "      <th>actor_3_facebook_likes</th>\n",
       "      <th>actor_2_name</th>\n",
       "      <th>actor_1_facebook_likes</th>\n",
       "      <th>gross</th>\n",
       "      <th>genres</th>\n",
       "      <th>...</th>\n",
       "      <th>num_user_for_reviews</th>\n",
       "      <th>language</th>\n",
       "      <th>country</th>\n",
       "      <th>content_rating</th>\n",
       "      <th>budget</th>\n",
       "      <th>title_year</th>\n",
       "      <th>actor_2_facebook_likes</th>\n",
       "      <th>imdb_score</th>\n",
       "      <th>aspect_ratio</th>\n",
       "      <th>movie_facebook_likes</th>\n",
       "    </tr>\n",
       "  </thead>\n",
       "  <tbody>\n",
       "    <tr>\n",
       "      <th>4911</th>\n",
       "      <td>Color</td>\n",
       "      <td>Scott Smith</td>\n",
       "      <td>1.0</td>\n",
       "      <td>87.0</td>\n",
       "      <td>2.0</td>\n",
       "      <td>318.0</td>\n",
       "      <td>Daphne Zuniga</td>\n",
       "      <td>637.0</td>\n",
       "      <td>NaN</td>\n",
       "      <td>Comedy|Drama</td>\n",
       "      <td>...</td>\n",
       "      <td>6.0</td>\n",
       "      <td>English</td>\n",
       "      <td>Canada</td>\n",
       "      <td>NaN</td>\n",
       "      <td>NaN</td>\n",
       "      <td>2013.0</td>\n",
       "      <td>470.0</td>\n",
       "      <td>7.7</td>\n",
       "      <td>NaN</td>\n",
       "      <td>84</td>\n",
       "    </tr>\n",
       "    <tr>\n",
       "      <th>4912</th>\n",
       "      <td>Color</td>\n",
       "      <td>NaN</td>\n",
       "      <td>43.0</td>\n",
       "      <td>43.0</td>\n",
       "      <td>NaN</td>\n",
       "      <td>319.0</td>\n",
       "      <td>Valorie Curry</td>\n",
       "      <td>841.0</td>\n",
       "      <td>NaN</td>\n",
       "      <td>Crime|Drama|Mystery|Thriller</td>\n",
       "      <td>...</td>\n",
       "      <td>359.0</td>\n",
       "      <td>English</td>\n",
       "      <td>USA</td>\n",
       "      <td>TV-14</td>\n",
       "      <td>NaN</td>\n",
       "      <td>NaN</td>\n",
       "      <td>593.0</td>\n",
       "      <td>7.5</td>\n",
       "      <td>16.00</td>\n",
       "      <td>32000</td>\n",
       "    </tr>\n",
       "    <tr>\n",
       "      <th>4913</th>\n",
       "      <td>Color</td>\n",
       "      <td>Benjamin Roberds</td>\n",
       "      <td>13.0</td>\n",
       "      <td>76.0</td>\n",
       "      <td>0.0</td>\n",
       "      <td>0.0</td>\n",
       "      <td>Maxwell Moody</td>\n",
       "      <td>0.0</td>\n",
       "      <td>NaN</td>\n",
       "      <td>Drama|Horror|Thriller</td>\n",
       "      <td>...</td>\n",
       "      <td>3.0</td>\n",
       "      <td>English</td>\n",
       "      <td>USA</td>\n",
       "      <td>NaN</td>\n",
       "      <td>1400.0</td>\n",
       "      <td>2013.0</td>\n",
       "      <td>0.0</td>\n",
       "      <td>6.3</td>\n",
       "      <td>NaN</td>\n",
       "      <td>16</td>\n",
       "    </tr>\n",
       "    <tr>\n",
       "      <th>4914</th>\n",
       "      <td>Color</td>\n",
       "      <td>Daniel Hsia</td>\n",
       "      <td>14.0</td>\n",
       "      <td>100.0</td>\n",
       "      <td>0.0</td>\n",
       "      <td>489.0</td>\n",
       "      <td>Daniel Henney</td>\n",
       "      <td>946.0</td>\n",
       "      <td>10443.0</td>\n",
       "      <td>Comedy|Drama|Romance</td>\n",
       "      <td>...</td>\n",
       "      <td>9.0</td>\n",
       "      <td>English</td>\n",
       "      <td>USA</td>\n",
       "      <td>PG-13</td>\n",
       "      <td>NaN</td>\n",
       "      <td>2012.0</td>\n",
       "      <td>719.0</td>\n",
       "      <td>6.3</td>\n",
       "      <td>2.35</td>\n",
       "      <td>660</td>\n",
       "    </tr>\n",
       "    <tr>\n",
       "      <th>4915</th>\n",
       "      <td>Color</td>\n",
       "      <td>Jon Gunn</td>\n",
       "      <td>43.0</td>\n",
       "      <td>90.0</td>\n",
       "      <td>16.0</td>\n",
       "      <td>16.0</td>\n",
       "      <td>Brian Herzlinger</td>\n",
       "      <td>86.0</td>\n",
       "      <td>85222.0</td>\n",
       "      <td>Documentary</td>\n",
       "      <td>...</td>\n",
       "      <td>84.0</td>\n",
       "      <td>English</td>\n",
       "      <td>USA</td>\n",
       "      <td>PG</td>\n",
       "      <td>1100.0</td>\n",
       "      <td>2004.0</td>\n",
       "      <td>23.0</td>\n",
       "      <td>6.6</td>\n",
       "      <td>1.85</td>\n",
       "      <td>456</td>\n",
       "    </tr>\n",
       "  </tbody>\n",
       "</table>\n",
       "<p>5 rows × 28 columns</p>\n",
       "</div>"
      ],
      "text/plain": [
       "      color     director_name  num_critic_for_reviews  duration  \\\n",
       "4911  Color       Scott Smith                     1.0      87.0   \n",
       "4912  Color               NaN                    43.0      43.0   \n",
       "4913  Color  Benjamin Roberds                    13.0      76.0   \n",
       "4914  Color       Daniel Hsia                    14.0     100.0   \n",
       "4915  Color          Jon Gunn                    43.0      90.0   \n",
       "\n",
       "      director_facebook_likes  actor_3_facebook_likes      actor_2_name  \\\n",
       "4911                      2.0                   318.0     Daphne Zuniga   \n",
       "4912                      NaN                   319.0     Valorie Curry   \n",
       "4913                      0.0                     0.0     Maxwell Moody   \n",
       "4914                      0.0                   489.0     Daniel Henney   \n",
       "4915                     16.0                    16.0  Brian Herzlinger   \n",
       "\n",
       "      actor_1_facebook_likes    gross                        genres  ...  \\\n",
       "4911                   637.0      NaN                  Comedy|Drama  ...   \n",
       "4912                   841.0      NaN  Crime|Drama|Mystery|Thriller  ...   \n",
       "4913                     0.0      NaN         Drama|Horror|Thriller  ...   \n",
       "4914                   946.0  10443.0          Comedy|Drama|Romance  ...   \n",
       "4915                    86.0  85222.0                   Documentary  ...   \n",
       "\n",
       "     num_user_for_reviews language  country  content_rating  budget  \\\n",
       "4911                  6.0  English   Canada             NaN     NaN   \n",
       "4912                359.0  English      USA           TV-14     NaN   \n",
       "4913                  3.0  English      USA             NaN  1400.0   \n",
       "4914                  9.0  English      USA           PG-13     NaN   \n",
       "4915                 84.0  English      USA              PG  1100.0   \n",
       "\n",
       "      title_year actor_2_facebook_likes imdb_score  aspect_ratio  \\\n",
       "4911      2013.0                  470.0        7.7           NaN   \n",
       "4912         NaN                  593.0        7.5         16.00   \n",
       "4913      2013.0                    0.0        6.3           NaN   \n",
       "4914      2012.0                  719.0        6.3          2.35   \n",
       "4915      2004.0                   23.0        6.6          1.85   \n",
       "\n",
       "     movie_facebook_likes  \n",
       "4911                   84  \n",
       "4912                32000  \n",
       "4913                   16  \n",
       "4914                  660  \n",
       "4915                  456  \n",
       "\n",
       "[5 rows x 28 columns]"
      ]
     },
     "execution_count": 33,
     "metadata": {},
     "output_type": "execute_result"
    }
   ],
   "source": [
    "movie_df.tail()"
   ]
  },
  {
   "cell_type": "markdown",
   "id": "b61df433",
   "metadata": {},
   "source": [
    "#### shape\n",
    "- axis별 데이터수(행,열)"
   ]
  },
  {
   "cell_type": "code",
   "execution_count": 34,
   "id": "d5cbb1fc",
   "metadata": {},
   "outputs": [
    {
     "data": {
      "text/plain": [
       "(4916, 28)"
      ]
     },
     "execution_count": 34,
     "metadata": {},
     "output_type": "execute_result"
    }
   ],
   "source": [
    "movie_df.shape "
   ]
  },
  {
   "cell_type": "markdown",
   "id": "53c05d60",
   "metadata": {},
   "source": [
    "#### size\n",
    "- 원소의 총 개수"
   ]
  },
  {
   "cell_type": "code",
   "execution_count": 35,
   "id": "c911963c",
   "metadata": {},
   "outputs": [
    {
     "data": {
      "text/plain": [
       "137648"
      ]
     },
     "execution_count": 35,
     "metadata": {},
     "output_type": "execute_result"
    }
   ],
   "source": [
    "movie_df.size"
   ]
  },
  {
   "cell_type": "markdown",
   "id": "0ac7a38e",
   "metadata": {},
   "source": [
    "#### info\n",
    "- DataFrame의 (행,열)정보"
   ]
  },
  {
   "cell_type": "code",
   "execution_count": 36,
   "id": "2c6519a9",
   "metadata": {},
   "outputs": [
    {
     "name": "stdout",
     "output_type": "stream",
     "text": [
      "<class 'pandas.core.frame.DataFrame'>\n",
      "RangeIndex: 5 entries, 0 to 4\n",
      "Data columns (total 3 columns):\n",
      " #   Column  Non-Null Count  Dtype \n",
      "---  ------  --------------  ----- \n",
      " 0   id      5 non-null      object\n",
      " 1   korean  5 non-null      int64 \n",
      " 2   math    5 non-null      int64 \n",
      "dtypes: int64(2), object(1)\n",
      "memory usage: 248.0+ bytes\n"
     ]
    }
   ],
   "source": [
    "grade.info()"
   ]
  },
  {
   "cell_type": "markdown",
   "id": "d8854a6d",
   "metadata": {},
   "source": [
    "#### describe( )\n",
    "- 수치형(int,float) 타입 컬럼의 요약통계량으로 반환 - 기본값\n",
    "- include=[]: 컬럼의 타입을 지정하면 그 타입의 컬럼에 대한 요약 통계량을 반환\n",
    "- exclude=[]: 지정한 타입의 컬럼을 제외하고 요약 통계량을 반환"
   ]
  },
  {
   "cell_type": "code",
   "execution_count": 37,
   "id": "3722101d",
   "metadata": {},
   "outputs": [
    {
     "name": "stdout",
     "output_type": "stream",
     "text": [
      "<class 'pandas.core.frame.DataFrame'>\n",
      "RangeIndex: 5 entries, 0 to 4\n",
      "Data columns (total 3 columns):\n",
      " #   Column  Non-Null Count  Dtype \n",
      "---  ------  --------------  ----- \n",
      " 0   id      5 non-null      object\n",
      " 1   korean  5 non-null      int64 \n",
      " 2   math    5 non-null      int64 \n",
      "dtypes: int64(2), object(1)\n",
      "memory usage: 248.0+ bytes\n"
     ]
    }
   ],
   "source": [
    "grade.info()"
   ]
  },
  {
   "cell_type": "code",
   "execution_count": 38,
   "id": "3715d01a",
   "metadata": {},
   "outputs": [
    {
     "data": {
      "text/html": [
       "<div>\n",
       "<style scoped>\n",
       "    .dataframe tbody tr th:only-of-type {\n",
       "        vertical-align: middle;\n",
       "    }\n",
       "\n",
       "    .dataframe tbody tr th {\n",
       "        vertical-align: top;\n",
       "    }\n",
       "\n",
       "    .dataframe thead th {\n",
       "        text-align: right;\n",
       "    }\n",
       "</style>\n",
       "<table border=\"1\" class=\"dataframe\">\n",
       "  <thead>\n",
       "    <tr style=\"text-align: right;\">\n",
       "      <th></th>\n",
       "      <th>id</th>\n",
       "    </tr>\n",
       "  </thead>\n",
       "  <tbody>\n",
       "    <tr>\n",
       "      <th>count</th>\n",
       "      <td>5</td>\n",
       "    </tr>\n",
       "    <tr>\n",
       "      <th>unique</th>\n",
       "      <td>5</td>\n",
       "    </tr>\n",
       "    <tr>\n",
       "      <th>top</th>\n",
       "      <td>id-1</td>\n",
       "    </tr>\n",
       "    <tr>\n",
       "      <th>freq</th>\n",
       "      <td>1</td>\n",
       "    </tr>\n",
       "  </tbody>\n",
       "</table>\n",
       "</div>"
      ],
      "text/plain": [
       "          id\n",
       "count      5\n",
       "unique     5\n",
       "top     id-1\n",
       "freq       1"
      ]
     },
     "execution_count": 38,
     "metadata": {},
     "output_type": "execute_result"
    }
   ],
   "source": [
    " grade.describe(include=['object'])"
   ]
  },
  {
   "cell_type": "code",
   "execution_count": 39,
   "id": "d673c676",
   "metadata": {},
   "outputs": [
    {
     "data": {
      "text/html": [
       "<div>\n",
       "<style scoped>\n",
       "    .dataframe tbody tr th:only-of-type {\n",
       "        vertical-align: middle;\n",
       "    }\n",
       "\n",
       "    .dataframe tbody tr th {\n",
       "        vertical-align: top;\n",
       "    }\n",
       "\n",
       "    .dataframe thead th {\n",
       "        text-align: right;\n",
       "    }\n",
       "</style>\n",
       "<table border=\"1\" class=\"dataframe\">\n",
       "  <thead>\n",
       "    <tr style=\"text-align: right;\">\n",
       "      <th></th>\n",
       "      <th>id</th>\n",
       "    </tr>\n",
       "  </thead>\n",
       "  <tbody>\n",
       "    <tr>\n",
       "      <th>count</th>\n",
       "      <td>5</td>\n",
       "    </tr>\n",
       "    <tr>\n",
       "      <th>unique</th>\n",
       "      <td>5</td>\n",
       "    </tr>\n",
       "    <tr>\n",
       "      <th>top</th>\n",
       "      <td>id-1</td>\n",
       "    </tr>\n",
       "    <tr>\n",
       "      <th>freq</th>\n",
       "      <td>1</td>\n",
       "    </tr>\n",
       "  </tbody>\n",
       "</table>\n",
       "</div>"
      ],
      "text/plain": [
       "          id\n",
       "count      5\n",
       "unique     5\n",
       "top     id-1\n",
       "freq       1"
      ]
     },
     "execution_count": 39,
     "metadata": {},
     "output_type": "execute_result"
    }
   ],
   "source": [
    "grade.describe(exclude=['float64', 'int64'])"
   ]
  },
  {
   "cell_type": "markdown",
   "id": "d3eb66fe",
   "metadata": {},
   "source": [
    "#### insul( ).sum( )\n",
    "- 컬럼별 null체크 (sum() 한번더 하면 총 개수)"
   ]
  },
  {
   "cell_type": "code",
   "execution_count": 41,
   "id": "0a072c19",
   "metadata": {},
   "outputs": [
    {
     "data": {
      "text/plain": [
       "color                         19\n",
       "director_name                102\n",
       "num_critic_for_reviews        49\n",
       "duration                      15\n",
       "director_facebook_likes      102\n",
       "actor_3_facebook_likes        23\n",
       "actor_2_name                  13\n",
       "actor_1_facebook_likes         7\n",
       "gross                        862\n",
       "genres                         0\n",
       "actor_1_name                   7\n",
       "movie_title                    0\n",
       "num_voted_users                0\n",
       "cast_total_facebook_likes      0\n",
       "actor_3_name                  23\n",
       "facenumber_in_poster          13\n",
       "plot_keywords                152\n",
       "movie_imdb_link                0\n",
       "num_user_for_reviews          21\n",
       "language                      12\n",
       "country                        5\n",
       "content_rating               300\n",
       "budget                       484\n",
       "title_year                   106\n",
       "actor_2_facebook_likes        13\n",
       "imdb_score                     0\n",
       "aspect_ratio                 326\n",
       "movie_facebook_likes           0\n",
       "dtype: int64"
      ]
     },
     "execution_count": 41,
     "metadata": {},
     "output_type": "execute_result"
    }
   ],
   "source": [
    "df = pd.read_csv('data/movie.csv')\n",
    "df.isnull().sum()  # bool -> sum(): True-1, False-0"
   ]
  },
  {
   "cell_type": "markdown",
   "id": "e010eba0",
   "metadata": {},
   "source": [
    "#### copy( )"
   ]
  },
  {
   "cell_type": "code",
   "execution_count": 43,
   "id": "22651be6",
   "metadata": {
    "scrolled": true
   },
   "outputs": [
    {
     "name": "stdout",
     "output_type": "stream",
     "text": [
      "<class 'pandas.core.frame.DataFrame'>\n",
      "RangeIndex: 4916 entries, 0 to 4915\n",
      "Data columns (total 28 columns):\n",
      " #   Column                     Non-Null Count  Dtype  \n",
      "---  ------                     --------------  -----  \n",
      " 0   color                      4897 non-null   object \n",
      " 1   director_name              4814 non-null   object \n",
      " 2   num_critic_for_reviews     4867 non-null   float64\n",
      " 3   duration                   4901 non-null   float64\n",
      " 4   director_facebook_likes    4814 non-null   float64\n",
      " 5   actor_3_facebook_likes     4893 non-null   float64\n",
      " 6   actor_2_name               4903 non-null   object \n",
      " 7   actor_1_facebook_likes     4909 non-null   float64\n",
      " 8   gross                      4054 non-null   float64\n",
      " 9   genres                     4916 non-null   object \n",
      " 10  actor_1_name               4909 non-null   object \n",
      " 11  movie_title                4916 non-null   object \n",
      " 12  num_voted_users            4916 non-null   int64  \n",
      " 13  cast_total_facebook_likes  4916 non-null   int64  \n",
      " 14  actor_3_name               4893 non-null   object \n",
      " 15  facenumber_in_poster       4903 non-null   float64\n",
      " 16  plot_keywords              4764 non-null   object \n",
      " 17  movie_imdb_link            4916 non-null   object \n",
      " 18  num_user_for_reviews       4895 non-null   float64\n",
      " 19  language                   4904 non-null   object \n",
      " 20  country                    4911 non-null   object \n",
      " 21  content_rating             4616 non-null   object \n",
      " 22  budget                     4432 non-null   float64\n",
      " 23  title_year                 4810 non-null   float64\n",
      " 24  actor_2_facebook_likes     4903 non-null   float64\n",
      " 25  imdb_score                 4916 non-null   float64\n",
      " 26  aspect_ratio               4590 non-null   float64\n",
      " 27  movie_facebook_likes       4916 non-null   int64  \n",
      "dtypes: float64(13), int64(3), object(12)\n",
      "memory usage: 1.1+ MB\n"
     ]
    }
   ],
   "source": [
    "df2 = df.copy() \n",
    "df2.info()"
   ]
  },
  {
   "cell_type": "markdown",
   "id": "8106452e",
   "metadata": {},
   "source": [
    "#### astype( )"
   ]
  },
  {
   "cell_type": "code",
   "execution_count": 44,
   "id": "6d757645",
   "metadata": {},
   "outputs": [],
   "source": [
    "df2['movie_facebook_likes'] = df2['movie_facebook_likes'].astype('int32')"
   ]
  },
  {
   "cell_type": "markdown",
   "id": "ebd2076b",
   "metadata": {},
   "source": [
    "## 컬럼이름/행이름 조회 및 변경\n",
    "### 컬럼이름/행이름 조회\n",
    "- DataFrame객체.columns\n",
    "    - 컬럼명 조회\n",
    "    - 컬럼명은 차후 조회를 위해 따로 변수에 저장하는 것이 좋다.\n",
    "- DataFrame객체.index\n",
    "    - 행명 조회"
   ]
  },
  {
   "cell_type": "markdown",
   "id": "b683a275",
   "metadata": {},
   "source": [
    "#### 컬럼명 조회"
   ]
  },
  {
   "cell_type": "code",
   "execution_count": 45,
   "id": "b25cd47a",
   "metadata": {
    "scrolled": true
   },
   "outputs": [
    {
     "data": {
      "text/plain": [
       "Index(['color', 'director_name', 'num_critic_for_reviews', 'duration',\n",
       "       'director_facebook_likes', 'actor_3_facebook_likes', 'actor_2_name',\n",
       "       'actor_1_facebook_likes', 'gross', 'genres', 'actor_1_name',\n",
       "       'movie_title', 'num_voted_users', 'cast_total_facebook_likes',\n",
       "       'actor_3_name', 'facenumber_in_poster', 'plot_keywords',\n",
       "       'movie_imdb_link', 'num_user_for_reviews', 'language', 'country',\n",
       "       'content_rating', 'budget', 'title_year', 'actor_2_facebook_likes',\n",
       "       'imdb_score', 'aspect_ratio', 'movie_facebook_likes'],\n",
       "      dtype='object')"
      ]
     },
     "execution_count": 45,
     "metadata": {},
     "output_type": "execute_result"
    }
   ],
   "source": [
    "columns = df.columns\n",
    "columns"
   ]
  },
  {
   "cell_type": "markdown",
   "id": "39d2a01d",
   "metadata": {},
   "source": [
    "#### index명(행) 조회\n",
    "- index명을 설정한 경우: 리스트(Index)\n",
    "- Index명을 설정하지 않은 경우(순번을 index로 사용한 경우): RangeIndex"
   ]
  },
  {
   "cell_type": "code",
   "execution_count": 46,
   "id": "147ca707",
   "metadata": {},
   "outputs": [
    {
     "data": {
      "text/plain": [
       "RangeIndex(start=0, stop=4916, step=1)"
      ]
     },
     "execution_count": 46,
     "metadata": {},
     "output_type": "execute_result"
    }
   ],
   "source": [
    "df.index  "
   ]
  },
  {
   "cell_type": "markdown",
   "id": "e79ec8ca",
   "metadata": {},
   "source": [
    "### 컬럼이름/행이름 변경\n",
    "- 컬럼과 인덱스는 불변의 성격을 가짐\n",
    "- columns와 index 속성으로는 통째로 바꾸는 것은 가능하나 index로 하나씩 바꾸는 것은 안된다.\n",
    "    - `df.columns = ['새이름','새이름', ... , '새이름']\n",
    "    - `df.columns[1] = '새이름' # 이건 안된다. `\n",
    "\n",
    "### 컬럼이름/행이름 변경 관련 메소드    \n",
    "- `DataFrame객체.rename(index=행이름변경설정, columns=열이름변경설정, inplace=False)`\n",
    "    - 개별 컬럼이름/행이름 변경 하는 메소드\n",
    "    - 변경한 DataFrame을 반환\n",
    "    - 변경설정: 딕셔너리 사용\n",
    "        - {'기존이름':'새이름', ..}\n",
    "        - inplace: 원본을 변경할지 여부(boolean)\n",
    "- `DataFrame객체.set_index(컬럼이름, inplace=False)`\n",
    "    - 특정 컬럼을 행의 index 명으로 사용\n",
    "    - 열이 index명이 되면서 그 컬럼은 Data Set 에서 제거된다.\n",
    "- `DataFrame객체.reset_index(inplace=False)`\n",
    "    - index를 첫번째 컬럼으로 복원"
   ]
  },
  {
   "cell_type": "markdown",
   "id": "0d2a7e6a",
   "metadata": {},
   "source": [
    "#### 컬럼명 변경 - 전체변경"
   ]
  },
  {
   "cell_type": "code",
   "execution_count": 48,
   "id": "c0cd34d3",
   "metadata": {},
   "outputs": [],
   "source": [
    "grade.columns = ['ID', 'Korean', 'Math']"
   ]
  },
  {
   "cell_type": "markdown",
   "id": "74b938ce",
   "metadata": {},
   "source": [
    "#### 특정 컬럼의 이름을 변경 "
   ]
  },
  {
   "cell_type": "code",
   "execution_count": 49,
   "id": "b364a49a",
   "metadata": {},
   "outputs": [],
   "source": [
    "grade.rename(columns={\n",
    "    'Korean':'국어', \n",
    "    'Math':'수학'\n",
    "}, inplace=True) #대상(원본)을 직접 변경."
   ]
  },
  {
   "cell_type": "markdown",
   "id": "39553e3b",
   "metadata": {},
   "source": [
    "#### 특정 컬럼을 index명으로 사용"
   ]
  },
  {
   "cell_type": "code",
   "execution_count": 50,
   "id": "09c3f819",
   "metadata": {},
   "outputs": [
    {
     "data": {
      "text/html": [
       "<div>\n",
       "<style scoped>\n",
       "    .dataframe tbody tr th:only-of-type {\n",
       "        vertical-align: middle;\n",
       "    }\n",
       "\n",
       "    .dataframe tbody tr th {\n",
       "        vertical-align: top;\n",
       "    }\n",
       "\n",
       "    .dataframe thead th {\n",
       "        text-align: right;\n",
       "    }\n",
       "</style>\n",
       "<table border=\"1\" class=\"dataframe\">\n",
       "  <thead>\n",
       "    <tr style=\"text-align: right;\">\n",
       "      <th></th>\n",
       "      <th>국어</th>\n",
       "      <th>수학</th>\n",
       "    </tr>\n",
       "    <tr>\n",
       "      <th>ID</th>\n",
       "      <th></th>\n",
       "      <th></th>\n",
       "    </tr>\n",
       "  </thead>\n",
       "  <tbody>\n",
       "    <tr>\n",
       "      <th>id-1</th>\n",
       "      <td>100</td>\n",
       "      <td>80</td>\n",
       "    </tr>\n",
       "    <tr>\n",
       "      <th>id-2</th>\n",
       "      <td>50</td>\n",
       "      <td>50</td>\n",
       "    </tr>\n",
       "    <tr>\n",
       "      <th>id-3</th>\n",
       "      <td>70</td>\n",
       "      <td>90</td>\n",
       "    </tr>\n",
       "    <tr>\n",
       "      <th>id-4</th>\n",
       "      <td>90</td>\n",
       "      <td>100</td>\n",
       "    </tr>\n",
       "    <tr>\n",
       "      <th>id-5</th>\n",
       "      <td>85</td>\n",
       "      <td>100</td>\n",
       "    </tr>\n",
       "  </tbody>\n",
       "</table>\n",
       "</div>"
      ],
      "text/plain": [
       "       국어   수학\n",
       "ID            \n",
       "id-1  100   80\n",
       "id-2   50   50\n",
       "id-3   70   90\n",
       "id-4   90  100\n",
       "id-5   85  100"
      ]
     },
     "execution_count": 50,
     "metadata": {},
     "output_type": "execute_result"
    }
   ],
   "source": [
    "grade.set_index('ID', inplace=True)\n",
    "grade"
   ]
  },
  {
   "cell_type": "markdown",
   "id": "f4b76967",
   "metadata": {},
   "source": [
    "#### drop=True\n",
    "- index명을 제거하고 순번으로 변경"
   ]
  },
  {
   "cell_type": "code",
   "execution_count": 51,
   "id": "a81bd2e3",
   "metadata": {},
   "outputs": [
    {
     "data": {
      "text/html": [
       "<div>\n",
       "<style scoped>\n",
       "    .dataframe tbody tr th:only-of-type {\n",
       "        vertical-align: middle;\n",
       "    }\n",
       "\n",
       "    .dataframe tbody tr th {\n",
       "        vertical-align: top;\n",
       "    }\n",
       "\n",
       "    .dataframe thead th {\n",
       "        text-align: right;\n",
       "    }\n",
       "</style>\n",
       "<table border=\"1\" class=\"dataframe\">\n",
       "  <thead>\n",
       "    <tr style=\"text-align: right;\">\n",
       "      <th></th>\n",
       "      <th>국어</th>\n",
       "      <th>수학</th>\n",
       "    </tr>\n",
       "  </thead>\n",
       "  <tbody>\n",
       "    <tr>\n",
       "      <th>0</th>\n",
       "      <td>100</td>\n",
       "      <td>80</td>\n",
       "    </tr>\n",
       "    <tr>\n",
       "      <th>1</th>\n",
       "      <td>50</td>\n",
       "      <td>50</td>\n",
       "    </tr>\n",
       "    <tr>\n",
       "      <th>2</th>\n",
       "      <td>70</td>\n",
       "      <td>90</td>\n",
       "    </tr>\n",
       "    <tr>\n",
       "      <th>3</th>\n",
       "      <td>90</td>\n",
       "      <td>100</td>\n",
       "    </tr>\n",
       "    <tr>\n",
       "      <th>4</th>\n",
       "      <td>85</td>\n",
       "      <td>100</td>\n",
       "    </tr>\n",
       "  </tbody>\n",
       "</table>\n",
       "</div>"
      ],
      "text/plain": [
       "    국어   수학\n",
       "0  100   80\n",
       "1   50   50\n",
       "2   70   90\n",
       "3   90  100\n",
       "4   85  100"
      ]
     },
     "execution_count": 51,
     "metadata": {},
     "output_type": "execute_result"
    }
   ],
   "source": [
    "grade.reset_index(drop=True) "
   ]
  },
  {
   "cell_type": "code",
   "execution_count": 53,
   "id": "46b96ba2",
   "metadata": {},
   "outputs": [
    {
     "data": {
      "text/html": [
       "<div>\n",
       "<style scoped>\n",
       "    .dataframe tbody tr th:only-of-type {\n",
       "        vertical-align: middle;\n",
       "    }\n",
       "\n",
       "    .dataframe tbody tr th {\n",
       "        vertical-align: top;\n",
       "    }\n",
       "\n",
       "    .dataframe thead th {\n",
       "        text-align: right;\n",
       "    }\n",
       "</style>\n",
       "<table border=\"1\" class=\"dataframe\">\n",
       "  <thead>\n",
       "    <tr style=\"text-align: right;\">\n",
       "      <th></th>\n",
       "      <th>korean</th>\n",
       "      <th>math</th>\n",
       "    </tr>\n",
       "    <tr>\n",
       "      <th>id</th>\n",
       "      <th></th>\n",
       "      <th></th>\n",
       "    </tr>\n",
       "  </thead>\n",
       "  <tbody>\n",
       "    <tr>\n",
       "      <th>id-1</th>\n",
       "      <td>100</td>\n",
       "      <td>80</td>\n",
       "    </tr>\n",
       "    <tr>\n",
       "      <th>id-2</th>\n",
       "      <td>50</td>\n",
       "      <td>50</td>\n",
       "    </tr>\n",
       "    <tr>\n",
       "      <th>id-3</th>\n",
       "      <td>결측치</td>\n",
       "      <td>90</td>\n",
       "    </tr>\n",
       "    <tr>\n",
       "      <th>id-4</th>\n",
       "      <td>90</td>\n",
       "      <td>100</td>\n",
       "    </tr>\n",
       "    <tr>\n",
       "      <th>id-5</th>\n",
       "      <td>85</td>\n",
       "      <td>100</td>\n",
       "    </tr>\n",
       "  </tbody>\n",
       "</table>\n",
       "</div>"
      ],
      "text/plain": [
       "     korean  math\n",
       "id               \n",
       "id-1    100    80\n",
       "id-2     50    50\n",
       "id-3    결측치    90\n",
       "id-4     90   100\n",
       "id-5     85   100"
      ]
     },
     "execution_count": 53,
     "metadata": {},
     "output_type": "execute_result"
    }
   ],
   "source": [
    "pd.read_csv('save_data1/grade2.csv', header=None,\n",
    "           names=['id', 'korean', 'math'],  # column명 지정\n",
    "           index_col=0) # 특정 컬럼을 index로 사용."
   ]
  },
  {
   "cell_type": "markdown",
   "id": "a22638ce",
   "metadata": {},
   "source": [
    "## 행 / 열 삭제\n",
    "- DataFrame객체.drop(columns, index, inplace=False)\n",
    "    - columns : 삭제할 열이름 또는 열이름 리스트\n",
    "    - index : 삭제할 index명 또는 index 리스트\n",
    "    - inplace: 원본을 변경할지 여부(boolean)"
   ]
  },
  {
   "cell_type": "markdown",
   "id": "f3738a03",
   "metadata": {},
   "source": [
    "#### grade.drop(columns=[])"
   ]
  },
  {
   "cell_type": "code",
   "execution_count": 54,
   "id": "3e16edc5",
   "metadata": {},
   "outputs": [
    {
     "data": {
      "text/html": [
       "<div>\n",
       "<style scoped>\n",
       "    .dataframe tbody tr th:only-of-type {\n",
       "        vertical-align: middle;\n",
       "    }\n",
       "\n",
       "    .dataframe tbody tr th {\n",
       "        vertical-align: top;\n",
       "    }\n",
       "\n",
       "    .dataframe thead th {\n",
       "        text-align: right;\n",
       "    }\n",
       "</style>\n",
       "<table border=\"1\" class=\"dataframe\">\n",
       "  <thead>\n",
       "    <tr style=\"text-align: right;\">\n",
       "      <th></th>\n",
       "    </tr>\n",
       "    <tr>\n",
       "      <th>ID</th>\n",
       "    </tr>\n",
       "  </thead>\n",
       "  <tbody>\n",
       "    <tr>\n",
       "      <th>id-1</th>\n",
       "    </tr>\n",
       "    <tr>\n",
       "      <th>id-2</th>\n",
       "    </tr>\n",
       "    <tr>\n",
       "      <th>id-3</th>\n",
       "    </tr>\n",
       "    <tr>\n",
       "      <th>id-4</th>\n",
       "    </tr>\n",
       "    <tr>\n",
       "      <th>id-5</th>\n",
       "    </tr>\n",
       "  </tbody>\n",
       "</table>\n",
       "</div>"
      ],
      "text/plain": [
       "Empty DataFrame\n",
       "Columns: []\n",
       "Index: [id-1, id-2, id-3, id-4, id-5]"
      ]
     },
     "execution_count": 54,
     "metadata": {},
     "output_type": "execute_result"
    }
   ],
   "source": [
    "grade.drop(columns=['국어', '수학'])"
   ]
  },
  {
   "cell_type": "code",
   "execution_count": 55,
   "id": "c6d34202",
   "metadata": {},
   "outputs": [
    {
     "data": {
      "text/html": [
       "<div>\n",
       "<style scoped>\n",
       "    .dataframe tbody tr th:only-of-type {\n",
       "        vertical-align: middle;\n",
       "    }\n",
       "\n",
       "    .dataframe tbody tr th {\n",
       "        vertical-align: top;\n",
       "    }\n",
       "\n",
       "    .dataframe thead th {\n",
       "        text-align: right;\n",
       "    }\n",
       "</style>\n",
       "<table border=\"1\" class=\"dataframe\">\n",
       "  <thead>\n",
       "    <tr style=\"text-align: right;\">\n",
       "      <th></th>\n",
       "      <th>국어</th>\n",
       "      <th>수학</th>\n",
       "    </tr>\n",
       "    <tr>\n",
       "      <th>ID</th>\n",
       "      <th></th>\n",
       "      <th></th>\n",
       "    </tr>\n",
       "  </thead>\n",
       "  <tbody>\n",
       "    <tr>\n",
       "      <th>id-3</th>\n",
       "      <td>70</td>\n",
       "      <td>90</td>\n",
       "    </tr>\n",
       "    <tr>\n",
       "      <th>id-4</th>\n",
       "      <td>90</td>\n",
       "      <td>100</td>\n",
       "    </tr>\n",
       "  </tbody>\n",
       "</table>\n",
       "</div>"
      ],
      "text/plain": [
       "      국어   수학\n",
       "ID           \n",
       "id-3  70   90\n",
       "id-4  90  100"
      ]
     },
     "execution_count": 55,
     "metadata": {},
     "output_type": "execute_result"
    }
   ],
   "source": [
    "grade.drop(index=['id-1', 'id-2', 'id-5'])"
   ]
  },
  {
   "cell_type": "markdown",
   "id": "dd1a12c7",
   "metadata": {},
   "source": [
    "#### drop(labels=['행/컬럼명', ..], axis='행/열번호')\n",
    "- 행/열번호: 0-행, 1-열"
   ]
  },
  {
   "cell_type": "code",
   "execution_count": 56,
   "id": "549548c0",
   "metadata": {},
   "outputs": [
    {
     "data": {
      "text/html": [
       "<div>\n",
       "<style scoped>\n",
       "    .dataframe tbody tr th:only-of-type {\n",
       "        vertical-align: middle;\n",
       "    }\n",
       "\n",
       "    .dataframe tbody tr th {\n",
       "        vertical-align: top;\n",
       "    }\n",
       "\n",
       "    .dataframe thead th {\n",
       "        text-align: right;\n",
       "    }\n",
       "</style>\n",
       "<table border=\"1\" class=\"dataframe\">\n",
       "  <thead>\n",
       "    <tr style=\"text-align: right;\">\n",
       "      <th></th>\n",
       "      <th>수학</th>\n",
       "    </tr>\n",
       "    <tr>\n",
       "      <th>ID</th>\n",
       "      <th></th>\n",
       "    </tr>\n",
       "  </thead>\n",
       "  <tbody>\n",
       "    <tr>\n",
       "      <th>id-1</th>\n",
       "      <td>80</td>\n",
       "    </tr>\n",
       "    <tr>\n",
       "      <th>id-2</th>\n",
       "      <td>50</td>\n",
       "    </tr>\n",
       "    <tr>\n",
       "      <th>id-3</th>\n",
       "      <td>90</td>\n",
       "    </tr>\n",
       "    <tr>\n",
       "      <th>id-4</th>\n",
       "      <td>100</td>\n",
       "    </tr>\n",
       "    <tr>\n",
       "      <th>id-5</th>\n",
       "      <td>100</td>\n",
       "    </tr>\n",
       "  </tbody>\n",
       "</table>\n",
       "</div>"
      ],
      "text/plain": [
       "       수학\n",
       "ID       \n",
       "id-1   80\n",
       "id-2   50\n",
       "id-3   90\n",
       "id-4  100\n",
       "id-5  100"
      ]
     },
     "execution_count": 56,
     "metadata": {},
     "output_type": "execute_result"
    }
   ],
   "source": [
    "grade.drop(labels=['국어'], axis=1)#열(컬럼)-column명"
   ]
  },
  {
   "cell_type": "code",
   "execution_count": 57,
   "id": "bd051141",
   "metadata": {},
   "outputs": [
    {
     "data": {
      "text/html": [
       "<div>\n",
       "<style scoped>\n",
       "    .dataframe tbody tr th:only-of-type {\n",
       "        vertical-align: middle;\n",
       "    }\n",
       "\n",
       "    .dataframe tbody tr th {\n",
       "        vertical-align: top;\n",
       "    }\n",
       "\n",
       "    .dataframe thead th {\n",
       "        text-align: right;\n",
       "    }\n",
       "</style>\n",
       "<table border=\"1\" class=\"dataframe\">\n",
       "  <thead>\n",
       "    <tr style=\"text-align: right;\">\n",
       "      <th></th>\n",
       "      <th>국어</th>\n",
       "      <th>수학</th>\n",
       "    </tr>\n",
       "    <tr>\n",
       "      <th>ID</th>\n",
       "      <th></th>\n",
       "      <th></th>\n",
       "    </tr>\n",
       "  </thead>\n",
       "  <tbody>\n",
       "    <tr>\n",
       "      <th>id-2</th>\n",
       "      <td>50</td>\n",
       "      <td>50</td>\n",
       "    </tr>\n",
       "    <tr>\n",
       "      <th>id-4</th>\n",
       "      <td>90</td>\n",
       "      <td>100</td>\n",
       "    </tr>\n",
       "    <tr>\n",
       "      <th>id-5</th>\n",
       "      <td>85</td>\n",
       "      <td>100</td>\n",
       "    </tr>\n",
       "  </tbody>\n",
       "</table>\n",
       "</div>"
      ],
      "text/plain": [
       "      국어   수학\n",
       "ID           \n",
       "id-2  50   50\n",
       "id-4  90  100\n",
       "id-5  85  100"
      ]
     },
     "execution_count": 57,
     "metadata": {},
     "output_type": "execute_result"
    }
   ],
   "source": [
    "grade.drop(labels=['id-1', 'id-3'], axis=0)  #행-index명"
   ]
  },
  {
   "cell_type": "markdown",
   "id": "1a9cf9bf",
   "metadata": {},
   "source": [
    "## 열 추가\n",
    "- 새로운 열을 지정 후 값을 대입하면 새로운 열을 추가할 수 있다.\n",
    "    - 보통 파생변수를 만들 때 사용한다.\n",
    "- df['새열명'] = 값\n",
    "    - 마지막 열로 추가된다.\n",
    "    - 하나의 값을 대입하면 모든 행에 그 값이 대입된다.\n",
    "    - 다른 값을 주려면 배열에 담아서 대입한다.\n",
    "- 기존 열들의 값을 이용한(계산/처리) 새로운 열 생성 => 파생변수\n",
    "    - 벡터 연산을 이용하여 값 대입\n",
    "    - df[‘새열이름‘] = 기존 열들을 이용한 연산"
   ]
  },
  {
   "cell_type": "code",
   "execution_count": 13,
   "id": "c9da369d",
   "metadata": {},
   "outputs": [],
   "source": [
    "import pandas as pd\n",
    "grade = pd.read_csv('save_data1/grade1.csv')\n",
    "grade.set_index('id',inplace=True)\n",
    "grade.rename(columns={'korean':'국어','math':'수학'},inplace=True)"
   ]
  },
  {
   "cell_type": "markdown",
   "id": "ce29458f",
   "metadata": {},
   "source": [
    "#### 추가/변경"
   ]
  },
  {
   "cell_type": "code",
   "execution_count": 14,
   "id": "2f179096",
   "metadata": {},
   "outputs": [
    {
     "data": {
      "text/html": [
       "<div>\n",
       "<style scoped>\n",
       "    .dataframe tbody tr th:only-of-type {\n",
       "        vertical-align: middle;\n",
       "    }\n",
       "\n",
       "    .dataframe tbody tr th {\n",
       "        vertical-align: top;\n",
       "    }\n",
       "\n",
       "    .dataframe thead th {\n",
       "        text-align: right;\n",
       "    }\n",
       "</style>\n",
       "<table border=\"1\" class=\"dataframe\">\n",
       "  <thead>\n",
       "    <tr style=\"text-align: right;\">\n",
       "      <th></th>\n",
       "      <th>국어</th>\n",
       "      <th>수학</th>\n",
       "      <th>영어</th>\n",
       "      <th>과학</th>\n",
       "    </tr>\n",
       "    <tr>\n",
       "      <th>id</th>\n",
       "      <th></th>\n",
       "      <th></th>\n",
       "      <th></th>\n",
       "      <th></th>\n",
       "    </tr>\n",
       "  </thead>\n",
       "  <tbody>\n",
       "    <tr>\n",
       "      <th>id-1</th>\n",
       "      <td>100</td>\n",
       "      <td>80</td>\n",
       "      <td>50</td>\n",
       "      <td>80</td>\n",
       "    </tr>\n",
       "    <tr>\n",
       "      <th>id-2</th>\n",
       "      <td>50</td>\n",
       "      <td>50</td>\n",
       "      <td>50</td>\n",
       "      <td>90</td>\n",
       "    </tr>\n",
       "    <tr>\n",
       "      <th>id-3</th>\n",
       "      <td>70</td>\n",
       "      <td>90</td>\n",
       "      <td>50</td>\n",
       "      <td>100</td>\n",
       "    </tr>\n",
       "    <tr>\n",
       "      <th>id-4</th>\n",
       "      <td>90</td>\n",
       "      <td>100</td>\n",
       "      <td>50</td>\n",
       "      <td>70</td>\n",
       "    </tr>\n",
       "    <tr>\n",
       "      <th>id-5</th>\n",
       "      <td>85</td>\n",
       "      <td>100</td>\n",
       "      <td>50</td>\n",
       "      <td>56</td>\n",
       "    </tr>\n",
       "  </tbody>\n",
       "</table>\n",
       "</div>"
      ],
      "text/plain": [
       "       국어   수학  영어   과학\n",
       "id                     \n",
       "id-1  100   80  50   80\n",
       "id-2   50   50  50   90\n",
       "id-3   70   90  50  100\n",
       "id-4   90  100  50   70\n",
       "id-5   85  100  50   56"
      ]
     },
     "execution_count": 14,
     "metadata": {},
     "output_type": "execute_result"
    }
   ],
   "source": [
    "# 추가/변경\n",
    "# 없는 컬럼명: 추가, 있는 컬럼명: 값을 변경\n",
    "grade['영어'] = 50  #모든행에 동일한 값을 대입\n",
    "grade['과학'] = [80,90,100,70,56]  #각행마다 다른 값을 대입. 행 개수만큼의 value를 리스트로 전달\n",
    "grade"
   ]
  },
  {
   "cell_type": "code",
   "execution_count": 15,
   "id": "68222921",
   "metadata": {},
   "outputs": [
    {
     "data": {
      "text/html": [
       "<div>\n",
       "<style scoped>\n",
       "    .dataframe tbody tr th:only-of-type {\n",
       "        vertical-align: middle;\n",
       "    }\n",
       "\n",
       "    .dataframe tbody tr th {\n",
       "        vertical-align: top;\n",
       "    }\n",
       "\n",
       "    .dataframe thead th {\n",
       "        text-align: right;\n",
       "    }\n",
       "</style>\n",
       "<table border=\"1\" class=\"dataframe\">\n",
       "  <thead>\n",
       "    <tr style=\"text-align: right;\">\n",
       "      <th></th>\n",
       "      <th>국어</th>\n",
       "      <th>수학</th>\n",
       "      <th>영어</th>\n",
       "      <th>과학</th>\n",
       "      <th>합계</th>\n",
       "    </tr>\n",
       "    <tr>\n",
       "      <th>id</th>\n",
       "      <th></th>\n",
       "      <th></th>\n",
       "      <th></th>\n",
       "      <th></th>\n",
       "      <th></th>\n",
       "    </tr>\n",
       "  </thead>\n",
       "  <tbody>\n",
       "    <tr>\n",
       "      <th>id-1</th>\n",
       "      <td>100</td>\n",
       "      <td>80</td>\n",
       "      <td>50</td>\n",
       "      <td>80</td>\n",
       "      <td>310</td>\n",
       "    </tr>\n",
       "    <tr>\n",
       "      <th>id-2</th>\n",
       "      <td>50</td>\n",
       "      <td>50</td>\n",
       "      <td>50</td>\n",
       "      <td>90</td>\n",
       "      <td>240</td>\n",
       "    </tr>\n",
       "    <tr>\n",
       "      <th>id-3</th>\n",
       "      <td>70</td>\n",
       "      <td>90</td>\n",
       "      <td>50</td>\n",
       "      <td>100</td>\n",
       "      <td>310</td>\n",
       "    </tr>\n",
       "    <tr>\n",
       "      <th>id-4</th>\n",
       "      <td>90</td>\n",
       "      <td>100</td>\n",
       "      <td>50</td>\n",
       "      <td>70</td>\n",
       "      <td>310</td>\n",
       "    </tr>\n",
       "    <tr>\n",
       "      <th>id-5</th>\n",
       "      <td>85</td>\n",
       "      <td>100</td>\n",
       "      <td>50</td>\n",
       "      <td>56</td>\n",
       "      <td>291</td>\n",
       "    </tr>\n",
       "  </tbody>\n",
       "</table>\n",
       "</div>"
      ],
      "text/plain": [
       "       국어   수학  영어   과학   합계\n",
       "id                          \n",
       "id-1  100   80  50   80  310\n",
       "id-2   50   50  50   90  240\n",
       "id-3   70   90  50  100  310\n",
       "id-4   90  100  50   70  310\n",
       "id-5   85  100  50   56  291"
      ]
     },
     "execution_count": 15,
     "metadata": {},
     "output_type": "execute_result"
    }
   ],
   "source": [
    "# DF[컬럼명] => 특정 컬럼 값들을 조회 => Series로 반환(한개컬럼조회시) - series의 index명 으로 DF의 index명 온다.\n",
    "grade['합계'] = grade['국어'] + grade['수학'] + grade['영어'] + grade['과학']\n",
    "grade"
   ]
  },
  {
   "cell_type": "code",
   "execution_count": 16,
   "id": "91854116",
   "metadata": {},
   "outputs": [
    {
     "data": {
      "text/html": [
       "<div>\n",
       "<style scoped>\n",
       "    .dataframe tbody tr th:only-of-type {\n",
       "        vertical-align: middle;\n",
       "    }\n",
       "\n",
       "    .dataframe tbody tr th {\n",
       "        vertical-align: top;\n",
       "    }\n",
       "\n",
       "    .dataframe thead th {\n",
       "        text-align: right;\n",
       "    }\n",
       "</style>\n",
       "<table border=\"1\" class=\"dataframe\">\n",
       "  <thead>\n",
       "    <tr style=\"text-align: right;\">\n",
       "      <th></th>\n",
       "      <th>국어</th>\n",
       "      <th>수학</th>\n",
       "      <th>영어</th>\n",
       "      <th>과학</th>\n",
       "      <th>합계</th>\n",
       "      <th>평균</th>\n",
       "    </tr>\n",
       "    <tr>\n",
       "      <th>id</th>\n",
       "      <th></th>\n",
       "      <th></th>\n",
       "      <th></th>\n",
       "      <th></th>\n",
       "      <th></th>\n",
       "      <th></th>\n",
       "    </tr>\n",
       "  </thead>\n",
       "  <tbody>\n",
       "    <tr>\n",
       "      <th>id-1</th>\n",
       "      <td>100</td>\n",
       "      <td>80</td>\n",
       "      <td>50</td>\n",
       "      <td>80</td>\n",
       "      <td>310</td>\n",
       "      <td>77.50</td>\n",
       "    </tr>\n",
       "    <tr>\n",
       "      <th>id-2</th>\n",
       "      <td>50</td>\n",
       "      <td>50</td>\n",
       "      <td>50</td>\n",
       "      <td>90</td>\n",
       "      <td>240</td>\n",
       "      <td>60.00</td>\n",
       "    </tr>\n",
       "    <tr>\n",
       "      <th>id-3</th>\n",
       "      <td>70</td>\n",
       "      <td>90</td>\n",
       "      <td>50</td>\n",
       "      <td>100</td>\n",
       "      <td>310</td>\n",
       "      <td>77.50</td>\n",
       "    </tr>\n",
       "    <tr>\n",
       "      <th>id-4</th>\n",
       "      <td>90</td>\n",
       "      <td>100</td>\n",
       "      <td>50</td>\n",
       "      <td>70</td>\n",
       "      <td>310</td>\n",
       "      <td>77.50</td>\n",
       "    </tr>\n",
       "    <tr>\n",
       "      <th>id-5</th>\n",
       "      <td>85</td>\n",
       "      <td>100</td>\n",
       "      <td>50</td>\n",
       "      <td>56</td>\n",
       "      <td>291</td>\n",
       "      <td>72.75</td>\n",
       "    </tr>\n",
       "  </tbody>\n",
       "</table>\n",
       "</div>"
      ],
      "text/plain": [
       "       국어   수학  영어   과학   합계     평균\n",
       "id                                 \n",
       "id-1  100   80  50   80  310  77.50\n",
       "id-2   50   50  50   90  240  60.00\n",
       "id-3   70   90  50  100  310  77.50\n",
       "id-4   90  100  50   70  310  77.50\n",
       "id-5   85  100  50   56  291  72.75"
      ]
     },
     "execution_count": 16,
     "metadata": {},
     "output_type": "execute_result"
    }
   ],
   "source": [
    "grade['평균'] = grade['합계']/4\n",
    "grade"
   ]
  },
  {
   "cell_type": "markdown",
   "id": "6fe40387",
   "metadata": {},
   "source": [
    "# 행별, 열별 값 조회\n",
    "## 열(컬럼) 조회\n",
    "- **df['컬럼명']**\n",
    "- **df.컬럼명**\n",
    "- **팬시 indexing**\n",
    "    - 여러개의 컬럼을 조회할 경우 컬럼명들을 담은 리스트/튜플로 조회\n",
    "- 주의\n",
    "    - df[컬럼index] 는 안된다.\n",
    "    - df[0:3] 슬라이싱은 **행** 조회다.\n",
    "    - **만약 indexing이나 slicing을 이용해 컬럼값 조회하려면 columns 속성을 이용한다.**\n",
    "        - `df[df.columns[:3]]`"
   ]
  },
  {
   "cell_type": "markdown",
   "id": "22d424d2",
   "metadata": {},
   "source": [
    "#### slicing"
   ]
  },
  {
   "cell_type": "code",
   "execution_count": 19,
   "id": "3bfff062",
   "metadata": {},
   "outputs": [
    {
     "data": {
      "text/html": [
       "<div>\n",
       "<style scoped>\n",
       "    .dataframe tbody tr th:only-of-type {\n",
       "        vertical-align: middle;\n",
       "    }\n",
       "\n",
       "    .dataframe tbody tr th {\n",
       "        vertical-align: top;\n",
       "    }\n",
       "\n",
       "    .dataframe thead th {\n",
       "        text-align: right;\n",
       "    }\n",
       "</style>\n",
       "<table border=\"1\" class=\"dataframe\">\n",
       "  <thead>\n",
       "    <tr style=\"text-align: right;\">\n",
       "      <th></th>\n",
       "      <th>국어</th>\n",
       "      <th>수학</th>\n",
       "    </tr>\n",
       "    <tr>\n",
       "      <th>id</th>\n",
       "      <th></th>\n",
       "      <th></th>\n",
       "    </tr>\n",
       "  </thead>\n",
       "  <tbody>\n",
       "    <tr>\n",
       "      <th>id-1</th>\n",
       "      <td>100</td>\n",
       "      <td>80</td>\n",
       "    </tr>\n",
       "    <tr>\n",
       "      <th>id-2</th>\n",
       "      <td>50</td>\n",
       "      <td>50</td>\n",
       "    </tr>\n",
       "    <tr>\n",
       "      <th>id-3</th>\n",
       "      <td>70</td>\n",
       "      <td>90</td>\n",
       "    </tr>\n",
       "    <tr>\n",
       "      <th>id-4</th>\n",
       "      <td>90</td>\n",
       "      <td>100</td>\n",
       "    </tr>\n",
       "    <tr>\n",
       "      <th>id-5</th>\n",
       "      <td>85</td>\n",
       "      <td>100</td>\n",
       "    </tr>\n",
       "  </tbody>\n",
       "</table>\n",
       "</div>"
      ],
      "text/plain": [
       "       국어   수학\n",
       "id            \n",
       "id-1  100   80\n",
       "id-2   50   50\n",
       "id-3   70   90\n",
       "id-4   90  100\n",
       "id-5   85  100"
      ]
     },
     "execution_count": 19,
     "metadata": {},
     "output_type": "execute_result"
    }
   ],
   "source": [
    "# 한번에 여러 컬럼의 값을 조회할 경우 => Fancy indexing: 조회할 컬럼들을 리스트로 묶어서 전달\n",
    "#   => DataFrame으로 반환\n",
    "cols = ['국어', '수학']\n",
    "grade[cols]"
   ]
  },
  {
   "cell_type": "code",
   "execution_count": 21,
   "id": "98126ce6",
   "metadata": {},
   "outputs": [
    {
     "data": {
      "text/html": [
       "<div>\n",
       "<style scoped>\n",
       "    .dataframe tbody tr th:only-of-type {\n",
       "        vertical-align: middle;\n",
       "    }\n",
       "\n",
       "    .dataframe tbody tr th {\n",
       "        vertical-align: top;\n",
       "    }\n",
       "\n",
       "    .dataframe thead th {\n",
       "        text-align: right;\n",
       "    }\n",
       "</style>\n",
       "<table border=\"1\" class=\"dataframe\">\n",
       "  <thead>\n",
       "    <tr style=\"text-align: right;\">\n",
       "      <th></th>\n",
       "      <th>합계</th>\n",
       "      <th>평균</th>\n",
       "      <th>pass</th>\n",
       "    </tr>\n",
       "    <tr>\n",
       "      <th>id</th>\n",
       "      <th></th>\n",
       "      <th></th>\n",
       "      <th></th>\n",
       "    </tr>\n",
       "  </thead>\n",
       "  <tbody>\n",
       "    <tr>\n",
       "      <th>id-1</th>\n",
       "      <td>310</td>\n",
       "      <td>77.50</td>\n",
       "      <td>True</td>\n",
       "    </tr>\n",
       "    <tr>\n",
       "      <th>id-2</th>\n",
       "      <td>240</td>\n",
       "      <td>60.00</td>\n",
       "      <td>False</td>\n",
       "    </tr>\n",
       "    <tr>\n",
       "      <th>id-3</th>\n",
       "      <td>310</td>\n",
       "      <td>77.50</td>\n",
       "      <td>True</td>\n",
       "    </tr>\n",
       "    <tr>\n",
       "      <th>id-4</th>\n",
       "      <td>310</td>\n",
       "      <td>77.50</td>\n",
       "      <td>True</td>\n",
       "    </tr>\n",
       "    <tr>\n",
       "      <th>id-5</th>\n",
       "      <td>291</td>\n",
       "      <td>72.75</td>\n",
       "      <td>False</td>\n",
       "    </tr>\n",
       "  </tbody>\n",
       "</table>\n",
       "</div>"
      ],
      "text/plain": [
       "       합계     평균   pass\n",
       "id                     \n",
       "id-1  310  77.50   True\n",
       "id-2  240  60.00  False\n",
       "id-3  310  77.50   True\n",
       "id-4  310  77.50   True\n",
       "id-5  291  72.75  False"
      ]
     },
     "execution_count": 21,
     "metadata": {},
     "output_type": "execute_result"
    }
   ],
   "source": [
    "grade[['합계', '평균', 'pass']]"
   ]
  },
  {
   "cell_type": "markdown",
   "id": "8b9b4939",
   "metadata": {},
   "source": [
    "### 다양한 열선택 기능을 제공하는 메소드들\n",
    "- `select_dtypes(include=[데이터타입,..], exclude=[데이터타입,..])`\n",
    "    - 전달한 데이터 타입의 열들을 조회. \n",
    "    - include : 조회할 열 데이터 타입\n",
    "    - exclude : 제외하고 조회할 열 데이터 타입\n",
    "- `filter (items=[], like='', regex='')`\n",
    "   - 매개변수에 전달하는 열의 이름에 따라 조회\n",
    "    - 각 매개변수중 하나만 사용할 수 있다.\n",
    "    - items = [ ] \n",
    "        - 리스트와 일치하는 열들 조회\n",
    "        - 이름이 일치 하지 않아도 Error 발생안함.\n",
    "    - like = “ “ \n",
    "        - 전달한 문자열이 들어간 열들 조회\n",
    "        - 부분일치 개념\n",
    "    - regex = “ ”\n",
    "        - 정규 표현식을 이용해 열명의 패턴으로 조회"
   ]
  },
  {
   "cell_type": "markdown",
   "id": "69f8019e",
   "metadata": {},
   "source": [
    "#### select_dtypes"
   ]
  },
  {
   "cell_type": "code",
   "execution_count": 22,
   "id": "3187ad89",
   "metadata": {
    "scrolled": false
   },
   "outputs": [
    {
     "data": {
      "text/html": [
       "<div>\n",
       "<style scoped>\n",
       "    .dataframe tbody tr th:only-of-type {\n",
       "        vertical-align: middle;\n",
       "    }\n",
       "\n",
       "    .dataframe tbody tr th {\n",
       "        vertical-align: top;\n",
       "    }\n",
       "\n",
       "    .dataframe thead th {\n",
       "        text-align: right;\n",
       "    }\n",
       "</style>\n",
       "<table border=\"1\" class=\"dataframe\">\n",
       "  <thead>\n",
       "    <tr style=\"text-align: right;\">\n",
       "      <th></th>\n",
       "      <th>국어</th>\n",
       "      <th>수학</th>\n",
       "      <th>영어</th>\n",
       "      <th>과학</th>\n",
       "      <th>합계</th>\n",
       "      <th>평균</th>\n",
       "    </tr>\n",
       "    <tr>\n",
       "      <th>id</th>\n",
       "      <th></th>\n",
       "      <th></th>\n",
       "      <th></th>\n",
       "      <th></th>\n",
       "      <th></th>\n",
       "      <th></th>\n",
       "    </tr>\n",
       "  </thead>\n",
       "  <tbody>\n",
       "    <tr>\n",
       "      <th>id-1</th>\n",
       "      <td>100</td>\n",
       "      <td>80</td>\n",
       "      <td>50</td>\n",
       "      <td>80</td>\n",
       "      <td>310</td>\n",
       "      <td>77.50</td>\n",
       "    </tr>\n",
       "    <tr>\n",
       "      <th>id-2</th>\n",
       "      <td>50</td>\n",
       "      <td>50</td>\n",
       "      <td>50</td>\n",
       "      <td>90</td>\n",
       "      <td>240</td>\n",
       "      <td>60.00</td>\n",
       "    </tr>\n",
       "    <tr>\n",
       "      <th>id-3</th>\n",
       "      <td>70</td>\n",
       "      <td>90</td>\n",
       "      <td>50</td>\n",
       "      <td>100</td>\n",
       "      <td>310</td>\n",
       "      <td>77.50</td>\n",
       "    </tr>\n",
       "    <tr>\n",
       "      <th>id-4</th>\n",
       "      <td>90</td>\n",
       "      <td>100</td>\n",
       "      <td>50</td>\n",
       "      <td>70</td>\n",
       "      <td>310</td>\n",
       "      <td>77.50</td>\n",
       "    </tr>\n",
       "    <tr>\n",
       "      <th>id-5</th>\n",
       "      <td>85</td>\n",
       "      <td>100</td>\n",
       "      <td>50</td>\n",
       "      <td>56</td>\n",
       "      <td>291</td>\n",
       "      <td>72.75</td>\n",
       "    </tr>\n",
       "  </tbody>\n",
       "</table>\n",
       "</div>"
      ],
      "text/plain": [
       "       국어   수학  영어   과학   합계     평균\n",
       "id                                 \n",
       "id-1  100   80  50   80  310  77.50\n",
       "id-2   50   50  50   90  240  60.00\n",
       "id-3   70   90  50  100  310  77.50\n",
       "id-4   90  100  50   70  310  77.50\n",
       "id-5   85  100  50   56  291  72.75"
      ]
     },
     "execution_count": 22,
     "metadata": {},
     "output_type": "execute_result"
    }
   ],
   "source": [
    "grade.select_dtypes(include=['float64','int64']) # float64, int64 타입의 컬럼만 조회"
   ]
  },
  {
   "cell_type": "code",
   "execution_count": 23,
   "id": "a7989dbc",
   "metadata": {},
   "outputs": [
    {
     "data": {
      "text/html": [
       "<div>\n",
       "<style scoped>\n",
       "    .dataframe tbody tr th:only-of-type {\n",
       "        vertical-align: middle;\n",
       "    }\n",
       "\n",
       "    .dataframe tbody tr th {\n",
       "        vertical-align: top;\n",
       "    }\n",
       "\n",
       "    .dataframe thead th {\n",
       "        text-align: right;\n",
       "    }\n",
       "</style>\n",
       "<table border=\"1\" class=\"dataframe\">\n",
       "  <thead>\n",
       "    <tr style=\"text-align: right;\">\n",
       "      <th></th>\n",
       "      <th>pass</th>\n",
       "      <th>pass2</th>\n",
       "    </tr>\n",
       "    <tr>\n",
       "      <th>id</th>\n",
       "      <th></th>\n",
       "      <th></th>\n",
       "    </tr>\n",
       "  </thead>\n",
       "  <tbody>\n",
       "    <tr>\n",
       "      <th>id-1</th>\n",
       "      <td>True</td>\n",
       "      <td>합격</td>\n",
       "    </tr>\n",
       "    <tr>\n",
       "      <th>id-2</th>\n",
       "      <td>False</td>\n",
       "      <td>불합격</td>\n",
       "    </tr>\n",
       "    <tr>\n",
       "      <th>id-3</th>\n",
       "      <td>True</td>\n",
       "      <td>합격</td>\n",
       "    </tr>\n",
       "    <tr>\n",
       "      <th>id-4</th>\n",
       "      <td>True</td>\n",
       "      <td>합격</td>\n",
       "    </tr>\n",
       "    <tr>\n",
       "      <th>id-5</th>\n",
       "      <td>False</td>\n",
       "      <td>불합격</td>\n",
       "    </tr>\n",
       "  </tbody>\n",
       "</table>\n",
       "</div>"
      ],
      "text/plain": [
       "       pass pass2\n",
       "id               \n",
       "id-1   True    합격\n",
       "id-2  False   불합격\n",
       "id-3   True    합격\n",
       "id-4   True    합격\n",
       "id-5  False   불합격"
      ]
     },
     "execution_count": 23,
     "metadata": {},
     "output_type": "execute_result"
    }
   ],
   "source": [
    "grade.select_dtypes(exclude=['float64','int64']) # float64, int64 타입의 컬럼을 제외 조회"
   ]
  },
  {
   "cell_type": "markdown",
   "id": "e5704582",
   "metadata": {},
   "source": [
    "#### filter(items=[ ])"
   ]
  },
  {
   "cell_type": "code",
   "execution_count": 25,
   "id": "25bdc7bc",
   "metadata": {},
   "outputs": [
    {
     "data": {
      "text/html": [
       "<div>\n",
       "<style scoped>\n",
       "    .dataframe tbody tr th:only-of-type {\n",
       "        vertical-align: middle;\n",
       "    }\n",
       "\n",
       "    .dataframe tbody tr th {\n",
       "        vertical-align: top;\n",
       "    }\n",
       "\n",
       "    .dataframe thead th {\n",
       "        text-align: right;\n",
       "    }\n",
       "</style>\n",
       "<table border=\"1\" class=\"dataframe\">\n",
       "  <thead>\n",
       "    <tr style=\"text-align: right;\">\n",
       "      <th></th>\n",
       "      <th>국어</th>\n",
       "      <th>평균</th>\n",
       "    </tr>\n",
       "    <tr>\n",
       "      <th>id</th>\n",
       "      <th></th>\n",
       "      <th></th>\n",
       "    </tr>\n",
       "  </thead>\n",
       "  <tbody>\n",
       "    <tr>\n",
       "      <th>id-1</th>\n",
       "      <td>100</td>\n",
       "      <td>77.50</td>\n",
       "    </tr>\n",
       "    <tr>\n",
       "      <th>id-2</th>\n",
       "      <td>50</td>\n",
       "      <td>60.00</td>\n",
       "    </tr>\n",
       "    <tr>\n",
       "      <th>id-3</th>\n",
       "      <td>70</td>\n",
       "      <td>77.50</td>\n",
       "    </tr>\n",
       "    <tr>\n",
       "      <th>id-4</th>\n",
       "      <td>90</td>\n",
       "      <td>77.50</td>\n",
       "    </tr>\n",
       "    <tr>\n",
       "      <th>id-5</th>\n",
       "      <td>85</td>\n",
       "      <td>72.75</td>\n",
       "    </tr>\n",
       "  </tbody>\n",
       "</table>\n",
       "</div>"
      ],
      "text/plain": [
       "       국어     평균\n",
       "id              \n",
       "id-1  100  77.50\n",
       "id-2   50  60.00\n",
       "id-3   70  77.50\n",
       "id-4   90  77.50\n",
       "id-5   85  72.75"
      ]
     },
     "execution_count": 25,
     "metadata": {},
     "output_type": "execute_result"
    }
   ],
   "source": [
    "grade.filter(items=['국어', '지리', '평균'])  #없는 컬럼은 제외하고 조회 (exception 발생시키지 않는다.)"
   ]
  },
  {
   "cell_type": "markdown",
   "id": "3265210d",
   "metadata": {},
   "source": [
    "#### filter(like=' ')"
   ]
  },
  {
   "cell_type": "code",
   "execution_count": 24,
   "id": "c6b983bd",
   "metadata": {},
   "outputs": [
    {
     "data": {
      "text/html": [
       "<div>\n",
       "<style scoped>\n",
       "    .dataframe tbody tr th:only-of-type {\n",
       "        vertical-align: middle;\n",
       "    }\n",
       "\n",
       "    .dataframe tbody tr th {\n",
       "        vertical-align: top;\n",
       "    }\n",
       "\n",
       "    .dataframe thead th {\n",
       "        text-align: right;\n",
       "    }\n",
       "</style>\n",
       "<table border=\"1\" class=\"dataframe\">\n",
       "  <thead>\n",
       "    <tr style=\"text-align: right;\">\n",
       "      <th></th>\n",
       "      <th>국어</th>\n",
       "    </tr>\n",
       "    <tr>\n",
       "      <th>id</th>\n",
       "      <th></th>\n",
       "    </tr>\n",
       "  </thead>\n",
       "  <tbody>\n",
       "    <tr>\n",
       "      <th>id-1</th>\n",
       "      <td>100</td>\n",
       "    </tr>\n",
       "    <tr>\n",
       "      <th>id-2</th>\n",
       "      <td>50</td>\n",
       "    </tr>\n",
       "    <tr>\n",
       "      <th>id-3</th>\n",
       "      <td>70</td>\n",
       "    </tr>\n",
       "    <tr>\n",
       "      <th>id-4</th>\n",
       "      <td>90</td>\n",
       "    </tr>\n",
       "    <tr>\n",
       "      <th>id-5</th>\n",
       "      <td>85</td>\n",
       "    </tr>\n",
       "  </tbody>\n",
       "</table>\n",
       "</div>"
      ],
      "text/plain": [
       "       국어\n",
       "id       \n",
       "id-1  100\n",
       "id-2   50\n",
       "id-3   70\n",
       "id-4   90\n",
       "id-5   85"
      ]
     },
     "execution_count": 24,
     "metadata": {},
     "output_type": "execute_result"
    }
   ],
   "source": [
    "grade.filter(like='국어') # 컬럼명에 '국어'가 들어가는 컬럼들을 모두 조회"
   ]
  },
  {
   "cell_type": "markdown",
   "id": "649ab212",
   "metadata": {},
   "source": [
    "#### filter(regex=' ')"
   ]
  },
  {
   "cell_type": "code",
   "execution_count": 26,
   "id": "0ee47c4f",
   "metadata": {},
   "outputs": [
    {
     "data": {
      "text/html": [
       "<div>\n",
       "<style scoped>\n",
       "    .dataframe tbody tr th:only-of-type {\n",
       "        vertical-align: middle;\n",
       "    }\n",
       "\n",
       "    .dataframe tbody tr th {\n",
       "        vertical-align: top;\n",
       "    }\n",
       "\n",
       "    .dataframe thead th {\n",
       "        text-align: right;\n",
       "    }\n",
       "</style>\n",
       "<table border=\"1\" class=\"dataframe\">\n",
       "  <thead>\n",
       "    <tr style=\"text-align: right;\">\n",
       "      <th></th>\n",
       "    </tr>\n",
       "    <tr>\n",
       "      <th>id</th>\n",
       "    </tr>\n",
       "  </thead>\n",
       "  <tbody>\n",
       "    <tr>\n",
       "      <th>id-1</th>\n",
       "    </tr>\n",
       "    <tr>\n",
       "      <th>id-2</th>\n",
       "    </tr>\n",
       "    <tr>\n",
       "      <th>id-3</th>\n",
       "    </tr>\n",
       "    <tr>\n",
       "      <th>id-4</th>\n",
       "    </tr>\n",
       "    <tr>\n",
       "      <th>id-5</th>\n",
       "    </tr>\n",
       "  </tbody>\n",
       "</table>\n",
       "</div>"
      ],
      "text/plain": [
       "Empty DataFrame\n",
       "Columns: []\n",
       "Index: [id-1, id-2, id-3, id-4, id-5]"
      ]
     },
     "execution_count": 26,
     "metadata": {},
     "output_type": "execute_result"
    }
   ],
   "source": [
    "grade.filter(regex=r\"\\w+II$\")   #II로 끝나는 컬럼을 조회"
   ]
  },
  {
   "cell_type": "markdown",
   "id": "e5024b3e",
   "metadata": {},
   "source": [
    "## 행 조회\n",
    "\n",
    "- **loc** :  index 이름으로 조회\n",
    "- **iloc** : 행 순번으로 조회\n",
    "### loc : 행 이름으로 조회\n",
    "- `DF.loc[ index이름 ]`\n",
    "    - 한 행 조회.\n",
    "    - 조회할 행 index 이름(레이블) 전달\n",
    "    - 이름이 문자열이면 \" \" 문자열표기법으로 전달. 정수이며 정수표기법으로 전달한다.\n",
    "- `DF.loc[ index이름 리스트 ]`\n",
    "    - 여러 행 조회. \n",
    "    - 팬시 인덱스\n",
    "    - 조회할 행 index 이름(레이블) 리스트 전달\n",
    "- `DF.loc[start index이름 : end index이름: step]`\n",
    "    - 슬라이싱 지원\n",
    "    - end index 이름의 행까지 포함한다.\n",
    "- `DF.loc[index이름 , 컬럼이름]`\n",
    "    - 행과 열 조회\n",
    "    - 둘다 이름으로 지정해야 함."
   ]
  },
  {
   "cell_type": "markdown",
   "id": "337be252",
   "metadata": {},
   "source": [
    "#### loc"
   ]
  },
  {
   "cell_type": "code",
   "execution_count": 27,
   "id": "b216cc7f",
   "metadata": {},
   "outputs": [
    {
     "data": {
      "text/plain": [
       "국어         70\n",
       "수학         90\n",
       "영어         50\n",
       "과학        100\n",
       "합계        310\n",
       "평균       77.5\n",
       "pass     True\n",
       "pass2      합격\n",
       "Name: id-3, dtype: object"
      ]
     },
     "execution_count": 27,
     "metadata": {},
     "output_type": "execute_result"
    }
   ],
   "source": [
    "# id-3 행을 조회 - 한행조회 - Series로 반환 (index명: 컬럼명)\n",
    "grade.loc['id-3']"
   ]
  },
  {
   "cell_type": "code",
   "execution_count": 28,
   "id": "b7342118",
   "metadata": {},
   "outputs": [
    {
     "data": {
      "text/html": [
       "<div>\n",
       "<style scoped>\n",
       "    .dataframe tbody tr th:only-of-type {\n",
       "        vertical-align: middle;\n",
       "    }\n",
       "\n",
       "    .dataframe tbody tr th {\n",
       "        vertical-align: top;\n",
       "    }\n",
       "\n",
       "    .dataframe thead th {\n",
       "        text-align: right;\n",
       "    }\n",
       "</style>\n",
       "<table border=\"1\" class=\"dataframe\">\n",
       "  <thead>\n",
       "    <tr style=\"text-align: right;\">\n",
       "      <th></th>\n",
       "      <th>국어</th>\n",
       "      <th>수학</th>\n",
       "      <th>영어</th>\n",
       "      <th>과학</th>\n",
       "      <th>합계</th>\n",
       "      <th>평균</th>\n",
       "      <th>pass</th>\n",
       "      <th>pass2</th>\n",
       "    </tr>\n",
       "    <tr>\n",
       "      <th>id</th>\n",
       "      <th></th>\n",
       "      <th></th>\n",
       "      <th></th>\n",
       "      <th></th>\n",
       "      <th></th>\n",
       "      <th></th>\n",
       "      <th></th>\n",
       "      <th></th>\n",
       "    </tr>\n",
       "  </thead>\n",
       "  <tbody>\n",
       "    <tr>\n",
       "      <th>id-3</th>\n",
       "      <td>70</td>\n",
       "      <td>90</td>\n",
       "      <td>50</td>\n",
       "      <td>100</td>\n",
       "      <td>310</td>\n",
       "      <td>77.50</td>\n",
       "      <td>True</td>\n",
       "      <td>합격</td>\n",
       "    </tr>\n",
       "    <tr>\n",
       "      <th>id-5</th>\n",
       "      <td>85</td>\n",
       "      <td>100</td>\n",
       "      <td>50</td>\n",
       "      <td>56</td>\n",
       "      <td>291</td>\n",
       "      <td>72.75</td>\n",
       "      <td>False</td>\n",
       "      <td>불합격</td>\n",
       "    </tr>\n",
       "  </tbody>\n",
       "</table>\n",
       "</div>"
      ],
      "text/plain": [
       "      국어   수학  영어   과학   합계     평균   pass pass2\n",
       "id                                             \n",
       "id-3  70   90  50  100  310  77.50   True    합격\n",
       "id-5  85  100  50   56  291  72.75  False   불합격"
      ]
     },
     "execution_count": 28,
     "metadata": {},
     "output_type": "execute_result"
    }
   ],
   "source": [
    "# id-3, id-5 - 여러행 조회 - DataFrame으로 반환\n",
    "result = grade.loc[['id-3', 'id-5']]\n",
    "result"
   ]
  },
  {
   "cell_type": "code",
   "execution_count": 29,
   "id": "23331694",
   "metadata": {},
   "outputs": [
    {
     "data": {
      "text/html": [
       "<div>\n",
       "<style scoped>\n",
       "    .dataframe tbody tr th:only-of-type {\n",
       "        vertical-align: middle;\n",
       "    }\n",
       "\n",
       "    .dataframe tbody tr th {\n",
       "        vertical-align: top;\n",
       "    }\n",
       "\n",
       "    .dataframe thead th {\n",
       "        text-align: right;\n",
       "    }\n",
       "</style>\n",
       "<table border=\"1\" class=\"dataframe\">\n",
       "  <thead>\n",
       "    <tr style=\"text-align: right;\">\n",
       "      <th></th>\n",
       "      <th>국어</th>\n",
       "      <th>수학</th>\n",
       "      <th>영어</th>\n",
       "      <th>과학</th>\n",
       "      <th>합계</th>\n",
       "      <th>평균</th>\n",
       "      <th>pass</th>\n",
       "      <th>pass2</th>\n",
       "    </tr>\n",
       "    <tr>\n",
       "      <th>id</th>\n",
       "      <th></th>\n",
       "      <th></th>\n",
       "      <th></th>\n",
       "      <th></th>\n",
       "      <th></th>\n",
       "      <th></th>\n",
       "      <th></th>\n",
       "      <th></th>\n",
       "    </tr>\n",
       "  </thead>\n",
       "  <tbody>\n",
       "    <tr>\n",
       "      <th>id-2</th>\n",
       "      <td>50</td>\n",
       "      <td>50</td>\n",
       "      <td>50</td>\n",
       "      <td>90</td>\n",
       "      <td>240</td>\n",
       "      <td>60.0</td>\n",
       "      <td>False</td>\n",
       "      <td>불합격</td>\n",
       "    </tr>\n",
       "    <tr>\n",
       "      <th>id-3</th>\n",
       "      <td>70</td>\n",
       "      <td>90</td>\n",
       "      <td>50</td>\n",
       "      <td>100</td>\n",
       "      <td>310</td>\n",
       "      <td>77.5</td>\n",
       "      <td>True</td>\n",
       "      <td>합격</td>\n",
       "    </tr>\n",
       "    <tr>\n",
       "      <th>id-4</th>\n",
       "      <td>90</td>\n",
       "      <td>100</td>\n",
       "      <td>50</td>\n",
       "      <td>70</td>\n",
       "      <td>310</td>\n",
       "      <td>77.5</td>\n",
       "      <td>True</td>\n",
       "      <td>합격</td>\n",
       "    </tr>\n",
       "  </tbody>\n",
       "</table>\n",
       "</div>"
      ],
      "text/plain": [
       "      국어   수학  영어   과학   합계    평균   pass pass2\n",
       "id                                            \n",
       "id-2  50   50  50   90  240  60.0  False   불합격\n",
       "id-3  70   90  50  100  310  77.5   True    합격\n",
       "id-4  90  100  50   70  310  77.5   True    합격"
      ]
     },
     "execution_count": 29,
     "metadata": {},
     "output_type": "execute_result"
    }
   ],
   "source": [
    "# slicing : loc indexer 는 end index가 포함\n",
    "grade.loc['id-2':'id-4']"
   ]
  },
  {
   "cell_type": "markdown",
   "id": "5576a795",
   "metadata": {},
   "source": [
    "#### df.loc[ 행  ,  열 ]"
   ]
  },
  {
   "cell_type": "code",
   "execution_count": 31,
   "id": "56cee21b",
   "metadata": {},
   "outputs": [
    {
     "data": {
      "text/plain": [
       "수학    100\n",
       "과학     70\n",
       "Name: id-4, dtype: object"
      ]
     },
     "execution_count": 31,
     "metadata": {},
     "output_type": "execute_result"
    }
   ],
   "source": [
    "grade.loc['id-4', ['수학', '과학']]"
   ]
  },
  {
   "cell_type": "code",
   "execution_count": 32,
   "id": "a9718a13",
   "metadata": {},
   "outputs": [
    {
     "data": {
      "text/plain": [
       "국어    50\n",
       "수학    50\n",
       "영어    50\n",
       "과학    90\n",
       "Name: id-2, dtype: object"
      ]
     },
     "execution_count": 32,
     "metadata": {},
     "output_type": "execute_result"
    }
   ],
   "source": [
    "grade.loc['id-2', '국어':'과학'] # 행, 열을 loc으로 같이 조회할 경우 열에 slicing을 할 수있다."
   ]
  },
  {
   "cell_type": "markdown",
   "id": "34c7f0ba",
   "metadata": {},
   "source": [
    "### iloc : 행 순번으로 조회\n",
    "- `DF.iloc[행번호]`\n",
    "    - 한 행 조회.\n",
    "    - 조회할 행 번호 전달\n",
    "- `DF.iloc[ 행번호 리스트 ]`\n",
    "    - 여러 행 조회.\n",
    "    - 조회할 행 번호 리스트 전달\n",
    "- `DF.iloc[start 행번호: stop 행번호: step]`\n",
    "    - 슬라이싱 지원\n",
    "    - stop 행번호 포함 안함.\n",
    "- `DF.loc[행번호 , 열번호]`  \n",
    "    - 행과 열 조회\n",
    "    - 행열 모두 순번으로 지정"
   ]
  },
  {
   "cell_type": "markdown",
   "id": "1ced36b3",
   "metadata": {},
   "source": [
    "#### iloc"
   ]
  },
  {
   "cell_type": "code",
   "execution_count": 33,
   "id": "4cd45f4a",
   "metadata": {},
   "outputs": [
    {
     "data": {
      "text/plain": [
       "국어        100\n",
       "수학         80\n",
       "영어         50\n",
       "과학         80\n",
       "합계        310\n",
       "평균       77.5\n",
       "pass     True\n",
       "pass2      합격\n",
       "Name: id-1, dtype: object"
      ]
     },
     "execution_count": 33,
     "metadata": {},
     "output_type": "execute_result"
    }
   ],
   "source": [
    "# 0번 행을 조회\n",
    "grade.iloc[0]"
   ]
  },
  {
   "cell_type": "code",
   "execution_count": 34,
   "id": "6dee3691",
   "metadata": {},
   "outputs": [
    {
     "data": {
      "text/html": [
       "<div>\n",
       "<style scoped>\n",
       "    .dataframe tbody tr th:only-of-type {\n",
       "        vertical-align: middle;\n",
       "    }\n",
       "\n",
       "    .dataframe tbody tr th {\n",
       "        vertical-align: top;\n",
       "    }\n",
       "\n",
       "    .dataframe thead th {\n",
       "        text-align: right;\n",
       "    }\n",
       "</style>\n",
       "<table border=\"1\" class=\"dataframe\">\n",
       "  <thead>\n",
       "    <tr style=\"text-align: right;\">\n",
       "      <th></th>\n",
       "      <th>국어</th>\n",
       "      <th>수학</th>\n",
       "      <th>영어</th>\n",
       "      <th>과학</th>\n",
       "      <th>합계</th>\n",
       "      <th>평균</th>\n",
       "      <th>pass</th>\n",
       "      <th>pass2</th>\n",
       "    </tr>\n",
       "    <tr>\n",
       "      <th>id</th>\n",
       "      <th></th>\n",
       "      <th></th>\n",
       "      <th></th>\n",
       "      <th></th>\n",
       "      <th></th>\n",
       "      <th></th>\n",
       "      <th></th>\n",
       "      <th></th>\n",
       "    </tr>\n",
       "  </thead>\n",
       "  <tbody>\n",
       "    <tr>\n",
       "      <th>id-2</th>\n",
       "      <td>50</td>\n",
       "      <td>50</td>\n",
       "      <td>50</td>\n",
       "      <td>90</td>\n",
       "      <td>240</td>\n",
       "      <td>60.0</td>\n",
       "      <td>False</td>\n",
       "      <td>불합격</td>\n",
       "    </tr>\n",
       "    <tr>\n",
       "      <th>id-3</th>\n",
       "      <td>70</td>\n",
       "      <td>90</td>\n",
       "      <td>50</td>\n",
       "      <td>100</td>\n",
       "      <td>310</td>\n",
       "      <td>77.5</td>\n",
       "      <td>True</td>\n",
       "      <td>합격</td>\n",
       "    </tr>\n",
       "    <tr>\n",
       "      <th>id-4</th>\n",
       "      <td>90</td>\n",
       "      <td>100</td>\n",
       "      <td>50</td>\n",
       "      <td>70</td>\n",
       "      <td>310</td>\n",
       "      <td>77.5</td>\n",
       "      <td>True</td>\n",
       "      <td>합격</td>\n",
       "    </tr>\n",
       "  </tbody>\n",
       "</table>\n",
       "</div>"
      ],
      "text/plain": [
       "      국어   수학  영어   과학   합계    평균   pass pass2\n",
       "id                                            \n",
       "id-2  50   50  50   90  240  60.0  False   불합격\n",
       "id-3  70   90  50  100  310  77.5   True    합격\n",
       "id-4  90  100  50   70  310  77.5   True    합격"
      ]
     },
     "execution_count": 34,
     "metadata": {},
     "output_type": "execute_result"
    }
   ],
   "source": [
    "# slicing - iloc indexer의 경우 end index는 포함하지 않는다.\n",
    "grade.iloc[1:4]"
   ]
  },
  {
   "cell_type": "code",
   "execution_count": 35,
   "id": "fbd171ee",
   "metadata": {},
   "outputs": [
    {
     "data": {
      "text/plain": [
       "90"
      ]
     },
     "execution_count": 35,
     "metadata": {},
     "output_type": "execute_result"
    }
   ],
   "source": [
    "# 행, 열 지정해서 조회\n",
    "# 행, 열 모두 순번으로 지정(이름을 주면 안된다.)\n",
    "# id-2 의 과학점수?\n",
    "grade.iloc[1, 3] # 1번행의 3번컬럼"
   ]
  },
  {
   "cell_type": "markdown",
   "id": "e4bb7146",
   "metadata": {},
   "source": [
    "## Boolean indexing을 이용한 조회\n",
    "- 행, 열에 조건식을 이용해 원하는 조건의 행이나 열을 조회\n",
    "- 다중 조건의 경우 ( )로 묶는다.\n",
    "- 논리연산자\n",
    "    - &, |, ~\n",
    "\n",
    "- DataFrame객체[조건], DataFrame객체.loc[조건]\n",
    "    - 조건이 True인 행만 조회\n",
    "    - 열까지 선택시\n",
    "        - DataFrame객체[조건][열]\n",
    "        - DataFrame객체.loc[조건, 열]\n",
    "- **iloc[]**은 boolean indexing을 **지원하지 않는다.**"
   ]
  },
  {
   "cell_type": "code",
   "execution_count": 36,
   "id": "ef2b3751",
   "metadata": {},
   "outputs": [
    {
     "data": {
      "text/html": [
       "<div>\n",
       "<style scoped>\n",
       "    .dataframe tbody tr th:only-of-type {\n",
       "        vertical-align: middle;\n",
       "    }\n",
       "\n",
       "    .dataframe tbody tr th {\n",
       "        vertical-align: top;\n",
       "    }\n",
       "\n",
       "    .dataframe thead th {\n",
       "        text-align: right;\n",
       "    }\n",
       "</style>\n",
       "<table border=\"1\" class=\"dataframe\">\n",
       "  <thead>\n",
       "    <tr style=\"text-align: right;\">\n",
       "      <th></th>\n",
       "      <th>국어</th>\n",
       "      <th>수학</th>\n",
       "      <th>영어</th>\n",
       "      <th>과학</th>\n",
       "      <th>합계</th>\n",
       "      <th>평균</th>\n",
       "      <th>pass</th>\n",
       "      <th>pass2</th>\n",
       "    </tr>\n",
       "    <tr>\n",
       "      <th>id</th>\n",
       "      <th></th>\n",
       "      <th></th>\n",
       "      <th></th>\n",
       "      <th></th>\n",
       "      <th></th>\n",
       "      <th></th>\n",
       "      <th></th>\n",
       "      <th></th>\n",
       "    </tr>\n",
       "  </thead>\n",
       "  <tbody>\n",
       "    <tr>\n",
       "      <th>id-1</th>\n",
       "      <td>100</td>\n",
       "      <td>80</td>\n",
       "      <td>50</td>\n",
       "      <td>80</td>\n",
       "      <td>310</td>\n",
       "      <td>77.50</td>\n",
       "      <td>True</td>\n",
       "      <td>합격</td>\n",
       "    </tr>\n",
       "    <tr>\n",
       "      <th>id-3</th>\n",
       "      <td>70</td>\n",
       "      <td>90</td>\n",
       "      <td>50</td>\n",
       "      <td>100</td>\n",
       "      <td>310</td>\n",
       "      <td>77.50</td>\n",
       "      <td>True</td>\n",
       "      <td>합격</td>\n",
       "    </tr>\n",
       "    <tr>\n",
       "      <th>id-4</th>\n",
       "      <td>90</td>\n",
       "      <td>100</td>\n",
       "      <td>50</td>\n",
       "      <td>70</td>\n",
       "      <td>310</td>\n",
       "      <td>77.50</td>\n",
       "      <td>True</td>\n",
       "      <td>합격</td>\n",
       "    </tr>\n",
       "    <tr>\n",
       "      <th>id-5</th>\n",
       "      <td>85</td>\n",
       "      <td>100</td>\n",
       "      <td>50</td>\n",
       "      <td>56</td>\n",
       "      <td>291</td>\n",
       "      <td>72.75</td>\n",
       "      <td>False</td>\n",
       "      <td>불합격</td>\n",
       "    </tr>\n",
       "  </tbody>\n",
       "</table>\n",
       "</div>"
      ],
      "text/plain": [
       "       국어   수학  영어   과학   합계     평균   pass pass2\n",
       "id                                              \n",
       "id-1  100   80  50   80  310  77.50   True    합격\n",
       "id-3   70   90  50  100  310  77.50   True    합격\n",
       "id-4   90  100  50   70  310  77.50   True    합격\n",
       "id-5   85  100  50   56  291  72.75  False   불합격"
      ]
     },
     "execution_count": 36,
     "metadata": {},
     "output_type": "execute_result"
    }
   ],
   "source": [
    "# 국어점수가 70점 이상인 행\n",
    "grade[grade['국어'] >= 70]   # True 인 행을 조회"
   ]
  },
  {
   "cell_type": "code",
   "execution_count": 37,
   "id": "80d8a57c",
   "metadata": {
    "scrolled": true
   },
   "outputs": [
    {
     "data": {
      "text/html": [
       "<div>\n",
       "<style scoped>\n",
       "    .dataframe tbody tr th:only-of-type {\n",
       "        vertical-align: middle;\n",
       "    }\n",
       "\n",
       "    .dataframe tbody tr th {\n",
       "        vertical-align: top;\n",
       "    }\n",
       "\n",
       "    .dataframe thead th {\n",
       "        text-align: right;\n",
       "    }\n",
       "</style>\n",
       "<table border=\"1\" class=\"dataframe\">\n",
       "  <thead>\n",
       "    <tr style=\"text-align: right;\">\n",
       "      <th></th>\n",
       "      <th>국어</th>\n",
       "      <th>평균</th>\n",
       "    </tr>\n",
       "    <tr>\n",
       "      <th>id</th>\n",
       "      <th></th>\n",
       "      <th></th>\n",
       "    </tr>\n",
       "  </thead>\n",
       "  <tbody>\n",
       "    <tr>\n",
       "      <th>id-1</th>\n",
       "      <td>100</td>\n",
       "      <td>77.50</td>\n",
       "    </tr>\n",
       "    <tr>\n",
       "      <th>id-3</th>\n",
       "      <td>70</td>\n",
       "      <td>77.50</td>\n",
       "    </tr>\n",
       "    <tr>\n",
       "      <th>id-4</th>\n",
       "      <td>90</td>\n",
       "      <td>77.50</td>\n",
       "    </tr>\n",
       "    <tr>\n",
       "      <th>id-5</th>\n",
       "      <td>85</td>\n",
       "      <td>72.75</td>\n",
       "    </tr>\n",
       "  </tbody>\n",
       "</table>\n",
       "</div>"
      ],
      "text/plain": [
       "       국어     평균\n",
       "id              \n",
       "id-1  100  77.50\n",
       "id-3   70  77.50\n",
       "id-4   90  77.50\n",
       "id-5   85  72.75"
      ]
     },
     "execution_count": 37,
     "metadata": {},
     "output_type": "execute_result"
    }
   ],
   "source": [
    "# 국어점수가 70점 이상인 행의 '국어', '평균'\n",
    "grade[grade['국어'] >= 70][['국어', '평균']]"
   ]
  },
  {
   "cell_type": "markdown",
   "id": "5e4e5893",
   "metadata": {},
   "source": [
    "#### & (AND)"
   ]
  },
  {
   "cell_type": "code",
   "execution_count": 38,
   "id": "66599ba3",
   "metadata": {},
   "outputs": [
    {
     "data": {
      "text/html": [
       "<div>\n",
       "<style scoped>\n",
       "    .dataframe tbody tr th:only-of-type {\n",
       "        vertical-align: middle;\n",
       "    }\n",
       "\n",
       "    .dataframe tbody tr th {\n",
       "        vertical-align: top;\n",
       "    }\n",
       "\n",
       "    .dataframe thead th {\n",
       "        text-align: right;\n",
       "    }\n",
       "</style>\n",
       "<table border=\"1\" class=\"dataframe\">\n",
       "  <thead>\n",
       "    <tr style=\"text-align: right;\">\n",
       "      <th></th>\n",
       "      <th>국어</th>\n",
       "      <th>수학</th>\n",
       "      <th>영어</th>\n",
       "      <th>과학</th>\n",
       "      <th>합계</th>\n",
       "      <th>평균</th>\n",
       "      <th>pass</th>\n",
       "      <th>pass2</th>\n",
       "    </tr>\n",
       "    <tr>\n",
       "      <th>id</th>\n",
       "      <th></th>\n",
       "      <th></th>\n",
       "      <th></th>\n",
       "      <th></th>\n",
       "      <th></th>\n",
       "      <th></th>\n",
       "      <th></th>\n",
       "      <th></th>\n",
       "    </tr>\n",
       "  </thead>\n",
       "  <tbody>\n",
       "    <tr>\n",
       "      <th>id-4</th>\n",
       "      <td>90</td>\n",
       "      <td>100</td>\n",
       "      <td>50</td>\n",
       "      <td>70</td>\n",
       "      <td>310</td>\n",
       "      <td>77.5</td>\n",
       "      <td>True</td>\n",
       "      <td>합격</td>\n",
       "    </tr>\n",
       "  </tbody>\n",
       "</table>\n",
       "</div>"
      ],
      "text/plain": [
       "      국어   수학  영어  과학   합계    평균  pass pass2\n",
       "id                                          \n",
       "id-4  90  100  50  70  310  77.5  True    합격"
      ]
     },
     "execution_count": 38,
     "metadata": {},
     "output_type": "execute_result"
    }
   ],
   "source": [
    "# 수학 100점이고 과학은 60점 이상 (둘다 True 행을 조회 => and)\n",
    "grade[(grade['수학'] == 100) & (grade['과학'] >= 60)]"
   ]
  },
  {
   "cell_type": "markdown",
   "id": "f7348c28",
   "metadata": {},
   "source": [
    "#### | (OR)"
   ]
  },
  {
   "cell_type": "code",
   "execution_count": 39,
   "id": "2df7c73a",
   "metadata": {},
   "outputs": [
    {
     "data": {
      "text/html": [
       "<div>\n",
       "<style scoped>\n",
       "    .dataframe tbody tr th:only-of-type {\n",
       "        vertical-align: middle;\n",
       "    }\n",
       "\n",
       "    .dataframe tbody tr th {\n",
       "        vertical-align: top;\n",
       "    }\n",
       "\n",
       "    .dataframe thead th {\n",
       "        text-align: right;\n",
       "    }\n",
       "</style>\n",
       "<table border=\"1\" class=\"dataframe\">\n",
       "  <thead>\n",
       "    <tr style=\"text-align: right;\">\n",
       "      <th></th>\n",
       "      <th>국어</th>\n",
       "      <th>수학</th>\n",
       "      <th>영어</th>\n",
       "      <th>과학</th>\n",
       "      <th>합계</th>\n",
       "      <th>평균</th>\n",
       "      <th>pass</th>\n",
       "      <th>pass2</th>\n",
       "    </tr>\n",
       "    <tr>\n",
       "      <th>id</th>\n",
       "      <th></th>\n",
       "      <th></th>\n",
       "      <th></th>\n",
       "      <th></th>\n",
       "      <th></th>\n",
       "      <th></th>\n",
       "      <th></th>\n",
       "      <th></th>\n",
       "    </tr>\n",
       "  </thead>\n",
       "  <tbody>\n",
       "    <tr>\n",
       "      <th>id-2</th>\n",
       "      <td>50</td>\n",
       "      <td>50</td>\n",
       "      <td>50</td>\n",
       "      <td>90</td>\n",
       "      <td>240</td>\n",
       "      <td>60.00</td>\n",
       "      <td>False</td>\n",
       "      <td>불합격</td>\n",
       "    </tr>\n",
       "    <tr>\n",
       "      <th>id-4</th>\n",
       "      <td>90</td>\n",
       "      <td>100</td>\n",
       "      <td>50</td>\n",
       "      <td>70</td>\n",
       "      <td>310</td>\n",
       "      <td>77.50</td>\n",
       "      <td>True</td>\n",
       "      <td>합격</td>\n",
       "    </tr>\n",
       "    <tr>\n",
       "      <th>id-5</th>\n",
       "      <td>85</td>\n",
       "      <td>100</td>\n",
       "      <td>50</td>\n",
       "      <td>56</td>\n",
       "      <td>291</td>\n",
       "      <td>72.75</td>\n",
       "      <td>False</td>\n",
       "      <td>불합격</td>\n",
       "    </tr>\n",
       "  </tbody>\n",
       "</table>\n",
       "</div>"
      ],
      "text/plain": [
       "      국어   수학  영어  과학   합계     평균   pass pass2\n",
       "id                                            \n",
       "id-2  50   50  50  90  240  60.00  False   불합격\n",
       "id-4  90  100  50  70  310  77.50   True    합격\n",
       "id-5  85  100  50  56  291  72.75  False   불합격"
      ]
     },
     "execution_count": 39,
     "metadata": {},
     "output_type": "execute_result"
    }
   ],
   "source": [
    "# 수학이 100점 또는 pass2 불합격(pass=False) (둘중에 하나이상이 True) \n",
    "grade.loc[(grade['수학'] == 100)  | (grade['pass2'] == '불합격')]"
   ]
  },
  {
   "cell_type": "markdown",
   "id": "87dab615",
   "metadata": {},
   "source": [
    "#### ~ (not)"
   ]
  },
  {
   "cell_type": "code",
   "execution_count": 40,
   "id": "ad8ce080",
   "metadata": {},
   "outputs": [
    {
     "data": {
      "text/plain": [
       "id\n",
       "id-1    80\n",
       "id-2    50\n",
       "id-3    90\n",
       "Name: 수학, dtype: int64"
      ]
     },
     "execution_count": 40,
     "metadata": {},
     "output_type": "execute_result"
    }
   ],
   "source": [
    "# 수학이 100점이 아닌 행\n",
    "grade.loc[~(grade['수학'] == 100), '수학']"
   ]
  },
  {
   "cell_type": "markdown",
   "id": "edb4aaed",
   "metadata": {},
   "source": [
    "## query() 를 이용한 boolean indexing\n",
    "- query(조회조건)\n",
    "    - sql의 where 절의 조건 처럼 문자열의 query statement를 이용해 조건으로 조회\n",
    "    - boolean index에 비해 \n",
    "        - 장점: 편의성(문자열로 query statement를 만들므로 동적 구문 생성등 다양한 처리가 가능)과 가독성이 좋다.\n",
    "        - 단점: 속도가 느리다.\n",
    "- 조회조건 구문\n",
    "    - `\"컬럼명 연산자 비교값\"`\n",
    "- 외부변수를 이용해 query문의 비교값을 지정할 수 있다.\n",
    "    - query 문자열 안에서 @변수명 사용\n",
    "    - f string이나 format() 함수를 이용해 query를 만든다.\n",
    "\n",
    "### 연산자 \n",
    "- **비교 연산자**\n",
    "    - ==, \\>, \\>=, \\<, \\<=, !=\n",
    "- **결측치 비교**\n",
    "    - 컬럼.isna(), isnull()\n",
    "    - 컬럼.notna(), notnull()       \n",
    "- **논리 연산자**\n",
    "    - and(&), or(|), not(~)\n",
    "- **in 연산자**\n",
    "    - in, ==\n",
    "    - not in, !=\n",
    "    - 비교 대상값은 리스트에 넣는다.\n",
    "- **Index name으로 검색**\n",
    "    - 행 이름으로 검색\n",
    "- **문자열 부분검색(sql의 like)**\n",
    "    - 컬럼명.str.contains(문자열): 문자열을 포함하고 있는 \n",
    "    - 컬럼명.str.startswith(문자열): 문자열로 시작하는\n",
    "    - 컬럼명.str.endswith(문자열): 문자열로 끝나는\n",
    "    - **문자열 부분검색을 할 컬럼에 결측치(NaN)이 있으면 안된다.**\n"
   ]
  },
  {
   "cell_type": "code",
   "execution_count": 41,
   "id": "4ffbe73e",
   "metadata": {},
   "outputs": [
    {
     "data": {
      "text/html": [
       "<div>\n",
       "<style scoped>\n",
       "    .dataframe tbody tr th:only-of-type {\n",
       "        vertical-align: middle;\n",
       "    }\n",
       "\n",
       "    .dataframe tbody tr th {\n",
       "        vertical-align: top;\n",
       "    }\n",
       "\n",
       "    .dataframe thead th {\n",
       "        text-align: right;\n",
       "    }\n",
       "</style>\n",
       "<table border=\"1\" class=\"dataframe\">\n",
       "  <thead>\n",
       "    <tr style=\"text-align: right;\">\n",
       "      <th></th>\n",
       "      <th>name</th>\n",
       "      <th>age</th>\n",
       "      <th>tall</th>\n",
       "    </tr>\n",
       "  </thead>\n",
       "  <tbody>\n",
       "    <tr>\n",
       "      <th>0</th>\n",
       "      <td>김영수</td>\n",
       "      <td>23</td>\n",
       "      <td>182.3</td>\n",
       "    </tr>\n",
       "    <tr>\n",
       "      <th>1</th>\n",
       "      <td>박영희</td>\n",
       "      <td>17</td>\n",
       "      <td>178.2</td>\n",
       "    </tr>\n",
       "    <tr>\n",
       "      <th>2</th>\n",
       "      <td>홍길동</td>\n",
       "      <td>31</td>\n",
       "      <td>162.3</td>\n",
       "    </tr>\n",
       "    <tr>\n",
       "      <th>3</th>\n",
       "      <td>김영수</td>\n",
       "      <td>28</td>\n",
       "      <td>NaN</td>\n",
       "    </tr>\n",
       "    <tr>\n",
       "      <th>4</th>\n",
       "      <td>이순신</td>\n",
       "      <td>40</td>\n",
       "      <td>201.2</td>\n",
       "    </tr>\n",
       "    <tr>\n",
       "      <th>5</th>\n",
       "      <td>박영희</td>\n",
       "      <td>35</td>\n",
       "      <td>171.2</td>\n",
       "    </tr>\n",
       "    <tr>\n",
       "      <th>6</th>\n",
       "      <td>강감찬</td>\n",
       "      <td>27</td>\n",
       "      <td>169.3</td>\n",
       "    </tr>\n",
       "  </tbody>\n",
       "</table>\n",
       "</div>"
      ],
      "text/plain": [
       "  name  age   tall\n",
       "0  김영수   23  182.3\n",
       "1  박영희   17  178.2\n",
       "2  홍길동   31  162.3\n",
       "3  김영수   28    NaN\n",
       "4  이순신   40  201.2\n",
       "5  박영희   35  171.2\n",
       "6  강감찬   27  169.3"
      ]
     },
     "execution_count": 41,
     "metadata": {},
     "output_type": "execute_result"
    }
   ],
   "source": [
    "data_dict={\n",
    "    'name':['김영수','박영희','홍길동','김영수','이순신','박영희','강감찬'],\n",
    "    'age': [23,17,31,28,40,35,27],\n",
    "    'tall':[182.3,178.2,162.3,None,201.2,171.2,169.3]\n",
    "}\n",
    "df = pd.DataFrame(data_dict)\n",
    "df"
   ]
  },
  {
   "cell_type": "markdown",
   "id": "26e00e1c",
   "metadata": {},
   "source": [
    "#### 비교연산"
   ]
  },
  {
   "cell_type": "code",
   "execution_count": 42,
   "id": "84816263",
   "metadata": {},
   "outputs": [
    {
     "data": {
      "text/html": [
       "<div>\n",
       "<style scoped>\n",
       "    .dataframe tbody tr th:only-of-type {\n",
       "        vertical-align: middle;\n",
       "    }\n",
       "\n",
       "    .dataframe tbody tr th {\n",
       "        vertical-align: top;\n",
       "    }\n",
       "\n",
       "    .dataframe thead th {\n",
       "        text-align: right;\n",
       "    }\n",
       "</style>\n",
       "<table border=\"1\" class=\"dataframe\">\n",
       "  <thead>\n",
       "    <tr style=\"text-align: right;\">\n",
       "      <th></th>\n",
       "      <th>name</th>\n",
       "      <th>age</th>\n",
       "      <th>tall</th>\n",
       "    </tr>\n",
       "  </thead>\n",
       "  <tbody>\n",
       "    <tr>\n",
       "      <th>2</th>\n",
       "      <td>홍길동</td>\n",
       "      <td>31</td>\n",
       "      <td>162.3</td>\n",
       "    </tr>\n",
       "  </tbody>\n",
       "</table>\n",
       "</div>"
      ],
      "text/plain": [
       "  name  age   tall\n",
       "2  홍길동   31  162.3"
      ]
     },
     "execution_count": 42,
     "metadata": {},
     "output_type": "execute_result"
    }
   ],
   "source": [
    "df.query('age==31')"
   ]
  },
  {
   "cell_type": "code",
   "execution_count": 43,
   "id": "86547c67",
   "metadata": {},
   "outputs": [
    {
     "data": {
      "text/html": [
       "<div>\n",
       "<style scoped>\n",
       "    .dataframe tbody tr th:only-of-type {\n",
       "        vertical-align: middle;\n",
       "    }\n",
       "\n",
       "    .dataframe tbody tr th {\n",
       "        vertical-align: top;\n",
       "    }\n",
       "\n",
       "    .dataframe thead th {\n",
       "        text-align: right;\n",
       "    }\n",
       "</style>\n",
       "<table border=\"1\" class=\"dataframe\">\n",
       "  <thead>\n",
       "    <tr style=\"text-align: right;\">\n",
       "      <th></th>\n",
       "      <th>name</th>\n",
       "      <th>age</th>\n",
       "      <th>tall</th>\n",
       "    </tr>\n",
       "  </thead>\n",
       "  <tbody>\n",
       "    <tr>\n",
       "      <th>3</th>\n",
       "      <td>김영수</td>\n",
       "      <td>28</td>\n",
       "      <td>NaN</td>\n",
       "    </tr>\n",
       "  </tbody>\n",
       "</table>\n",
       "</div>"
      ],
      "text/plain": [
       "  name  age  tall\n",
       "3  김영수   28   NaN"
      ]
     },
     "execution_count": 43,
     "metadata": {},
     "output_type": "execute_result"
    }
   ],
   "source": [
    "# 결측치 조회 - Series의 메소드 사용\n",
    "df.query('tall.isnull()')"
   ]
  },
  {
   "cell_type": "markdown",
   "id": "fa798967",
   "metadata": {},
   "source": [
    "#### 논리연산"
   ]
  },
  {
   "cell_type": "code",
   "execution_count": 44,
   "id": "acd84993",
   "metadata": {},
   "outputs": [
    {
     "data": {
      "text/html": [
       "<div>\n",
       "<style scoped>\n",
       "    .dataframe tbody tr th:only-of-type {\n",
       "        vertical-align: middle;\n",
       "    }\n",
       "\n",
       "    .dataframe tbody tr th {\n",
       "        vertical-align: top;\n",
       "    }\n",
       "\n",
       "    .dataframe thead th {\n",
       "        text-align: right;\n",
       "    }\n",
       "</style>\n",
       "<table border=\"1\" class=\"dataframe\">\n",
       "  <thead>\n",
       "    <tr style=\"text-align: right;\">\n",
       "      <th></th>\n",
       "      <th>name</th>\n",
       "      <th>age</th>\n",
       "      <th>tall</th>\n",
       "    </tr>\n",
       "  </thead>\n",
       "  <tbody>\n",
       "    <tr>\n",
       "      <th>0</th>\n",
       "      <td>김영수</td>\n",
       "      <td>23</td>\n",
       "      <td>182.3</td>\n",
       "    </tr>\n",
       "    <tr>\n",
       "      <th>4</th>\n",
       "      <td>이순신</td>\n",
       "      <td>40</td>\n",
       "      <td>201.2</td>\n",
       "    </tr>\n",
       "  </tbody>\n",
       "</table>\n",
       "</div>"
      ],
      "text/plain": [
       "  name  age   tall\n",
       "0  김영수   23  182.3\n",
       "4  이순신   40  201.2"
      ]
     },
     "execution_count": 44,
     "metadata": {},
     "output_type": "execute_result"
    }
   ],
   "source": [
    "df.query('age > 20 and tall > 180')"
   ]
  },
  {
   "cell_type": "code",
   "execution_count": 45,
   "id": "fc5a3573",
   "metadata": {},
   "outputs": [
    {
     "data": {
      "text/html": [
       "<div>\n",
       "<style scoped>\n",
       "    .dataframe tbody tr th:only-of-type {\n",
       "        vertical-align: middle;\n",
       "    }\n",
       "\n",
       "    .dataframe tbody tr th {\n",
       "        vertical-align: top;\n",
       "    }\n",
       "\n",
       "    .dataframe thead th {\n",
       "        text-align: right;\n",
       "    }\n",
       "</style>\n",
       "<table border=\"1\" class=\"dataframe\">\n",
       "  <thead>\n",
       "    <tr style=\"text-align: right;\">\n",
       "      <th></th>\n",
       "      <th>name</th>\n",
       "      <th>age</th>\n",
       "      <th>tall</th>\n",
       "    </tr>\n",
       "  </thead>\n",
       "  <tbody>\n",
       "    <tr>\n",
       "      <th>3</th>\n",
       "      <td>김영수</td>\n",
       "      <td>28</td>\n",
       "      <td>NaN</td>\n",
       "    </tr>\n",
       "    <tr>\n",
       "      <th>4</th>\n",
       "      <td>이순신</td>\n",
       "      <td>40</td>\n",
       "      <td>201.2</td>\n",
       "    </tr>\n",
       "  </tbody>\n",
       "</table>\n",
       "</div>"
      ],
      "text/plain": [
       "  name  age   tall\n",
       "3  김영수   28    NaN\n",
       "4  이순신   40  201.2"
      ]
     },
     "execution_count": 45,
     "metadata": {},
     "output_type": "execute_result"
    }
   ],
   "source": [
    "df.query('~(tall < 190)')"
   ]
  },
  {
   "cell_type": "code",
   "execution_count": 46,
   "id": "bc7d1e36",
   "metadata": {},
   "outputs": [
    {
     "data": {
      "text/html": [
       "<div>\n",
       "<style scoped>\n",
       "    .dataframe tbody tr th:only-of-type {\n",
       "        vertical-align: middle;\n",
       "    }\n",
       "\n",
       "    .dataframe tbody tr th {\n",
       "        vertical-align: top;\n",
       "    }\n",
       "\n",
       "    .dataframe thead th {\n",
       "        text-align: right;\n",
       "    }\n",
       "</style>\n",
       "<table border=\"1\" class=\"dataframe\">\n",
       "  <thead>\n",
       "    <tr style=\"text-align: right;\">\n",
       "      <th></th>\n",
       "      <th>name</th>\n",
       "      <th>age</th>\n",
       "      <th>tall</th>\n",
       "    </tr>\n",
       "  </thead>\n",
       "  <tbody>\n",
       "    <tr>\n",
       "      <th>0</th>\n",
       "      <td>김영수</td>\n",
       "      <td>23</td>\n",
       "      <td>182.3</td>\n",
       "    </tr>\n",
       "    <tr>\n",
       "      <th>3</th>\n",
       "      <td>김영수</td>\n",
       "      <td>28</td>\n",
       "      <td>NaN</td>\n",
       "    </tr>\n",
       "  </tbody>\n",
       "</table>\n",
       "</div>"
      ],
      "text/plain": [
       "  name  age   tall\n",
       "0  김영수   23  182.3\n",
       "3  김영수   28    NaN"
      ]
     },
     "execution_count": 46,
     "metadata": {},
     "output_type": "execute_result"
    }
   ],
   "source": [
    "# 문자열 부분일치\n",
    "# 특정 문자열로 시작\n",
    "df.query(\"name.str.startswith('김')\")"
   ]
  },
  {
   "cell_type": "markdown",
   "id": "b88d2145",
   "metadata": {},
   "source": [
    "#### in"
   ]
  },
  {
   "cell_type": "code",
   "execution_count": 47,
   "id": "dec2ecac",
   "metadata": {},
   "outputs": [
    {
     "data": {
      "text/html": [
       "<div>\n",
       "<style scoped>\n",
       "    .dataframe tbody tr th:only-of-type {\n",
       "        vertical-align: middle;\n",
       "    }\n",
       "\n",
       "    .dataframe tbody tr th {\n",
       "        vertical-align: top;\n",
       "    }\n",
       "\n",
       "    .dataframe thead th {\n",
       "        text-align: right;\n",
       "    }\n",
       "</style>\n",
       "<table border=\"1\" class=\"dataframe\">\n",
       "  <thead>\n",
       "    <tr style=\"text-align: right;\">\n",
       "      <th></th>\n",
       "      <th>name</th>\n",
       "      <th>age</th>\n",
       "      <th>tall</th>\n",
       "    </tr>\n",
       "  </thead>\n",
       "  <tbody>\n",
       "    <tr>\n",
       "      <th>2</th>\n",
       "      <td>홍길동</td>\n",
       "      <td>31</td>\n",
       "      <td>162.3</td>\n",
       "    </tr>\n",
       "    <tr>\n",
       "      <th>4</th>\n",
       "      <td>이순신</td>\n",
       "      <td>40</td>\n",
       "      <td>201.2</td>\n",
       "    </tr>\n",
       "    <tr>\n",
       "      <th>6</th>\n",
       "      <td>강감찬</td>\n",
       "      <td>27</td>\n",
       "      <td>169.3</td>\n",
       "    </tr>\n",
       "  </tbody>\n",
       "</table>\n",
       "</div>"
      ],
      "text/plain": [
       "  name  age   tall\n",
       "2  홍길동   31  162.3\n",
       "4  이순신   40  201.2\n",
       "6  강감찬   27  169.3"
      ]
     },
     "execution_count": 47,
     "metadata": {},
     "output_type": "execute_result"
    }
   ],
   "source": [
    "df.query(\"name in ['홍길동','이순신','강감찬']\")"
   ]
  },
  {
   "cell_type": "markdown",
   "id": "59609754",
   "metadata": {},
   "source": [
    "#### index명으로 조회\n",
    "- 컬럼명 대신에 index 키워드"
   ]
  },
  {
   "cell_type": "code",
   "execution_count": 48,
   "id": "b2fd4f91",
   "metadata": {},
   "outputs": [
    {
     "data": {
      "text/html": [
       "<div>\n",
       "<style scoped>\n",
       "    .dataframe tbody tr th:only-of-type {\n",
       "        vertical-align: middle;\n",
       "    }\n",
       "\n",
       "    .dataframe tbody tr th {\n",
       "        vertical-align: top;\n",
       "    }\n",
       "\n",
       "    .dataframe thead th {\n",
       "        text-align: right;\n",
       "    }\n",
       "</style>\n",
       "<table border=\"1\" class=\"dataframe\">\n",
       "  <thead>\n",
       "    <tr style=\"text-align: right;\">\n",
       "      <th></th>\n",
       "      <th>name</th>\n",
       "      <th>age</th>\n",
       "      <th>tall</th>\n",
       "    </tr>\n",
       "  </thead>\n",
       "  <tbody>\n",
       "    <tr>\n",
       "      <th>4</th>\n",
       "      <td>이순신</td>\n",
       "      <td>40</td>\n",
       "      <td>201.2</td>\n",
       "    </tr>\n",
       "    <tr>\n",
       "      <th>5</th>\n",
       "      <td>박영희</td>\n",
       "      <td>35</td>\n",
       "      <td>171.2</td>\n",
       "    </tr>\n",
       "    <tr>\n",
       "      <th>6</th>\n",
       "      <td>강감찬</td>\n",
       "      <td>27</td>\n",
       "      <td>169.3</td>\n",
       "    </tr>\n",
       "  </tbody>\n",
       "</table>\n",
       "</div>"
      ],
      "text/plain": [
       "  name  age   tall\n",
       "4  이순신   40  201.2\n",
       "5  박영희   35  171.2\n",
       "6  강감찬   27  169.3"
      ]
     },
     "execution_count": 48,
     "metadata": {},
     "output_type": "execute_result"
    }
   ],
   "source": [
    "df.query(\"index > 3\")  # 크기 비교시 정렬후에 처리"
   ]
  },
  {
   "cell_type": "code",
   "execution_count": null,
   "id": "3642888a",
   "metadata": {},
   "outputs": [],
   "source": []
  },
  {
   "cell_type": "code",
   "execution_count": null,
   "id": "a4216452",
   "metadata": {},
   "outputs": [],
   "source": []
  },
  {
   "cell_type": "code",
   "execution_count": null,
   "id": "a2c95c36",
   "metadata": {},
   "outputs": [],
   "source": []
  },
  {
   "cell_type": "code",
   "execution_count": null,
   "id": "d61f9cfc",
   "metadata": {},
   "outputs": [],
   "source": []
  },
  {
   "cell_type": "code",
   "execution_count": null,
   "id": "0acc618f",
   "metadata": {},
   "outputs": [],
   "source": []
  }
 ],
 "metadata": {
  "kernelspec": {
   "display_name": "Python 3 (ipykernel)",
   "language": "python",
   "name": "python3"
  },
  "language_info": {
   "codemirror_mode": {
    "name": "ipython",
    "version": 3
   },
   "file_extension": ".py",
   "mimetype": "text/x-python",
   "name": "python",
   "nbconvert_exporter": "python",
   "pygments_lexer": "ipython3",
   "version": "3.9.12"
  }
 },
 "nbformat": 4,
 "nbformat_minor": 5
}
