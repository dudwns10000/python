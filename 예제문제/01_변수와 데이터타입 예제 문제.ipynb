{
 "cells": [
  {
   "cell_type": "code",
   "execution_count": 1,
   "id": "3c568e1f",
   "metadata": {},
   "outputs": [
    {
     "name": "stdout",
     "output_type": "stream",
     "text": [
      "901211\n"
     ]
    }
   ],
   "source": [
    "#1. 주민번호 \"901211-1027213\"의 앞 6자리만 조회해서 출력하시오.\n",
    "\n",
    "num = \"901211-1027213\"\n",
    "print(num[0:6])"
   ]
  },
  {
   "cell_type": "code",
   "execution_count": 2,
   "id": "4c0d80fe",
   "metadata": {},
   "outputs": [
    {
     "name": "stdout",
     "output_type": "stream",
     "text": [
      "안녕하세요안녕하세요안녕하세요안녕하세요안녕하세요안녕하세요안녕하세요안녕하세요안녕하세요안녕하세요\n"
     ]
    }
   ],
   "source": [
    "#2. \"안녕하세요\" 를 10번 출력하시오.\n",
    "# 안녕하세요안녕하세요안녕하세요안녕하세요안녕하세요\n",
    "\n",
    "print(\"안녕하세요\" * 10)"
   ]
  },
  {
   "cell_type": "code",
   "execution_count": 3,
   "id": "11610d0c",
   "metadata": {},
   "outputs": [
    {
     "name": "stdout",
     "output_type": "stream",
     "text": [
      "5\n"
     ]
    }
   ],
   "source": [
    "#3. 다음 문자열의 글자수를 출력하시오.\n",
    "\n",
    "hi = \"안녕하세요\"\n",
    "print(len(hi))"
   ]
  },
  {
   "cell_type": "code",
   "execution_count": 5,
   "id": "4698a0e4",
   "metadata": {},
   "outputs": [
    {
     "name": "stdout",
     "output_type": "stream",
     "text": [
      "제품명:TV, 가격:300000, 제조사:LG\n"
     ]
    }
   ],
   "source": [
    "#4.\n",
    "name=\"TV\"\n",
    "price=300000\n",
    "maker = \"LG\"\n",
    "# 위 변수의 값을 다음과 같은 형태로 출력하시오.\n",
    "#\"제품명 : TV, 가격 : 300000, 제조사 : LG\"\n",
    "\n",
    "print(f'제품명:{name}, 가격:{price}, 제조사:{maker}')"
   ]
  },
  {
   "cell_type": "code",
   "execution_count": 7,
   "id": "2f52f009",
   "metadata": {},
   "outputs": [
    {
     "name": "stdout",
     "output_type": "stream",
     "text": [
      "False\n",
      "없음\n"
     ]
    }
   ],
   "source": [
    "#5\n",
    "fruits = \"사과 복숭아 귤 배\"\n",
    "# 위 fruits에 \"수박\"이 있는지 확인하는 코드를 작성하시오.\n",
    "\n",
    "print('수박' in fruits)  # 1\n",
    "print('있음' if '수박' in fruits else '없음')  # 2"
   ]
  },
  {
   "cell_type": "code",
   "execution_count": 9,
   "id": "dff3f8fc",
   "metadata": {},
   "outputs": [
    {
     "name": "stdout",
     "output_type": "stream",
     "text": [
      "9\n"
     ]
    }
   ],
   "source": [
    "#6 \n",
    "str_value=\"aldkjaldjfalfjlksajfladlkaalalkdjfa\"\n",
    "# str_value 문자열안에 a가 몇개 있는지 출력하시오.\n",
    "\n",
    "print(str_value.count('a'))"
   ]
  }
 ],
 "metadata": {
  "kernelspec": {
   "display_name": "Python 3 (ipykernel)",
   "language": "python",
   "name": "python3"
  },
  "language_info": {
   "codemirror_mode": {
    "name": "ipython",
    "version": 3
   },
   "file_extension": ".py",
   "mimetype": "text/x-python",
   "name": "python",
   "nbconvert_exporter": "python",
   "pygments_lexer": "ipython3",
   "version": "3.9.7"
  }
 },
 "nbformat": 4,
 "nbformat_minor": 5
}
