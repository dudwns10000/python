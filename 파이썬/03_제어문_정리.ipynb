{
 "cells": [
  {
   "cell_type": "markdown",
   "id": "351a848c",
   "metadata": {},
   "source": [
    "# 제어문\n",
    "code의 흐름을 제어하는 구문"
   ]
  },
  {
   "cell_type": "markdown",
   "id": "0cc5dcbd",
   "metadata": {},
   "source": [
    "### 조건문(분기문)"
   ]
  },
  {
   "cell_type": "markdown",
   "id": "80e6328c",
   "metadata": {},
   "source": [
    "#### 단순 if문 -> 특정 구문들을 실행할지 말지"
   ]
  },
  {
   "cell_type": "code",
   "execution_count": 1,
   "id": "2bf9ba8b",
   "metadata": {
    "scrolled": true
   },
   "outputs": [
    {
     "name": "stdout",
     "output_type": "stream",
     "text": [
      "정수:0\n",
      "영입니다.\n",
      "zero\n",
      "종료\n"
     ]
    }
   ],
   "source": [
    "num = int(input(\"정수:\"))\n",
    "# 입력값이 0이면 \"영입니다.\" 라고 출력한다.\n",
    "if num==0:\n",
    "    print('영입니다.')\n",
    "    print('zero')\n",
    "print('종료')"
   ]
  },
  {
   "cell_type": "markdown",
   "id": "0fcd3bc9",
   "metadata": {},
   "source": [
    "#### if else 문: 조건이 True일 때 할일과 False 할일 두가지로 분기하는 경우."
   ]
  },
  {
   "cell_type": "code",
   "execution_count": 2,
   "id": "f30cd819",
   "metadata": {},
   "outputs": [
    {
     "name": "stdout",
     "output_type": "stream",
     "text": [
      "정수:10\n",
      "0이 아닙니다.\n",
      "입력한 숫자는 10입니다.\n",
      "종료합니다\n"
     ]
    }
   ],
   "source": [
    "# 입력받은 값이 0이면 \"0입니다.\" 출력하고 0이 아니면 '0이 아닙니다.' 출력한다.\n",
    "num = int(input('정수:'))\n",
    "if num==0:\n",
    "    print(\"0입니다.\")\n",
    "else:\n",
    "    print('0이 아닙니다.')\n",
    "    print(f\"입력한 숫자는 {num}입니다.\")\n",
    "        \n",
    "print('종료합니다')    "
   ]
  },
  {
   "cell_type": "markdown",
   "id": "6bc8f370",
   "metadata": {},
   "source": [
    "#### if elif 문: 조건이 여러개일 경우 사용\n",
    "- elif: else if"
   ]
  },
  {
   "cell_type": "code",
   "execution_count": 3,
   "id": "e2333d04",
   "metadata": {},
   "outputs": [
    {
     "name": "stdout",
     "output_type": "stream",
     "text": [
      "정수:10\n",
      "양수입니다.\n",
      "입력한 숫자는 10입니다.\n",
      "종료합니다\n"
     ]
    }
   ],
   "source": [
    "# 입력받은 값이 0이면 '0입니다.'를 출력하고\n",
    "#             양수이면 '양수입니다.'를 출력\n",
    "#             음수이면 '음수입니다.'를 출력 한다. \n",
    "num = int(input('정수:'))\n",
    "if num == 0:\n",
    "    print('0입니다.')\n",
    "elif num > 0:\n",
    "    print('양수입니다.')\n",
    "    print(f'입력한 숫자는 {num}입니다.')\n",
    "# elif num < 0:\n",
    "else:  #위 조건이 모두 False이면(나머지 조건들) else문을 실행\n",
    "    print('음수입니다.')\n",
    "\n",
    "print('종료합니다')"
   ]
  },
  {
   "cell_type": "markdown",
   "id": "e62b209e",
   "metadata": {},
   "source": [
    "### 반복문\n",
    "#### while문\n",
    "- 조건이 True인 동안 구문을 반복"
   ]
  },
  {
   "cell_type": "code",
   "execution_count": 4,
   "id": "4d307d49",
   "metadata": {},
   "outputs": [
    {
     "name": "stdout",
     "output_type": "stream",
     "text": [
      "반복횟수:10\n",
      "1. 안녕하세요\n",
      "==========\n",
      "2. 안녕하세요\n",
      "==========\n",
      "3. 안녕하세요\n",
      "==========\n",
      "4. 안녕하세요\n",
      "==========\n",
      "5. 안녕하세요\n",
      "==========\n",
      "6. 안녕하세요\n",
      "==========\n",
      "7. 안녕하세요\n",
      "==========\n",
      "8. 안녕하세요\n",
      "==========\n",
      "9. 안녕하세요\n",
      "==========\n",
      "10. 안녕하세요\n",
      "==========\n"
     ]
    }
   ],
   "source": [
    "limit = int(input('반복횟수:')) #반복할 횟수\n",
    "count = 0 # 현재 몇번째 반복인지를 저장할 변수\n",
    "while count < limit:   #  현재 반복횟수가 limit보다 적을때 까지 반복\n",
    "    count = count + 1\n",
    "    print(f'{count}. 안녕하세요')\n",
    "    print('='*10)"
   ]
  },
  {
   "cell_type": "markdown",
   "id": "77f0c6c8",
   "metadata": {},
   "source": [
    "#### for in 문\n",
    "- iterable(자료구조들, 문자열 등)이 가지고 있는 값들을 순환조회할 때 사용"
   ]
  },
  {
   "cell_type": "code",
   "execution_count": 8,
   "id": "35380d9f",
   "metadata": {},
   "outputs": [
    {
     "name": "stdout",
     "output_type": "stream",
     "text": [
      "10\n",
      "----------\n",
      "5\n",
      "----------\n",
      "7\n",
      "----------\n"
     ]
    }
   ],
   "source": [
    "# for 변수 in Iteratble:\n",
    "#     반복구문\n",
    "lst = [10, 5, 7, ]\n",
    "for num in lst: \n",
    "    print(num)  #for in 문의 반복구문은 iterable의 원소 하나씩 처리하는 코드\n",
    "    print(\"-\"*10)"
   ]
  },
  {
   "cell_type": "code",
   "execution_count": 9,
   "id": "4dc37daf",
   "metadata": {},
   "outputs": [
    {
     "name": "stdout",
     "output_type": "stream",
     "text": [
      "10,20,30,40,종료\n"
     ]
    }
   ],
   "source": [
    "for v in (10,20,30,40):\n",
    "#     print(v)\n",
    "    print(v, end=\",\") #end=>v를 출력후 엔터대신에 출력할 값.\n",
    "print('종료')"
   ]
  },
  {
   "cell_type": "code",
   "execution_count": 10,
   "id": "b34b84aa",
   "metadata": {},
   "outputs": [
    {
     "name": "stdout",
     "output_type": "stream",
     "text": [
      "1\t2\t3\t4\t"
     ]
    }
   ],
   "source": [
    "for v in {1, 2, 2, 2, 3, 4, 1, 2, 3, 4}: # {1,2,3,4}\n",
    "    print(v, end='\\t')"
   ]
  },
  {
   "cell_type": "code",
   "execution_count": 11,
   "id": "101ebeb5",
   "metadata": {},
   "outputs": [
    {
     "name": "stdout",
     "output_type": "stream",
     "text": [
      "name\n",
      "age\n",
      "address\n"
     ]
    }
   ],
   "source": [
    "for v in dict(name='홍길동', age=20, address='서울'): #dictionary -> key가 조회된다.\n",
    "    print(v)"
   ]
  },
  {
   "cell_type": "code",
   "execution_count": 12,
   "id": "a2ca47a2",
   "metadata": {},
   "outputs": [
    {
     "data": {
      "text/plain": [
       "['a', 'b', 'c', 'd', 'e', 'f', 'g']"
      ]
     },
     "execution_count": 12,
     "metadata": {},
     "output_type": "execute_result"
    }
   ],
   "source": [
    "# 문자열을 변환할씨 원소 하나씩으로 바뀐다, list, tuple, set \n",
    "list(\"abcdefg\")"
   ]
  },
  {
   "cell_type": "markdown",
   "id": "03e2d434",
   "metadata": {},
   "source": [
    "### continue, break\n",
    "- continue: 다음 반복을 실행해라.\n",
    "- break: 반복을 멈춰라."
   ]
  },
  {
   "cell_type": "code",
   "execution_count": 13,
   "id": "dd0f490e",
   "metadata": {},
   "outputs": [
    {
     "name": "stdout",
     "output_type": "stream",
     "text": [
      "10\n",
      "100\n",
      "50\n",
      "22\n",
      "90\n"
     ]
    }
   ],
   "source": [
    "lst = [10, 5, 7, 9, 100, 50, 27, 123, 22, 90]\n",
    "for v in lst:\n",
    "    if v % 2 != 0: #2의 배수가 아니면(조건)\n",
    "        continue  # 나머지 반복구문 실행하지 말고 다음 반복 실행해라.\n",
    "    print(v)"
   ]
  },
  {
   "cell_type": "code",
   "execution_count": 14,
   "id": "87a77719",
   "metadata": {},
   "outputs": [
    {
     "name": "stdout",
     "output_type": "stream",
     "text": [
      "10\n",
      "5\n",
      "7\n",
      "9\n",
      "100\n",
      "end\n"
     ]
    }
   ],
   "source": [
    "for v in lst:\n",
    "    print(v)\n",
    "    if v >= 100: # break할 조건\n",
    "        break #더이상 반복하지 않고 반복문을 끝낸다.\n",
    "    \n",
    "print('end')"
   ]
  },
  {
   "cell_type": "code",
   "execution_count": 15,
   "id": "c3748508",
   "metadata": {},
   "outputs": [
    {
     "name": "stdout",
     "output_type": "stream",
     "text": [
      "12\n",
      "입력한 문자열: 12\n",
      "q!\n",
      "입력한 문자열: q!\n"
     ]
    }
   ],
   "source": [
    "# 사용자로 부터 글을 입력받아서 출력. 'q!'를 입력받으면 종료\n",
    "while True:\n",
    "    s = input()\n",
    "    print('입력한 문자열:', s)\n",
    "    if s == 'q!':\n",
    "        break"
   ]
  },
  {
   "cell_type": "markdown",
   "id": "9a20ce42",
   "metadata": {},
   "source": [
    "### for in문 관련 함수\n",
    "- range()\n",
    "    - 특정값만큼 증감하는 연속된 숫자를 제공하는 iterable을 생성"
   ]
  },
  {
   "cell_type": "markdown",
   "id": "cb7071bb",
   "metadata": {},
   "source": [
    "#### range(시작숫자, 끝숫자, 증감치)"
   ]
  },
  {
   "cell_type": "code",
   "execution_count": 16,
   "id": "37fca4a2",
   "metadata": {},
   "outputs": [
    {
     "data": {
      "text/plain": [
       "range(10, 100, 10)"
      ]
     },
     "execution_count": 16,
     "metadata": {},
     "output_type": "execute_result"
    }
   ],
   "source": [
    "# nums = [1, 2, 3, 4, 5, 6, 7, 8, ...,, 100]\n",
    "# range(시작숫자, 끝숫자, 증감치)\n",
    "range(10, 100, 10) # 10 ~ 100-1 까지 10씩 증가하는 연속된 값을 제공.\n",
    "                   # 생성된 값이 필요할 때 제공한다."
   ]
  },
  {
   "cell_type": "code",
   "execution_count": 17,
   "id": "22f3400f",
   "metadata": {},
   "outputs": [
    {
     "name": "stdout",
     "output_type": "stream",
     "text": [
      "10\n",
      "20\n",
      "30\n",
      "40\n",
      "50\n",
      "60\n",
      "70\n",
      "80\n",
      "90\n"
     ]
    }
   ],
   "source": [
    "for i in range(10, 100, 10):\n",
    "    print(i)"
   ]
  },
  {
   "cell_type": "code",
   "execution_count": 18,
   "id": "9653f6ae",
   "metadata": {},
   "outputs": [
    {
     "data": {
      "text/plain": [
       "[10, 20, 30, 40, 50, 60, 70, 80, 90]"
      ]
     },
     "execution_count": 18,
     "metadata": {},
     "output_type": "execute_result"
    }
   ],
   "source": [
    "l = list(range(10,100,10))\n",
    "l"
   ]
  },
  {
   "cell_type": "code",
   "execution_count": 19,
   "id": "fa03c855",
   "metadata": {},
   "outputs": [
    {
     "data": {
      "text/plain": [
       "((10, 20, 30, 40, 50, 60, 70, 80, 90), {10, 20, 30, 40, 50, 60, 70, 80, 90})"
      ]
     },
     "execution_count": 19,
     "metadata": {},
     "output_type": "execute_result"
    }
   ],
   "source": [
    "tuple(range(10,100,10)), set(range(10,100,10))"
   ]
  },
  {
   "cell_type": "markdown",
   "id": "50e0e73c",
   "metadata": {},
   "source": [
    "#### range(): 특정 구문을 N번 반복하려고 할때 for in문과 함께 사용할 수 있다.\n",
    "- 변수를 _ 로 명명하면 이 변수는 사용하지 않겠다. \n",
    "- 자리만 채운다의 의미로 관례적으로 사용한다."
   ]
  },
  {
   "cell_type": "code",
   "execution_count": 22,
   "id": "57c28db9",
   "metadata": {},
   "outputs": [
    {
     "name": "stdout",
     "output_type": "stream",
     "text": [
      "ABC\n",
      "ABC\n",
      "ABC\n",
      "ABC\n",
      "ABC\n"
     ]
    }
   ],
   "source": [
    "for _ in range(5): \n",
    "    print(\"ABC\")"
   ]
  },
  {
   "cell_type": "markdown",
   "id": "b62006c3",
   "metadata": {},
   "source": [
    "#### enumerate(자료구조)\n",
    "- 튜플로 (몇번째반복인지,  값) 묶어서 반환"
   ]
  },
  {
   "cell_type": "code",
   "execution_count": 23,
   "id": "fa13c784",
   "metadata": {},
   "outputs": [
    {
     "name": "stdout",
     "output_type": "stream",
     "text": [
      "(0, 10)\n",
      "(1, 5)\n",
      "(2, 7)\n",
      "(3, 8)\n",
      "(4, 10)\n",
      "(5, 2)\n"
     ]
    }
   ],
   "source": [
    "lst = [10, 5, 7, 8, 10, 2]\n",
    "for i in enumerate(lst):\n",
    "    print(i)"
   ]
  },
  {
   "cell_type": "code",
   "execution_count": 24,
   "id": "d3b582ef",
   "metadata": {},
   "outputs": [
    {
     "name": "stdout",
     "output_type": "stream",
     "text": [
      "(10, 10) 순번:10, 값: 10\n",
      "(11, 5) 순번:11, 값: 5\n",
      "(12, 7) 순번:12, 값: 7\n",
      "(13, 8) 순번:13, 값: 8\n",
      "(14, 10) 순번:14, 값: 10\n",
      "(15, 2) 순번:15, 값: 2\n"
     ]
    }
   ],
   "source": [
    "for i in enumerate(lst, start=10):\n",
    "    print(i, f\"순번:{i[0]}, 값: {i[1]}\")"
   ]
  },
  {
   "cell_type": "code",
   "execution_count": 25,
   "id": "4eec5c03",
   "metadata": {},
   "outputs": [
    {
     "name": "stdout",
     "output_type": "stream",
     "text": [
      "1. 10\n",
      "2. 5\n",
      "3. 7\n",
      "4. 8\n",
      "5. 10\n",
      "6. 2\n"
     ]
    }
   ],
   "source": [
    "#enumerate() 반환값을 tuple 대입을 이용해 받는다.\n",
    "for idx, value in enumerate(lst, start=1):\n",
    "    print(f\"{idx}. {value}\")"
   ]
  },
  {
   "cell_type": "markdown",
   "id": "8a4d2ccb",
   "metadata": {},
   "source": [
    "#### zip(자료구조1, 자료구조2, ....): 같은 index의 값들을 묶어서 반환"
   ]
  },
  {
   "cell_type": "code",
   "execution_count": 29,
   "id": "50f67d72",
   "metadata": {},
   "outputs": [
    {
     "name": "stdout",
     "output_type": "stream",
     "text": [
      "('홍길동', 30, '서울') 홍길동 30 서울\n",
      "('이순신', 40, '인천') 이순신 40 인천\n",
      "('강감찬', 50, '수원') 강감찬 50 수원\n"
     ]
    }
   ],
   "source": [
    "# 같은 index의 값들이 같은 사람의 정보\n",
    "names = ['홍길동', '이순신', '강감찬']\n",
    "ages = [30, 40, 50]\n",
    "address = ['서울', '인천', '수원']\n",
    "for v in  zip(names, ages, address):\n",
    "    print(v, v[0], v[1], v[2])"
   ]
  },
  {
   "cell_type": "code",
   "execution_count": 31,
   "id": "0ea66820",
   "metadata": {},
   "outputs": [
    {
     "name": "stdout",
     "output_type": "stream",
     "text": [
      "홍길동 30 서울\n",
      "이순신 40 인천\n",
      "강감찬 50 수원\n"
     ]
    }
   ],
   "source": [
    "for name, age, addr in zip(names, ages, address): #튜플대입\n",
    "    print(name, age, addr)"
   ]
  },
  {
   "cell_type": "code",
   "execution_count": 32,
   "id": "7e6a2386",
   "metadata": {},
   "outputs": [
    {
     "name": "stdout",
     "output_type": "stream",
     "text": [
      "홍길동 30 서울 h@a.com\n",
      "이순신 40 인천 l@a.com\n",
      "강감찬 50 수원 k@b.com\n"
     ]
    }
   ],
   "source": [
    "emails = ['h@a.com', 'l@a.com', 'k@b.com', 'abc@a.com']\n",
    "# 자료구조들의 원소 개수가 다를 경우에는 적은 것에 맞춘다.\n",
    "for name, age, addr, email in zip(names, ages, address, emails):\n",
    "    print(name, age, addr, email)"
   ]
  },
  {
   "cell_type": "markdown",
   "id": "11880d44",
   "metadata": {},
   "source": [
    "## 컴프리헨션 \n",
    "- 기본 자료구조가 가진 원소들을 이용해 새로운 자료구조를 만드는 구문\n",
    "- 튜플 컴프리헨션은 없다"
   ]
  },
  {
   "cell_type": "code",
   "execution_count": 33,
   "id": "03a6dc76",
   "metadata": {
    "scrolled": true
   },
   "outputs": [
    {
     "data": {
      "text/plain": [
       "[5, 10, 10, 10, 15, 20, 25]"
      ]
     },
     "execution_count": 33,
     "metadata": {},
     "output_type": "execute_result"
    }
   ],
   "source": [
    "l1 = [1, 2, 2, 2, 3, 4, 5]\n",
    "# l1의 원소들을 5배한 값들로 구성된 리스트를 생성\n",
    "new_list = []\n",
    "for i in l1:\n",
    "    new_list.append(i*5)\n",
    "    \n",
    "new_list"
   ]
  },
  {
   "cell_type": "markdown",
   "id": "51285808",
   "metadata": {},
   "source": [
    "#### list comprehension"
   ]
  },
  {
   "cell_type": "code",
   "execution_count": 34,
   "id": "078fb54f",
   "metadata": {},
   "outputs": [
    {
     "data": {
      "text/plain": [
       "[5, 10, 10, 10, 15, 20, 25]"
      ]
     },
     "execution_count": 34,
     "metadata": {},
     "output_type": "execute_result"
    }
   ],
   "source": [
    "new_list2 = [i*5 for i in l1]  \n",
    "new_list2"
   ]
  },
  {
   "cell_type": "markdown",
   "id": "563c1eb1",
   "metadata": {},
   "source": [
    "#### set comprehension"
   ]
  },
  {
   "cell_type": "code",
   "execution_count": 35,
   "id": "f0824f97",
   "metadata": {},
   "outputs": [
    {
     "data": {
      "text/plain": [
       "{5, 10, 15, 20, 25}"
      ]
     },
     "execution_count": 35,
     "metadata": {},
     "output_type": "execute_result"
    }
   ],
   "source": [
    "new_set = {i*5 for i in l1}  \n",
    "new_set"
   ]
  },
  {
   "cell_type": "markdown",
   "id": "e7f25027",
   "metadata": {},
   "source": [
    "#### dictionary comprehension"
   ]
  },
  {
   "cell_type": "code",
   "execution_count": 36,
   "id": "b374e723",
   "metadata": {},
   "outputs": [
    {
     "data": {
      "text/plain": [
       "{100: 5, 101: 10, 102: 10, 103: 10, 104: 15, 105: 20, 106: 25}"
      ]
     },
     "execution_count": 36,
     "metadata": {},
     "output_type": "execute_result"
    }
   ],
   "source": [
    "new_dict = {key:value*5 for key, value in enumerate(l1, start=100)}\n",
    "new_dict"
   ]
  },
  {
   "cell_type": "code",
   "execution_count": 37,
   "id": "e72ddfec",
   "metadata": {},
   "outputs": [
    {
     "data": {
      "text/plain": [
       "{'key1': 1, 'key2': 2, 'key3': 3, 'key4': 4, 'key5': 5}"
      ]
     },
     "execution_count": 37,
     "metadata": {},
     "output_type": "execute_result"
    }
   ],
   "source": [
    "new_dict = {'key'+str(value):value   for value in l1}\n",
    "new_dict"
   ]
  },
  {
   "cell_type": "markdown",
   "id": "491178b8",
   "metadata": {},
   "source": [
    "-----------------------------------------------------------------------------------------------------------------------------------"
   ]
  },
  {
   "cell_type": "code",
   "execution_count": 38,
   "id": "50c2434f",
   "metadata": {},
   "outputs": [
    {
     "data": {
      "text/plain": [
       "(['A', 'B', 'C', 'ABC'], ['a', 'b', 'c', 'abc'])"
      ]
     },
     "execution_count": 38,
     "metadata": {},
     "output_type": "execute_result"
    }
   ],
   "source": [
    "s = ['a','b','c','abc']  #s의 값을 대문자로 변환한 값들을 원소로 가지는 리스트, Set\n",
    "\n",
    "s2 = []\n",
    "for v in s:\n",
    "    s2.append(v.upper())\n",
    "s2, s"
   ]
  },
  {
   "cell_type": "code",
   "execution_count": 39,
   "id": "051573ca",
   "metadata": {},
   "outputs": [
    {
     "data": {
      "text/plain": [
       "['A', 'B', 'C', 'ABC']"
      ]
     },
     "execution_count": 39,
     "metadata": {},
     "output_type": "execute_result"
    }
   ],
   "source": [
    "s3 = [v.upper() for v in s]\n",
    "s3"
   ]
  },
  {
   "cell_type": "code",
   "execution_count": 40,
   "id": "64308e8f",
   "metadata": {},
   "outputs": [
    {
     "data": {
      "text/plain": [
       "['A', 'B', 'C', 'R']"
      ]
     },
     "execution_count": 40,
     "metadata": {},
     "output_type": "execute_result"
    }
   ],
   "source": [
    "s = ['a','b','c','abc', 'def', 'ak', 'r'] \n",
    "# s의 원소중 글자수가 1글자인 원소만 소문자를 대문자로 바꾼 값들을 가지는 배열\n",
    "s2 = []\n",
    "for v in s:\n",
    "    if len(v)==1: # 글자수가 1이면\n",
    "        s2.append(v.upper())\n",
    "\n",
    "s2"
   ]
  },
  {
   "cell_type": "code",
   "execution_count": 41,
   "id": "06b1627b",
   "metadata": {},
   "outputs": [
    {
     "data": {
      "text/plain": [
       "['a', 'b', 'c', 'r']"
      ]
     },
     "execution_count": 41,
     "metadata": {},
     "output_type": "execute_result"
    }
   ],
   "source": [
    "s3=[v for v in s if len(v)==1] #filtering\n",
    "s3"
   ]
  },
  {
   "cell_type": "code",
   "execution_count": 42,
   "id": "09480a29",
   "metadata": {},
   "outputs": [
    {
     "data": {
      "text/plain": [
       "{'A', 'B', 'C', 'R'}"
      ]
     },
     "execution_count": 42,
     "metadata": {},
     "output_type": "execute_result"
    }
   ],
   "source": [
    "s4={v.upper() for v in s if len(v)==1} #filter + mapping\n",
    "s4"
   ]
  },
  {
   "cell_type": "code",
   "execution_count": 43,
   "id": "2880c0c8",
   "metadata": {},
   "outputs": [
    {
     "data": {
      "text/plain": [
       "['a', 'b', 'c', 'r']"
      ]
     },
     "execution_count": 43,
     "metadata": {},
     "output_type": "execute_result"
    }
   ],
   "source": [
    "list(filter(lambda x: len(x)==1, s))  # lamda = 간단한 함수를 함수없이 실행"
   ]
  },
  {
   "cell_type": "code",
   "execution_count": 44,
   "id": "21e3278b",
   "metadata": {},
   "outputs": [
    {
     "data": {
      "text/plain": [
       "['A', 'B', 'C', 'ABC', 'DEF', 'AK', 'R']"
      ]
     },
     "execution_count": 44,
     "metadata": {},
     "output_type": "execute_result"
    }
   ],
   "source": [
    "list(map(lambda x: x.upper(), s))"
   ]
  }
 ],
 "metadata": {
  "kernelspec": {
   "display_name": "Python 3 (ipykernel)",
   "language": "python",
   "name": "python3"
  },
  "language_info": {
   "codemirror_mode": {
    "name": "ipython",
    "version": 3
   },
   "file_extension": ".py",
   "mimetype": "text/x-python",
   "name": "python",
   "nbconvert_exporter": "python",
   "pygments_lexer": "ipython3",
   "version": "3.9.7"
  }
 },
 "nbformat": 4,
 "nbformat_minor": 5
}
