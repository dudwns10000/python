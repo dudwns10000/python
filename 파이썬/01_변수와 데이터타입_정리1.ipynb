{
 "cells": [
  {
   "cell_type": "markdown",
   "id": "b87eeee5",
   "metadata": {},
   "source": [
    "## 변수\n",
    "\n",
    "- 변수: 데이터를 담는 공간, 값의 의미를 나타내는 이름\n",
    "    - 일반 문자, 숫자, _(underscore)만 사용 가능"
   ]
  },
  {
   "cell_type": "code",
   "execution_count": 1,
   "id": "9525cbf0",
   "metadata": {},
   "outputs": [
    {
     "name": "stdout",
     "output_type": "stream",
     "text": [
      "홍길동\n"
     ]
    }
   ],
   "source": [
    "# 변수이름 = 값\n",
    "name = '홍길동'\n",
    "print(name)"
   ]
  },
  {
   "cell_type": "code",
   "execution_count": null,
   "id": "c7c85205",
   "metadata": {},
   "outputs": [],
   "source": [
    "# 변수 선언 및 대입 방법\n",
    "a = b = 0\n",
    "a,b,c = 10,20,30  # 튜플대입"
   ]
  },
  {
   "cell_type": "code",
   "execution_count": 4,
   "id": "0bbd753f",
   "metadata": {},
   "outputs": [
    {
     "name": "stdout",
     "output_type": "stream",
     "text": [
      "서울시 서초구\n"
     ]
    }
   ],
   "source": [
    "우리집_주소 = \"서울시 서초구\" #특수문자는 _ 사용가능.(snake 표기법), myEmailAddress는 camel 표기법\n",
    "print(우리집_주소)"
   ]
  },
  {
   "cell_type": "code",
   "execution_count": 5,
   "id": "ac2a0cc9",
   "metadata": {},
   "outputs": [
    {
     "name": "stdout",
     "output_type": "stream",
     "text": [
      "30000000000.0 <class 'float'>\n"
     ]
    }
   ],
   "source": [
    "# 지수표기법\n",
    "\n",
    "f3 = 3e10  # 3 x 10**10\n",
    "print(f3, type(f3))"
   ]
  },
  {
   "cell_type": "code",
   "execution_count": 3,
   "id": "7fc01dd0",
   "metadata": {},
   "outputs": [
    {
     "name": "stdout",
     "output_type": "stream",
     "text": [
      "<class 'str'> <class 'int'>\n"
     ]
    }
   ],
   "source": [
    "# type(값): 변수나 값의 데이터 타입을 확인하는 함수\n",
    "a = type('abcde')\n",
    "b = type(30)\n",
    "print(a,b)"
   ]
  },
  {
   "cell_type": "code",
   "execution_count": 8,
   "id": "7924eb4e",
   "metadata": {},
   "outputs": [
    {
     "name": "stdout",
     "output_type": "stream",
     "text": [
      "30\n",
      "스무살\n",
      "25.7\n"
     ]
    }
   ],
   "source": [
    "# 동적타입언어 => 하나의 변수에 다양한 타입의 값들을 대입할 수 있다.\n",
    "age = 30  #정수 대입\n",
    "print(age)\n",
    "age = '스무살' #문자열 대입\n",
    "print(age)\n",
    "age = 25.7\n",
    "print(age) #실수"
   ]
  },
  {
   "cell_type": "markdown",
   "id": "158b35c8",
   "metadata": {},
   "source": [
    "## 데이터 타입\n",
    "\n",
    "- 숫자형, 논리형(bool), 문자형"
   ]
  },
  {
   "cell_type": "markdown",
   "id": "54765a29",
   "metadata": {},
   "source": [
    "### 숫자형(numeric)\n",
    "- 정수(int)와 실수형(float)형이 있다"
   ]
  },
  {
   "cell_type": "code",
   "execution_count": null,
   "id": "73f7f24f",
   "metadata": {},
   "outputs": [],
   "source": [
    "# 산술연산자\n",
    "a + b  # 더하기\n",
    "a - b  # 뺴기\n",
    "a * b  # 곱하기\n",
    "a ** b # 제곱\n",
    "a / b  # 나누기\n",
    "a // b  # 나누기 몫\n",
    "a % b  # 나머지"
   ]
  },
  {
   "cell_type": "markdown",
   "id": "96bfe771",
   "metadata": {},
   "source": [
    "### 논리형(bool)\n",
    "- 참 거짓을 표현하는 값, True, False\n",
    "- 주로 조건문에서 사용"
   ]
  },
  {
   "cell_type": "code",
   "execution_count": 6,
   "id": "6de7cb0e",
   "metadata": {},
   "outputs": [
    {
     "name": "stdout",
     "output_type": "stream",
     "text": [
      "True False\n"
     ]
    }
   ],
   "source": [
    "# 논리형\n",
    "b1 = True\n",
    "b2 = False\n",
    "print(b1, b2)"
   ]
  },
  {
   "cell_type": "code",
   "execution_count": 7,
   "id": "2a9275ed",
   "metadata": {},
   "outputs": [
    {
     "name": "stdout",
     "output_type": "stream",
     "text": [
      "False True True\n",
      "False False True True\n",
      "False\n"
     ]
    }
   ],
   "source": [
    "# boll(값) - 다른 타입의 값을 논리형으로 변환\n",
    "# 빈문자열, 0, Nome => False\n",
    "print(bool(''), bool('abc'), bool(' '))\n",
    "print(bool(0), bool(0.0), bool(50), bool(-50))\n",
    "print(bool(None))"
   ]
  },
  {
   "cell_type": "code",
   "execution_count": null,
   "id": "51efbeeb",
   "metadata": {},
   "outputs": [],
   "source": [
    "# 비교연산자\n",
    "a == b  # 같다\n",
    "a != b  # 같지않다\n",
    "a > b  # a가 b보다 크다\n",
    "a >= b  # a가 b보다 크거나 같다\n",
    "a < b  # a가 b보다 작다\n",
    "a <= b  # a가 b보다 작거나 같다"
   ]
  },
  {
   "cell_type": "code",
   "execution_count": 9,
   "id": "ef2c3bb1",
   "metadata": {},
   "outputs": [
    {
     "name": "stdout",
     "output_type": "stream",
     "text": [
      "False\n",
      "97 98\n"
     ]
    }
   ],
   "source": [
    "print('a' > 'b')\n",
    "print(ord('a'), ord('b')) #문자를 숫자로 변경"
   ]
  },
  {
   "cell_type": "code",
   "execution_count": 10,
   "id": "d51b374b",
   "metadata": {},
   "outputs": [
    {
     "name": "stdout",
     "output_type": "stream",
     "text": [
      "35 48 65 97 44032\n"
     ]
    }
   ],
   "source": [
    "#특수문자  <  숫자  <   영문자   <  한글\n",
    "print(ord('#'), ord('0'), ord('A'), ord('a'), ord('가'))"
   ]
  },
  {
   "cell_type": "code",
   "execution_count": null,
   "id": "88e3e400",
   "metadata": {},
   "outputs": [],
   "source": [
    "# 논리연산자\n",
    "a & b  # and / 두 값이 True이면 결과 True, 나머진 모두 False, 0001\n",
    "a | b  # or / 두 값이 모두 False이면 결과 False, 나머진 모두 True, 0111\n",
    "a ^ b  # 두 값이 다를 경우 True, 같으면 Fasle, 0110\n",
    "not a  # 피연산자를 반대로 부정(True -> False, False -> True)"
   ]
  },
  {
   "cell_type": "code",
   "execution_count": 13,
   "id": "336e15d0",
   "metadata": {},
   "outputs": [
    {
     "name": "stdout",
     "output_type": "stream",
     "text": [
      "False\n",
      "True\n"
     ]
    }
   ],
   "source": [
    "num = 30\n",
    "# num이 5 ~ 20 사이의 숫자인가?\n",
    "# result = num > 5 and  num < 20 \n",
    "result = (num > 5) & (num < 20) \n",
    "print(result)\n",
    "print(not result)"
   ]
  },
  {
   "cell_type": "code",
   "execution_count": 14,
   "id": "48ef76a2",
   "metadata": {},
   "outputs": [
    {
     "name": "stdout",
     "output_type": "stream",
     "text": [
      "True\n",
      "False\n"
     ]
    }
   ],
   "source": [
    "num = 30\n",
    "# num이 5 ~ 20 사이 밖의 숫자인가?\n",
    "# result = num < 5  or  num > 20\n",
    "result = (num < 5) |  (num > 20)\n",
    "print(result)\n",
    "print(not result)"
   ]
  },
  {
   "cell_type": "code",
   "execution_count": 16,
   "id": "1aa4b07a",
   "metadata": {},
   "outputs": [
    {
     "name": "stdout",
     "output_type": "stream",
     "text": [
      "True\n",
      "False\n"
     ]
    }
   ],
   "source": [
    "print(True ^ False)\n",
    "print(True ^ True)"
   ]
  },
  {
   "cell_type": "code",
   "execution_count": 17,
   "id": "84431224",
   "metadata": {},
   "outputs": [
    {
     "name": "stdout",
     "output_type": "stream",
     "text": [
      "음수\n"
     ]
    }
   ],
   "source": [
    "# 조건연산자\n",
    "# - Value1 if 조건식 else Value2: 조건식이 True 이거나 False이냐에 따라 결과값을 반환\n",
    "num = -10\n",
    "var = '양수' if num >= 0  else '음수'\n",
    "print(var)"
   ]
  },
  {
   "cell_type": "markdown",
   "id": "eebeb41a",
   "metadata": {},
   "source": [
    "### 문자열(string)\n",
    "- 작은 따옴표나 큰 따옴표로 감싼다."
   ]
  },
  {
   "cell_type": "code",
   "execution_count": 18,
   "id": "0a22baa8",
   "metadata": {},
   "outputs": [
    {
     "name": "stdout",
     "output_type": "stream",
     "text": [
      "홍길동 홍길동\n"
     ]
    }
   ],
   "source": [
    "name1 = '홍길동'\n",
    "name2 = \"홍길동\"\n",
    "print(name1, name2)"
   ]
  },
  {
   "cell_type": "code",
   "execution_count": 21,
   "id": "7f8663f7",
   "metadata": {},
   "outputs": [
    {
     "name": "stdout",
     "output_type": "stream",
     "text": [
      "<class 'int'>\n",
      "<class 'str'>\n"
     ]
    }
   ],
   "source": [
    "# 다른 타입의 데이터를 문자열로 바꾸기\n",
    "print(type(200))\n",
    "value = str(200)\n",
    "print(type(value))"
   ]
  },
  {
   "cell_type": "code",
   "execution_count": null,
   "id": "36be6a5d",
   "metadata": {},
   "outputs": [],
   "source": [
    "# Escape 문자\n",
    "\\b  # Backspace\n",
    "\\t  # Tab\n",
    "\\n  # Enter\n",
    "\\\\  # \\"
   ]
  },
  {
   "cell_type": "code",
   "execution_count": 22,
   "id": "89a597d5",
   "metadata": {},
   "outputs": [
    {
     "name": "stdout",
     "output_type": "stream",
     "text": [
      "abc\bd\n",
      "abc\n",
      "def\n",
      "ghi\n",
      "abc\n",
      "def\n",
      "hgi\n",
      "abc\tdef\n"
     ]
    }
   ],
   "source": [
    "print('abc\\bd')  # Backspace\n",
    "print('abc\\ndef\\nghi')  # Enter\n",
    "print('''abc\n",
    "def\n",
    "hgi''')\n",
    "print('abc\\tdef')  # Tab"
   ]
  },
  {
   "cell_type": "code",
   "execution_count": 23,
   "id": "dbc1c543",
   "metadata": {},
   "outputs": [
    {
     "name": "stdout",
     "output_type": "stream",
     "text": [
      "C:\\Windows\\System32\\cmd.exe\n",
      "C:\\Windows\\tystem32\\nmd.exe\n"
     ]
    }
   ],
   "source": [
    "print('C:\\\\Windows\\\\System32\\\\cmd.exe')\n",
    "# escape문자의 \\를 무시: r-string\n",
    "print(r'C:\\Windows\\tystem32\\nmd.exe')"
   ]
  },
  {
   "cell_type": "code",
   "execution_count": 24,
   "id": "4b722381",
   "metadata": {},
   "outputs": [
    {
     "name": "stdout",
     "output_type": "stream",
     "text": [
      "ab\n",
      "이름: 홍길동\n"
     ]
    }
   ],
   "source": [
    "# 문자열 + 문자열: 문자열 + 다른 타입은 에러가 발생한다, 다른 타입을 string으로 변환\n",
    "print('a'+'b') #합친다.\n",
    "name = '홍길동'\n",
    "print(\"이름: \"+name)"
   ]
  },
  {
   "cell_type": "code",
   "execution_count": 25,
   "id": "7849890f",
   "metadata": {},
   "outputs": [
    {
     "name": "stdout",
     "output_type": "stream",
     "text": [
      "나이: 20\n",
      "키: 178.8\n"
     ]
    }
   ],
   "source": [
    "age = 20\n",
    "tall = 178.8\n",
    "print(\"나이: \"+str(age))\n",
    "print(\"키: \"+ str(tall))"
   ]
  },
  {
   "cell_type": "code",
   "execution_count": 26,
   "id": "798f7cc1",
   "metadata": {},
   "outputs": [
    {
     "name": "stdout",
     "output_type": "stream",
     "text": [
      "----------\n",
      "abcdabcdabcdabcdabcd\n"
     ]
    }
   ],
   "source": [
    "# 문자열 n회 반복\n",
    "print('-'*10)\n",
    "print('abcd'*5)"
   ]
  },
  {
   "cell_type": "code",
   "execution_count": 27,
   "id": "68676f55",
   "metadata": {},
   "outputs": [
    {
     "name": "stdout",
     "output_type": "stream",
     "text": [
      "홍길동 3\n",
      "21\n"
     ]
    }
   ],
   "source": [
    "# 문자열의 글자수 세기: len()\n",
    "print(name, len(name))\n",
    "print(len('alkdjflkasdjklasdjfkl'))"
   ]
  },
  {
   "cell_type": "code",
   "execution_count": 28,
   "id": "3cfbb593",
   "metadata": {},
   "outputs": [
    {
     "name": "stdout",
     "output_type": "stream",
     "text": [
      "True False\n"
     ]
    }
   ],
   "source": [
    "# 문자열 내에 특정 문자열이 있는지 확인: in, not in\n",
    "addr = '서울시 서초구 서초동'\n",
    "r = \"서초구\" in addr  #addr 문자열 안에 \"서초구\" 문자열이 있냐?\n",
    "r2 = \"종로구\" in addr\n",
    "print(r, r2)"
   ]
  },
  {
   "cell_type": "code",
   "execution_count": 29,
   "id": "70878990",
   "metadata": {},
   "outputs": [
    {
     "name": "stdout",
     "output_type": "stream",
     "text": [
      "False True\n"
     ]
    }
   ],
   "source": [
    "r = \"서초구\" not in addr  #addr 문자열 안에 \"서초구\" 문자열이 없냐?\n",
    "r2 = \"종로구\" not in addr\n",
    "print(r, r2)"
   ]
  },
   {
   "cell_type": "code",
   "execution_count": null,
   "id": "d9dafb4a",
   "metadata": {},
   "outputs": [],
   "source": []
  }
 ],
 "metadata": {
  "kernelspec": {
   "display_name": "Python 3 (ipykernel)",
   "language": "python",
   "name": "python3"
  },
  "language_info": {
   "codemirror_mode": {
    "name": "ipython",
    "version": 3
   },
   "file_extension": ".py",
   "mimetype": "text/x-python",
   "name": "python",
   "nbconvert_exporter": "python",
   "pygments_lexer": "ipython3",
   "version": "3.9.7"
  }
 },
 "nbformat": 4,
 "nbformat_minor": 5
}

 
