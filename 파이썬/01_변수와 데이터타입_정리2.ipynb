{
 "cells": [
  {
   "cell_type": "markdown",
   "id": "a20ab715",
   "metadata": {},
   "source": [
    "## 인덱싱(Indexing), 슬라이싱(Slicing)\n",
    "- 문자열의 각 문자는 index 번호를 가진다 (변경X)\n",
    "    - index는 0 부터 시작한다, 역으로는 -1부터 시작\n",
    "- 인덱싱: 문자열의 index를 이용해 문자를 조회한다\n",
    "- 슬라이싱: 문자열의 index의 범위로 문자열을 조회한다"
   ]
  },
  {
   "cell_type": "markdown",
   "id": "92e4bf32",
   "metadata": {},
   "source": [
    "### 인덱싱\n",
    "- 문자열[index]: index의 글자를 조회"
   ]
  },
  {
   "cell_type": "code",
   "execution_count": 1,
   "id": "f5a4ad31",
   "metadata": {},
   "outputs": [
    {
     "name": "stdout",
     "output_type": "stream",
     "text": [
      "안녕하세요. 반갑습니다.\n",
      "2번 index 글자(3번째): 하\n",
      "5번 index 글자(6번째): .\n",
      "뒤에서 2번째 글자: 다\n",
      "반 반\n"
     ]
    }
   ],
   "source": [
    "# 인덱싱\n",
    "# 문자열[index]: index의 글자를 조회\n",
    "s = \"안녕하세요. 반갑습니다.\"\n",
    "print(s)\n",
    "print(\"2번 index 글자(3번째):\", s[2])\n",
    "print('5번 index 글자(6번째):', s[5])\n",
    "print('뒤에서 2번째 글자:', s[-2])\n",
    "print(s[7], s[-6])"
   ]
  },
  {
   "cell_type": "markdown",
   "id": "d1e8f554",
   "metadata": {},
   "source": [
    "### 슬라이싱\n",
    "- 문자열[시작index:종료index:간격]"
   ]
  },
  {
   "cell_type": "code",
   "execution_count": 3,
   "id": "98e1794d",
   "metadata": {},
   "outputs": [
    {
     "name": "stdout",
     "output_type": "stream",
     "text": [
      "14\n"
     ]
    }
   ],
   "source": [
    "s = \"abcdefghijklmn\"\n",
    "print(len(s)) # 14글자 - index: 0 ~ 13 "
   ]
  },
  {
   "cell_type": "code",
   "execution_count": 4,
   "id": "07f11913",
   "metadata": {},
   "outputs": [
    {
     "data": {
      "text/plain": [
       "'cegi'"
      ]
     },
     "execution_count": 4,
     "metadata": {},
     "output_type": "execute_result"
    }
   ],
   "source": [
    "s[2:10:2] #범위: 2 ~ 10-1(9) 간격-2 => 2, 4, 6, 8,"
   ]
  },
  {
   "cell_type": "code",
   "execution_count": 5,
   "id": "ffc3a3e3",
   "metadata": {},
   "outputs": [
    {
     "data": {
      "text/plain": [
       "'cdefghij'"
      ]
     },
     "execution_count": 5,
     "metadata": {},
     "output_type": "execute_result"
    }
   ],
   "source": [
    "s[2:10] # 간격 생략-기본값:1, :도 생략가능"
   ]
  },
  {
   "cell_type": "code",
   "execution_count": 6,
   "id": "99988ea9",
   "metadata": {},
   "outputs": [
    {
     "data": {
      "text/plain": [
       "'abcdefghij'"
      ]
     },
     "execution_count": 6,
     "metadata": {},
     "output_type": "execute_result"
    }
   ],
   "source": [
    "s[:10] #시작 생략-기본값: 0  : 0 ~ 9"
   ]
  },
  {
   "cell_type": "code",
   "execution_count": 7,
   "id": "b0306976",
   "metadata": {},
   "outputs": [
    {
     "data": {
      "text/plain": [
       "'klmn'"
      ]
     },
     "execution_count": 7,
     "metadata": {},
     "output_type": "execute_result"
    }
   ],
   "source": [
    "s[10:] #종료 생략-마지막 index까지 다 조회"
   ]
  },
  {
   "cell_type": "code",
   "execution_count": 8,
   "id": "fda5429c",
   "metadata": {},
   "outputs": [
    {
     "data": {
      "text/plain": [
       "'fedc'"
      ]
     },
     "execution_count": 8,
     "metadata": {},
     "output_type": "execute_result"
    }
   ],
   "source": [
    "s[5:1:-1]  # 시작: 5 ~ 종료: 2"
   ]
  },
  {
   "cell_type": "markdown",
   "id": "057ed9dc",
   "metadata": {},
   "source": [
    "### 문자열 formatting\n",
    "- 문자열에 문장 Layout을 미리 만들어 놓고 값은 나중에 대입하는 방식\n",
    "    - 여러 문자열이 같은 Layout에 특정 값들만 바뀌는 경우 사용"
   ]
  },
  {
   "cell_type": "code",
   "execution_count": 9,
   "id": "d46b9cfe",
   "metadata": {},
   "outputs": [
    {
     "name": "stdout",
     "output_type": "stream",
     "text": [
      "이름: 홍길동\n",
      "나이: 10세\n",
      "주소: 서울\n",
      "이름: 이순신\n",
      "나이: 20세\n",
      "주소: 인천\n"
     ]
    }
   ],
   "source": [
    "name1, age1, address1 = '홍길동', 10, '서울'\n",
    "name2, age2, address2 = '이순신', 20, '인천'\n",
    "name3, age3, address3 = '강감찬', 30, '부산'\n",
    "\n",
    "info1 = \"이름: \"+name1+\"\\n나이: \"+str(age1)+\"세\\n주소: \"+address1\n",
    "print(info1)\n",
    "info2 = \"이름: \"+name2+\"\\n나이: \"+str(age2)+\"세\\n주소: \"+address2\n",
    "print(info2)"
   ]
  },
  {
   "cell_type": "code",
   "execution_count": 11,
   "id": "e4723c15",
   "metadata": {},
   "outputs": [
    {
     "name": "stdout",
     "output_type": "stream",
     "text": [
      "이름: 홍길동\n",
      "나이: 10세\n",
      "주소: 서울\n"
     ]
    }
   ],
   "source": [
    "# format()함수 사용\n",
    "# {} => 나중에 값이 들어갈 자리\n",
    "info_layout = \"이름: {}\\n나이: {}세\\n주소: {}\"\n",
    "\n",
    "info1 = info_layout.format(name1, age1, address1) \n",
    "# name1->첫번째{}, age1->두번째{}, address1->세번째 {} 에 넣어서 \n",
    "# 문자열(string)을 완성\n",
    "print(info1)"
   ]
  },
  {
   "cell_type": "code",
   "execution_count": 13,
   "id": "33077ca3",
   "metadata": {},
   "outputs": [
    {
     "name": "stdout",
     "output_type": "stream",
     "text": [
      "이름: 홍길동, 나이: 23, 몸무게: 72.70\n"
     ]
    }
   ],
   "source": [
    "# 형식문자를 이용한 문자열 formatting \n",
    "# %s-string, %d-int, %f-float\n",
    "name, age, weight = '홍길동', 23, 72.7\n",
    "info = \"이름: %s, 나이: %d, 몸무게: %.2f\" % (name, age, weight)\n",
    "print(info)"
   ]
  },
  {
   "cell_type": "code",
   "execution_count": 14,
   "id": "4e9b1ec4",
   "metadata": {},
   "outputs": [
    {
     "name": "stdout",
     "output_type": "stream",
     "text": [
      "이름: 홍길동, 나이: 23, 몸무게: 72.7\n"
     ]
    }
   ],
   "source": [
    "# f-string\n",
    "name, age, weight = '홍길동', 23, 72.7\n",
    "print(f\"이름: {name}, 나이: {age}, 몸무게: {weight}\")"
   ]
  },
  {
   "cell_type": "code",
   "execution_count": 15,
   "id": "927c86c2",
   "metadata": {},
   "outputs": [
    {
     "name": "stdout",
     "output_type": "stream",
     "text": [
      "이름:   홍길동, 나이: 23, 몸무게: 81.16\n"
     ]
    }
   ],
   "source": [
    "weight=81.156\n",
    "print(f\"이름: {name:>5}, 나이: {age}, 몸무게: {weight:.2f}\")\n",
    "# < : 왼쪽정렬, > : 오른쪽정렬, ^ : 가운데정렬"
   ]
  },
  {
   "cell_type": "markdown",
   "id": "03f889ca",
   "metadata": {},
   "source": [
    "### 문자열 관련 함수/메소드\n",
    "\n",
    "- split(구분문자열): 구분 문자열을 기준으로 나눈다\n",
    "- strip(): 앞뒤 공백 제거\n",
    "- lstrip(): 앞 공백 제거\n",
    "- rstrip(): 뒤 공백 제거\n",
    "- replace('바꿀문자열','새문자열'): 바꿀문자열을 새문자열로 바꾼다\n",
    "- count('세려는 문자열'): 세려는 문자열이 몇번 쓰였는지 확인\n",
    "- index(문자열): 문자열이 몇 번째 있는지 확인, 없으면 Error 발생\n",
    "- find(문자열): 문자열이 몇 번째 있는지 확인, 없으면 -1 리턴\n",
    "- upper(): 대문자로 변환\n",
    "- lower(): 소문자로 변환\n",
    "- startswith(): 문자열로 시작하는지 확인\n",
    "- endswith(): 문자열로 끝나는지 확인"
   ]
  },
  {
   "cell_type": "code",
   "execution_count": 17,
   "id": "bb38f88c",
   "metadata": {},
   "outputs": [
    {
     "data": {
      "text/plain": [
       "['사과', '귤', '배', '수박', '복숭아']"
      ]
     },
     "execution_count": 17,
     "metadata": {},
     "output_type": "execute_result"
    }
   ],
   "source": [
    "s = \"사과|귤|배|수박|복숭아\"\n",
    "s.split('|')  "
   ]
  },
  {
   "cell_type": "code",
   "execution_count": 20,
   "id": "0394ff0d",
   "metadata": {},
   "outputs": [
    {
     "name": "stdout",
     "output_type": "stream",
     "text": [
      "abc    \n",
      "    abc\n",
      "abc\n"
     ]
    }
   ],
   "source": [
    "s2 = \"    abc    \"\n",
    "print(s2.lstrip())  \n",
    "print(s2.rstrip())  \n",
    "print(s2.strip())  "
   ]
  },
  {
   "cell_type": "code",
   "execution_count": 24,
   "id": "eb212c15",
   "metadata": {},
   "outputs": [
    {
     "name": "stdout",
     "output_type": "stream",
     "text": [
      "가c가c가c\n",
      "abcabcabc\n"
     ]
    }
   ],
   "source": [
    "s3 = \"abcabcabc\"\n",
    "print(s3.replace('ab', '가')) \n",
    "print(s3)  # 문자열을 다시 실행하면 바뀌지 않는다"
   ]
  },
  {
   "cell_type": "code",
   "execution_count": 22,
   "id": "e543345a",
   "metadata": {},
   "outputs": [
    {
     "name": "stdout",
     "output_type": "stream",
     "text": [
      "3\n",
      "3\n"
     ]
    }
   ],
   "source": [
    "len(s3) \n",
    "print(s3.count('a'))\n",
    "print(s3.count('bc')) "
   ]
  },
  {
   "cell_type": "code",
   "execution_count": 25,
   "id": "0e4694c0",
   "metadata": {},
   "outputs": [
    {
     "name": "stdout",
     "output_type": "stream",
     "text": [
      "0\n",
      "1\n"
     ]
    },
    {
     "ename": "ValueError",
     "evalue": "substring not found",
     "output_type": "error",
     "traceback": [
      "\u001b[1;31m---------------------------------------------------------------------------\u001b[0m",
      "\u001b[1;31mValueError\u001b[0m                                Traceback (most recent call last)",
      "\u001b[1;32m~\\AppData\\Local\\Temp/ipykernel_2652/172251737.py\u001b[0m in \u001b[0;36m<module>\u001b[1;34m\u001b[0m\n\u001b[0;32m      1\u001b[0m \u001b[0mprint\u001b[0m\u001b[1;33m(\u001b[0m\u001b[0ms3\u001b[0m\u001b[1;33m.\u001b[0m\u001b[0mindex\u001b[0m\u001b[1;33m(\u001b[0m\u001b[1;34m'a'\u001b[0m\u001b[1;33m)\u001b[0m\u001b[1;33m)\u001b[0m \u001b[1;31m# 'a' index\u001b[0m\u001b[1;33m\u001b[0m\u001b[1;33m\u001b[0m\u001b[0m\n\u001b[0;32m      2\u001b[0m \u001b[0mprint\u001b[0m\u001b[1;33m(\u001b[0m\u001b[0ms3\u001b[0m\u001b[1;33m.\u001b[0m\u001b[0mindex\u001b[0m\u001b[1;33m(\u001b[0m\u001b[1;34m'bc'\u001b[0m\u001b[1;33m)\u001b[0m\u001b[1;33m)\u001b[0m\u001b[1;33m\u001b[0m\u001b[1;33m\u001b[0m\u001b[0m\n\u001b[1;32m----> 3\u001b[1;33m \u001b[0mprint\u001b[0m\u001b[1;33m(\u001b[0m\u001b[0ms3\u001b[0m\u001b[1;33m.\u001b[0m\u001b[0mindex\u001b[0m\u001b[1;33m(\u001b[0m\u001b[1;34m'가'\u001b[0m\u001b[1;33m)\u001b[0m\u001b[1;33m)\u001b[0m \u001b[1;31m#없는 문자열을 찾으면 에러\u001b[0m\u001b[1;33m\u001b[0m\u001b[1;33m\u001b[0m\u001b[0m\n\u001b[0m",
      "\u001b[1;31mValueError\u001b[0m: substring not found"
     ]
    }
   ],
   "source": [
    "print(s3.index('a')) # 'a' index\n",
    "print(s3.index('bc'))\n",
    "print(s3.index('가')) #없는 문자열을 찾으면 에러"
   ]
  },
  {
   "cell_type": "code",
   "execution_count": 26,
   "id": "5e7465c4",
   "metadata": {},
   "outputs": [
    {
     "data": {
      "text/plain": [
       "-1"
      ]
     },
     "execution_count": 26,
     "metadata": {},
     "output_type": "execute_result"
    }
   ],
   "source": [
    "s3.find('a')\n",
    "s3.find('bc')\n",
    "s3.find('가') #없는 문자열을 찾을 경우 -1을 반환"
   ]
  },
  {
   "cell_type": "code",
   "execution_count": 28,
   "id": "07d5c9e5",
   "metadata": {},
   "outputs": [
    {
     "data": {
      "text/plain": [
       "'abcde'"
      ]
     },
     "execution_count": 28,
     "metadata": {},
     "output_type": "execute_result"
    }
   ],
   "source": [
    "s4 = 'AbCdE'\n",
    "s4.upper()\n",
    "s4.lower()"
   ]
  },
  {
   "cell_type": "code",
   "execution_count": 29,
   "id": "cc1fb839",
   "metadata": {},
   "outputs": [
    {
     "name": "stdout",
     "output_type": "stream",
     "text": [
      "True\n",
      "False\n"
     ]
    }
   ],
   "source": [
    "addr = '서울시 서대문구'\n",
    "print(addr.startswith('서울'))\n",
    "print(addr.startswith('광주'))"
   ]
  },
  {
   "cell_type": "code",
   "execution_count": 30,
   "id": "e82631de",
   "metadata": {},
   "outputs": [
    {
     "name": "stdout",
     "output_type": "stream",
     "text": [
      "True\n",
      "False\n"
     ]
    }
   ],
   "source": [
    "url = 'www.naver.com'\n",
    "print(url.endswith('.com'))\n",
    "print(url.endswith('.net'))"
   ]
  },
  {
   "cell_type": "markdown",
   "id": "e24f5906",
   "metadata": {},
   "source": [
    "### 타입변환\n",
    "- int(값): 정수로 변환\n",
    "- float(값): 실수로 변환\n",
    "- str(값): 문자열로 변환\n",
    "- bool(값): 논리값으로 변환"
   ]
  },
  {
   "cell_type": "code",
   "execution_count": 32,
   "id": "668f4c78",
   "metadata": {},
   "outputs": [
    {
     "name": "stdout",
     "output_type": "stream",
     "text": [
      "num1: 100\n",
      "<class 'str'>\n"
     ]
    }
   ],
   "source": [
    "num1 = input(\"num1: \")  \n",
    "#사용자로부터 값을 입력받을 때 사용. 입력받은 값을 str으로 반환\n",
    "print(type(num1))"
   ]
  },
  {
   "cell_type": "code",
   "execution_count": 33,
   "id": "61aab7df",
   "metadata": {},
   "outputs": [
    {
     "name": "stdout",
     "output_type": "stream",
     "text": [
      "num2: 50\n"
     ]
    }
   ],
   "source": [
    "num2 = input(\"num2: \")"
   ]
  },
  {
   "cell_type": "code",
   "execution_count": 34,
   "id": "fe5ad2f7",
   "metadata": {},
   "outputs": [
    {
     "data": {
      "text/plain": [
       "150"
      ]
     },
     "execution_count": 34,
     "metadata": {},
     "output_type": "execute_result"
    }
   ],
   "source": [
    "# 덧셈을 하려면 문자열을 정수/실수 변환\n",
    "int(num1) + int(num2)"
   ]
  },
  {
   "cell_type": "code",
   "execution_count": 35,
   "id": "540ea896",
   "metadata": {},
   "outputs": [
    {
     "data": {
      "text/plain": [
       "150.0"
      ]
     },
     "execution_count": 35,
     "metadata": {},
     "output_type": "execute_result"
    }
   ],
   "source": [
    "float(num1) + float(num2)  #'50' => 50.0"
   ]
  },
  {
   "cell_type": "code",
   "execution_count": 37,
   "id": "ec3e0625",
   "metadata": {},
   "outputs": [
    {
     "name": "stdout",
     "output_type": "stream",
     "text": [
      "abc\n"
     ]
    },
    {
     "ename": "ValueError",
     "evalue": "invalid literal for int() with base 10: 'abc'",
     "output_type": "error",
     "traceback": [
      "\u001b[1;31m---------------------------------------------------------------------------\u001b[0m",
      "\u001b[1;31mValueError\u001b[0m                                Traceback (most recent call last)",
      "\u001b[1;32m~\\AppData\\Local\\Temp/ipykernel_2652/169695380.py\u001b[0m in \u001b[0;36m<module>\u001b[1;34m\u001b[0m\n\u001b[0;32m      1\u001b[0m \u001b[0ms\u001b[0m \u001b[1;33m=\u001b[0m \u001b[0minput\u001b[0m\u001b[1;33m(\u001b[0m\u001b[1;33m)\u001b[0m\u001b[1;33m\u001b[0m\u001b[1;33m\u001b[0m\u001b[0m\n\u001b[1;32m----> 2\u001b[1;33m \u001b[0mint\u001b[0m\u001b[1;33m(\u001b[0m\u001b[0ms\u001b[0m\u001b[1;33m)\u001b[0m \u001b[1;31m# abc를 정수로 변환\u001b[0m\u001b[1;33m\u001b[0m\u001b[1;33m\u001b[0m\u001b[0m\n\u001b[0m\u001b[0;32m      3\u001b[0m \u001b[1;31m# float(), int()는 변환가능한 형태의 문자열만 변환\u001b[0m\u001b[1;33m\u001b[0m\u001b[1;33m\u001b[0m\u001b[0m\n",
      "\u001b[1;31mValueError\u001b[0m: invalid literal for int() with base 10: 'abc'"
     ]
    }
   ],
   "source": [
    "s = input()\n",
    "int(s) # abc를 정수로 변환\n",
    "# float(), int()는 변환가능한 형태의 문자열만 변환"
   ]
  },
  {
   "cell_type": "code",
   "execution_count": 38,
   "id": "d02d135b",
   "metadata": {},
   "outputs": [
    {
     "data": {
      "text/plain": [
       "0"
      ]
     },
     "execution_count": 38,
     "metadata": {},
     "output_type": "execute_result"
    }
   ],
   "source": [
    "int(True)  # True: 1\n",
    "int(False) # False: 0"
   ]
  }
 ],
 "metadata": {
  "kernelspec": {
   "display_name": "Python 3 (ipykernel)",
   "language": "python",
   "name": "python3"
  },
  "language_info": {
   "codemirror_mode": {
    "name": "ipython",
    "version": 3
   },
   "file_extension": ".py",
   "mimetype": "text/x-python",
   "name": "python",
   "nbconvert_exporter": "python",
   "pygments_lexer": "ipython3",
   "version": "3.9.7"
  }
 },
 "nbformat": 4,
 "nbformat_minor": 5
}
