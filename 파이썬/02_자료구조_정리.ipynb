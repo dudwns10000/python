{
 "cells": [
  {
   "cell_type": "markdown",
   "id": "b1dcb43e",
   "metadata": {},
   "source": [
    "# 자료구조\n",
    "- 리스트\n",
    "- 튜플\n",
    "- 딕셔너리\n",
    "- Set"
   ]
  },
  {
   "cell_type": "markdown",
   "id": "2484d8d8",
   "metadata": {},
   "source": [
    "### 리스트(List)\n",
    "- 값을 순서대로 모아서 관리하는 구조\n",
    "- 각 원소들은 Index값을 가진다\n",
    "- 다른 값으로 바꿀 수 있다\n",
    "- [값1, 값2, 값3,...]"
   ]
  },
  {
   "cell_type": "code",
   "execution_count": 1,
   "id": "e31f920b",
   "metadata": {},
   "outputs": [
    {
     "name": "stdout",
     "output_type": "stream",
     "text": [
      "1 30\n",
      "abc None\n"
     ]
    }
   ],
   "source": [
    "l1 = [1, 2, 10, 30]  # 리스트\n",
    "l2 = [10.7, 5, 'abc', True, None, 30]\n",
    "# 조회 : indexing / slicing\n",
    "# indexing\n",
    "print(l1[0], l1[3])\n",
    "print(l2[2], l2[4])"
   ]
  },
  {
   "cell_type": "code",
   "execution_count": 2,
   "id": "659afd31",
   "metadata": {},
   "outputs": [
    {
     "name": "stdout",
     "output_type": "stream",
     "text": [
      "l1 원소개수: 4\n",
      "l2 원소개수: 6\n"
     ]
    }
   ],
   "source": [
    "# index내의 원소 개수 조회\n",
    "print('l1 원소개수:', len(l1))\n",
    "print('l2 원소개수:', len(l2))"
   ]
  },
  {
   "cell_type": "code",
   "execution_count": 3,
   "id": "b84a5e24",
   "metadata": {},
   "outputs": [
    {
     "name": "stdout",
     "output_type": "stream",
     "text": [
      "['abc', True, None]\n",
      "[10.7, 5, 'abc']\n",
      "[True, None, 30]\n",
      "[10.7, 'abc', None]\n"
     ]
    }
   ],
   "source": [
    "# slicing\n",
    "print(l2[2:5])\n",
    "print(l2[:3])\n",
    "print(l2[3:])\n",
    "print(l2[::2])"
   ]
  },
  {
   "cell_type": "code",
   "execution_count": 4,
   "id": "1257fedb",
   "metadata": {},
   "outputs": [
    {
     "name": "stdout",
     "output_type": "stream",
     "text": [
      "[100, 5, 'abc', True, '가나다', 30]\n"
     ]
    }
   ],
   "source": [
    "# 리스트는 원소를 변경할 수 있다. 변경 -> 대입연산\n",
    "l2[0] = 100\n",
    "l2[4] = '가나다'\n",
    "print(l2)"
   ]
  },
  {
   "cell_type": "code",
   "execution_count": 5,
   "id": "f835d4b2",
   "metadata": {},
   "outputs": [
    {
     "name": "stdout",
     "output_type": "stream",
     "text": [
      "[1, 2, 3, 4, 5, True, '가나다', 30]\n",
      "[1, 2, True, '가나다', 30]\n"
     ]
    }
   ],
   "source": [
    "# slicing을 이용하면 지정한 범위의 원소들을 한번에 바꿀 수 있다.\n",
    "l2[:3] = [1,2,3,4,5]\n",
    "print(l2)\n",
    "l2[2:5] = []\n",
    "print(l2)"
   ]
  },
  {
   "cell_type": "code",
   "execution_count": 6,
   "id": "444a1eeb",
   "metadata": {},
   "outputs": [
    {
     "name": "stdout",
     "output_type": "stream",
     "text": [
      "2\n",
      "5\n"
     ]
    }
   ],
   "source": [
    "# 중첩 리스트\n",
    "l3 = [[1,2], [3,4], [5,6]]\n",
    "print(l3[0][1])\n",
    "print(l3[2][0])"
   ]
  },
  {
   "cell_type": "code",
   "execution_count": 7,
   "id": "aa511270",
   "metadata": {},
   "outputs": [
    {
     "name": "stdout",
     "output_type": "stream",
     "text": [
      "4\n",
      "60\n"
     ]
    }
   ],
   "source": [
    "l4 = [[[1,2], [3,4], [5,6]],[[10,20], [30,40], [50,60]]]\n",
    "print(l4[0][1][1])\n",
    "print(l4[1][2][1])"
   ]
  },
  {
   "cell_type": "markdown",
   "id": "34373f21",
   "metadata": {},
   "source": [
    "### 리스트 연산자\n",
    "- 리스트 + 리스트 : 두 리스트를 합친 새로운 리스트 반환\n",
    "- 리스트 * 정수 : 리스트를 정수만큼 반복해서 새로운 리스트를 반환\n",
    "- 값 in 리스트, 값 not in 리스트 : 리스트안에 값이 있는지(in). 없는지(not in)   bool 값으로 변환"
   ]
  },
  {
   "cell_type": "code",
   "execution_count": 8,
   "id": "2d1de1ad",
   "metadata": {},
   "outputs": [
    {
     "name": "stdout",
     "output_type": "stream",
     "text": [
      "[1, 2, 3, 10, 20, 30]\n"
     ]
    }
   ],
   "source": [
    "l1 = [1, 2, 3]\n",
    "l2 =[10, 20, 30]\n",
    "l3 = l1 + l2\n",
    "print(l3)"
   ]
  },
  {
   "cell_type": "code",
   "execution_count": 9,
   "id": "43806313",
   "metadata": {},
   "outputs": [
    {
     "name": "stdout",
     "output_type": "stream",
     "text": [
      "[1, 2, 3, 1, 2, 3, 1, 2, 3]\n"
     ]
    }
   ],
   "source": [
    "l4 = l1 * 3\n",
    "print(l4)"
   ]
  },
  {
   "cell_type": "markdown",
   "id": "032b003d",
   "metadata": {},
   "source": [
    "### 리스트 대입\n",
    "- 여러개의 변수에 리스트의 값들을 한번에 대입"
   ]
  },
  {
   "cell_type": "code",
   "execution_count": 10,
   "id": "13523d4d",
   "metadata": {},
   "outputs": [
    {
     "name": "stdout",
     "output_type": "stream",
     "text": [
      "1 2 3\n"
     ]
    }
   ],
   "source": [
    "a, b, c = [1,2,3] #변수와 라스트 원소의 개수와 같아 야한다.\n",
    "print(a, b, c)"
   ]
  },
  {
   "cell_type": "markdown",
   "id": "25697b7b",
   "metadata": {},
   "source": [
    "### 리스트 주요 메소드\n",
    "- len(리스트): 리스트의 원소 개수 반환\n",
    "- append(값): 값을 마지막 원소로 추가\n",
    "- extend(리스트): 리스트의 원소들을 추가\n",
    "- sorted(리스트,reverse=True): 원소를 오름차순/내림차순(True)으로 정렬\n",
    "    - 리스트내 원소들의 타입이 같아야한다\n",
    "- insert(index,삽입할값): 값을 index에 삽입한다\n",
    "- remove(삭제할값): 리스트에서 값과 일치하는 원소를 삭제한다\n",
    "- count(값): 매개변수에 전달한 값의 개수를 반환한다"
   ]
  },
  {
   "cell_type": "code",
   "execution_count": 11,
   "id": "4c935d91",
   "metadata": {},
   "outputs": [
    {
     "name": "stdout",
     "output_type": "stream",
     "text": [
      "원소개수: 3\n"
     ]
    }
   ],
   "source": [
    "print(\"원소개수:\",len(l1))"
   ]
  },
  {
   "cell_type": "code",
   "execution_count": 12,
   "id": "bfa700aa",
   "metadata": {},
   "outputs": [
    {
     "name": "stdout",
     "output_type": "stream",
     "text": [
      "[1, 2, 3, 10]\n"
     ]
    }
   ],
   "source": [
    "l1.append(10)   # list.append(추가할값)\n",
    "print(l1)"
   ]
  },
  {
   "cell_type": "code",
   "execution_count": 13,
   "id": "2c8b3c88",
   "metadata": {},
   "outputs": [
    {
     "name": "stdout",
     "output_type": "stream",
     "text": [
      "[1, 2, 3, 10, 3, 4, 5]\n"
     ]
    }
   ],
   "source": [
    "l1.extend([3,4,5])  # l1 리스트에 추가\n",
    "print(l1)"
   ]
  },
  {
   "cell_type": "code",
   "execution_count": 14,
   "id": "a624c805",
   "metadata": {},
   "outputs": [
    {
     "data": {
      "text/plain": [
       "[1, 2, 3, 10, 3, 4, 5, 30, 40, 50]"
      ]
     },
     "execution_count": 14,
     "metadata": {},
     "output_type": "execute_result"
    }
   ],
   "source": [
    "l1 + [30,40,50]   # l1과 [30,40,50]을 합친 새로운 리스트가 반환(l1은 안바뀜)"
   ]
  },
  {
   "cell_type": "code",
   "execution_count": 15,
   "id": "d5e25ece",
   "metadata": {},
   "outputs": [
    {
     "name": "stdout",
     "output_type": "stream",
     "text": [
      "[1, 2, 3, 3, 4, 5, 10]\n",
      "[10, 5, 4, 3, 3, 2, 1]\n"
     ]
    }
   ],
   "source": [
    "# 정렬 - sorted(리스트): 원본 리스트를 변경하지 않고 정렬한 새로운 리스트를 반환\n",
    "print(sorted(l1))  #오름차순\n",
    "print(sorted(l1, reverse=True))  #내림차순"
   ]
  },
  {
   "cell_type": "code",
   "execution_count": 16,
   "id": "2eaf98bf",
   "metadata": {},
   "outputs": [
    {
     "name": "stdout",
     "output_type": "stream",
     "text": [
      "[1, 2, 3, 3, 4, 5, 10]\n",
      "[10, 5, 4, 3, 3, 2, 1]\n"
     ]
    }
   ],
   "source": [
    "# 정렬 - sorted(리스트): 원본 리스트를 변경하지 않고 정렬한 새로운 리스트를 반환\n",
    "print(sorted(l1))  #오름차순\n",
    "print(sorted(l1, reverse=True))  #내림차순"
   ]
  },
  {
   "cell_type": "code",
   "execution_count": 17,
   "id": "6e4b515d",
   "metadata": {},
   "outputs": [
    {
     "name": "stdout",
     "output_type": "stream",
     "text": [
      "[1, 2, 3, 3, 4, 5, 10]\n"
     ]
    }
   ],
   "source": [
    "#정렬 - 리스트.sort() - 원본 리스트 자체를 정렬\n",
    "l1.sort()\n",
    "print(l1)"
   ]
  },
  {
   "cell_type": "code",
   "execution_count": 18,
   "id": "9b8ce8ab",
   "metadata": {},
   "outputs": [
    {
     "name": "stdout",
     "output_type": "stream",
     "text": [
      "[1, 2, 3, '가나다', 3, 4, 5, 10]\n"
     ]
    }
   ],
   "source": [
    "l1.insert(3, '가나다')  # index 3에 '가나다' 삽입\n",
    "print(l1)"
   ]
  },
  {
   "cell_type": "code",
   "execution_count": 19,
   "id": "39543a5e",
   "metadata": {},
   "outputs": [
    {
     "data": {
      "text/plain": [
       "[2, 3, '가나다', 3, 4, 5, 10]"
      ]
     },
     "execution_count": 19,
     "metadata": {},
     "output_type": "execute_result"
    }
   ],
   "source": [
    "# index로 원소 삭제 : del\n",
    "del l1[0]\n",
    "l1"
   ]
  },
  {
   "cell_type": "code",
   "execution_count": 20,
   "id": "950116b7",
   "metadata": {},
   "outputs": [
    {
     "data": {
      "text/plain": [
       "[2, 3, 3, 4, 5, 10]"
      ]
     },
     "execution_count": 20,
     "metadata": {},
     "output_type": "execute_result"
    }
   ],
   "source": [
    "# 값으로 삭제\n",
    "l1.remove('가나다')\n",
    "l1"
   ]
  },
  {
   "cell_type": "code",
   "execution_count": 21,
   "id": "4046cc06",
   "metadata": {},
   "outputs": [
    {
     "data": {
      "text/plain": [
       "1"
      ]
     },
     "execution_count": 21,
     "metadata": {},
     "output_type": "execute_result"
    }
   ],
   "source": [
    "l1.count(10) #값 10이 몇 개인지"
   ]
  },
  {
   "cell_type": "markdown",
   "id": "6f4f5981",
   "metadata": {},
   "source": [
    "### 튜플(Tuple)\n",
    "- 리스트와 같이 순서대로 원소들을 저장하는 자료구조\n",
    "- 원소를 변경할 수 없다\n",
    "- 튜플은 각 index마다 정해진 의미가 있고 그 값이 한번 설정되면 바뀌지 않는다\n",
    "- (값1, 값2, 값3,...)"
   ]
  },
  {
   "cell_type": "code",
   "execution_count": 24,
   "id": "56beef8a",
   "metadata": {},
   "outputs": [],
   "source": [
    "t1 = (1, 2, 3, 4, 5) #소괄호로 묶는다.\n",
    "t2 = 10,20,30,40,50 # 소괄호 생략가능\n",
    "t3 = 10, '가', True"
   ]
  },
  {
   "cell_type": "code",
   "execution_count": 25,
   "id": "4c7be855",
   "metadata": {},
   "outputs": [
    {
     "data": {
      "text/plain": [
       "(100, int, tuple)"
      ]
     },
     "execution_count": 25,
     "metadata": {},
     "output_type": "execute_result"
    }
   ],
   "source": [
    "t4 = (100)  #t4 = 100, 원소가 1개이면 뒤에 , 를 붙인다\n",
    "t4, type(t4), type(t3)"
   ]
  },
  {
   "cell_type": "markdown",
   "id": "88427dfa",
   "metadata": {},
   "source": [
    "### 튜플 대입"
   ]
  },
  {
   "cell_type": "code",
   "execution_count": 26,
   "id": "459b499f",
   "metadata": {},
   "outputs": [
    {
     "name": "stdout",
     "output_type": "stream",
     "text": [
      "홍길동 30 서울\n"
     ]
    }
   ],
   "source": [
    "name, age, address = ('홍길동', 30, '서울')  #튜플 대입\n",
    "print(name, age, address)\n",
    "# name, age, address = ['홍길동', 30, '서울']  #리스트 대입"
   ]
  },
  {
   "cell_type": "code",
   "execution_count": 27,
   "id": "234d004d",
   "metadata": {},
   "outputs": [
    {
     "name": "stdout",
     "output_type": "stream",
     "text": [
      "홍길동1 32 서울1\n"
     ]
    }
   ],
   "source": [
    "name, age, address = '홍길동1', 32, '서울1' #튜플 대입\n",
    "print(name, age, address)"
   ]
  },
  {
   "cell_type": "markdown",
   "id": "1f29e8eb",
   "metadata": {},
   "source": [
    "### indexing, slicing\n",
    "- 조회만 가능하고 변경은 할 수 없다"
   ]
  },
  {
   "cell_type": "code",
   "execution_count": 28,
   "id": "bab83d76",
   "metadata": {},
   "outputs": [
    {
     "data": {
      "text/plain": [
       "(100, 20, 8)"
      ]
     },
     "execution_count": 28,
     "metadata": {},
     "output_type": "execute_result"
    }
   ],
   "source": [
    "t7 = 100, 4, 8, 20, 20, 1, 8\n",
    "t7[0], t7[3], t7[6]"
   ]
  },
  {
   "cell_type": "code",
   "execution_count": 29,
   "id": "464f4e26",
   "metadata": {},
   "outputs": [
    {
     "ename": "TypeError",
     "evalue": "'tuple' object does not support item assignment",
     "output_type": "error",
     "traceback": [
      "\u001b[1;31m---------------------------------------------------------------------------\u001b[0m",
      "\u001b[1;31mTypeError\u001b[0m                                 Traceback (most recent call last)",
      "\u001b[1;32m~\\AppData\\Local\\Temp/ipykernel_14152/2606818436.py\u001b[0m in \u001b[0;36m<module>\u001b[1;34m\u001b[0m\n\u001b[1;32m----> 1\u001b[1;33m \u001b[0mt7\u001b[0m\u001b[1;33m[\u001b[0m\u001b[1;36m0\u001b[0m\u001b[1;33m]\u001b[0m \u001b[1;33m=\u001b[0m \u001b[1;36m40\u001b[0m\u001b[1;33m\u001b[0m\u001b[1;33m\u001b[0m\u001b[0m\n\u001b[0m",
      "\u001b[1;31mTypeError\u001b[0m: 'tuple' object does not support item assignment"
     ]
    }
   ],
   "source": [
    "t7[0] = 40  # 변경 X"
   ]
  },
  {
   "cell_type": "code",
   "execution_count": 30,
   "id": "805a313d",
   "metadata": {},
   "outputs": [
    {
     "data": {
      "text/plain": [
       "(100, 8, 20, 8)"
      ]
     },
     "execution_count": 30,
     "metadata": {},
     "output_type": "execute_result"
    }
   ],
   "source": [
    "t7[::2]"
   ]
  },
  {
   "cell_type": "markdown",
   "id": "6791ccce",
   "metadata": {},
   "source": [
    "### 연산자"
   ]
  },
  {
   "cell_type": "code",
   "execution_count": 31,
   "id": "7947b278",
   "metadata": {},
   "outputs": [
    {
     "data": {
      "text/plain": [
       "(1, 2, 3, 4, 5, 10, 20, 30, 40, 50)"
      ]
     },
     "execution_count": 31,
     "metadata": {},
     "output_type": "execute_result"
    }
   ],
   "source": [
    "t1 + t2"
   ]
  },
  {
   "cell_type": "code",
   "execution_count": 32,
   "id": "57a1ecf8",
   "metadata": {},
   "outputs": [
    {
     "data": {
      "text/plain": [
       "(1, 2, 3, 4, 5, 1, 2, 3, 4, 5)"
      ]
     },
     "execution_count": 32,
     "metadata": {},
     "output_type": "execute_result"
    }
   ],
   "source": [
    "t1 * 2"
   ]
  },
  {
   "cell_type": "code",
   "execution_count": 33,
   "id": "2f69fbb4",
   "metadata": {},
   "outputs": [
    {
     "data": {
      "text/plain": [
       "[1, 4, 8, 8, 20, 20, 100]"
      ]
     },
     "execution_count": 33,
     "metadata": {},
     "output_type": "execute_result"
    }
   ],
   "source": [
    "sorted_t7 = sorted(t7)  # 원본 변경 X\n",
    "sorted_t7\n",
    "# sort(): 튜플에서는 사용X(튜플은 원본을 변경 할 수 없기때문)"
   ]
  },
  {
   "cell_type": "markdown",
   "id": "7771d862",
   "metadata": {},
   "source": [
    "### 딕셔너리(Dictionart)\n",
    "- 값을 키(key)-값(value) 쌍의 형태로 저장하는 자료구조\n",
    "- 리스트나 튜플의 index의 역할을 하는 key를 직접 지정한다\n",
    "- {키1:값1, 키2:값2, 키3:값3,...}\n",
    "- 키는 불변의 값들만 사용가능(숫자,문자열,튜플)"
   ]
  },
  {
   "cell_type": "code",
   "execution_count": 35,
   "id": "d99437a1",
   "metadata": {},
   "outputs": [
    {
     "data": {
      "text/plain": [
       "{'name': '홍길동', 'age': 20, 'address': '서울'}"
      ]
     },
     "execution_count": 35,
     "metadata": {},
     "output_type": "execute_result"
    }
   ],
   "source": [
    "# 생성\n",
    "person1 = {\"name\":\"홍길동\", \"age\":20, \"address\":\"서울\"}\n",
    "person2 = {\"age\":30, \"name\":\"이순신\", \"address\":\"서울\"}\n",
    "person1"
   ]
  },
  {
   "cell_type": "code",
   "execution_count": 36,
   "id": "d863cf0f",
   "metadata": {},
   "outputs": [
    {
     "name": "stdout",
     "output_type": "stream",
     "text": [
      "홍길동 이순신\n",
      "20 30\n"
     ]
    }
   ],
   "source": [
    "# 값 조회\n",
    "print(person1['name'], person2['name'])\n",
    "print(person1['age'], person2['age'])"
   ]
  },
  {
   "cell_type": "code",
   "execution_count": 37,
   "id": "c7b0ecc3",
   "metadata": {},
   "outputs": [
    {
     "data": {
      "text/plain": [
       "{'name': '박철웅', 'age': 20, 'address': '서울'}"
      ]
     },
     "execution_count": 37,
     "metadata": {},
     "output_type": "execute_result"
    }
   ],
   "source": [
    "# 값 변경\n",
    "person1['name'] = '박철웅' #있는 key에 값을 대입하면 변경이 된다.\n",
    "person1"
   ]
  },
  {
   "cell_type": "code",
   "execution_count": 38,
   "id": "715df429",
   "metadata": {},
   "outputs": [
    {
     "name": "stdout",
     "output_type": "stream",
     "text": [
      "없음\n"
     ]
    }
   ],
   "source": [
    "# dictionary.get('key') : 조회\n",
    "# 없는 키값으로 조회하면 None(기본값). None대신 반환할 기본값을 설정할 수도 있다.\n",
    "v = person2.get('email', \"없음\")\n",
    "print(v)"
   ]
  },
  {
   "cell_type": "markdown",
   "id": "50c70d78",
   "metadata": {},
   "source": [
    "### 딕셔너리 주요 메소드\n",
    "- pop(key): key와 연결된 값을 반환하면서 삭제한다\n",
    "- items(): key와 value를 튜플로 묶어 리턴\n",
    "- dictionary.get(key,기본값): 키와 연결된 값을 반환, 찾는 키의 값이 없을 경우 기본값을 반환\n",
    "- keys(): key값들만 모아서 리턴\n",
    "- valuse(): value들만 모아서 리턴"
   ]
  },
  {
   "cell_type": "code",
   "execution_count": 39,
   "id": "f2b83a81",
   "metadata": {},
   "outputs": [
    {
     "data": {
      "text/plain": [
       "{'age': 20, 'address': '서울'}"
      ]
     },
     "execution_count": 39,
     "metadata": {},
     "output_type": "execute_result"
    }
   ],
   "source": [
    "person1.pop('name')\n",
    "person1"
   ]
  },
  {
   "cell_type": "code",
   "execution_count": 40,
   "id": "94fc883d",
   "metadata": {},
   "outputs": [
    {
     "data": {
      "text/plain": [
       "{'address': '서울'}"
      ]
     },
     "execution_count": 40,
     "metadata": {},
     "output_type": "execute_result"
    }
   ],
   "source": [
    "del person1['age']\n",
    "person1"
   ]
  },
  {
   "cell_type": "code",
   "execution_count": 41,
   "id": "fa714f99",
   "metadata": {},
   "outputs": [
    {
     "data": {
      "text/plain": [
       "dict_items([('address', '서울')])"
      ]
     },
     "execution_count": 41,
     "metadata": {},
     "output_type": "execute_result"
    }
   ],
   "source": [
    "person1.items()"
   ]
  },
  {
   "cell_type": "code",
   "execution_count": 42,
   "id": "db8d2c26",
   "metadata": {},
   "outputs": [
    {
     "data": {
      "text/plain": [
       "dict_keys(['address'])"
      ]
     },
     "execution_count": 42,
     "metadata": {},
     "output_type": "execute_result"
    }
   ],
   "source": [
    "person1.keys()"
   ]
  },
  {
   "cell_type": "code",
   "execution_count": 43,
   "id": "320157bc",
   "metadata": {},
   "outputs": [
    {
     "data": {
      "text/plain": [
       "dict_values(['서울'])"
      ]
     },
     "execution_count": 43,
     "metadata": {},
     "output_type": "execute_result"
    }
   ],
   "source": [
    "person1.values()"
   ]
  },
  {
   "cell_type": "markdown",
   "id": "157878ad",
   "metadata": {},
   "source": [
    "### Set\n",
    "- 중복되는 값을 허용하지 않고 순서를 신경 쓰지 않는다\n",
    "- indexing과 slicing을 지원하지 않는다\n",
    "- {값1, 값2, 값3,...}"
   ]
  },
  {
   "cell_type": "code",
   "execution_count": 44,
   "id": "d0c5d69a",
   "metadata": {},
   "outputs": [
    {
     "data": {
      "text/plain": [
       "{1, 2, 3, False, 'a'}"
      ]
     },
     "execution_count": 44,
     "metadata": {},
     "output_type": "execute_result"
    }
   ],
   "source": [
    "s1 = {1, 1, 1, 2, 2, 2, 3, 3, 3, 'a', 'a', 'a', True, True, True, False, False} \n",
    "# 1, True => True를 1로 취급, 0, False => False를 0으로 취급\n",
    "s1"
   ]
  },
  {
   "cell_type": "code",
   "execution_count": 45,
   "id": "ee7d6352",
   "metadata": {},
   "outputs": [
    {
     "name": "stdout",
     "output_type": "stream",
     "text": [
      "{1}\n",
      "{0}\n"
     ]
    }
   ],
   "source": [
    "s2 = {1, True}\n",
    "s3 = {0, False}\n",
    "print(s2)\n",
    "print(s3)"
   ]
  },
  {
   "cell_type": "code",
   "execution_count": 46,
   "id": "62de0813",
   "metadata": {},
   "outputs": [
    {
     "ename": "TypeError",
     "evalue": "'set' object is not subscriptable",
     "output_type": "error",
     "traceback": [
      "\u001b[1;31m---------------------------------------------------------------------------\u001b[0m",
      "\u001b[1;31mTypeError\u001b[0m                                 Traceback (most recent call last)",
      "\u001b[1;32m~\\AppData\\Local\\Temp/ipykernel_14152/1052311682.py\u001b[0m in \u001b[0;36m<module>\u001b[1;34m\u001b[0m\n\u001b[1;32m----> 1\u001b[1;33m \u001b[0ms1\u001b[0m\u001b[1;33m[\u001b[0m\u001b[1;36m0\u001b[0m\u001b[1;33m]\u001b[0m \u001b[1;31m# set은 원소 하나를 조회하는 것은 안된다. => 반복문을 이용\u001b[0m\u001b[1;33m\u001b[0m\u001b[1;33m\u001b[0m\u001b[0m\n\u001b[0m",
      "\u001b[1;31mTypeError\u001b[0m: 'set' object is not subscriptable"
     ]
    }
   ],
   "source": [
    "s1[0] # set은 원소 하나를 조회하는 것은 안된다. => 반복문을 이용"
   ]
  },
  {
   "cell_type": "markdown",
   "id": "c16ec4cd",
   "metadata": {},
   "source": [
    "### 연산자"
   ]
  },
  {
   "cell_type": "code",
   "execution_count": 47,
   "id": "5cc4e2e5",
   "metadata": {},
   "outputs": [
    {
     "name": "stdout",
     "output_type": "stream",
     "text": [
      "{1, 2, 3, 4, 5}\n",
      "{1, 2, 3, 4, 5}\n"
     ]
    }
   ],
   "source": [
    "s1 = {1, 2, 3, 4}\n",
    "s2 = {3, 4, 5}\n",
    "\n",
    "# 합집합\n",
    "s3 = s1 | s2  # {1, 2, 3, 4, 5}\n",
    "s4 = s1.union(s2)\n",
    "print(s3)\n",
    "print(s4)"
   ]
  },
  {
   "cell_type": "code",
   "execution_count": 48,
   "id": "b179f05f",
   "metadata": {},
   "outputs": [
    {
     "name": "stdout",
     "output_type": "stream",
     "text": [
      "{3, 4} {3, 4}\n"
     ]
    }
   ],
   "source": [
    "# 교집합\n",
    "s5 = s1 & s2\n",
    "s6 = s1.intersection(s2)\n",
    "print(s5, s6)"
   ]
  },
  {
   "cell_type": "code",
   "execution_count": 49,
   "id": "deb60a1d",
   "metadata": {},
   "outputs": [
    {
     "name": "stdout",
     "output_type": "stream",
     "text": [
      "{1, 2}\n",
      "{1, 2}\n"
     ]
    }
   ],
   "source": [
    "# 차집합\n",
    "s7 = s1 - s2\n",
    "s8 = s1.difference(s2)\n",
    "print(s7)\n",
    "print(s8)"
   ]
  },
  {
   "cell_type": "markdown",
   "id": "40b7fa05",
   "metadata": {},
   "source": [
    "### Set 주요 메소드\n",
    "- add(값): 집합에 요소 추가\n",
    "- update(자료구조): 한번에 여러개의 요소를 추가\n",
    "- pop(): 값을 하나씩 반환하면서 제거\n",
    "- remove(값): 값을 찾아서 삭제"
   ]
  },
  {
   "cell_type": "code",
   "execution_count": 50,
   "id": "ef9571b2",
   "metadata": {},
   "outputs": [
    {
     "name": "stdout",
     "output_type": "stream",
     "text": [
      "{1, 2, 3, 4, 5, 10}\n"
     ]
    },
    {
     "data": {
      "text/plain": [
       "{1, 2, 3, 4, 5, 10}"
      ]
     },
     "execution_count": 50,
     "metadata": {},
     "output_type": "execute_result"
    }
   ],
   "source": [
    "# 추가\n",
    "s3.add(10)\n",
    "print(s3)\n",
    "s3.add(10) #있는 값을 추가하면 추가가 안됨(중복 허용 안하므로)\n",
    "s3"
   ]
  },
  {
   "cell_type": "code",
   "execution_count": 51,
   "id": "3c04c72e",
   "metadata": {
    "scrolled": true
   },
   "outputs": [
    {
     "data": {
      "text/plain": [
       "{1, 2, 3, 4, 5, 10, 100, 200, 300, 400}"
      ]
     },
     "execution_count": 51,
     "metadata": {},
     "output_type": "execute_result"
    }
   ],
   "source": [
    "s3.update([1,2,3,100,200,300,400])\n",
    "s3"
   ]
  },
  {
   "cell_type": "code",
   "execution_count": 63,
   "id": "2c36e590",
   "metadata": {},
   "outputs": [
    {
     "name": "stdout",
     "output_type": "stream",
     "text": [
      "3\n"
     ]
    },
    {
     "data": {
      "text/plain": [
       "{4, 5, 10, 100, 200, 300, 400}"
      ]
     },
     "execution_count": 63,
     "metadata": {},
     "output_type": "execute_result"
    }
   ],
   "source": [
    "v = s3.pop()\n",
    "print(v)\n",
    "s3"
   ]
  },
  {
   "cell_type": "code",
   "execution_count": 64,
   "id": "7ef68da9",
   "metadata": {},
   "outputs": [
    {
     "data": {
      "text/plain": [
       "{4, 10, 100, 200, 300, 400}"
      ]
     },
     "execution_count": 64,
     "metadata": {},
     "output_type": "execute_result"
    }
   ],
   "source": [
    "s3.remove(5)  # s3의 원소중 5를 삭제\n",
    "s3"
   ]
  },
  {
   "cell_type": "code",
   "execution_count": 65,
   "id": "9a59aee0",
   "metadata": {},
   "outputs": [
    {
     "data": {
      "text/plain": [
       "dict"
      ]
     },
     "execution_count": 65,
     "metadata": {},
     "output_type": "execute_result"
    }
   ],
   "source": [
    "var1 = [] #빈 리스트\n",
    "var2 = {} #빈 dictionary\n",
    "type(var2)"
   ]
  },
  {
   "cell_type": "code",
   "execution_count": 66,
   "id": "4303af8d",
   "metadata": {},
   "outputs": [
    {
     "data": {
      "text/plain": [
       "{'a': 100}"
      ]
     },
     "execution_count": 66,
     "metadata": {},
     "output_type": "execute_result"
    }
   ],
   "source": [
    "var2['a'] = 100\n",
    "var2"
   ]
  },
  {
   "cell_type": "markdown",
   "id": "36d35d91",
   "metadata": {},
   "source": [
    "# 자료구조 변환 함수\n",
    "- list(자료구조): 자료구조를 List로 변환\n",
    "- tuple(자료구조): 자료구조를 Tuple로 변환\n",
    "- set(자료구조): 자료구조를 Set으로 변환\n",
    "- Dictionary로 변환하는 함수는 없다.\n",
    "- 변경할 대상 자료구조가 Dictionary 일 경우에는 key값들만 모아서 변환"
   ]
  },
  {
   "cell_type": "code",
   "execution_count": 67,
   "id": "6f5556b6",
   "metadata": {},
   "outputs": [
    {
     "data": {
      "text/plain": [
       "([1, 2, 10, 5, 10, 2], list)"
      ]
     },
     "execution_count": 67,
     "metadata": {},
     "output_type": "execute_result"
    }
   ],
   "source": [
    "t = 1, 2, 10, 5, 10, 2\n",
    "l = list(t)\n",
    "l, type(l)"
   ]
  },
  {
   "cell_type": "code",
   "execution_count": 68,
   "id": "01dc9c8d",
   "metadata": {},
   "outputs": [
    {
     "data": {
      "text/plain": [
       "({1, 2, 5, 10}, set)"
      ]
     },
     "execution_count": 68,
     "metadata": {},
     "output_type": "execute_result"
    }
   ],
   "source": [
    "s = set(t)\n",
    "s, type(s)"
   ]
  },
  {
   "cell_type": "code",
   "execution_count": 69,
   "id": "cc683561",
   "metadata": {},
   "outputs": [
    {
     "data": {
      "text/plain": [
       "(1, 3, 10, 20, 11)"
      ]
     },
     "execution_count": 69,
     "metadata": {},
     "output_type": "execute_result"
    }
   ],
   "source": [
    "t1 = tuple([1,3,10,20,11]) #list->tuple\n",
    "t1"
   ]
  },
  {
   "cell_type": "code",
   "execution_count": 71,
   "id": "a4c63671",
   "metadata": {},
   "outputs": [
    {
     "data": {
      "text/plain": [
       "{'a': 10, 'b': 20, 'c': 30}"
      ]
     },
     "execution_count": 71,
     "metadata": {},
     "output_type": "execute_result"
    }
   ],
   "source": [
    "d = {'a':10, 'b':20, 'c':30}\n",
    "d"
   ]
  },
  {
   "cell_type": "code",
   "execution_count": 72,
   "id": "58b452c8",
   "metadata": {},
   "outputs": [
    {
     "data": {
      "text/plain": [
       "{'a', 'b', 'c'}"
      ]
     },
     "execution_count": 72,
     "metadata": {},
     "output_type": "execute_result"
    }
   ],
   "source": [
    "set(d) # dict -> set"
   ]
  },
  {
   "cell_type": "code",
   "execution_count": 73,
   "id": "7c7f6a1b",
   "metadata": {},
   "outputs": [
    {
     "data": {
      "text/plain": [
       "['a', 'b', 'c']"
      ]
     },
     "execution_count": 73,
     "metadata": {},
     "output_type": "execute_result"
    }
   ],
   "source": [
    "list(d)"
   ]
  },
  {
   "cell_type": "code",
   "execution_count": 74,
   "id": "485c15fd",
   "metadata": {},
   "outputs": [
    {
     "data": {
      "text/plain": [
       "('a', 'b', 'c')"
      ]
     },
     "execution_count": 74,
     "metadata": {},
     "output_type": "execute_result"
    }
   ],
   "source": [
    "tuple(d)"
   ]
  },
  {
   "cell_type": "code",
   "execution_count": 75,
   "id": "5d99fe6f",
   "metadata": {},
   "outputs": [
    {
     "data": {
      "text/plain": [
       "{'name': '홍길동', 'age': 20, 'address': '부산'}"
      ]
     },
     "execution_count": 75,
     "metadata": {},
     "output_type": "execute_result"
    }
   ],
   "source": [
    "# dict(key=value, key=value) dictionary를 쉽게 만들도록 도와주는 함수\n",
    "d1 = dict(name='홍길동', age=20, address='부산')\n",
    "d1"
   ]
  }
 ],
 "metadata": {
  "kernelspec": {
   "display_name": "Python 3 (ipykernel)",
   "language": "python",
   "name": "python3"
  },
  "language_info": {
   "codemirror_mode": {
    "name": "ipython",
    "version": 3
   },
   "file_extension": ".py",
   "mimetype": "text/x-python",
   "name": "python",
   "nbconvert_exporter": "python",
   "pygments_lexer": "ipython3",
   "version": "3.9.7"
  }
 },
 "nbformat": 4,
 "nbformat_minor": 5
}
