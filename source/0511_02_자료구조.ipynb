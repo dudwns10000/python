{
 "cells": [
  {
   "cell_type": "markdown",
   "id": "4a9ea1bd",
   "metadata": {},
   "source": [
    "# 리스트\n",
    "- 순서가 있는 자료구조\n",
    "    - 원소들을 index로 관리한다.\n",
    "- 생성\n",
    "    - `1. [값, 값, 값....]`"
   ]
  },
  {
   "cell_type": "code",
   "execution_count": 31,
   "id": "da51659b",
   "metadata": {},
   "outputs": [],
   "source": [
    "l1 = [1, 2, 10, 30]\n",
    "l2 = [10.7, 5, 'abc', True, None, 30]"
   ]
  },
  {
   "cell_type": "code",
   "execution_count": 32,
   "id": "0fa497db",
   "metadata": {},
   "outputs": [
    {
     "name": "stdout",
     "output_type": "stream",
     "text": [
      "1 30\n",
      "abc None\n"
     ]
    }
   ],
   "source": [
    "# 조회 : indexing / slicing\n",
    "# indexing\n",
    "print(l1[0], l1[3])\n",
    "print(l2[2], l2[4])"
   ]
  },
  {
   "cell_type": "code",
   "execution_count": 33,
   "id": "17560952",
   "metadata": {},
   "outputs": [
    {
     "ename": "IndexError",
     "evalue": "list index out of range",
     "output_type": "error",
     "traceback": [
      "\u001b[1;31m---------------------------------------------------------------------------\u001b[0m",
      "\u001b[1;31mIndexError\u001b[0m                                Traceback (most recent call last)",
      "\u001b[1;32m~\\AppData\\Local\\Temp/ipykernel_18044/1219639392.py\u001b[0m in \u001b[0;36m<module>\u001b[1;34m\u001b[0m\n\u001b[0;32m      1\u001b[0m \u001b[1;31m# 없는 index조회 => IndexError 에러 발생\u001b[0m\u001b[1;33m\u001b[0m\u001b[1;33m\u001b[0m\u001b[0m\n\u001b[1;32m----> 2\u001b[1;33m \u001b[0ml1\u001b[0m\u001b[1;33m[\u001b[0m\u001b[1;36m20\u001b[0m\u001b[1;33m]\u001b[0m\u001b[1;33m\u001b[0m\u001b[1;33m\u001b[0m\u001b[0m\n\u001b[0m",
      "\u001b[1;31mIndexError\u001b[0m: list index out of range"
     ]
    }
   ],
   "source": [
    "# 없는 index조회 => IndexError 에러 발생\n",
    "l1[20]"
   ]
  },
  {
   "cell_type": "code",
   "execution_count": 34,
   "id": "f440cdf2",
   "metadata": {},
   "outputs": [
    {
     "name": "stdout",
     "output_type": "stream",
     "text": [
      "l1 원소개수: 4\n",
      "l2 원소개수: 6\n"
     ]
    }
   ],
   "source": [
    "# index내의 원소 개수 조회\n",
    "print('l1 원소개수:', len(l1))\n",
    "print('l2 원소개수:', len(l2))"
   ]
  },
  {
   "cell_type": "code",
   "execution_count": 35,
   "id": "7c0d9f96",
   "metadata": {},
   "outputs": [
    {
     "name": "stdout",
     "output_type": "stream",
     "text": [
      "['abc', True, None]\n",
      "[10.7, 5, 'abc']\n",
      "[True, None, 30]\n",
      "[10.7, 'abc', None]\n"
     ]
    }
   ],
   "source": [
    "# slicing\n",
    "print(l2[2:5])\n",
    "print(l2[:3])\n",
    "print(l2[3:])\n",
    "print(l2[::2])"
   ]
  },
  {
   "cell_type": "code",
   "execution_count": 36,
   "id": "7b81c70e",
   "metadata": {},
   "outputs": [
    {
     "name": "stdout",
     "output_type": "stream",
     "text": [
      "[100, 5, 'abc', True, '가나다', 30]\n"
     ]
    }
   ],
   "source": [
    "# 리스트는 원소를 변경할 수 있다. 변경 -> 대입연산\n",
    "l2[0] = 100\n",
    "l2[4] = '가나다'\n",
    "print(l2)"
   ]
  },
  {
   "cell_type": "code",
   "execution_count": 37,
   "id": "9857133b",
   "metadata": {},
   "outputs": [
    {
     "name": "stdout",
     "output_type": "stream",
     "text": [
      "[1, 2, 3, 4, 5, True, '가나다', 30]\n",
      "[1, 2, True, '가나다', 30]\n"
     ]
    }
   ],
   "source": [
    "# slicing을 이용하면 지정한 범위의 원소들을 한번에 바꿀 수 있다.\n",
    "l2[:3] = [1,2,3,4,5]\n",
    "print(l2)\n",
    "l2[2:5] = []\n",
    "print(l2)"
   ]
  },
  {
   "cell_type": "code",
   "execution_count": 38,
   "id": "e5bac182",
   "metadata": {},
   "outputs": [
    {
     "name": "stdout",
     "output_type": "stream",
     "text": [
      "[2, True, '가나다', 30]\n"
     ]
    }
   ],
   "source": [
    "del l2[0] # 하나의 원소만 삭제: del\n",
    "print(l2)"
   ]
  },
  {
   "cell_type": "markdown",
   "id": "1b2ebb7a",
   "metadata": {},
   "source": [
    "**리스트를 포함한 자료구조도 값이다.**\n",
    "- 리스트에 다른 자료구조들을 원소로 추가할 수 있다."
   ]
  },
  {
   "cell_type": "code",
   "execution_count": 40,
   "id": "39686fbd",
   "metadata": {},
   "outputs": [
    {
     "name": "stdout",
     "output_type": "stream",
     "text": [
      "2\n",
      "5\n"
     ]
    }
   ],
   "source": [
    "l3 = [[1,2], [3,4], [5,6]]\n",
    "print(l3[0][1])\n",
    "print(l3[2][0])"
   ]
  },
  {
   "cell_type": "code",
   "execution_count": 41,
   "id": "8c7a8b63",
   "metadata": {},
   "outputs": [
    {
     "name": "stdout",
     "output_type": "stream",
     "text": [
      "4\n",
      "60\n"
     ]
    }
   ],
   "source": [
    "l4 = [[[1,2], [3,4], [5,6]],[[10,20], [30,40], [50,60]]]\n",
    "print(l4[0][1][1])\n",
    "print(l4[1][2][1])"
   ]
  },
  {
   "cell_type": "markdown",
   "id": "99dadd27",
   "metadata": {},
   "source": [
    "### 리스트 연산자\n",
    "- 리스트 + 리스트 : 두 리스트를 합친 새로운 리스트 반환\n",
    "- 리스트 + 정수 : 리스트를 정수만큼 반복해서 새로운 리스트를 반환\n",
    "- 값 in 리스트, 값 not in 리스트 : 리스트안에 값이 있는지(in). 없는지(not in)   bool 값으로 변환"
   ]
  },
  {
   "cell_type": "code",
   "execution_count": 106,
   "id": "e1a859a7",
   "metadata": {},
   "outputs": [
    {
     "name": "stdout",
     "output_type": "stream",
     "text": [
      "[1, 2, 3, 10, 20, 30]\n"
     ]
    }
   ],
   "source": [
    "l1 = [1, 2, 3]\n",
    "l2 =[10, 20, 30]\n",
    "l3 = l1 + l2\n",
    "print(l3)"
   ]
  },
  {
   "cell_type": "code",
   "execution_count": 107,
   "id": "1e23ec67",
   "metadata": {},
   "outputs": [
    {
     "name": "stdout",
     "output_type": "stream",
     "text": [
      "[1, 2, 3, 1, 2, 3, 1, 2, 3]\n"
     ]
    }
   ],
   "source": [
    "l4 = l1 * 3\n",
    "print(l4)"
   ]
  },
  {
   "cell_type": "markdown",
   "id": "b7e6c13a",
   "metadata": {},
   "source": [
    "### 리스트 대입\n",
    "_ 여러개의 변수에 리스트의 값들을 한번에 대입"
   ]
  },
  {
   "cell_type": "code",
   "execution_count": 108,
   "id": "a9939358",
   "metadata": {},
   "outputs": [
    {
     "name": "stdout",
     "output_type": "stream",
     "text": [
      "1 2 3\n"
     ]
    }
   ],
   "source": [
    "a, b, c = [1,2,3] #변수와 라스트 원소의 개수와 같아 야한다.\n",
    "print(a, b, c)"
   ]
  },
  {
   "cell_type": "markdown",
   "id": "7d667ebe",
   "metadata": {},
   "source": [
    "### 주요함수"
   ]
  },
  {
   "cell_type": "code",
   "execution_count": 109,
   "id": "e1ecc0d1",
   "metadata": {},
   "outputs": [
    {
     "name": "stdout",
     "output_type": "stream",
     "text": [
      "원소개수: 3\n"
     ]
    }
   ],
   "source": [
    "print(\"원소개수:\",len(l1))"
   ]
  },
  {
   "cell_type": "code",
   "execution_count": 110,
   "id": "dfc5fd56",
   "metadata": {},
   "outputs": [
    {
     "name": "stdout",
     "output_type": "stream",
     "text": [
      "[1, 2, 3, 10]\n"
     ]
    }
   ],
   "source": [
    "l1.append(10)   # list.append(추가할값)\n",
    "print(l1)"
   ]
  },
  {
   "cell_type": "code",
   "execution_count": 111,
   "id": "badb0fd6",
   "metadata": {},
   "outputs": [
    {
     "name": "stdout",
     "output_type": "stream",
     "text": [
      "[1, 2, 3, 10, 3, 4, 5]\n"
     ]
    }
   ],
   "source": [
    "l1.extend([3,4,5])  # l1 리스트에 추가\n",
    "print(l1)"
   ]
  },
  {
   "cell_type": "code",
   "execution_count": 115,
   "id": "454dba8b",
   "metadata": {},
   "outputs": [
    {
     "data": {
      "text/plain": [
       "[1, 2, 3, 3, 4, 5, 10, 30, 40, 50]"
      ]
     },
     "execution_count": 115,
     "metadata": {},
     "output_type": "execute_result"
    }
   ],
   "source": [
    "l1 + [30,40,50]   # l1과 [30,40,50]을 합친 새로운 리스트가 반환(l1은 안바뀜)\n"
   ]
  },
  {
   "cell_type": "code",
   "execution_count": 113,
   "id": "bedaec40",
   "metadata": {},
   "outputs": [
    {
     "name": "stdout",
     "output_type": "stream",
     "text": [
      "[1, 2, 3, 3, 4, 5, 10]\n",
      "[10, 5, 4, 3, 3, 2, 1]\n"
     ]
    }
   ],
   "source": [
    "# 정렬 - sorted(리스트): 원본 리스트를 변경하지 않고 정렬한 새로운 리스트를 반환\n",
    "print(sorted(l1))  #오름차순\n",
    "print(sorted(l1, reverse=True))  #내림차순"
   ]
  },
  {
   "cell_type": "code",
   "execution_count": 114,
   "id": "17648e41",
   "metadata": {},
   "outputs": [
    {
     "name": "stdout",
     "output_type": "stream",
     "text": [
      "[1, 2, 3, 3, 4, 5, 10]\n"
     ]
    }
   ],
   "source": [
    "#정렬 - 리스트.sort() - 원본 리스트 자체를 정렬\n",
    "l1.sort()\n",
    "print(l1)"
   ]
  },
  {
   "cell_type": "code",
   "execution_count": 55,
   "id": "19144be6",
   "metadata": {},
   "outputs": [
    {
     "name": "stdout",
     "output_type": "stream",
     "text": [
      "[1, 2, 3, '가나다', 3, 4, 5, 10]\n"
     ]
    }
   ],
   "source": [
    "l1.insert(3, '가나다')  # index 3에 '가나다' 삽입\n",
    "print(l1)"
   ]
  },
  {
   "cell_type": "markdown",
   "id": "e35970b7",
   "metadata": {},
   "source": [
    "# 튜플(Tuple)\n",
    "- 리스트처럼 순서가 있는 자료구조\n",
    "    - index (양수, 음수)로 원소를 관리\n",
    "    - 원소를 변경할 수 없다. (추가, 삭제, 변경이 안된다)\n",
    "- 생성"
   ]
  },
  {
   "cell_type": "code",
   "execution_count": 56,
   "id": "8b9d2a74",
   "metadata": {},
   "outputs": [],
   "source": [
    "t1 = (1, 2, 3, 4, 5)  #소괄호로 묶는다.\n",
    "t2 = 10,20,30,40,50   #소괄호 생략 가능"
   ]
  },
  {
   "cell_type": "code",
   "execution_count": 61,
   "id": "cc34dbe2",
   "metadata": {},
   "outputs": [
    {
     "data": {
      "text/plain": [
       "(int, tuple)"
      ]
     },
     "execution_count": 61,
     "metadata": {},
     "output_type": "execute_result"
    }
   ],
   "source": [
    "t4 = (100)  # t4 = 100, tuple x\n",
    "type(t4),type(t2)"
   ]
  },
  {
   "cell_type": "code",
   "execution_count": 63,
   "id": "67df16c9",
   "metadata": {},
   "outputs": [
    {
     "name": "stdout",
     "output_type": "stream",
     "text": [
      "(100,) (100,) <class 'tuple'> <class 'tuple'>\n"
     ]
    }
   ],
   "source": [
    "t5 = (100,) # 원소가 하나일 경우 뒤에 ,를 붙인다.\n",
    "t6 = 100,\n",
    "print(t5,t6,type(t5),type(t6))"
   ]
  },
  {
   "cell_type": "markdown",
   "id": "159f1d91",
   "metadata": {},
   "source": [
    "### 튜플대입"
   ]
  },
  {
   "cell_type": "code",
   "execution_count": 65,
   "id": "c5f76e2e",
   "metadata": {},
   "outputs": [
    {
     "name": "stdout",
     "output_type": "stream",
     "text": [
      "홍길동 30 서울\n"
     ]
    }
   ],
   "source": [
    "name, age, address = ('홍길동', 30, '서울')  #튜플 대입\n",
    "#name, age, address = ['홍길동', 30, '서울']  리스트 대입\n",
    "print(name, age, address)"
   ]
  },
  {
   "cell_type": "markdown",
   "id": "700248e9",
   "metadata": {},
   "source": [
    "### indexing, slicing\n",
    "- 조회만 가능하고 원소를 변경할 수 없다."
   ]
  },
  {
   "cell_type": "code",
   "execution_count": 66,
   "id": "04b6caf0",
   "metadata": {},
   "outputs": [
    {
     "data": {
      "text/plain": [
       "(100, 20, 8)"
      ]
     },
     "execution_count": 66,
     "metadata": {},
     "output_type": "execute_result"
    }
   ],
   "source": [
    "t7 = 100, 4, 8, 20, 20, 1, 8\n",
    "t7[0], t7[3], t7[6]"
   ]
  },
  {
   "cell_type": "code",
   "execution_count": 67,
   "id": "5e45317f",
   "metadata": {},
   "outputs": [
    {
     "ename": "TypeError",
     "evalue": "'tuple' object does not support item assignment",
     "output_type": "error",
     "traceback": [
      "\u001b[1;31m---------------------------------------------------------------------------\u001b[0m",
      "\u001b[1;31mTypeError\u001b[0m                                 Traceback (most recent call last)",
      "\u001b[1;32m~\\AppData\\Local\\Temp/ipykernel_18044/2606818436.py\u001b[0m in \u001b[0;36m<module>\u001b[1;34m\u001b[0m\n\u001b[1;32m----> 1\u001b[1;33m \u001b[0mt7\u001b[0m\u001b[1;33m[\u001b[0m\u001b[1;36m0\u001b[0m\u001b[1;33m]\u001b[0m \u001b[1;33m=\u001b[0m \u001b[1;36m40\u001b[0m\u001b[1;33m\u001b[0m\u001b[1;33m\u001b[0m\u001b[0m\n\u001b[0m",
      "\u001b[1;31mTypeError\u001b[0m: 'tuple' object does not support item assignment"
     ]
    }
   ],
   "source": [
    "t7[0] = 40  # 변경 x"
   ]
  },
  {
   "cell_type": "code",
   "execution_count": 68,
   "id": "9e80e62a",
   "metadata": {},
   "outputs": [
    {
     "data": {
      "text/plain": [
       "(100, 8, 20, 8)"
      ]
     },
     "execution_count": 68,
     "metadata": {},
     "output_type": "execute_result"
    }
   ],
   "source": [
    "t7[::2]"
   ]
  },
  {
   "cell_type": "code",
   "execution_count": 69,
   "id": "a1d84c2a",
   "metadata": {},
   "outputs": [
    {
     "data": {
      "text/plain": [
       "(8, 1, 20, 20, 8, 4, 100)"
      ]
     },
     "execution_count": 69,
     "metadata": {},
     "output_type": "execute_result"
    }
   ],
   "source": [
    "t7[::-1]"
   ]
  },
  {
   "cell_type": "markdown",
   "id": "7abcc6a8",
   "metadata": {},
   "source": [
    "# 딕셔너리\n",
    "- 데이터를 ket:value 쌍(pair)로 모아서 관리하는 자료구조"
   ]
  },
  {
   "cell_type": "code",
   "execution_count": 74,
   "id": "0e14c415",
   "metadata": {},
   "outputs": [
    {
     "data": {
      "text/plain": [
       "{'age': 30, 'name': '홍길동', 'address': '서울'}"
      ]
     },
     "execution_count": 74,
     "metadata": {},
     "output_type": "execute_result"
    }
   ],
   "source": [
    "# 생성\n",
    "person1={'name':'홍길동', 'age':20, 'address':'서울'}\n",
    "person2={'age':30, 'name':'홍길동', 'address':'서울'}\n",
    "person1\n",
    "person2"
   ]
  },
  {
   "cell_type": "code",
   "execution_count": 76,
   "id": "5f5ba26c",
   "metadata": {},
   "outputs": [
    {
     "name": "stdout",
     "output_type": "stream",
     "text": [
      "홍길동 홍길동\n"
     ]
    }
   ],
   "source": [
    "# 값 조회\n",
    "print(person1['name'], person2['name'])"
   ]
  },
  {
   "cell_type": "code",
   "execution_count": 77,
   "id": "35c28e53",
   "metadata": {},
   "outputs": [
    {
     "data": {
      "text/plain": [
       "{'name': '박철웅', 'age': 20, 'address': '서울'}"
      ]
     },
     "execution_count": 77,
     "metadata": {},
     "output_type": "execute_result"
    }
   ],
   "source": [
    "# 값 변경\n",
    "person1['name']='박철웅'  # 있는 key에 값을 대입하면 변경이 된다.\n",
    "person1"
   ]
  },
  {
   "cell_type": "code",
   "execution_count": 80,
   "id": "9a6a6eb6",
   "metadata": {},
   "outputs": [
    {
     "data": {
      "text/plain": [
       "{'name': '박철웅', 'age': 20, 'address': '서울', 'tel': '010-1234-5678'}"
      ]
     },
     "execution_count": 80,
     "metadata": {},
     "output_type": "execute_result"
    }
   ],
   "source": [
    "person1['tel'] = '010-1234-5678'  # 없는 key에 값을 대입하면 추가가 된다.\n",
    "person1"
   ]
  },
  {
   "cell_type": "code",
   "execution_count": 81,
   "id": "18cc993b",
   "metadata": {},
   "outputs": [
    {
     "ename": "KeyError",
     "evalue": "'email'",
     "output_type": "error",
     "traceback": [
      "\u001b[1;31m---------------------------------------------------------------------------\u001b[0m",
      "\u001b[1;31mKeyError\u001b[0m                                  Traceback (most recent call last)",
      "\u001b[1;32m~\\AppData\\Local\\Temp/ipykernel_18044/3836068088.py\u001b[0m in \u001b[0;36m<module>\u001b[1;34m\u001b[0m\n\u001b[1;32m----> 1\u001b[1;33m \u001b[0mperson1\u001b[0m\u001b[1;33m[\u001b[0m\u001b[1;34m'email'\u001b[0m\u001b[1;33m]\u001b[0m\u001b[1;33m\u001b[0m\u001b[1;33m\u001b[0m\u001b[0m\n\u001b[0m",
      "\u001b[1;31mKeyError\u001b[0m: 'email'"
     ]
    }
   ],
   "source": [
    "person1['email']  # 없는 key로 조회하면 keyerror 발생"
   ]
  },
  {
   "cell_type": "code",
   "execution_count": 84,
   "id": "696d54b6",
   "metadata": {},
   "outputs": [
    {
     "name": "stdout",
     "output_type": "stream",
     "text": [
      "None\n",
      "없음\n"
     ]
    }
   ],
   "source": [
    "# dictionary.get('key') : 조회\n",
    "# 없는 키값으로 조회하면 None(기본값), None대신 반환할 기본값을 설정할 수도 있다.\n",
    "v = person2.get('email')\n",
    "print(v)\n",
    "z = person2.get('email','없음')\n",
    "print(z)"
   ]
  },
  {
   "cell_type": "markdown",
   "id": "e642b194",
   "metadata": {},
   "source": [
    "# set(집합)\n",
    "- 중복을 허용하지 않는 자료구조"
   ]
  },
  {
   "cell_type": "code",
   "execution_count": 86,
   "id": "69f58414",
   "metadata": {},
   "outputs": [
    {
     "data": {
      "text/plain": [
       "{1, 2, 3, False, 'a'}"
      ]
     },
     "execution_count": 86,
     "metadata": {},
     "output_type": "execute_result"
    }
   ],
   "source": [
    "s1 = {1,1,1,2,2,2,3,3,3,'a','a','a',True,True,True,False,False}  # True => 1로 취급, False => 0으로 취급\n",
    "s1"
   ]
  },
  {
   "cell_type": "code",
   "execution_count": 87,
   "id": "fab2e2b1",
   "metadata": {},
   "outputs": [
    {
     "ename": "TypeError",
     "evalue": "'set' object is not subscriptable",
     "output_type": "error",
     "traceback": [
      "\u001b[1;31m---------------------------------------------------------------------------\u001b[0m",
      "\u001b[1;31mTypeError\u001b[0m                                 Traceback (most recent call last)",
      "\u001b[1;32m~\\AppData\\Local\\Temp/ipykernel_18044/643609873.py\u001b[0m in \u001b[0;36m<module>\u001b[1;34m\u001b[0m\n\u001b[1;32m----> 1\u001b[1;33m \u001b[0ms1\u001b[0m\u001b[1;33m[\u001b[0m\u001b[1;36m0\u001b[0m\u001b[1;33m]\u001b[0m\u001b[1;33m\u001b[0m\u001b[1;33m\u001b[0m\u001b[0m\n\u001b[0m",
      "\u001b[1;31mTypeError\u001b[0m: 'set' object is not subscriptable"
     ]
    }
   ],
   "source": [
    "s1[0]  # set은 원소 하나를 조회하는 것은 안된다 => 반복문을 이용"
   ]
  },
  {
   "cell_type": "markdown",
   "id": "6ac6634d",
   "metadata": {},
   "source": [
    "### 연산자"
   ]
  },
  {
   "cell_type": "code",
   "execution_count": 89,
   "id": "171adb17",
   "metadata": {},
   "outputs": [
    {
     "name": "stdout",
     "output_type": "stream",
     "text": [
      "True\n",
      "False\n"
     ]
    }
   ],
   "source": [
    "print(1 in s1)\n",
    "print(100 in s1)"
   ]
  },
  {
   "cell_type": "code",
   "execution_count": 90,
   "id": "5b5f2a7a",
   "metadata": {},
   "outputs": [
    {
     "name": "stdout",
     "output_type": "stream",
     "text": [
      "False\n",
      "True\n"
     ]
    }
   ],
   "source": [
    "print(1 not in s1)\n",
    "print(100 not in s1)"
   ]
  },
  {
   "cell_type": "code",
   "execution_count": 92,
   "id": "a9632b4a",
   "metadata": {},
   "outputs": [
    {
     "name": "stdout",
     "output_type": "stream",
     "text": [
      "{1, 2, 3, 4, 5}\n",
      "{1, 2, 3, 4, 5}\n"
     ]
    }
   ],
   "source": [
    "s1 = {1,2,3}\n",
    "s2 = {3,4,5}\n",
    "# 합집합\n",
    "s3 = s1|s2\n",
    "s4 = s1.union(s2)\n",
    "print(s3)\n",
    "print(s4)"
   ]
  },
  {
   "cell_type": "code",
   "execution_count": 93,
   "id": "f634fd46",
   "metadata": {},
   "outputs": [
    {
     "name": "stdout",
     "output_type": "stream",
     "text": [
      "{3} {3}\n"
     ]
    }
   ],
   "source": [
    "# 교집합\n",
    "s5 = s1 & s2\n",
    "s6 = s1.intersection(s2)\n",
    "print(s5,s6)"
   ]
  },
  {
   "cell_type": "code",
   "execution_count": 94,
   "id": "324e0f2b",
   "metadata": {},
   "outputs": [
    {
     "name": "stdout",
     "output_type": "stream",
     "text": [
      "{1, 2}\n",
      "{1, 2}\n"
     ]
    }
   ],
   "source": [
    "# 차집합\n",
    "s7 = s1 -s2\n",
    "s8 = s1.difference(s2)\n",
    "print(s7)\n",
    "print(s8)"
   ]
  },
  {
   "cell_type": "markdown",
   "id": "95066f64",
   "metadata": {},
   "source": [
    "# 메소드"
   ]
  },
  {
   "cell_type": "code",
   "execution_count": 95,
   "id": "f81a7d45",
   "metadata": {},
   "outputs": [
    {
     "name": "stdout",
     "output_type": "stream",
     "text": [
      "{1, 2, 3, 4, 5, 10}\n",
      "{1, 2, 3, 4, 5, 10}\n"
     ]
    }
   ],
   "source": [
    "# 추가\n",
    "s3.add(10)\n",
    "print(s3)\n",
    "s3.add(10) # 있는값을 추가, 중복된 값 추가 x\n",
    "print(s3)"
   ]
  },
  {
   "cell_type": "code",
   "execution_count": 96,
   "id": "ff03b0c5",
   "metadata": {},
   "outputs": [
    {
     "data": {
      "text/plain": [
       "{1, 2, 3, 4, 5, 10, 100, 200, 300, 400}"
      ]
     },
     "execution_count": 96,
     "metadata": {},
     "output_type": "execute_result"
    }
   ],
   "source": [
    "s3.update([1,2,3,100,200,300,400])\n",
    "s3"
   ]
  },
  {
   "cell_type": "code",
   "execution_count": 97,
   "id": "bbac5eb5",
   "metadata": {},
   "outputs": [
    {
     "name": "stdout",
     "output_type": "stream",
     "text": [
      "1\n"
     ]
    },
    {
     "data": {
      "text/plain": [
       "{2, 3, 4, 5, 10, 100, 200, 300, 400}"
      ]
     },
     "execution_count": 97,
     "metadata": {},
     "output_type": "execute_result"
    }
   ],
   "source": [
    "v = s3.pop()\n",
    "print(v)\n",
    "s3"
   ]
  },
  {
   "cell_type": "code",
   "execution_count": 98,
   "id": "b2296f54",
   "metadata": {},
   "outputs": [
    {
     "data": {
      "text/plain": [
       "{2, 3, 4, 10, 100, 200, 300, 400}"
      ]
     },
     "execution_count": 98,
     "metadata": {},
     "output_type": "execute_result"
    }
   ],
   "source": [
    "s3.remove(5)  # s3의 원소중 5를 삭제 \n",
    "s3"
   ]
  },
  {
   "cell_type": "code",
   "execution_count": 99,
   "id": "f83e56a8",
   "metadata": {},
   "outputs": [],
   "source": [
    "var1 = []  # 빈 리스트\n",
    "var2 = {}  # 빈 dictionary"
   ]
  },
  {
   "cell_type": "markdown",
   "id": "9cda9e26",
   "metadata": {},
   "source": [
    "# 자료구조 변환 함수\n",
    "- list(자료구조): 자료구조를 list로 변환\n",
    "- tuple(자료구조) : 자료구조를 tuple로 변환\n",
    "- set(자료구조) : 자료구조를 set으로 변환\n",
    "- dictionary로 변환하는 함수는 없다\n",
    "- 변경할 대상 자료구조가 dictionary 일 경우에는 key값들만 모아서 변환"
   ]
  },
  {
   "cell_type": "code",
   "execution_count": 100,
   "id": "e5a57e76",
   "metadata": {},
   "outputs": [
    {
     "data": {
      "text/plain": [
       "([1, 2, 10, 5, 10, 2], list, (1, 2, 10, 5, 10, 2))"
      ]
     },
     "execution_count": 100,
     "metadata": {},
     "output_type": "execute_result"
    }
   ],
   "source": [
    "t = 1,2,10,5,10,2\n",
    "l = list(t)\n",
    "l, type(l), t"
   ]
  },
  {
   "cell_type": "code",
   "execution_count": 101,
   "id": "d386f224",
   "metadata": {},
   "outputs": [
    {
     "data": {
      "text/plain": [
       "({1, 2, 5, 10}, set)"
      ]
     },
     "execution_count": 101,
     "metadata": {},
     "output_type": "execute_result"
    }
   ],
   "source": [
    "s = set(t)\n",
    "s, type(s)"
   ]
  },
  {
   "cell_type": "code",
   "execution_count": 103,
   "id": "de467dbb",
   "metadata": {},
   "outputs": [
    {
     "name": "stdout",
     "output_type": "stream",
     "text": [
      "{'a', 'b', 'c'}\n",
      "['a', 'b', 'c']\n",
      "('a', 'b', 'c')\n"
     ]
    }
   ],
   "source": [
    "d = {'a':10, 'b':20, 'c':30}\n",
    "d\n",
    "print(set(d))\n",
    "print(list(d))\n",
    "print(tuple(d))"
   ]
  },
  {
   "cell_type": "code",
   "execution_count": 104,
   "id": "78137167",
   "metadata": {},
   "outputs": [
    {
     "data": {
      "text/plain": [
       "{'name': '홍길동', 'age': 20, 'address': '부산'}"
      ]
     },
     "execution_count": 104,
     "metadata": {},
     "output_type": "execute_result"
    }
   ],
   "source": [
    "# dict(key=value, key=value) = dictionary를 쉽게 만들도록 도와주는 함수\n",
    "d1 = dict(name='홍길동',age=20,address='부산')\n",
    "d1"
   ]
  },
  {
   "cell_type": "code",
   "execution_count": null,
   "id": "3c8e8641",
   "metadata": {},
   "outputs": [],
   "source": []
  }
 ],
 "metadata": {
  "kernelspec": {
   "display_name": "Python 3 (ipykernel)",
   "language": "python",
   "name": "python3"
  },
  "language_info": {
   "codemirror_mode": {
    "name": "ipython",
    "version": 3
   },
   "file_extension": ".py",
   "mimetype": "text/x-python",
   "name": "python",
   "nbconvert_exporter": "python",
   "pygments_lexer": "ipython3",
   "version": "3.9.7"
  }
 },
 "nbformat": 4,
 "nbformat_minor": 5
}
