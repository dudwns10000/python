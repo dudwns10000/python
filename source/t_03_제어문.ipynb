{
 "cells": [
  {
   "cell_type": "code",
   "execution_count": 1,
   "id": "80a18771",
   "metadata": {},
   "outputs": [
    {
     "name": "stdout",
     "output_type": "stream",
     "text": [
      "점수:105\n",
      "105는 잘못된 점수 입니다\n"
     ]
    }
   ],
   "source": [
    "#(1) 다음 점수 구간에 맞게 학점을 출력하세요.\n",
    "# 91 ~ 100 : A학점\n",
    "# 81 ~ 90 :  B학점\n",
    "# 71 ~ 80 :  C학점\n",
    "# 61 ~ 70 :  D학점\n",
    "# 60이하   :  F학점\n",
    "a = int(input(\"점수:\"))\n",
    "if 90 < a <=100:\n",
    "    print(\"A학점\")\n",
    "elif 80 < a <= 90:\n",
    "    print(\"B학점\")\n",
    "elif 70 < a <= 80:\n",
    "    print(\"c학점\")\n",
    "elif 60 < a <= 70:\n",
    "    print(\"D학점\")\n",
    "elif a <= 60:\n",
    "    print(\"F학점\")\n",
    "else:\n",
    "    print(f\"{a}는 잘못된 점수 입니다\")\n",
    "    "
   ]
  },
  {
   "cell_type": "code",
   "execution_count": 5,
   "id": "63cfa9de",
   "metadata": {},
   "outputs": [
    {
     "name": "stdout",
     "output_type": "stream",
     "text": [
      "ID:ㅁㅁ\n",
      "사용할 수 없는 ID입니다\n"
     ]
    }
   ],
   "source": [
    "#(2) 사용자로 부터 ID를 입력 받은 뒤 입력받은 ID가 5글자 이상이면 \"사용할 수 있습니다.\"를 5글자 미만이면 \"사용할 수 없는 ID입니다.\"를 출력하세요.\n",
    "ID = input(\"ID:\")\n",
    "if len(ID) >= 5:\n",
    "    print(\"사용할 수 있습니다\")\n",
    "else:\n",
    "    print(\"사용할 수 없는 ID입니다\")\n"
   ]
  },
  {
   "cell_type": "code",
   "execution_count": 3,
   "id": "306737f3",
   "metadata": {},
   "outputs": [
    {
     "name": "stdout",
     "output_type": "stream",
     "text": [
      "도시명:인천\n",
      "특별시나 광역시가 아닙니다\n"
     ]
    }
   ],
   "source": [
    "#(3) 사용자로부터 우리나라 도시명을 입력 받은 뒤 입력받은 도시명이 서울이면 \"특별시\"를 인천,부산,광주,대구,대전,울산 이면 \"광역시\"를 나머지는 \"특별시나 광역시가 아닙니다.\"를 출력하세요.\n",
    "name = input(\"도시명:\")\n",
    "if name == \"서울\":\n",
    "    print(\"특별시\")\n",
    "elif name ==\"인천,부산,광주,대구,울산\":\n",
    "    print(\"광역시\")\n",
    "else:\n",
    "    print(\"특별시나 광역시가 아닙니다\")"
   ]
  },
  {
   "cell_type": "code",
   "execution_count": 5,
   "id": "c87d52db",
   "metadata": {},
   "outputs": [
    {
     "name": "stdout",
     "output_type": "stream",
     "text": [
      "89.0\n"
     ]
    }
   ],
   "source": [
    "#(4) 아래 리스트의 평균을 구하시오. \n",
    "jumsu = [100, 90, 100, 80, 70, 100, 80, 90, 95, 85]\n",
    "sum_jumsu = 0\n",
    "for i in range(len(jumsu)):\n",
    "    sum_jumsu += jumsu[i]\n",
    "avr_jumsu = sum_jumsu / len(jumsu)\n",
    "print(avr_jumsu)\n",
    "    "
   ]
  },
  {
   "cell_type": "code",
   "execution_count": 12,
   "id": "3452eb19",
   "metadata": {},
   "outputs": [
    {
     "name": "stdout",
     "output_type": "stream",
     "text": [
      "0 pass\n",
      "1 pass\n",
      "2 pass\n",
      "3 fail\n",
      "4 fail\n",
      "5 pass\n",
      "6 fail\n",
      "7 pass\n",
      "8 pass\n",
      "9 fail\n"
     ]
    }
   ],
   "source": [
    "#(5) 위 jumsu리스트에서 평균점수이상은 pass, 미만은 fail을 index번호와 함께 출력하시오. (ex: 0-pass, 1-pass, 2-fail)\n",
    "for i in range(len(jumsu)):\n",
    "    if jumsu[i] > avr_jumsu:\n",
    "        print(i,\"pass\")\n",
    "    else:\n",
    "        print(i,\"fail\")\n",
    "        "
   ]
  },
  {
   "cell_type": "code",
   "execution_count": 9,
   "id": "872c4652",
   "metadata": {},
   "outputs": [
    {
     "name": "stdout",
     "output_type": "stream",
     "text": [
      "95\n"
     ]
    }
   ],
   "source": [
    "#(6) 아래 리스트 값들 중 최대값을 조회해 출력\n",
    "jumsu = [60, 90, 80, 80, 70, 55, 80, 90, 95, 85]\n",
    "n=0\n",
    "for i in jumsu:\n",
    "    if i > i+1:\n",
    "        best_jumsu = i\n",
    "\n",
    "print(best_jumsu)\n",
    "    \n",
    "        \n",
    "        \n",
    "    "
   ]
  },
  {
   "cell_type": "code",
   "execution_count": 10,
   "id": "45a8bc15",
   "metadata": {},
   "outputs": [
    {
     "name": "stdout",
     "output_type": "stream",
     "text": [
      "['소', '호랑이', '용', '뱀']\n"
     ]
    }
   ],
   "source": [
    "#(8) 다음 리스트 중에서 \"쥐\"와 \"토끼\" 제외한 나머지를 출력하세요.\n",
    "str_list = [\"쥐\", \"소\", \"호랑이\", \"토끼\", \"용\", \"뱀\"]\n",
    "a = []\n",
    "for i in str_list:\n",
    "    if i in (\"호랑이\",\"용\",\"뱀\",\"소\"):\n",
    "        a.append(i)\n",
    "\n",
    "print(a)\n",
    "        "
   ]
  },
  {
   "cell_type": "code",
   "execution_count": null,
   "id": "39afbc1e",
   "metadata": {},
   "outputs": [],
   "source": [
    "#(9) 사용자로부터 정수를 입력받아 그 단의 구구단을 출력하시오. \n",
    "# ex) 단을 입력하시오 : 2  \n",
    "# 2 x 1 = 2\n",
    "# 2 x 2 = 4\n",
    "#..\n",
    "# 2 x 9 = 18\n",
    "\n",
    "#컴프리헨션\n",
    "\n",
    "#(10) 다음 리스트가 가진 값에 두배(* 2)를 가지는 새로운 리스트를 만드시오. (리스트 컴프리헨션 이용)\n",
    "lst = [10, 30, 70, 5, 120, 700, 1, 35]\n",
    "\n",
    "\n",
    "#(11) 다음 리스트가 가진 값에 10배의 값을 가지는 값을 (원래값, 10배값) 의 튜플 묶음으로 가지는 리스트를 만드시오 (리스트 컴프리헨션 이용)\n",
    "# Ex) [(10,100), (30,300), .., (35, 350)]\n",
    "lst = [10, 30, 70, 5, 5, 120, 700, 1, 35, 35]\n",
    "\n",
    "\n",
    "\n",
    "#(12) 다음 리스트가 가진 값들 중 3의 배수만 가지는 리스트를 만드시오. (리스트 컴프리헨션 이용)\n",
    "lst2 = [ 3, 20, 33, 21, 33, 8, 11, 10, 7, 17, 60, 120, 2]\n",
    "\n",
    "\n",
    "#(13) 다음 파일이름들을 담은 리스트에서 확장자가 exe인 파일만 골라서 새로운 리스트에 담으시오.(string의 endswith()함수 이용)\n",
    "file_name=[\"test.txt\", \"a.exe\", \"jupyter.bat\", \"function.exe\", \"b.exe\", \"cat.jpg\", \"dog.png\", \"run.exe\", \"i.dll\"]\n",
    "\n",
    "\n",
    "#(14) 다음 중 10글자 이상인 파일명(확장자포함)만 가지는 리스트를 만드시오.\n",
    "file_name=[\"mystroy.txt\", \"a.exe\", \"jupyter.bat\", \"function.exe\", \"b.exe\", \"cat.jpg\", \"dog.png\", \"run.exe\", \"i.dll\"]\n",
    "\n",
    "\n",
    "\n",
    "#(15) 다음 리스트에서 소문자만 가지는 새로운 리스트를 만드시오.\n",
    "str_list = [\"A\", \"B\", \"c\", \"D\", \"E\", \"F\", \"g\", \"h\", \"I\", \"J\", \"k\"]"
   ]
  }
 ],
 "metadata": {
  "kernelspec": {
   "display_name": "Python 3 (ipykernel)",
   "language": "python",
   "name": "python3"
  },
  "language_info": {
   "codemirror_mode": {
    "name": "ipython",
    "version": 3
   },
   "file_extension": ".py",
   "mimetype": "text/x-python",
   "name": "python",
   "nbconvert_exporter": "python",
   "pygments_lexer": "ipython3",
   "version": "3.9.7"
  }
 },
 "nbformat": 4,
 "nbformat_minor": 5
}
