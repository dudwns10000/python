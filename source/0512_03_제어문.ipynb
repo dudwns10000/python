{
 "cells": [
  {
   "cell_type": "markdown",
   "id": "f844f36d",
   "metadata": {},
   "source": [
    "# 제어문\n",
    "code의 흐름을 제어하는 구문"
   ]
  },
  {
   "cell_type": "markdown",
   "id": "d00e68d4",
   "metadata": {},
   "source": [
    "## 조건문(분기문)"
   ]
  },
  {
   "cell_type": "code",
   "execution_count": 1,
   "id": "3ca3d557",
   "metadata": {},
   "outputs": [
    {
     "name": "stdout",
     "output_type": "stream",
     "text": [
      "정수:10\n",
      "종료\n"
     ]
    }
   ],
   "source": [
    "num = int(input(\"정수:\"))\n",
    "# 입력값이 0이면 \"0입니다.\"라고 출력한다,\n",
    "# 단순 if문 -> 특정 구문들을 실행할지 말지\n",
    "if num == 0:\n",
    "    print(\"0입니다\")\n",
    "    print(\"zero\")\n",
    "print(\"종료\")"
   ]
  },
  {
   "cell_type": "code",
   "execution_count": 1,
   "id": "c7aefbbc",
   "metadata": {},
   "outputs": [
    {
     "name": "stdout",
     "output_type": "stream",
     "text": [
      "정수:10\n",
      "0이 아닙니다\n",
      "입력한 숫자는 10입니다\n",
      "종료\n"
     ]
    }
   ],
   "source": [
    "# 입력받은 값이 0이면 \"0입니다\" 출력하고 0이 아니면 \"0이 아닙니다\" 출력\n",
    "# if else 문 : 조건이 True일 때 할 일과 False 할 일 두가지로 분기하는 경우\n",
    "num = int(input(\"정수:\"))\n",
    "if num == 0:\n",
    "    print(\"0입니다\")\n",
    "else:\n",
    "    print(\"0이 아닙니다\")\n",
    "    a = \"입력한 숫자는 %d입니다\"%num\n",
    "    print(a)\n",
    "print(\"종료\")"
   ]
  },
  {
   "cell_type": "code",
   "execution_count": 3,
   "id": "63ce78a1",
   "metadata": {},
   "outputs": [
    {
     "name": "stdout",
     "output_type": "stream",
     "text": [
      "정수:10\n",
      "양수입니다\n",
      "입력한 숫자는 10입니다\n",
      "종료합니다\n"
     ]
    }
   ],
   "source": [
    "# 입력받은 값이 0이면 \"0입니다.\"를 출력하고\n",
    "#                양수이면 \"양수입니다.\"를 출력\n",
    "#                음수이면 \"음수입니다.\"를 출력\n",
    "# if else 문 : 조건이 여러개일 경우 사용\n",
    "num = int(input(\"정수:\"))\n",
    "if num ==0:\n",
    "    print(\"0입니다\")\n",
    "elif num > 0:\n",
    "    print(\"양수입니다\")\n",
    "    print(f\"입력한 숫자는 {num}입니다\")\n",
    "else: #위 조건이 모두 False이면 else문을 실행\n",
    "    print(\"음수입니다\")\n",
    "print(\"종료합니다\")"
   ]
  },
  {
   "cell_type": "code",
   "execution_count": 2,
   "id": "e962e056",
   "metadata": {},
   "outputs": [
    {
     "name": "stdout",
     "output_type": "stream",
     "text": [
      "양수\n"
     ]
    }
   ],
   "source": [
    "# num이 0이상이면 \"양수입니다\"를 출력하고 100 초과하면 \"100보다 큽니다\"를 출력\n",
    "num = 10\n",
    "if num >= 0:\n",
    "    print(\"양수\")\n",
    "    if num >= 100:\n",
    "        print(\"100이상\")"
   ]
  },
  {
   "cell_type": "markdown",
   "id": "0603ef13",
   "metadata": {},
   "source": [
    "## 반복문\n",
    "## while문\n",
    "- 조건이 True인 동안 구문을 반복"
   ]
  },
  {
   "cell_type": "code",
   "execution_count": 4,
   "id": "727b534d",
   "metadata": {},
   "outputs": [
    {
     "name": "stdout",
     "output_type": "stream",
     "text": [
      "반복획수:7\n",
      "0. 안녕하세요\n",
      "==========\n",
      "1. 안녕하세요\n",
      "==========\n",
      "2. 안녕하세요\n",
      "==========\n",
      "3. 안녕하세요\n",
      "==========\n",
      "4. 안녕하세요\n",
      "==========\n",
      "5. 안녕하세요\n",
      "==========\n",
      "6. 안녕하세요\n",
      "==========\n"
     ]
    }
   ],
   "source": [
    "limit = int(input(\"반복획수:\")) #반복할 횟수\n",
    "count = 0 # 현재 몇번째 반복인지를 저장할 변수\n",
    "while count < limit:  # 현재 반복횟수가 limit보다 적을때 까지 반복\n",
    "    print(f\"{count}. 안녕하세요\")\n",
    "    count = count + 1\n",
    "    print(\"=\"*10)"
   ]
  },
  {
   "cell_type": "markdown",
   "id": "76288217",
   "metadata": {},
   "source": [
    "### for in 문\n",
    "- iterable(자료구조들, 문자열 등)이 가지고 있는 값들은 순환조회할 떄 사용"
   ]
  },
  {
   "cell_type": "code",
   "execution_count": 6,
   "id": "88feb009",
   "metadata": {},
   "outputs": [
    {
     "name": "stdout",
     "output_type": "stream",
     "text": [
      "10\n",
      "----------\n",
      "9\n",
      "----------\n",
      "8\n",
      "----------\n",
      "7\n",
      "----------\n",
      "6\n",
      "----------\n",
      "5\n",
      "----------\n",
      "4\n",
      "----------\n",
      "3\n",
      "----------\n",
      "2\n",
      "----------\n",
      "1\n",
      "----------\n"
     ]
    }
   ],
   "source": [
    "#for 변수 iternable\n",
    "#    반복구문\n",
    "lst = [10,9,8,7,6,5,4,3,2,1]\n",
    "for num in lst:\n",
    "    print(num)  # for in 문의 반복구문은 iterable의 원소 하나씩 처리하는 코드\n",
    "    print(\"-\"*10)"
   ]
  },
  {
   "cell_type": "code",
   "execution_count": 7,
   "id": "f16cdc67",
   "metadata": {},
   "outputs": [
    {
     "name": "stdout",
     "output_type": "stream",
     "text": [
      "10,20,30,40,종료\n"
     ]
    }
   ],
   "source": [
    "for v in (10,20,30,40):\n",
    "    print(v,end=\",\")    #end =>v를 출력후 엔터대신에 출력할 값\n",
    "print(\"종료\")"
   ]
  },
  {
   "cell_type": "code",
   "execution_count": 10,
   "id": "39029637",
   "metadata": {},
   "outputs": [
    {
     "name": "stdout",
     "output_type": "stream",
     "text": [
      "1\t2\t3\t4\t"
     ]
    }
   ],
   "source": [
    "for v in {1,2,2,2,3,4,1,2,3,4}:\n",
    "    print(v,end=\"\\t\")"
   ]
  },
  {
   "cell_type": "code",
   "execution_count": 11,
   "id": "375d42e1",
   "metadata": {},
   "outputs": [
    {
     "name": "stdout",
     "output_type": "stream",
     "text": [
      "name\n",
      "age\n",
      "address\n"
     ]
    }
   ],
   "source": [
    "for v in dict(name=\"홍길동\", age=20, address=\"서울\"):\n",
    "    print(v)"
   ]
  },
  {
   "cell_type": "markdown",
   "id": "0882d038",
   "metadata": {},
   "source": [
    "# continue, break\n",
    "- continue: 다음 반복을 실행해라\n",
    "- break: 반복을 멈춰라"
   ]
  },
  {
   "cell_type": "code",
   "execution_count": 12,
   "id": "f1418fb1",
   "metadata": {},
   "outputs": [
    {
     "name": "stdout",
     "output_type": "stream",
     "text": [
      "10\n",
      "100\n",
      "50\n",
      "22\n",
      "90\n"
     ]
    }
   ],
   "source": [
    "lst = [10,5,7,9,100,50,27,123,22,90]\n",
    "for v in lst:\n",
    "    if v % 2 != 0: #2의 배수가 아니면(조건)\n",
    "        continue  # 나머지 반복구문을 실행하지 말고 다음 반복 실행해라\n",
    "    print(v)"
   ]
  },
  {
   "cell_type": "code",
   "execution_count": 13,
   "id": "56a7c17a",
   "metadata": {},
   "outputs": [
    {
     "name": "stdout",
     "output_type": "stream",
     "text": [
      "10\n",
      "5\n",
      "7\n",
      "9\n",
      "100\n"
     ]
    }
   ],
   "source": [
    "for v in lst:\n",
    "    print(v)\n",
    "    if v >= 100:  #break 할 조건\n",
    "        break  # 더이상 반복하지 않고 반복문을 끝낸다\n",
    "print(\"end\")"
   ]
  },
  {
   "cell_type": "code",
   "execution_count": 14,
   "id": "47afff52",
   "metadata": {},
   "outputs": [
    {
     "name": "stdout",
     "output_type": "stream",
     "text": [
      "d\n",
      "입력한 문자열: d\n",
      "d\n",
      "입력한 문자열: d\n",
      "q!\n",
      "입력한 문자열: q!\n"
     ]
    }
   ],
   "source": [
    "# 사용자로 부터 글을 입력받아서 출력. 'q!'를 입력받으면 종료\n",
    "while True:\n",
    "    s = input()\n",
    "    print(\"입력한 문자열:\",s)\n",
    "    if s == \"q!\":\n",
    "        break"
   ]
  },
  {
   "cell_type": "markdown",
   "id": "9651df56",
   "metadata": {},
   "source": [
    "## for in문 관련 함수\n",
    "- range()\n",
    "    - 특정값만큼 증감하는 연속된 숫자를 제공하는 iterable을 생성"
   ]
  },
  {
   "cell_type": "code",
   "execution_count": 18,
   "id": "5cc1b75f",
   "metadata": {
    "scrolled": true
   },
   "outputs": [
    {
     "name": "stdout",
     "output_type": "stream",
     "text": [
      "10\n",
      "20\n",
      "30\n",
      "40\n",
      "50\n",
      "60\n",
      "70\n",
      "80\n",
      "90\n",
      "100\n"
     ]
    }
   ],
   "source": [
    "# nums = [1, 2, 3, 4, 5, 6, 7, 8, ......,100]\n",
    "#range(시작숫자, 끝숫자, 증감치)\n",
    "range(10,100,10) # 10~100-10(증감치만큼 뺸것) 까지 10씩 증가하는 연속된 값을 제공\n",
    "                 # 생성된 값이 필요할 때 제공한다.\n",
    "for i in range(10,101,10):\n",
    "    print(i)"
   ]
  },
  {
   "cell_type": "code",
   "execution_count": 19,
   "id": "99ab1eab",
   "metadata": {
    "scrolled": true
   },
   "outputs": [
    {
     "name": "stdout",
     "output_type": "stream",
     "text": [
      "[10, 20, 30, 40, 50, 60, 70, 80, 90, 100]\n"
     ]
    }
   ],
   "source": [
    "l = list(range(10,101,10))\n",
    "print(l)"
   ]
  },
  {
   "cell_type": "code",
   "execution_count": 31,
   "id": "f7436540",
   "metadata": {},
   "outputs": [
    {
     "data": {
      "text/plain": [
       "[100, 95, 90, 85, 80, 75, 70, 65, 60, 55, 50, 45, 40, 35, 30, 25, 20, 15]"
      ]
     },
     "execution_count": 31,
     "metadata": {},
     "output_type": "execute_result"
    }
   ],
   "source": [
    "# 시작값이 종료보다 크고 증감치가 음수이면 내림차순으로 제공\n",
    "list(range(100,10,-5)) #100~10+5"
   ]
  },
  {
   "cell_type": "code",
   "execution_count": 27,
   "id": "b0c86ad3",
   "metadata": {},
   "outputs": [
    {
     "data": {
      "text/plain": [
       "[1, 2, 3, 4, 5, 6, 7, 8, 9]"
      ]
     },
     "execution_count": 27,
     "metadata": {},
     "output_type": "execute_result"
    }
   ],
   "source": [
    "# 증감치를 생략 - 1\n",
    "list(range(1,10)) # 1~9 1씩 증가"
   ]
  },
  {
   "cell_type": "code",
   "execution_count": 28,
   "id": "24c9968f",
   "metadata": {},
   "outputs": [
    {
     "data": {
      "text/plain": [
       "[0, 1, 2, 3, 4, 5, 6, 7, 8, 9]"
      ]
     },
     "execution_count": 28,
     "metadata": {},
     "output_type": "execute_result"
    }
   ],
   "source": [
    "# 시작값 생략 (증감치도 같이 생략해야함) - 0부터 시작\n",
    "list(range(10))"
   ]
  },
  {
   "cell_type": "markdown",
   "id": "0601a5f9",
   "metadata": {},
   "source": [
    "# range( ) 전달하는 값이\n",
    "- 1개: 종료값\n",
    "- 2개: 시작값, 종료값\n",
    "- 3개: 시작값, 종료값, 증감치"
   ]
  },
  {
   "cell_type": "code",
   "execution_count": 35,
   "id": "5c711d94",
   "metadata": {},
   "outputs": [
    {
     "name": "stdout",
     "output_type": "stream",
     "text": [
      "ABC\n",
      "ABC\n",
      "ABC\n",
      "ABC\n",
      "ABC\n",
      "ABC\n",
      "ABC\n",
      "ABC\n",
      "ABC\n",
      "ABC\n"
     ]
    }
   ],
   "source": [
    "#range(): 특정 구문을 N번 반복하려고 할때 for in문과 함께 사용할 수 있다.\n",
    "for _ in range(10):  # 변수를 _로 명명하면 이 변수는 사용하지 않겟다. 자리만 채운다는 의미로 관례적으로 사용\n",
    "    print(\"ABC\")"
   ]
  },
  {
   "cell_type": "markdown",
   "id": "a718fcb6",
   "metadata": {},
   "source": [
    "- enumerate()\n",
    "    - 튜플로 (몇번째 반복인지, 값) 묶어서 반환"
   ]
  },
  {
   "cell_type": "code",
   "execution_count": 45,
   "id": "55a626d0",
   "metadata": {},
   "outputs": [
    {
     "name": "stdout",
     "output_type": "stream",
     "text": [
      "(0, 10)\n",
      "(1, 5)\n",
      "(2, 7)\n",
      "(3, 8)\n",
      "(4, 10)\n",
      "(5, 2)\n"
     ]
    }
   ],
   "source": [
    "lst = [10,5,7,8,10,2]\n",
    "for i in enumerate(lst):\n",
    "    print(i)"
   ]
  },
  {
   "cell_type": "code",
   "execution_count": 50,
   "id": "8bc4376a",
   "metadata": {},
   "outputs": [
    {
     "name": "stdout",
     "output_type": "stream",
     "text": [
      "(1, 10) 순번:1, 값:10\n",
      "(2, 5) 순번:2, 값:5\n",
      "(3, 7) 순번:3, 값:7\n",
      "(4, 8) 순번:4, 값:8\n",
      "(5, 10) 순번:5, 값:10\n",
      "(6, 2) 순번:6, 값:2\n"
     ]
    }
   ],
   "source": [
    "for i in enumerate(lst, start=1):\n",
    "    print(i,f\"순번:{i[0]}, 값:{i[1]}\")"
   ]
  },
  {
   "cell_type": "code",
   "execution_count": 51,
   "id": "9e387f13",
   "metadata": {},
   "outputs": [
    {
     "name": "stdout",
     "output_type": "stream",
     "text": [
      "1.10\n",
      "2.5\n",
      "3.7\n",
      "4.8\n",
      "5.10\n",
      "6.2\n"
     ]
    }
   ],
   "source": [
    "for idx, value in enumerate(lst, start=1):  # enumerate() 반환값을 tuple 대입을 이용해 받는다.\n",
    "    print(f\"{idx}.{value}\")"
   ]
  },
  {
   "cell_type": "markdown",
   "id": "f33ad31b",
   "metadata": {},
   "source": [
    "- zip(자료구조1, 자료구조2, ...): 같은 index의 값들을 묶어서 반환"
   ]
  },
  {
   "cell_type": "code",
   "execution_count": 58,
   "id": "04809d17",
   "metadata": {},
   "outputs": [
    {
     "name": "stdout",
     "output_type": "stream",
     "text": [
      "('홍길동', 30, '서울')\n",
      "('이순신', 40, '인천')\n",
      "('강감찬', 50, '수원')\n"
     ]
    }
   ],
   "source": [
    "# 같은 index의 값들이 같은 사람의 정보\n",
    "names = ['홍길동','이순신','강감찬']\n",
    "age = [30,40,50]\n",
    "address = ['서울','인천','수원']\n",
    "for v in zip(names, age, address):\n",
    "    print(v)"
   ]
  },
  {
   "cell_type": "code",
   "execution_count": 59,
   "id": "5e9a0213",
   "metadata": {},
   "outputs": [
    {
     "name": "stdout",
     "output_type": "stream",
     "text": [
      "홍길동 30 서울\n",
      "이순신 40 인천\n",
      "강감찬 50 수원\n"
     ]
    }
   ],
   "source": [
    "for name, age, addr in zip(names, age, address):  # 튜플 대입\n",
    "    print(name, age, addr)   # 자료구조들의 원소 개수가 다를 경우에는 적은 것에 맞춘다.\n",
    "        "
   ]
  },
  {
   "cell_type": "markdown",
   "id": "2d49c538",
   "metadata": {},
   "source": [
    "# 컴프리헨션"
   ]
  },
  {
   "cell_type": "code",
   "execution_count": 63,
   "id": "7437d276",
   "metadata": {},
   "outputs": [
    {
     "name": "stdout",
     "output_type": "stream",
     "text": [
      "[5, 10, 15, 20, 25]\n"
     ]
    }
   ],
   "source": [
    "# l1의 원고들을 5배한 값들로 구성된 리스트를 생성\n",
    "l1 = [1, 2, 3, 4, 5] \n",
    "new_l1 = []\n",
    "for i in l1:\n",
    "    new_l1.append(i*5)\n",
    "print(new_l1)"
   ]
  },
  {
   "cell_type": "code",
   "execution_count": 66,
   "id": "5b72e098",
   "metadata": {},
   "outputs": [
    {
     "name": "stdout",
     "output_type": "stream",
     "text": [
      "[5, 10, 15, 20, 25]\n"
     ]
    }
   ],
   "source": [
    "new_l2 = [i*5 for i in l1]  # 리스트 컴프리헨션\n",
    "print(new_l2)"
   ]
  },
  {
   "cell_type": "code",
   "execution_count": 67,
   "id": "162aca1c",
   "metadata": {},
   "outputs": [
    {
     "name": "stdout",
     "output_type": "stream",
     "text": [
      "{5, 10, 15, 20, 25}\n"
     ]
    }
   ],
   "source": [
    "new_set = {i*5 for i in l1}  # set 컴프리헨션\n",
    "print(new_set)"
   ]
  },
  {
   "cell_type": "code",
   "execution_count": 71,
   "id": "e9013f0b",
   "metadata": {},
   "outputs": [
    {
     "name": "stdout",
     "output_type": "stream",
     "text": [
      "{100: 5, 101: 10, 102: 15, 103: 20, 104: 25}\n"
     ]
    }
   ],
   "source": [
    "new_dict = {key:value*5 for key,value in enumerate(l1, start=100)}  #dictionary 컴프리헨션\n",
    "print(new_dict)"
   ]
  },
  {
   "cell_type": "code",
   "execution_count": 77,
   "id": "bf384ac4",
   "metadata": {},
   "outputs": [
    {
     "name": "stdout",
     "output_type": "stream",
     "text": [
      "['A', 'B', 'C', 'ABC']\n",
      "['A', 'B', 'C', 'ABC']\n"
     ]
    }
   ],
   "source": [
    "s = ['a', 'b', 'c', 'abc']\n",
    "\n",
    "s2 = []\n",
    "for v in s:\n",
    "    s2.append(v.upper())\n",
    "print(s2)\n",
    "s3 = [v1.upper() for v1 in s]\n",
    "print(s3)"
   ]
  },
  {
   "cell_type": "code",
   "execution_count": 81,
   "id": "217fcd91",
   "metadata": {},
   "outputs": [
    {
     "name": "stdout",
     "output_type": "stream",
     "text": [
      "['A', 'B', 'C', 'abc', 'def', 'ak', 'R']\n"
     ]
    }
   ],
   "source": [
    "s = ['a','b','c','abc','def','ak','r']\n",
    "# s의 원소중 글자수가 1글자인 원소만 소문자를 대문자로 바꾼 값들을 가지는 배열\n",
    "s2 = []\n",
    "for v in s:\n",
    "    if len(v) == 1:  # 글자수가 1이면\n",
    "        s2.append(v.upper())\n",
    "    else:\n",
    "        s2.append(v)\n",
    "print(s2)"
   ]
  },
  {
   "cell_type": "code",
   "execution_count": 85,
   "id": "e5808bd3",
   "metadata": {},
   "outputs": [
    {
     "data": {
      "text/plain": [
       "['A', 'B', 'C', 'R']"
      ]
     },
     "execution_count": 85,
     "metadata": {},
     "output_type": "execute_result"
    }
   ],
   "source": [
    "[v.upper() for v in s if len(v) == 1]  # True인것만 v.upper()"
   ]
  },
  {
   "cell_type": "code",
   "execution_count": null,
   "id": "ecfd0ab8",
   "metadata": {},
   "outputs": [],
   "source": []
  }
 ],
 "metadata": {
  "kernelspec": {
   "display_name": "Python 3 (ipykernel)",
   "language": "python",
   "name": "python3"
  },
  "language_info": {
   "codemirror_mode": {
    "name": "ipython",
    "version": 3
   },
   "file_extension": ".py",
   "mimetype": "text/x-python",
   "name": "python",
   "nbconvert_exporter": "python",
   "pygments_lexer": "ipython3",
   "version": "3.9.7"
  }
 },
 "nbformat": 4,
 "nbformat_minor": 5
}
