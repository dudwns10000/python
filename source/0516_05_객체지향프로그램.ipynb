{
 "cells": [
  {
   "cell_type": "markdown",
   "id": "be8fefec",
   "metadata": {},
   "source": [
    "# 클래스와 객체\n",
    "- 클래스(class)\n",
    "    - 사용자 정의 데이터타입. \n",
    "    - 특정 데이터에 맞게 정의한 dictionary개념(값을 key-value 쌍으로 관리)\n",
    "- 객체(instance)\n",
    "    - 클래스로부터 생성된 값\n",
    "- Attribute, Instance 변수\n",
    "    - 객체를 구성하는 값으로 객체의 속성, 상태를 표현한다.\n",
    "    - 보통 initializer를 이용해 초기화 한다.\n",
    "- Instance method\n",
    "    - 객체가 제공하는 기능으로 사용자 정의 데이터타입(class)의 연산자이다.\n",
    "    - 클래스 구현부에 정의한다"
   ]
  },
  {
   "cell_type": "code",
   "execution_count": 1,
   "id": "41a3c239",
   "metadata": {},
   "outputs": [],
   "source": [
    "# Person 이란 이름의 클래스(사용자 정의 데이터타입) 정의\n",
    "# class 이름: 이름규칙 - 변수규칙과 동일\n",
    "#               관례 - 파스칼 표기법, 단어의 첫글자는 대문자로 하고 나머지는 소문자\n",
    "class Person:  # 클래스 선언부\n",
    "    pass  # block 내용이 없다 , 클래스 구현(block)"
   ]
  },
  {
   "cell_type": "code",
   "execution_count": 3,
   "id": "c45f1b22",
   "metadata": {},
   "outputs": [
    {
     "name": "stdout",
     "output_type": "stream",
     "text": [
      "<class '__main__.Person'>\n"
     ]
    }
   ],
   "source": [
    "# 객체(Instance) 생성 -> 값을 생성\n",
    "# 클래스이름()\n",
    "p = Person()\n",
    "print(type(p))"
   ]
  },
  {
   "cell_type": "code",
   "execution_count": 5,
   "id": "c09a8583",
   "metadata": {},
   "outputs": [],
   "source": [
    "# Person 객체에 속성을 추가/조회\n",
    "# 객체의 속성/메소드에 접근(호출) - '.' 표기법을 사용  \n",
    "# p에 대입된 객체에 name 속성에 \"홍길동\" 대입\n",
    "# 초기화 - 처음 값을 대입\n",
    "p.name = \"홍길동\"  # p의 이름은 \"홍길동\"  # .표기법: 속성명을 변수로 처리\n",
    "p.age = 30\n",
    "p.address = '서울'"
   ]
  },
  {
   "cell_type": "code",
   "execution_count": 6,
   "id": "802b6b95",
   "metadata": {},
   "outputs": [
    {
     "name": "stdout",
     "output_type": "stream",
     "text": [
      "이름: 홍길동\n",
      "나이: 30\n",
      "주소: 서울\n"
     ]
    }
   ],
   "source": [
    "print(\"이름:\",p.name)\n",
    "print(\"나이:\",p.age)\n",
    "print(\"주소:\",p.address)"
   ]
  },
  {
   "cell_type": "code",
   "execution_count": 7,
   "id": "cba355cc",
   "metadata": {},
   "outputs": [
    {
     "name": "stdout",
     "output_type": "stream",
     "text": [
      "새나이: 11\n"
     ]
    }
   ],
   "source": [
    "p.age = 11\n",
    "print('새나이:',p.age)"
   ]
  },
  {
   "cell_type": "markdown",
   "id": "b0c90e32",
   "metadata": {},
   "source": [
    "## 클래스에 메소드 정의\n",
    "- 클래스에 객체의 [속성과 관련된] 연산자(함수)를 추가하는 개념\n",
    "```python\n",
    "# 메소드 구문\n",
    "def 메소드이름(self, v1, v2 ....):  \n",
    "# 1개 이상의 매개변수를 정의, 첫번째 매개변수 이름은 관례적으로 self로 준다.\n",
    "  self는 개체(instance)를 받는다\n",
    "```"
   ]
  },
  {
   "cell_type": "code",
   "execution_count": 54,
   "id": "5465ae83",
   "metadata": {},
   "outputs": [],
   "source": [
    "# class를 구현 -> instance를 처리하는 메소드들을 정의\n",
    "#              -> attribute: 메소드의 self를 이용해서 정의\n",
    "class Person2:\n",
    "    # 사람의 속성값들을 모두 출력하는 메소드\n",
    "    def print_info(self):\n",
    "        info = f'이름:{self.name},나이:{self.age},주소:{self.address}' \n",
    "        #self.name -> 이 클래스로부터 생성된 객체(self)의(.) 속성 name\n",
    "        \n",
    "        print(info)\n",
    "    # 나이에 특정 값을 더하는 메소드\n",
    "    def add_age(self, value): #value는 age에 더해줄 값 -> 호출하는 곳에서 받을 값을 저장할 매개변수는 두번째 변수부터 선언\n",
    "        self.age = self.age + value"
   ]
  },
  {
   "cell_type": "code",
   "execution_count": 23,
   "id": "e7eeb03b",
   "metadata": {},
   "outputs": [],
   "source": [
    "p2 = Person2()\n",
    "p2.name = '홍길동'\n",
    "p2.age = 25\n",
    "p2.address = '인천'"
   ]
  },
  {
   "cell_type": "code",
   "execution_count": 24,
   "id": "a1fdac4e",
   "metadata": {},
   "outputs": [
    {
     "name": "stdout",
     "output_type": "stream",
     "text": [
      "이름:홍길동,나이:25,주소:인천\n"
     ]
    }
   ],
   "source": [
    "p2.print_info()"
   ]
  },
  {
   "cell_type": "code",
   "execution_count": 25,
   "id": "71977ede",
   "metadata": {},
   "outputs": [
    {
     "name": "stdout",
     "output_type": "stream",
     "text": [
      "이름:홍길동,나이:25,주소:수원\n"
     ]
    }
   ],
   "source": [
    "p2.address = '수원'\n",
    "p2.print_info()"
   ]
  },
  {
   "cell_type": "code",
   "execution_count": 28,
   "id": "4dcd3592",
   "metadata": {},
   "outputs": [
    {
     "name": "stdout",
     "output_type": "stream",
     "text": [
      "이름:홍길동,나이:34,주소:수원\n"
     ]
    }
   ],
   "source": [
    "p2.add_age(3)\n",
    "p2.print_info()"
   ]
  },
  {
   "cell_type": "code",
   "execution_count": 29,
   "id": "71600268",
   "metadata": {},
   "outputs": [],
   "source": [
    "# int 타입: 1    int 값: 1, 2, 3, ..... \n",
    "# 클래스: 타입 1,    객체값: 무한대\n",
    "\n",
    "#Person2 클래스에서 객체(instance)3개 생성\n",
    "p1 = Person2()\n",
    "p2 = Person2()\n",
    "p3 = Person2()"
   ]
  },
  {
   "cell_type": "code",
   "execution_count": 32,
   "id": "b04cc7ff",
   "metadata": {},
   "outputs": [],
   "source": [
    "p1.name = \"이름1\"\n",
    "p1.age = 10\n",
    "p1.address = \"주소\""
   ]
  },
  {
   "cell_type": "code",
   "execution_count": 33,
   "id": "21336360",
   "metadata": {},
   "outputs": [],
   "source": [
    "p2.name = \"이름2\"\n",
    "p2.age = 20\n",
    "p2.address = \"주소2\""
   ]
  },
  {
   "cell_type": "code",
   "execution_count": 55,
   "id": "91384ac6",
   "metadata": {},
   "outputs": [
    {
     "name": "stdout",
     "output_type": "stream",
     "text": [
      "이름:이름3,나이:30,주소:주소3\n"
     ]
    }
   ],
   "source": [
    "p3.name = \"이름3\"\n",
    "p3.age = 30\n",
    "p3.address = \"주소3\"\n",
    "p3.email = \"abc@com\"\n",
    "p3.print_info()"
   ]
  },
  {
   "cell_type": "code",
   "execution_count": 36,
   "id": "6ec09ac4",
   "metadata": {},
   "outputs": [],
   "source": [
    "# P2: Person2에서 생선된 객체 => Person2에 정의된 메소드만 호출가능"
   ]
  },
  {
   "cell_type": "code",
   "execution_count": 37,
   "id": "9162fa4f",
   "metadata": {},
   "outputs": [
    {
     "ename": "AttributeError",
     "evalue": "'Person2' object has no attribute 'age'",
     "output_type": "error",
     "traceback": [
      "\u001b[1;31m---------------------------------------------------------------------------\u001b[0m",
      "\u001b[1;31mAttributeError\u001b[0m                            Traceback (most recent call last)",
      "\u001b[1;32m~\\AppData\\Local\\Temp/ipykernel_6580/2398426628.py\u001b[0m in \u001b[0;36m<module>\u001b[1;34m\u001b[0m\n\u001b[0;32m      1\u001b[0m \u001b[0mp4\u001b[0m \u001b[1;33m=\u001b[0m \u001b[0mPerson2\u001b[0m\u001b[1;33m(\u001b[0m\u001b[1;33m)\u001b[0m\u001b[1;33m\u001b[0m\u001b[1;33m\u001b[0m\u001b[0m\n\u001b[0;32m      2\u001b[0m \u001b[1;31m#4p.add_age(2)\u001b[0m\u001b[1;33m\u001b[0m\u001b[1;33m\u001b[0m\u001b[0m\n\u001b[1;32m----> 3\u001b[1;33m \u001b[0mp4\u001b[0m\u001b[1;33m.\u001b[0m\u001b[0madd_age\u001b[0m\u001b[1;33m(\u001b[0m\u001b[1;36m2\u001b[0m\u001b[1;33m)\u001b[0m \u001b[1;31m# 호출 전에 age를 할당한 후에 호출\u001b[0m\u001b[1;33m\u001b[0m\u001b[1;33m\u001b[0m\u001b[0m\n\u001b[0m\u001b[0;32m      4\u001b[0m \u001b[1;33m\u001b[0m\u001b[0m\n\u001b[0;32m      5\u001b[0m \u001b[0mp4\u001b[0m\u001b[1;33m.\u001b[0m\u001b[0mprint_info\u001b[0m\u001b[1;33m(\u001b[0m\u001b[1;33m)\u001b[0m  \u001b[1;31m# 호출 전에 name, age, address 속성값을 할당 후에 호풓\u001b[0m\u001b[1;33m\u001b[0m\u001b[1;33m\u001b[0m\u001b[0m\n",
      "\u001b[1;32m~\\AppData\\Local\\Temp/ipykernel_6580/3781591012.py\u001b[0m in \u001b[0;36madd_age\u001b[1;34m(self, value)\u001b[0m\n\u001b[0;32m      8\u001b[0m     \u001b[1;31m# 나이에 특정 값을 더하는 메소드\u001b[0m\u001b[1;33m\u001b[0m\u001b[1;33m\u001b[0m\u001b[0m\n\u001b[0;32m      9\u001b[0m     \u001b[1;32mdef\u001b[0m \u001b[0madd_age\u001b[0m\u001b[1;33m(\u001b[0m\u001b[0mself\u001b[0m\u001b[1;33m,\u001b[0m \u001b[0mvalue\u001b[0m\u001b[1;33m)\u001b[0m\u001b[1;33m:\u001b[0m \u001b[1;31m#value는 age에 더해줄 값 -> 호출하는 곳에서 받을 값을 저장할 매개변수는 두번째 변수부터 선언\u001b[0m\u001b[1;33m\u001b[0m\u001b[1;33m\u001b[0m\u001b[0m\n\u001b[1;32m---> 10\u001b[1;33m         \u001b[0mself\u001b[0m\u001b[1;33m.\u001b[0m\u001b[0mage\u001b[0m \u001b[1;33m=\u001b[0m \u001b[0mself\u001b[0m\u001b[1;33m.\u001b[0m\u001b[0mage\u001b[0m \u001b[1;33m+\u001b[0m \u001b[0mvalue\u001b[0m\u001b[1;33m\u001b[0m\u001b[1;33m\u001b[0m\u001b[0m\n\u001b[0m",
      "\u001b[1;31mAttributeError\u001b[0m: 'Person2' object has no attribute 'age'"
     ]
    }
   ],
   "source": [
    "p4 = Person2()\n",
    "#4p.add_age(2)\n",
    "p4.add_age(2) # 호출 전에 age를 할당한 후에 호출\n",
    "\n",
    "p4.print_info()  # 호출 전에 name, age, address 속성값을 할당 후에 호풓\n",
    "# AttributeError: 객체에 없는 속성/메소드를 호출 할때 발생하는 에러"
   ]
  },
  {
   "cell_type": "markdown",
   "id": "fddf0c49",
   "metadata": {},
   "source": [
    "## Initializer 메소드(Constructor-생성자)\n",
    "- 객체 생성하는 시점에 속성값들을 초기화 하도록 강제하는 메소드\n",
    "    - **객체(instance)를 구성하는 Attribute들을 정의, 초기화 하는 역할**\n",
    "        - 객체를 생성하는 곳으로부터 argument로 반드시 받아야하는 것은\n",
    "          기본값 없는 매개변수로 선언한다.\n",
    "        - 객체를 생성하는 곳에서 값을 줄수도 안줄 수도 있는 경우 기본값 있는\n",
    "          매개변수로 선언한다.\n",
    "    - 객체 생성후 메소드들이 호출 되기전에 반드시 생성되야 하는 attribute들을 객체에 설정하는 역할을 한다.\n",
    "    - Default 속성을 설정해주는 메소드\n",
    "- 객체 생성시 호출되는 메소드\n",
    "    - self로 생성되는 객체를 받는다."
   ]
  },
  {
   "cell_type": "code",
   "execution_count": 46,
   "id": "d55db561",
   "metadata": {},
   "outputs": [],
   "source": [
    "class Test:\n",
    "    \n",
    "#     initializer: 이름 - __init__(self, [변수들...])\n",
    "    def __init__(self, var5):\n",
    "        print('Test의 __init__() 실행')\n",
    "        self.var1 = \"변수1\"\n",
    "        self.var2 = \"변수2\"\n",
    "        self.var3 = True\n",
    "        self.var4 = 10000\n",
    "        self.var5 = var5  # 매개변수var5로 받은 값을 Attribute var5에 대입"
   ]
  },
  {
   "cell_type": "code",
   "execution_count": 44,
   "id": "a2205603",
   "metadata": {},
   "outputs": [
    {
     "name": "stdout",
     "output_type": "stream",
     "text": [
      "Test의 __init__() 실행\n"
     ]
    }
   ],
   "source": [
    "t = Test()  #객채생성: 클래스이름() -> 클래스의 initialize를 호출"
   ]
  },
  {
   "cell_type": "code",
   "execution_count": 45,
   "id": "ea0f20d5",
   "metadata": {},
   "outputs": [
    {
     "name": "stdout",
     "output_type": "stream",
     "text": [
      "변수1 변수2 True 10000\n"
     ]
    }
   ],
   "source": [
    "print(t.var1, t.var2, t.var3, t.var4)"
   ]
  },
  {
   "cell_type": "code",
   "execution_count": 47,
   "id": "fa9c9190",
   "metadata": {},
   "outputs": [
    {
     "name": "stdout",
     "output_type": "stream",
     "text": [
      "Test의 __init__() 실행\n"
     ]
    }
   ],
   "source": [
    "t1 = Test(200)"
   ]
  },
  {
   "cell_type": "code",
   "execution_count": 48,
   "id": "f2d9070f",
   "metadata": {},
   "outputs": [
    {
     "name": "stdout",
     "output_type": "stream",
     "text": [
      "변수1 변수2 True 10000 200\n"
     ]
    }
   ],
   "source": [
    "print(t1.var1, t1.var2, t1.var3, t1.var4, t1.var5)"
   ]
  },
  {
   "cell_type": "code",
   "execution_count": 52,
   "id": "c675ba45",
   "metadata": {},
   "outputs": [],
   "source": [
    "class Person3:\n",
    "    \n",
    "    #name, age, address 속성을 초기화하는 initializer \n",
    "    def __init__(self, name, age, address=None):\n",
    "        self.name = name  # Attribute = Parameter\n",
    "        self.age = age\n",
    "        self.address = address\n",
    "        # self.point = 10000  # 모든 객체에 같은 값을 넣는 Attribute\n",
    "\n",
    "    def print_info(self):\n",
    "        info = f'이름:{self.name},나이:{self.age},주소:{self.address}'         \n",
    "        print(info)\n",
    "    def add_age(self, value):\n",
    "        self.age = self.age + value"
   ]
  },
  {
   "cell_type": "code",
   "execution_count": 53,
   "id": "f13f0362",
   "metadata": {},
   "outputs": [
    {
     "name": "stdout",
     "output_type": "stream",
     "text": [
      "이름:홍길동,나이:20,주소:None\n",
      "이름:홍길동,나이:25,주소:None\n"
     ]
    }
   ],
   "source": [
    "p = Person3(\"홍길동\",20)\n",
    "p.print_info()\n",
    "p.add_age(5)\n",
    "p.print_info()"
   ]
  },
  {
   "cell_type": "code",
   "execution_count": 56,
   "id": "a22bbcea",
   "metadata": {},
   "outputs": [
    {
     "data": {
      "text/plain": [
       "type"
      ]
     },
     "execution_count": 56,
     "metadata": {},
     "output_type": "execute_result"
    }
   ],
   "source": [
    "type(Person3)  # type(class이름) -> type"
   ]
  },
  {
   "cell_type": "code",
   "execution_count": 57,
   "id": "b9defdac",
   "metadata": {},
   "outputs": [
    {
     "data": {
      "text/plain": [
       "{'name': '이름3', 'age': 30, 'address': '주소3', 'email': 'abc@com'}"
      ]
     },
     "execution_count": 57,
     "metadata": {},
     "output_type": "execute_result"
    }
   ],
   "source": [
    "p3.__dict__"
   ]
  },
  {
   "cell_type": "markdown",
   "id": "352a48eb",
   "metadata": {},
   "source": [
    "## 정보 은닉(Information Hiding)\n",
    "- Attribute에 아무값이나 대입하지 못하게 하고 어떤 규칙을 설정하고 싶을 때 적용.\n",
    "1. Attribute에 접근하는 것을 막는다.\n",
    "    - Attribute 이름 앞에 __ (double underscore)를 붙인다. **뒤에는 붙이면 절대 안됨**\n",
    "        - 내부적으로 변수의 이름을 `_클래스이름__속성명` 으로 변환해서 객체에 저장(메소드에서 self.__변수로 설정한 경우)\n",
    "2. Attribute의 값을 변경하는 메소드(여기에 변경규칙을 넣는다.) - setter  \n",
    "   Attribute의 값을 반환하는 메소드 - getter"
   ]
  },
  {
   "cell_type": "code",
   "execution_count": 68,
   "id": "a20e2c8b",
   "metadata": {},
   "outputs": [],
   "source": [
    "class Person4:\n",
    "    \n",
    "    def __init__(self,age):\n",
    "        if age >= 0:\n",
    "            self.__age = age\n",
    "        else:\n",
    "            self.__age = None\n",
    "        # age 속성값을 변경하는 메소드 - setter\n",
    "    def set_age(self,age):\n",
    "        if age >= 0:\n",
    "            self.__age = age  # 같은 클래스에서는 __변수를 호출 할 수있다.\n",
    "            \n",
    "    # age 속성값을 반환하는 메소드 - getter\n",
    "    def get_age(self):\n",
    "        return self.__age"
   ]
  },
  {
   "cell_type": "code",
   "execution_count": 69,
   "id": "9d14df8a",
   "metadata": {},
   "outputs": [
    {
     "data": {
      "text/plain": [
       "{'_Person4__age': 20}"
      ]
     },
     "execution_count": 69,
     "metadata": {},
     "output_type": "execute_result"
    }
   ],
   "source": [
    "p = Person4(20)\n",
    "p.__dict__"
   ]
  },
  {
   "cell_type": "code",
   "execution_count": 65,
   "id": "fc7c8790",
   "metadata": {},
   "outputs": [],
   "source": [
    "p.__age = 100  # __init__에서 설정한 __age 속성이 아니라 다른이름의 속성"
   ]
  },
  {
   "cell_type": "code",
   "execution_count": 70,
   "id": "457370ea",
   "metadata": {},
   "outputs": [
    {
     "data": {
      "text/plain": [
       "{'_Person4__age': 30}"
      ]
     },
     "execution_count": 70,
     "metadata": {},
     "output_type": "execute_result"
    }
   ],
   "source": [
    "# 변경\n",
    "p.set_age(30)\n",
    "p.__dict__"
   ]
  },
  {
   "cell_type": "code",
   "execution_count": 71,
   "id": "b77b5b02",
   "metadata": {},
   "outputs": [
    {
     "data": {
      "text/plain": [
       "{'_Person4__age': 30}"
      ]
     },
     "execution_count": 71,
     "metadata": {},
     "output_type": "execute_result"
    }
   ],
   "source": [
    "p.set_age(-30)\n",
    "p.__dict__"
   ]
  },
  {
   "cell_type": "markdown",
   "id": "0660a1f9",
   "metadata": {},
   "source": [
    "### setter, getter 메소드를 변수처럼 호출할 수 있도록 처리.\n",
    "1. property()함수를 이용\n",
    "2. property decorator를 이용"
   ]
  },
  {
   "cell_type": "code",
   "execution_count": 112,
   "id": "bc9f33f1",
   "metadata": {},
   "outputs": [],
   "source": [
    "# property()함수를 이용\n",
    "class Person5:\n",
    "    \n",
    "    def __init__(self,name,age):\n",
    "        if name: # 한글자 이상이면 넣어라\n",
    "            self.__name = name\n",
    "        if age >= 0:  # 양수이면 넣어라\n",
    "            self.__age = age\n",
    "            \n",
    "    def set_name(self,name):\n",
    "        if name: # 한글자 이상이면 넣어라\n",
    "            self.__name = name\n",
    "            \n",
    "    def get_name(self):\n",
    "        return self.__name\n",
    "    \n",
    "    def set_age(self,age):\n",
    "        if age >= 0:  # 양수이면 넣어라\n",
    "            self.__age = age\n",
    "            \n",
    "    def get_age(self):\n",
    "        return self.__age\n",
    "    \n",
    "    # 변수명 = property(getter,setter), 객체,변수명으로 값을 조회할 경우 getter 메소드 호출, 값을 대입하면 setter 메소드를 호출\n",
    "    name =  property(get_name, set_name)\n",
    "    age = property(get_age, set_age)"
   ]
  },
  {
   "cell_type": "code",
   "execution_count": 113,
   "id": "c715cd1f",
   "metadata": {},
   "outputs": [
    {
     "data": {
      "text/plain": [
       "{'_Person5__name': '홍길동', '_Person5__age': 30}"
      ]
     },
     "execution_count": 113,
     "metadata": {},
     "output_type": "execute_result"
    }
   ],
   "source": [
    "p = Person5('홍길동',30)\n",
    "p.__dict__"
   ]
  },
  {
   "cell_type": "code",
   "execution_count": 114,
   "id": "1102537f",
   "metadata": {},
   "outputs": [
    {
     "data": {
      "text/plain": [
       "{'_Person5__name': '홍길동', '_Person5__age': 30}"
      ]
     },
     "execution_count": 114,
     "metadata": {},
     "output_type": "execute_result"
    }
   ],
   "source": [
    "# name 속성에 값을 대입 -> set_name\n",
    "p.name = None\n",
    "p.age = -40\n",
    "p.__dict__"
   ]
  },
  {
   "cell_type": "code",
   "execution_count": 115,
   "id": "514332d3",
   "metadata": {},
   "outputs": [
    {
     "name": "stdout",
     "output_type": "stream",
     "text": [
      "30\n"
     ]
    }
   ],
   "source": [
    "print(p.age)"
   ]
  },
  {
   "cell_type": "code",
   "execution_count": 116,
   "id": "f7caaed3",
   "metadata": {},
   "outputs": [],
   "source": [
    "# decorator를 이용해서 setter/getter를 변수처럼 사용하기\n",
    "#1. setter/getter 메소드 이름을 사용할 변수명을 준다.\n",
    "#2. getter 메소드에 @property 데코레이터를 붙인다\n",
    "#   seeter 메소드에 @getter메소드명.setter 데코레이터를 붙인다.\n",
    "class Person6:\n",
    "    \n",
    "    def __init__(self,name,age):\n",
    "        if name: # 한글자 이상이면 넣어라\n",
    "            self.__name = name\n",
    "        if age >= 0:  # 양수이면 넣어라\n",
    "            self.__age = age\n",
    "    \n",
    "    @property\n",
    "    def name(self): # getter\n",
    "        return self.__name\n",
    "    \n",
    "    @name.setter  #name에 대한 setter\n",
    "    def name(self,name): # setter\n",
    "        if name:\n",
    "            self.__name = name\n",
    "            \n",
    "    @property\n",
    "    def age(self):\n",
    "        return self.__age\n",
    "    \n",
    "    @age.setter\n",
    "    def age(self,age):\n",
    "        if age >= 0:\n",
    "            self.__age = age"
   ]
  },
  {
   "cell_type": "code",
   "execution_count": 117,
   "id": "9439e619",
   "metadata": {},
   "outputs": [
    {
     "data": {
      "text/plain": [
       "{'_Person6__name': '이순신', '_Person6__age': 10}"
      ]
     },
     "execution_count": 117,
     "metadata": {},
     "output_type": "execute_result"
    }
   ],
   "source": [
    "p = Person6('이순신',10)\n",
    "p.__dict__"
   ]
  },
  {
   "cell_type": "code",
   "execution_count": 118,
   "id": "15ea3732",
   "metadata": {},
   "outputs": [
    {
     "name": "stdout",
     "output_type": "stream",
     "text": [
      "이순신 10\n"
     ]
    }
   ],
   "source": [
    "p.name = None\n",
    "p.age = -20\n",
    "print(p.name,p.age)"
   ]
  },
  {
   "cell_type": "code",
   "execution_count": null,
   "id": "ddd54f6e",
   "metadata": {},
   "outputs": [],
   "source": [
    "l = [10,5,7,2]"
   ]
  }
 ],
 "metadata": {
  "kernelspec": {
   "display_name": "Python 3 (ipykernel)",
   "language": "python",
   "name": "python3"
  },
  "language_info": {
   "codemirror_mode": {
    "name": "ipython",
    "version": 3
   },
   "file_extension": ".py",
   "mimetype": "text/x-python",
   "name": "python",
   "nbconvert_exporter": "python",
   "pygments_lexer": "ipython3",
   "version": "3.9.7"
  }
 },
 "nbformat": 4,
 "nbformat_minor": 5
}
