{
 "cells": [
  {
   "cell_type": "code",
   "execution_count": 4,
   "id": "3573589e",
   "metadata": {},
   "outputs": [
    {
     "name": "stdout",
     "output_type": "stream",
     "text": [
      "50\n",
      "F학점\n"
     ]
    }
   ],
   "source": [
    "#(1) 다음 점수 구간에 맞게 학점을 출력하세요.\n",
    "# 91 ~ 100 : A학점\n",
    "# 81 ~ 90 :  B학점\n",
    "# 71 ~ 80 :  C학점\n",
    "# 61 ~ 70 :  D학점\n",
    "# 60이하   :  F학점\n",
    "jumsu = int(input())\n",
    "if 90 < jumsu <= 100:\n",
    "    print(\"A학점\")\n",
    "elif 80 < jumsu <= 90:\n",
    "    print(\"B학점\")\n",
    "elif 70 < jumsu <= 80:\n",
    "    print(\"C학점\")\n",
    "elif 60 < jumsu <= 70:\n",
    "    print(\"D학점\")\n",
    "elif jumsu <= 60:\n",
    "    print(\"F학점\")\n",
    "else:\n",
    "    print(\"잘못된 점수 입니다\")"
   ]
  },
  {
   "cell_type": "code",
   "execution_count": 8,
   "id": "568ff0b4",
   "metadata": {},
   "outputs": [
    {
     "name": "stdout",
     "output_type": "stream",
     "text": [
      "asd\n",
      "asd는 사용할 수 없습니다\n"
     ]
    }
   ],
   "source": [
    "#(2) 사용자로 부터 ID를 입력 받은 뒤 입력받은 ID가 5글자 이상이면 \"사용할 수 있습니다.\"를 5글자 미만이면 \"사용할 수 없는 ID입니다.\"를 출력하세요.\n",
    "ID = input()\n",
    "if len(ID) >= 5:\n",
    "    print(f\"{ID}는사용할 수 있습니다\")\n",
    "else:\n",
    "    print(f\"{ID}는 사용할 수 없습니다\")"
   ]
  },
  {
   "cell_type": "code",
   "execution_count": 12,
   "id": "4b289e0b",
   "metadata": {},
   "outputs": [
    {
     "name": "stdout",
     "output_type": "stream",
     "text": [
      "부산\n",
      "부산광역시\n"
     ]
    }
   ],
   "source": [
    "#(3) 사용자로부터 우리나라 도시명을 입력 받은 뒤 입력받은 도시명이 서울이면 \"특별시\"를 인천,부산,광주,대구,대전,울산 이면 \"광역시\"를 나머지는 \"특별시나 광역시가 아닙니다.\"를 출력하세요.\n",
    "city = input()\n",
    "if city == \"서울\":\n",
    "    print(f\"{city}특별시\")\n",
    "elif city in (\"인천\",\"부산\",\"광주\",\"대구\",\"대전\",\"울산\"):\n",
    "    print(f\"{city}광역시\")\n",
    "else:\n",
    "    print(f\"{city}는 특별시나 광역시가 아닙니다\")"
   ]
  },
  {
   "cell_type": "code",
   "execution_count": 13,
   "id": "9bca38f5",
   "metadata": {},
   "outputs": [
    {
     "name": "stdout",
     "output_type": "stream",
     "text": [
      "89.0\n"
     ]
    }
   ],
   "source": [
    "#(4) 아래 리스트의 평균을 구하시오. \n",
    "jumsu = [100, 90, 100, 80, 70, 100, 80, 90, 95, 85]\n",
    "sum_jumsu = 0\n",
    "for i in jumsu:\n",
    "    sum_jumsu += i\n",
    "avr_jumsu = sum_jumsu / len(jumsu)\n",
    "print(avr_jumsu)"
   ]
  },
  {
   "cell_type": "code",
   "execution_count": 17,
   "id": "593bf5a5",
   "metadata": {},
   "outputs": [
    {
     "name": "stdout",
     "output_type": "stream",
     "text": [
      "0 - pass\n",
      "1 - pass\n",
      "2 - pass\n",
      "3 - fail\n",
      "4 - fail\n",
      "5 - pass\n",
      "6 - fail\n",
      "7 - pass\n",
      "8 - pass\n",
      "9 - fail\n"
     ]
    }
   ],
   "source": [
    "#(5) 위 jumsu리스트에서 평균점수이상은 pass, 미만은 fail을 index번호와 함께 출력하시오. (ex: 0-pass, 1-pass, 2-fail)\n",
    "for idx,i in enumerate(jumsu):\n",
    "    if i >= avr_jumsu:\n",
    "        print(f\"{idx} - pass\")\n",
    "    else:\n",
    "        print(f\"{idx} - fail\")"
   ]
  },
  {
   "cell_type": "code",
   "execution_count": 18,
   "id": "2367e92e",
   "metadata": {},
   "outputs": [
    {
     "name": "stdout",
     "output_type": "stream",
     "text": [
      "95\n"
     ]
    }
   ],
   "source": [
    "#(6) 아래 리스트 값들 중 최대값을 조회해 출력\n",
    "jumsu = [60, 90, 80, 80, 70, 55, 80, 90, 95, 85]\n",
    "best_jumsu = 0\n",
    "for i in jumsu:\n",
    "    if i > best_jumsu:\n",
    "        best_jumsu = i\n",
    "print(best_jumsu)"
   ]
  },
  {
   "cell_type": "code",
   "execution_count": 20,
   "id": "d8fa589c",
   "metadata": {},
   "outputs": [
    {
     "name": "stdout",
     "output_type": "stream",
     "text": [
      "['소', '호랑이', '용', '뱀']\n"
     ]
    }
   ],
   "source": [
    "#(8) 다음 리스트 중에서 \"쥐\"와 \"토끼\" 제외한 나머지를 출력하세요.\n",
    "str_list = [\"쥐\", \"소\", \"호랑이\", \"토끼\", \"용\", \"뱀\"]\n",
    "print([i for i in str_list if i not in (\"쥐\",\"토끼\")])"
   ]
  },
  {
   "cell_type": "code",
   "execution_count": 46,
   "id": "671ac153",
   "metadata": {
    "scrolled": true
   },
   "outputs": [
    {
     "name": "stdout",
     "output_type": "stream",
     "text": [
      "단:10\n",
      "10 x 1 = 10\n",
      "10 x 2 = 20\n",
      "10 x 3 = 30\n",
      "10 x 4 = 40\n",
      "10 x 5 = 50\n",
      "10 x 6 = 60\n",
      "10 x 7 = 70\n",
      "10 x 8 = 80\n",
      "10 x 9 = 90\n"
     ]
    }
   ],
   "source": [
    "#(9) 사용자로부터 정수를 입력받아 그 단의 구구단을 출력하시오. \n",
    "# ex) 단을 입력하시오 : 2  \n",
    "# 2 x 1 = 2\n",
    "# 2 x 2 = 4\n",
    "#..\n",
    "# 2 x 9 = 18\n",
    "num = int(input(\"단:\"))\n",
    "for i in range(1,10):\n",
    "    print(f\"{num} x {i} = {i * num}\")"
   ]
  },
  {
   "cell_type": "code",
   "execution_count": 35,
   "id": "eb04158b",
   "metadata": {},
   "outputs": [
    {
     "data": {
      "text/plain": [
       "[20, 60, 140, 10, 240, 1400, 2, 70]"
      ]
     },
     "execution_count": 35,
     "metadata": {},
     "output_type": "execute_result"
    }
   ],
   "source": [
    "#컴프리헨션\n",
    "\n",
    "#(10) 다음 리스트가 가진 값에 두배(* 2)를 가지는 새로운 리스트를 만드시오. (리스트 컴프리헨션 이용)\n",
    "lst = [10, 30, 70, 5, 120, 700, 1, 35]\n",
    "[i*2 for i in lst]"
   ]
  },
  {
   "cell_type": "code",
   "execution_count": 36,
   "id": "7a2c549c",
   "metadata": {},
   "outputs": [
    {
     "data": {
      "text/plain": [
       "[(10, 100),\n",
       " (30, 300),\n",
       " (70, 700),\n",
       " (5, 50),\n",
       " (5, 50),\n",
       " (120, 1200),\n",
       " (700, 7000),\n",
       " (1, 10),\n",
       " (35, 350),\n",
       " (35, 350)]"
      ]
     },
     "execution_count": 36,
     "metadata": {},
     "output_type": "execute_result"
    }
   ],
   "source": [
    "#(11) 다음 리스트가 가진 값에 10배의 값을 가지는 값을 (원래값, 10배값) 의 튜플 묶음으로 가지는 리스트를 만드시오 (리스트 컴프리헨션 이용)\n",
    "# Ex) [(10,100), (30,300), .., (35, 350)]\n",
    "lst = [10, 30, 70, 5, 5, 120, 700, 1, 35, 35]\n",
    "[(i,i*10) for i in lst]"
   ]
  },
  {
   "cell_type": "code",
   "execution_count": 37,
   "id": "1965b28e",
   "metadata": {},
   "outputs": [
    {
     "data": {
      "text/plain": [
       "[3, 33, 21, 33, 60, 120]"
      ]
     },
     "execution_count": 37,
     "metadata": {},
     "output_type": "execute_result"
    }
   ],
   "source": [
    "#(12) 다음 리스트가 가진 값들 중 3의 배수만 가지는 리스트를 만드시오. (리스트 컴프리헨션 이용)\n",
    "lst2 = [ 3, 20, 33, 21, 33, 8, 11, 10, 7, 17, 60, 120, 2]\n",
    "[i for i in lst2 if i % 3 == 0]"
   ]
  },
  {
   "cell_type": "code",
   "execution_count": 39,
   "id": "14e6a3c9",
   "metadata": {},
   "outputs": [
    {
     "data": {
      "text/plain": [
       "['a.exe', 'function.exe', 'b.exe', 'run.exe']"
      ]
     },
     "execution_count": 39,
     "metadata": {},
     "output_type": "execute_result"
    }
   ],
   "source": [
    "#(13) 다음 파일이름들을 담은 리스트에서 확장자가 exe인 파일만 골라서 새로운 리스트에 담으시오.(string의 endswith()함수 이용)\n",
    "file_name=[\"test.txt\", \"a.exe\", \"jupyter.bat\", \"function.exe\", \"b.exe\", \"cat.jpg\", \"dog.png\", \"run.exe\", \"i.dll\"]\n",
    "[i for i in file_name if i.endswith(\"exe\")]"
   ]
  },
  {
   "cell_type": "code",
   "execution_count": 41,
   "id": "67d73b71",
   "metadata": {},
   "outputs": [
    {
     "data": {
      "text/plain": [
       "[('mystroy.txt', 11), ('jupyter.bat', 11), ('function.exe', 12)]"
      ]
     },
     "execution_count": 41,
     "metadata": {},
     "output_type": "execute_result"
    }
   ],
   "source": [
    "#(14) 다음 중 10글자 이상인 파일명(확장자포함)만 가지는 리스트를 만드시오.\n",
    "file_name=[\"mystroy.txt\", \"a.exe\", \"jupyter.bat\", \"function.exe\", \"b.exe\", \"cat.jpg\", \"dog.png\", \"run.exe\", \"i.dll\"]\n",
    "[(i,len(i)) for i in file_name if len(i) >= 10]"
   ]
  },
  {
   "cell_type": "code",
   "execution_count": 45,
   "id": "01576738",
   "metadata": {},
   "outputs": [
    {
     "data": {
      "text/plain": [
       "['c', 'g', 'h', 'k']"
      ]
     },
     "execution_count": 45,
     "metadata": {},
     "output_type": "execute_result"
    }
   ],
   "source": [
    "#(15) 다음 리스트에서 소문자만 가지는 새로운 리스트를 만드시오.\n",
    "str_list = [\"A\", \"B\", \"c\", \"D\", \"E\", \"F\", \"g\", \"h\", \"I\", \"J\", \"k\"]\n",
    "[i for i in str_list if i.islower()]"
   ]
  },
  {
   "cell_type": "code",
   "execution_count": 44,
   "id": "3856764c",
   "metadata": {},
   "outputs": [
    {
     "data": {
      "text/plain": [
       "[]"
      ]
     },
     "execution_count": 44,
     "metadata": {},
     "output_type": "execute_result"
    }
   ],
   "source": []
  }
 ],
 "metadata": {
  "kernelspec": {
   "display_name": "Python 3 (ipykernel)",
   "language": "python",
   "name": "python3"
  },
  "language_info": {
   "codemirror_mode": {
    "name": "ipython",
    "version": 3
   },
   "file_extension": ".py",
   "mimetype": "text/x-python",
   "name": "python",
   "nbconvert_exporter": "python",
   "pygments_lexer": "ipython3",
   "version": "3.9.7"
  }
 },
 "nbformat": 4,
 "nbformat_minor": 5
}
