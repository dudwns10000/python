{
 "cells": [
  {
   "cell_type": "markdown",
   "id": "c4e321a9",
   "metadata": {},
   "source": [
    "# 결측치 처리\n",
    "- 결측치 (Not Available-NA, NaN, None, Null)\n",
    "    - 수집하지 못한 값. 모르는 값.\n",
    "- 머신러닝 알고리즘은 데이터셋에 결측치가 있으면 학습이나 추론을 하지 못하기 때문에 적절한 처리가 필요하다.\n",
    "    - 결측치 처리는 데이터 전처리 단계에서 진행한다.\n",
    "#### 결측치 처리방법\n",
    "    1. 제거 (열단위, 행단위) \n",
    "        - 행단위를 기본으로 하는데 특정 열에 결측치가 너무 많을 경우 열을 제거한다.\n",
    "    1. 다른 값으로 대체\n",
    "        - 가장 가능성이 높은 값으로 대체\n",
    "            - 수치형: 평균, 중앙값, \n",
    "            - 범주형: 최빈값(출연 빈도가 가장 많은 값)\n",
    "            - 그 Feature의 결측치를 예측하는 머신러닝 알고리즘을 모델링해서 추론\n",
    "        - 결측치 자체를 표현하는 값을 만들어서 대체 \n",
    "            - 나이에 -1, 혈액형에 ? 같와 같이 그 Feature가 가질 수 없는 값으로 결측치를 표현하는 값을 정한 뒤 대체한다."
   ]
  },
  {
   "cell_type": "markdown",
   "id": "4a9afc63",
   "metadata": {},
   "source": [
    "# 이상치(Outlier) 처리\n",
    "- 의미 그대로 이상한 값, 튀는 값, 패턴을 벋어난 값으로 그 Feature를 가지는 대부분의 값들과는 동떨어진 값을 말한다.\n",
    "- **오류값**\n",
    "    - 잘못 수집 된 값.\n",
    "    - 처리    \n",
    "        - 결측치 처리한다.\n",
    "- **극단치(분포에서 벋어난 값)**\n",
    "    - 정상적이 값이지만 다른 값들과 다른 패턴을 가지는 값.\n",
    "    - 일반적으로 극단적으로 크거나 작은 값\n",
    "    - 처리\n",
    "        1. 그 값을 그대로 유지한다.\n",
    "        1. 결측치 처리를 한다.\n",
    "        1. 다른 값으로 대체한다.\n",
    "            - 보통 그 값이 가질 수 있는 Min/Max값을 설정한 뒤 그 값으로 변경한다.\n",
    "    "
   ]
  },
  {
   "cell_type": "markdown",
   "id": "6a745211",
   "metadata": {},
   "source": [
    "# Feature 타입 별 전처리\n",
    "\n",
    "## Feature(변수)의 타입\n",
    "- **범주형(Categorical) 변수/이산형(Discrete) 변수**\n",
    "    - 대상값들이 서로 떨어진 값을 가지는 변수. 대부분 몇 개의 범주 중 하나에 속하는 값들로 구성되어 어떤 분류에 대한 속성을 가진다.\n",
    "    - **명목(Norminal) 변수/비서열(Unordered) 변수**\n",
    "        - 범주에 속한 값간에 서열(순위)가 없는 변수\n",
    "        - 성별, 혈액형\n",
    "    - **순위(Ordinal) 변수/서열(Ordered) 변수**\n",
    "        - 범주에 속한 값 간에 서열(순위)가 있는 변수\n",
    "        - 성적, 직급\n",
    "- **연속형(Continuous) 변수**\n",
    "    -  대상값들이 서로 연속된 값을 가지는 변수를 말한다. 대상 값은 보통 정해진 범위 안의 모든 실수이다.\n",
    "    - **등간(Interval) 변수**\n",
    "        - 측정 대상의 순서와 측정 대상 간의 간격을 알 수 있는 변수로, 그 사이의 간격이 같은 변수를 말한다.\n",
    "        - 0의 값이 특정의미로 사용되는 값으로 0이 절대적인 0의 값이 아닐 수 있다.\n",
    "        - 예) 온도 : 온도에서 0은 절대적 0의 값이 아니라 얼음이 어는 빙결점의 온도를 의미한다. \n",
    "    - **비율(Ratio) 변수**\n",
    "        - 측정 대상의 순서와 측정 대상 간의 간격을 알 수 있는 변수로, 그 사이의 간격이 같은 변수를 말한다. (등간변수와 동일)\n",
    "        - 0이 절대적인 0의 값으로 사용된다.\n",
    "        - 예) 나이, 무게, 거리, 소득        "
   ]
  },
  {
   "cell_type": "markdown",
   "id": "2fe4f909",
   "metadata": {},
   "source": [
    "# 범주형 데이터 전처리\n",
    "- Scikit-learn의 머신러닝 API들은 Feature나 Label의 값들이 숫자(정수/실수)인 것만 처리할 수 있다.\n",
    "- 문자열(str)일 경우 숫자 형으로 변환해야 한다. \n",
    "    - **범주형 변수의 경우** 전처리를 통해 정수값으로 변환한다.\n",
    "    - 범주형이 아닌 **단순 문자열인** 경우 일반적으로 제거한다."
   ]
  },
  {
   "cell_type": "markdown",
   "id": "2fd53273",
   "metadata": {},
   "source": [
    "## 레이블 인코딩(Label encoding)\n",
    "\n",
    "\n",
    "- 문자열(범주형) 값을 오름차순 정렬 후 0 부터 1씩 증가하는 값으로 변환\n",
    "- **숫자의 차이가 모델에 영향을 주지 않는 트리 계열 모델(의사결정나무, 랜덤포레스트)에 적용한다.**\n",
    "- **숫자의 차이가 모델에 영향을 미치는 선형 계열 모델(로지스틱회귀, SVM, 신경망)에는 사용하면 안된다.**"
   ]
  },
  {
   "cell_type": "markdown",
   "id": "46a3746b",
   "metadata": {},
   "source": [
    "- **sklearn.preprocessing.LabelEncoder** 사용\n",
    "    - fit(): 어떻게 변환할 지 학습\n",
    "    - transform(): 문자열를 숫자로 변환\n",
    "    - fit_transform(): 학습과 변환을 한번에 처리\n",
    "    - inverse_transform():숫자를 문자열로 변환\n",
    "    - classes_ : 인코딩한 클래스 조회"
   ]
  },
  {
   "cell_type": "code",
   "execution_count": 1,
   "id": "f4ee9234",
   "metadata": {
    "ExecuteTime": {
     "end_time": "2022-06-30T09:45:34.807933Z",
     "start_time": "2022-06-30T09:45:33.790481Z"
    }
   },
   "outputs": [
    {
     "name": "stdout",
     "output_type": "stream",
     "text": [
      "인코딩 전 값 ['TV', '냉장고', '컴퓨터', '컴퓨터', '냉장고', '에어컨', 'TV', 'TV']\n",
      "인코딩 변환값: [0 1 3 3 1 2 0 0]\n"
     ]
    }
   ],
   "source": [
    "from sklearn.preprocessing import LabelEncoder\n",
    "import numpy as np\n",
    "\n",
    "items=['TV','냉장고','컴퓨터','컴퓨터','냉장고','에어컨','TV','TV']  #범주형 값들 (TV, 냉장고, 컴퓨터, 에어콘)\n",
    "\n",
    "# 변환기(Transformer) 객체 생성 -> LabelEncoder()\n",
    "encoder = LabelEncoder()\n",
    "# 어떻게 변환할지 학습 - fit(학습할 대상)\n",
    "encoder.fit(items)\n",
    "# 변환 - transform(변환대상)\n",
    "labels = encoder.transform(items)\n",
    "\n",
    "print('인코딩 전 값', items)\n",
    "print('인코딩 변환값:',labels)"
   ]
  },
  {
   "cell_type": "code",
   "execution_count": 2,
   "id": "84a74cb7",
   "metadata": {
    "ExecuteTime": {
     "end_time": "2022-06-30T09:45:34.822867Z",
     "start_time": "2022-06-30T09:45:34.811901Z"
    }
   },
   "outputs": [
    {
     "name": "stdout",
     "output_type": "stream",
     "text": [
      "인코딩 클래스: ['TV' '냉장고' '에어컨' '컴퓨터']\n"
     ]
    }
   ],
   "source": [
    "print('인코딩 클래스:',encoder.classes_)\n",
    "# ['TV' '냉장고' '에어컨' '컴퓨터']  - index가 encoding된 정수"
   ]
  },
  {
   "cell_type": "code",
   "execution_count": 3,
   "id": "f99ee8d0",
   "metadata": {
    "ExecuteTime": {
     "end_time": "2022-06-30T09:45:34.837826Z",
     "start_time": "2022-06-30T09:45:34.825865Z"
    },
    "scrolled": true
   },
   "outputs": [
    {
     "name": "stdout",
     "output_type": "stream",
     "text": [
      "디코딩 원본 값: ['냉장고' 'TV' '에어컨' 'TV' '냉장고' '냉장고' '컴퓨터' '컴퓨터']\n",
      "디코딩 ['TV' '냉장고' '컴퓨터' '컴퓨터' '냉장고' '에어컨' 'TV' 'TV']\n"
     ]
    }
   ],
   "source": [
    "print('디코딩 원본 값:',encoder.inverse_transform([1, 0, 2, 0, 1, 1, 3, 3]))\n",
    "print('디코딩', encoder.inverse_transform(labels))"
   ]
  },
  {
   "cell_type": "markdown",
   "id": "3da58885",
   "metadata": {},
   "source": [
    "#### 변환할 대상 데이터셋이 2개 - 같은 범주값들을 가진다. \n",
    "- 하나의 데이터셋으로 학습시킨뒤 둘다 변환한다."
   ]
  },
  {
   "cell_type": "code",
   "execution_count": 4,
   "id": "82a3d8d7",
   "metadata": {
    "ExecuteTime": {
     "end_time": "2022-06-30T09:45:34.852785Z",
     "start_time": "2022-06-30T09:45:34.842812Z"
    }
   },
   "outputs": [
    {
     "name": "stdout",
     "output_type": "stream",
     "text": [
      "['TV' '냉장고' '에어컨' '컴퓨터']\n",
      "item_labels1: [0 1 3 3 1 2 0 0]\n",
      "item_labels2: [0 0 1]\n"
     ]
    }
   ],
   "source": [
    "items1 = ['TV','냉장고','컴퓨터','컴퓨터','냉장고','에어컨','TV','TV']\n",
    "items2 = ['TV',\"TV\",'냉장고']\n",
    "le3 = LabelEncoder()\n",
    "# items1로 학습 -> 변환\n",
    "item_labels1 = le3.fit_transform(items1)\n",
    "print(le3.classes_)\n",
    "item_labels2 = le3.transform(items2)  # item1로 학습한 LabelEncoder를 이용해 변환만 한다.\n",
    "\n",
    "print(\"item_labels1:\", item_labels1)\n",
    "print(\"item_labels2:\", item_labels2)"
   ]
  },
  {
   "cell_type": "markdown",
   "id": "3fa991aa",
   "metadata": {},
   "source": [
    "### adult data 에 label encoding 적용\n",
    "- Adult 데이터셋은 1994년  인구조사 데이터 베이스에서 추출한 미국 성인의 소득 데이터셋이다.\n",
    "- target 은 income 이며 수입이 $50,000 이하인지 초과인지 두개의 class를 가진다.\n",
    "- https://archive.ics.uci.edu/ml/datasets/adult\n",
    "- 범주형: 'workclass','education', 'education-num', 'marital-status', 'occupation','relationship', 'race', 'gender','native-country', 'income'\n",
    "- 연속형: 'age', fnlwgt', 'capital-gain', 'capital-loss', 'hours-per-week'"
   ]
  },
  {
   "cell_type": "markdown",
   "id": "c4a7c623",
   "metadata": {},
   "source": [
    "##### 데이터 로딩"
   ]
  },
  {
   "cell_type": "code",
   "execution_count": 5,
   "id": "f23b9620",
   "metadata": {
    "ExecuteTime": {
     "end_time": "2022-06-30T09:45:36.035957Z",
     "start_time": "2022-06-30T09:45:35.438202Z"
    }
   },
   "outputs": [
    {
     "data": {
      "text/html": [
       "<div>\n",
       "<style scoped>\n",
       "    .dataframe tbody tr th:only-of-type {\n",
       "        vertical-align: middle;\n",
       "    }\n",
       "\n",
       "    .dataframe tbody tr th {\n",
       "        vertical-align: top;\n",
       "    }\n",
       "\n",
       "    .dataframe thead th {\n",
       "        text-align: right;\n",
       "    }\n",
       "</style>\n",
       "<table border=\"1\" class=\"dataframe\">\n",
       "  <thead>\n",
       "    <tr style=\"text-align: right;\">\n",
       "      <th></th>\n",
       "      <th>age</th>\n",
       "      <th>workclass</th>\n",
       "      <th>fnlwgt</th>\n",
       "      <th>education</th>\n",
       "      <th>education-num</th>\n",
       "      <th>marital-status</th>\n",
       "      <th>occupation</th>\n",
       "      <th>relationship</th>\n",
       "      <th>race</th>\n",
       "      <th>gender</th>\n",
       "      <th>capital-gain</th>\n",
       "      <th>capital-loss</th>\n",
       "      <th>hours-per-week</th>\n",
       "      <th>native-country</th>\n",
       "      <th>income</th>\n",
       "    </tr>\n",
       "  </thead>\n",
       "  <tbody>\n",
       "    <tr>\n",
       "      <th>0</th>\n",
       "      <td>39</td>\n",
       "      <td>State-gov</td>\n",
       "      <td>77516</td>\n",
       "      <td>Bachelors</td>\n",
       "      <td>13</td>\n",
       "      <td>Never-married</td>\n",
       "      <td>Adm-clerical</td>\n",
       "      <td>Not-in-family</td>\n",
       "      <td>White</td>\n",
       "      <td>Male</td>\n",
       "      <td>2174</td>\n",
       "      <td>0</td>\n",
       "      <td>40</td>\n",
       "      <td>United-States</td>\n",
       "      <td>&lt;=50K</td>\n",
       "    </tr>\n",
       "    <tr>\n",
       "      <th>1</th>\n",
       "      <td>50</td>\n",
       "      <td>Self-emp-not-inc</td>\n",
       "      <td>83311</td>\n",
       "      <td>Bachelors</td>\n",
       "      <td>13</td>\n",
       "      <td>Married-civ-spouse</td>\n",
       "      <td>Exec-managerial</td>\n",
       "      <td>Husband</td>\n",
       "      <td>White</td>\n",
       "      <td>Male</td>\n",
       "      <td>0</td>\n",
       "      <td>0</td>\n",
       "      <td>13</td>\n",
       "      <td>United-States</td>\n",
       "      <td>&lt;=50K</td>\n",
       "    </tr>\n",
       "    <tr>\n",
       "      <th>2</th>\n",
       "      <td>38</td>\n",
       "      <td>Private</td>\n",
       "      <td>215646</td>\n",
       "      <td>HS-grad</td>\n",
       "      <td>9</td>\n",
       "      <td>Divorced</td>\n",
       "      <td>Handlers-cleaners</td>\n",
       "      <td>Not-in-family</td>\n",
       "      <td>White</td>\n",
       "      <td>Male</td>\n",
       "      <td>0</td>\n",
       "      <td>0</td>\n",
       "      <td>40</td>\n",
       "      <td>United-States</td>\n",
       "      <td>&lt;=50K</td>\n",
       "    </tr>\n",
       "    <tr>\n",
       "      <th>3</th>\n",
       "      <td>53</td>\n",
       "      <td>Private</td>\n",
       "      <td>234721</td>\n",
       "      <td>11th</td>\n",
       "      <td>7</td>\n",
       "      <td>Married-civ-spouse</td>\n",
       "      <td>Handlers-cleaners</td>\n",
       "      <td>Husband</td>\n",
       "      <td>Black</td>\n",
       "      <td>Male</td>\n",
       "      <td>0</td>\n",
       "      <td>0</td>\n",
       "      <td>40</td>\n",
       "      <td>United-States</td>\n",
       "      <td>&lt;=50K</td>\n",
       "    </tr>\n",
       "    <tr>\n",
       "      <th>4</th>\n",
       "      <td>28</td>\n",
       "      <td>Private</td>\n",
       "      <td>338409</td>\n",
       "      <td>Bachelors</td>\n",
       "      <td>13</td>\n",
       "      <td>Married-civ-spouse</td>\n",
       "      <td>Prof-specialty</td>\n",
       "      <td>Wife</td>\n",
       "      <td>Black</td>\n",
       "      <td>Female</td>\n",
       "      <td>0</td>\n",
       "      <td>0</td>\n",
       "      <td>40</td>\n",
       "      <td>Cuba</td>\n",
       "      <td>&lt;=50K</td>\n",
       "    </tr>\n",
       "  </tbody>\n",
       "</table>\n",
       "</div>"
      ],
      "text/plain": [
       "   age         workclass  fnlwgt  education  education-num  \\\n",
       "0   39         State-gov   77516  Bachelors             13   \n",
       "1   50  Self-emp-not-inc   83311  Bachelors             13   \n",
       "2   38           Private  215646    HS-grad              9   \n",
       "3   53           Private  234721       11th              7   \n",
       "4   28           Private  338409  Bachelors             13   \n",
       "\n",
       "       marital-status         occupation   relationship   race  gender  \\\n",
       "0       Never-married       Adm-clerical  Not-in-family  White    Male   \n",
       "1  Married-civ-spouse    Exec-managerial        Husband  White    Male   \n",
       "2            Divorced  Handlers-cleaners  Not-in-family  White    Male   \n",
       "3  Married-civ-spouse  Handlers-cleaners        Husband  Black    Male   \n",
       "4  Married-civ-spouse     Prof-specialty           Wife  Black  Female   \n",
       "\n",
       "   capital-gain  capital-loss  hours-per-week native-country income  \n",
       "0          2174             0              40  United-States  <=50K  \n",
       "1             0             0              13  United-States  <=50K  \n",
       "2             0             0              40  United-States  <=50K  \n",
       "3             0             0              40  United-States  <=50K  \n",
       "4             0             0              40           Cuba  <=50K  "
      ]
     },
     "execution_count": 5,
     "metadata": {},
     "output_type": "execute_result"
    }
   ],
   "source": [
    "import pandas as pd\n",
    "\n",
    "cols = ['age', 'workclass','fnlwgt','education', 'education-num', 'marital-status', 'occupation','relationship', 'race', 'gender','capital-gain','capital-loss', 'hours-per-week','native-country', 'income']\n",
    "data  = pd.read_csv('data/adult.data', \n",
    "                    header=None,   # 첫줄부터 데이터\n",
    "                    names=cols,    # 컬럼명 설정\n",
    "                    na_values='?',   # 결측치로 사용된 문자열값 표시.\n",
    "                    skipinitialspace=True) # 값이 공백으로 시작하면 그 공백을 제거  (abc, def, 가나다)\n",
    "data.head()"
   ]
  },
  {
   "cell_type": "code",
   "execution_count": 6,
   "id": "40fe3885",
   "metadata": {
    "ExecuteTime": {
     "end_time": "2022-06-30T09:45:36.095793Z",
     "start_time": "2022-06-30T09:45:36.038942Z"
    }
   },
   "outputs": [
    {
     "data": {
      "text/plain": [
       "age                  0\n",
       "workclass         1836\n",
       "fnlwgt               0\n",
       "education            0\n",
       "education-num        0\n",
       "marital-status       0\n",
       "occupation        1843\n",
       "relationship         0\n",
       "race                 0\n",
       "gender               0\n",
       "capital-gain         0\n",
       "capital-loss         0\n",
       "hours-per-week       0\n",
       "native-country     583\n",
       "income               0\n",
       "dtype: int64"
      ]
     },
     "execution_count": 6,
     "metadata": {},
     "output_type": "execute_result"
    }
   ],
   "source": [
    "# 결측치 확인\n",
    "data.isnull().sum()  #컬럼별 결측치 개수"
   ]
  },
  {
   "cell_type": "markdown",
   "id": "136940da",
   "metadata": {},
   "source": [
    "##### 결측치 처리 => 제거"
   ]
  },
  {
   "cell_type": "code",
   "execution_count": 7,
   "id": "e5427f81",
   "metadata": {
    "ExecuteTime": {
     "end_time": "2022-06-30T09:45:36.773669Z",
     "start_time": "2022-06-30T09:45:36.667946Z"
    }
   },
   "outputs": [
    {
     "data": {
      "text/plain": [
       "age               0\n",
       "workclass         0\n",
       "fnlwgt            0\n",
       "education         0\n",
       "education-num     0\n",
       "marital-status    0\n",
       "occupation        0\n",
       "relationship      0\n",
       "race              0\n",
       "gender            0\n",
       "capital-gain      0\n",
       "capital-loss      0\n",
       "hours-per-week    0\n",
       "native-country    0\n",
       "income            0\n",
       "dtype: int64"
      ]
     },
     "execution_count": 7,
     "metadata": {},
     "output_type": "execute_result"
    }
   ],
   "source": [
    "data.dropna(inplace=True)  #행단위 제거\n",
    "data.isnull().sum()"
   ]
  },
  {
   "cell_type": "code",
   "execution_count": 8,
   "id": "787a26d9",
   "metadata": {
    "ExecuteTime": {
     "end_time": "2022-06-30T09:45:37.073238Z",
     "start_time": "2022-06-30T09:45:37.060293Z"
    }
   },
   "outputs": [],
   "source": [
    "encoding_columns = ['workclass','education','marital-status', 'occupation','relationship','race','gender','native-country', 'income']\n",
    "not_encoding_columns = ['age','fnlwgt', 'education-num','capital-gain','capital-loss','hours-per-week']"
   ]
  },
  {
   "cell_type": "code",
   "execution_count": 9,
   "id": "d8568128",
   "metadata": {
    "ExecuteTime": {
     "end_time": "2022-06-30T09:45:37.537587Z",
     "start_time": "2022-06-30T09:45:37.452960Z"
    }
   },
   "outputs": [],
   "source": [
    "from sklearn.preprocessing import LabelEncoder\n",
    "\n",
    "adult_data = data.copy() # 원본데이터를 유지하기 위해서 copy()-deep copy\n",
    "\n",
    "# 컬럼(Feature)별로 Label Encoding 할 때 사용할 LabelEncoder 객체를 컬럼명:LE객체 형태로 저장한다.\n",
    "# 목적: 인코딩된 값들을 원복(decoding)시키거나 원본에 대한 정보를 확인하기 위해.\n",
    "le_dict = {}\n",
    "\n",
    "for col in encoding_columns:\n",
    "    le = LabelEncoder()\n",
    "    adult_data[col] = le.fit_transform(adult_data[col])\n",
    "    le_dict[col] = le"
   ]
  },
  {
   "cell_type": "code",
   "execution_count": 10,
   "id": "20c9f46e",
   "metadata": {
    "ExecuteTime": {
     "end_time": "2022-06-30T09:45:37.837844Z",
     "start_time": "2022-06-30T09:45:37.819894Z"
    },
    "scrolled": true
   },
   "outputs": [
    {
     "data": {
      "text/html": [
       "<div>\n",
       "<style scoped>\n",
       "    .dataframe tbody tr th:only-of-type {\n",
       "        vertical-align: middle;\n",
       "    }\n",
       "\n",
       "    .dataframe tbody tr th {\n",
       "        vertical-align: top;\n",
       "    }\n",
       "\n",
       "    .dataframe thead th {\n",
       "        text-align: right;\n",
       "    }\n",
       "</style>\n",
       "<table border=\"1\" class=\"dataframe\">\n",
       "  <thead>\n",
       "    <tr style=\"text-align: right;\">\n",
       "      <th></th>\n",
       "      <th>age</th>\n",
       "      <th>workclass</th>\n",
       "      <th>fnlwgt</th>\n",
       "      <th>education</th>\n",
       "      <th>education-num</th>\n",
       "      <th>marital-status</th>\n",
       "      <th>occupation</th>\n",
       "      <th>relationship</th>\n",
       "      <th>race</th>\n",
       "      <th>gender</th>\n",
       "      <th>capital-gain</th>\n",
       "      <th>capital-loss</th>\n",
       "      <th>hours-per-week</th>\n",
       "      <th>native-country</th>\n",
       "      <th>income</th>\n",
       "    </tr>\n",
       "  </thead>\n",
       "  <tbody>\n",
       "    <tr>\n",
       "      <th>0</th>\n",
       "      <td>39</td>\n",
       "      <td>5</td>\n",
       "      <td>77516</td>\n",
       "      <td>9</td>\n",
       "      <td>13</td>\n",
       "      <td>4</td>\n",
       "      <td>0</td>\n",
       "      <td>1</td>\n",
       "      <td>4</td>\n",
       "      <td>1</td>\n",
       "      <td>2174</td>\n",
       "      <td>0</td>\n",
       "      <td>40</td>\n",
       "      <td>38</td>\n",
       "      <td>0</td>\n",
       "    </tr>\n",
       "    <tr>\n",
       "      <th>1</th>\n",
       "      <td>50</td>\n",
       "      <td>4</td>\n",
       "      <td>83311</td>\n",
       "      <td>9</td>\n",
       "      <td>13</td>\n",
       "      <td>2</td>\n",
       "      <td>3</td>\n",
       "      <td>0</td>\n",
       "      <td>4</td>\n",
       "      <td>1</td>\n",
       "      <td>0</td>\n",
       "      <td>0</td>\n",
       "      <td>13</td>\n",
       "      <td>38</td>\n",
       "      <td>0</td>\n",
       "    </tr>\n",
       "    <tr>\n",
       "      <th>2</th>\n",
       "      <td>38</td>\n",
       "      <td>2</td>\n",
       "      <td>215646</td>\n",
       "      <td>11</td>\n",
       "      <td>9</td>\n",
       "      <td>0</td>\n",
       "      <td>5</td>\n",
       "      <td>1</td>\n",
       "      <td>4</td>\n",
       "      <td>1</td>\n",
       "      <td>0</td>\n",
       "      <td>0</td>\n",
       "      <td>40</td>\n",
       "      <td>38</td>\n",
       "      <td>0</td>\n",
       "    </tr>\n",
       "    <tr>\n",
       "      <th>3</th>\n",
       "      <td>53</td>\n",
       "      <td>2</td>\n",
       "      <td>234721</td>\n",
       "      <td>1</td>\n",
       "      <td>7</td>\n",
       "      <td>2</td>\n",
       "      <td>5</td>\n",
       "      <td>0</td>\n",
       "      <td>2</td>\n",
       "      <td>1</td>\n",
       "      <td>0</td>\n",
       "      <td>0</td>\n",
       "      <td>40</td>\n",
       "      <td>38</td>\n",
       "      <td>0</td>\n",
       "    </tr>\n",
       "    <tr>\n",
       "      <th>4</th>\n",
       "      <td>28</td>\n",
       "      <td>2</td>\n",
       "      <td>338409</td>\n",
       "      <td>9</td>\n",
       "      <td>13</td>\n",
       "      <td>2</td>\n",
       "      <td>9</td>\n",
       "      <td>5</td>\n",
       "      <td>2</td>\n",
       "      <td>0</td>\n",
       "      <td>0</td>\n",
       "      <td>0</td>\n",
       "      <td>40</td>\n",
       "      <td>4</td>\n",
       "      <td>0</td>\n",
       "    </tr>\n",
       "  </tbody>\n",
       "</table>\n",
       "</div>"
      ],
      "text/plain": [
       "   age  workclass  fnlwgt  education  education-num  marital-status  \\\n",
       "0   39          5   77516          9             13               4   \n",
       "1   50          4   83311          9             13               2   \n",
       "2   38          2  215646         11              9               0   \n",
       "3   53          2  234721          1              7               2   \n",
       "4   28          2  338409          9             13               2   \n",
       "\n",
       "   occupation  relationship  race  gender  capital-gain  capital-loss  \\\n",
       "0           0             1     4       1          2174             0   \n",
       "1           3             0     4       1             0             0   \n",
       "2           5             1     4       1             0             0   \n",
       "3           5             0     2       1             0             0   \n",
       "4           9             5     2       0             0             0   \n",
       "\n",
       "   hours-per-week  native-country  income  \n",
       "0              40              38       0  \n",
       "1              13              38       0  \n",
       "2              40              38       0  \n",
       "3              40              38       0  \n",
       "4              40               4       0  "
      ]
     },
     "execution_count": 10,
     "metadata": {},
     "output_type": "execute_result"
    }
   ],
   "source": [
    "adult_data.head()"
   ]
  },
  {
   "cell_type": "code",
   "execution_count": 12,
   "id": "72356af0",
   "metadata": {
    "ExecuteTime": {
     "end_time": "2022-06-30T09:45:58.783004Z",
     "start_time": "2022-06-30T09:45:58.763058Z"
    }
   },
   "outputs": [
    {
     "data": {
      "text/plain": [
       "{'workclass': LabelEncoder(),\n",
       " 'education': LabelEncoder(),\n",
       " 'marital-status': LabelEncoder(),\n",
       " 'occupation': LabelEncoder(),\n",
       " 'relationship': LabelEncoder(),\n",
       " 'race': LabelEncoder(),\n",
       " 'gender': LabelEncoder(),\n",
       " 'native-country': LabelEncoder(),\n",
       " 'income': LabelEncoder()}"
      ]
     },
     "execution_count": 12,
     "metadata": {},
     "output_type": "execute_result"
    }
   ],
   "source": [
    "le_dict"
   ]
  },
  {
   "cell_type": "markdown",
   "id": "e4aeeb34",
   "metadata": {},
   "source": [
    "## 원핫 인코딩(One-Hot encoding)\n",
    "- N개의 클래스를 N 차원의 One-Hot 벡터로 표현되도록 변환\n",
    "    - 고유값들을 피처(컬럼)로 만들고 정답에 해당하는 열은 1로 나머진 0으로 표시한다..\n",
    "- **숫자의 차이가 모델에 영향을 미치는 선형 계열 모델(로지스틱회귀, SVM, 신경망)에서 범주형 데이터 변환시 Label Encoding보다 One Hot Encoding을 사용한다.**\n",
    "- **DecisionTree 계열의 알고리즘은 Feature에 0이 많은 경우(Sparse Matrix라고 한다.) 성능이 떨어지기 때문에 Label Encoding을 한다.**"
   ]
  },
  {
   "cell_type": "markdown",
   "id": "cbfd7a98",
   "metadata": {},
   "source": [
    "### One-Hot Encoding 변환 처리\n",
    "\n",
    "- **Scikit-learn**\n",
    "    - sklearn.preprocessing.OneHotEncoder 이용\n",
    "        - fit(데이터셋): 데이터셋을 기준으로 어떻게 변환할 지 학습\n",
    "        - transform(데이터셋): Argument로 받은 데이터셋을 원핫인코딩 처리\n",
    "        - fit_transform(데이터셋): 학습과 변환을 한번에 처리\n",
    "        - get_feature_names_out() : 원핫인코딩으로 변환된 컬럼의 이름을 반환\n",
    "        - **데이터셋은 2차원 배열을 전달 하며 Feature별로 원핫인코딩 처리한다.**\n",
    "            - DataFrame도 가능\n",
    "            - 원핫인코딩 처리시 모든 타입의 값들을 다 변환한다. (연속형 값들도 변환) 그래서 변환려는 변수들만 모아서 처리해야 한다."
   ]
  },
  {
   "cell_type": "code",
   "execution_count": 13,
   "id": "b687b85d",
   "metadata": {
    "ExecuteTime": {
     "end_time": "2022-06-30T09:47:47.196518Z",
     "start_time": "2022-06-30T09:47:47.175601Z"
    }
   },
   "outputs": [
    {
     "data": {
      "text/plain": [
       "array(['TV', '냉장고', '믹서', '선풍기', '전자렌지', '컴퓨터'], dtype='<U4')"
      ]
     },
     "execution_count": 13,
     "metadata": {},
     "output_type": "execute_result"
    }
   ],
   "source": [
    "from sklearn.preprocessing import OneHotEncoder\n",
    "import numpy as np\n",
    "import pandas as pd\n",
    "\n",
    "items=np.array(['TV','냉장고','전자렌지','컴퓨터','선풍기','선풍기','믹서','믹서'])\n",
    "np.unique(items)"
   ]
  },
  {
   "cell_type": "code",
   "execution_count": 14,
   "id": "bcb08faa",
   "metadata": {
    "ExecuteTime": {
     "end_time": "2022-06-30T09:48:24.203074Z",
     "start_time": "2022-06-30T09:48:24.183108Z"
    },
    "scrolled": true
   },
   "outputs": [
    {
     "name": "stdout",
     "output_type": "stream",
     "text": [
      "(8, 1)\n"
     ]
    },
    {
     "data": {
      "text/plain": [
       "array([['TV'],\n",
       "       ['냉장고'],\n",
       "       ['전자렌지'],\n",
       "       ['컴퓨터'],\n",
       "       ['선풍기'],\n",
       "       ['선풍기'],\n",
       "       ['믹서'],\n",
       "       ['믹서']], dtype='<U4')"
      ]
     },
     "execution_count": 14,
     "metadata": {},
     "output_type": "execute_result"
    }
   ],
   "source": [
    "a = items[..., np.newaxis]\n",
    "print(a.shape)\n",
    "a"
   ]
  },
  {
   "cell_type": "markdown",
   "id": "88046e03",
   "metadata": {},
   "source": [
    "> sparse를 False로 주지 않으면 scipy의 csr_matrix(희소행렬 객체)로 반환.     \n",
    "> 희소행렬은 대부분 0으로 구성된 행렬과 계산이나 메모리 효율을 이용해 0이 아닌 값의 index만 관리한다.   \n",
    "> csr_matrix.toarray()로 ndarray로 바꿀수 있다."
   ]
  },
  {
   "cell_type": "markdown",
   "id": "c6ee286a",
   "metadata": {},
   "source": [
    "#### sparse = True\n",
    "- csr_matrix"
   ]
  },
  {
   "cell_type": "code",
   "execution_count": 16,
   "id": "99f79c81",
   "metadata": {
    "ExecuteTime": {
     "end_time": "2022-06-30T09:50:13.020124Z",
     "start_time": "2022-06-30T09:50:13.003163Z"
    }
   },
   "outputs": [
    {
     "name": "stdout",
     "output_type": "stream",
     "text": [
      "<class 'scipy.sparse._csr.csr_matrix'>\n",
      "  (0, 0)\t1.0\n",
      "  (1, 1)\t1.0\n",
      "  (2, 4)\t1.0\n",
      "  (3, 5)\t1.0\n",
      "  (4, 3)\t1.0\n",
      "  (5, 3)\t1.0\n",
      "  (6, 2)\t1.0\n",
      "  (7, 2)\t1.0\n"
     ]
    }
   ],
   "source": [
    "# oh_encoder = OneHotEncoder()\n",
    "oh_encoder = OneHotEncoder()  # ndarray로 변환결과를 반환.\n",
    "oh_encoder.fit(items[...,np.newaxis])\n",
    "r = oh_encoder.transform(items[...,np.newaxis])\n",
    "print(type(r))\n",
    "print(r)\n",
    "# print(r.toarray())  #csr_matrix(배열의 정보)를  ndarray(실제값으로구성)로 변환"
   ]
  },
  {
   "cell_type": "markdown",
   "id": "09184af1",
   "metadata": {},
   "source": [
    "#### sparse = False"
   ]
  },
  {
   "cell_type": "code",
   "execution_count": 19,
   "id": "21200689",
   "metadata": {
    "ExecuteTime": {
     "end_time": "2022-06-30T09:52:10.571809Z",
     "start_time": "2022-06-30T09:52:10.560840Z"
    }
   },
   "outputs": [
    {
     "name": "stdout",
     "output_type": "stream",
     "text": [
      "<class 'numpy.ndarray'>\n",
      "[[1. 0. 0. 0. 0. 0.]\n",
      " [0. 1. 0. 0. 0. 0.]\n",
      " [0. 0. 0. 0. 1. 0.]\n",
      " [0. 0. 0. 0. 0. 1.]\n",
      " [0. 0. 0. 1. 0. 0.]\n",
      " [0. 0. 0. 1. 0. 0.]\n",
      " [0. 0. 1. 0. 0. 0.]\n",
      " [0. 0. 1. 0. 0. 0.]]\n"
     ]
    }
   ],
   "source": [
    "# oh_encoder = OneHotEncoder()\n",
    "oh_encoder = OneHotEncoder(sparse=False)  # ndarray로 변환결과를 반환.\n",
    "oh_encoder.fit(items[...,np.newaxis])\n",
    "r = oh_encoder.transform(items[...,np.newaxis])\n",
    "print(type(r))\n",
    "print(r)\n",
    "# print(r.toarray())  #csr_matrix(배열의 정보)를  ndarray(실제값으로구성)로 변환"
   ]
  },
  {
   "cell_type": "code",
   "execution_count": 20,
   "id": "75520e7c",
   "metadata": {
    "ExecuteTime": {
     "end_time": "2022-06-30T09:52:13.654362Z",
     "start_time": "2022-06-30T09:52:13.638381Z"
    }
   },
   "outputs": [
    {
     "data": {
      "text/plain": [
       "array(['x0_TV', 'x0_냉장고', 'x0_믹서', 'x0_선풍기', 'x0_전자렌지', 'x0_컴퓨터'],\n",
       "      dtype=object)"
      ]
     },
     "execution_count": 20,
     "metadata": {},
     "output_type": "execute_result"
    }
   ],
   "source": [
    "oh_encoder.get_feature_names_out()"
   ]
  },
  {
   "cell_type": "code",
   "execution_count": 21,
   "id": "806e6ffa",
   "metadata": {
    "ExecuteTime": {
     "end_time": "2022-06-30T09:52:16.281076Z",
     "start_time": "2022-06-30T09:52:16.263124Z"
    }
   },
   "outputs": [
    {
     "data": {
      "text/html": [
       "<div>\n",
       "<style scoped>\n",
       "    .dataframe tbody tr th:only-of-type {\n",
       "        vertical-align: middle;\n",
       "    }\n",
       "\n",
       "    .dataframe tbody tr th {\n",
       "        vertical-align: top;\n",
       "    }\n",
       "\n",
       "    .dataframe thead th {\n",
       "        text-align: right;\n",
       "    }\n",
       "</style>\n",
       "<table border=\"1\" class=\"dataframe\">\n",
       "  <thead>\n",
       "    <tr style=\"text-align: right;\">\n",
       "      <th></th>\n",
       "      <th>x0_TV</th>\n",
       "      <th>x0_냉장고</th>\n",
       "      <th>x0_믹서</th>\n",
       "      <th>x0_선풍기</th>\n",
       "      <th>x0_전자렌지</th>\n",
       "      <th>x0_컴퓨터</th>\n",
       "    </tr>\n",
       "  </thead>\n",
       "  <tbody>\n",
       "    <tr>\n",
       "      <th>0</th>\n",
       "      <td>1.0</td>\n",
       "      <td>0.0</td>\n",
       "      <td>0.0</td>\n",
       "      <td>0.0</td>\n",
       "      <td>0.0</td>\n",
       "      <td>0.0</td>\n",
       "    </tr>\n",
       "    <tr>\n",
       "      <th>1</th>\n",
       "      <td>0.0</td>\n",
       "      <td>1.0</td>\n",
       "      <td>0.0</td>\n",
       "      <td>0.0</td>\n",
       "      <td>0.0</td>\n",
       "      <td>0.0</td>\n",
       "    </tr>\n",
       "    <tr>\n",
       "      <th>2</th>\n",
       "      <td>0.0</td>\n",
       "      <td>0.0</td>\n",
       "      <td>0.0</td>\n",
       "      <td>0.0</td>\n",
       "      <td>1.0</td>\n",
       "      <td>0.0</td>\n",
       "    </tr>\n",
       "    <tr>\n",
       "      <th>3</th>\n",
       "      <td>0.0</td>\n",
       "      <td>0.0</td>\n",
       "      <td>0.0</td>\n",
       "      <td>0.0</td>\n",
       "      <td>0.0</td>\n",
       "      <td>1.0</td>\n",
       "    </tr>\n",
       "    <tr>\n",
       "      <th>4</th>\n",
       "      <td>0.0</td>\n",
       "      <td>0.0</td>\n",
       "      <td>0.0</td>\n",
       "      <td>1.0</td>\n",
       "      <td>0.0</td>\n",
       "      <td>0.0</td>\n",
       "    </tr>\n",
       "    <tr>\n",
       "      <th>5</th>\n",
       "      <td>0.0</td>\n",
       "      <td>0.0</td>\n",
       "      <td>0.0</td>\n",
       "      <td>1.0</td>\n",
       "      <td>0.0</td>\n",
       "      <td>0.0</td>\n",
       "    </tr>\n",
       "    <tr>\n",
       "      <th>6</th>\n",
       "      <td>0.0</td>\n",
       "      <td>0.0</td>\n",
       "      <td>1.0</td>\n",
       "      <td>0.0</td>\n",
       "      <td>0.0</td>\n",
       "      <td>0.0</td>\n",
       "    </tr>\n",
       "    <tr>\n",
       "      <th>7</th>\n",
       "      <td>0.0</td>\n",
       "      <td>0.0</td>\n",
       "      <td>1.0</td>\n",
       "      <td>0.0</td>\n",
       "      <td>0.0</td>\n",
       "      <td>0.0</td>\n",
       "    </tr>\n",
       "  </tbody>\n",
       "</table>\n",
       "</div>"
      ],
      "text/plain": [
       "   x0_TV  x0_냉장고  x0_믹서  x0_선풍기  x0_전자렌지  x0_컴퓨터\n",
       "0    1.0     0.0    0.0     0.0      0.0     0.0\n",
       "1    0.0     1.0    0.0     0.0      0.0     0.0\n",
       "2    0.0     0.0    0.0     0.0      1.0     0.0\n",
       "3    0.0     0.0    0.0     0.0      0.0     1.0\n",
       "4    0.0     0.0    0.0     1.0      0.0     0.0\n",
       "5    0.0     0.0    0.0     1.0      0.0     0.0\n",
       "6    0.0     0.0    1.0     0.0      0.0     0.0\n",
       "7    0.0     0.0    1.0     0.0      0.0     0.0"
      ]
     },
     "execution_count": 21,
     "metadata": {},
     "output_type": "execute_result"
    }
   ],
   "source": [
    "pd.DataFrame(r, columns=oh_encoder.get_feature_names_out())"
   ]
  },
  {
   "cell_type": "markdown",
   "id": "60567d59",
   "metadata": {},
   "source": [
    "- **Pandas**\n",
    "    - pandas.get_dummies(DataFrame [, columns=[변환할 컬럼명]]) 함수 이용\n",
    "    - DataFrame에서 범주형(`object`, `category`) 변수만 변환한다.\n",
    "    \n",
    "> 범주형 변수의 값을 숫자 값을 가지는 경우가 있다. (ex: 별점)    \n",
    "> 이런 경우 get_dummies() columns=['컬럼명','컬럼명'] 매개변수로 컬럼들을 명시한다.            "
   ]
  },
  {
   "cell_type": "code",
   "execution_count": 22,
   "id": "1919e48f",
   "metadata": {
    "ExecuteTime": {
     "end_time": "2022-06-30T10:32:49.484969Z",
     "start_time": "2022-06-30T10:32:49.461032Z"
    }
   },
   "outputs": [
    {
     "data": {
      "text/html": [
       "<div>\n",
       "<style scoped>\n",
       "    .dataframe tbody tr th:only-of-type {\n",
       "        vertical-align: middle;\n",
       "    }\n",
       "\n",
       "    .dataframe tbody tr th {\n",
       "        vertical-align: top;\n",
       "    }\n",
       "\n",
       "    .dataframe thead th {\n",
       "        text-align: right;\n",
       "    }\n",
       "</style>\n",
       "<table border=\"1\" class=\"dataframe\">\n",
       "  <thead>\n",
       "    <tr style=\"text-align: right;\">\n",
       "      <th></th>\n",
       "      <th>Item</th>\n",
       "      <th>Count</th>\n",
       "      <th>Level</th>\n",
       "    </tr>\n",
       "  </thead>\n",
       "  <tbody>\n",
       "    <tr>\n",
       "      <th>0</th>\n",
       "      <td>TV</td>\n",
       "      <td>10</td>\n",
       "      <td>1</td>\n",
       "    </tr>\n",
       "    <tr>\n",
       "      <th>1</th>\n",
       "      <td>냉장고</td>\n",
       "      <td>10</td>\n",
       "      <td>1</td>\n",
       "    </tr>\n",
       "    <tr>\n",
       "      <th>2</th>\n",
       "      <td>전자렌지</td>\n",
       "      <td>20</td>\n",
       "      <td>1</td>\n",
       "    </tr>\n",
       "    <tr>\n",
       "      <th>3</th>\n",
       "      <td>컴퓨터</td>\n",
       "      <td>15</td>\n",
       "      <td>2</td>\n",
       "    </tr>\n",
       "    <tr>\n",
       "      <th>4</th>\n",
       "      <td>선풍기</td>\n",
       "      <td>13</td>\n",
       "      <td>3</td>\n",
       "    </tr>\n",
       "    <tr>\n",
       "      <th>5</th>\n",
       "      <td>선풍기</td>\n",
       "      <td>3</td>\n",
       "      <td>3</td>\n",
       "    </tr>\n",
       "    <tr>\n",
       "      <th>6</th>\n",
       "      <td>믹서</td>\n",
       "      <td>12</td>\n",
       "      <td>1</td>\n",
       "    </tr>\n",
       "    <tr>\n",
       "      <th>7</th>\n",
       "      <td>믹서</td>\n",
       "      <td>33</td>\n",
       "      <td>1</td>\n",
       "    </tr>\n",
       "  </tbody>\n",
       "</table>\n",
       "</div>"
      ],
      "text/plain": [
       "   Item  Count  Level\n",
       "0    TV     10      1\n",
       "1   냉장고     10      1\n",
       "2  전자렌지     20      1\n",
       "3   컴퓨터     15      2\n",
       "4   선풍기     13      3\n",
       "5   선풍기      3      3\n",
       "6    믹서     12      1\n",
       "7    믹서     33      1"
      ]
     },
     "execution_count": 22,
     "metadata": {},
     "output_type": "execute_result"
    }
   ],
   "source": [
    "import pandas as pd\n",
    "dic = {\n",
    "    'Item':items, #범주형\n",
    "    'Count':[10, 10, 20, 15, 13, 3, 12, 33], #연속형\n",
    "    'Level':[1,1,1,2,3,3,1,1] #범주형\n",
    "}\n",
    "df = pd.DataFrame(dic)\n",
    "df\n",
    "# onehot encoding - 대상: Item, Level"
   ]
  },
  {
   "cell_type": "code",
   "execution_count": 23,
   "id": "cd794182",
   "metadata": {
    "ExecuteTime": {
     "end_time": "2022-06-30T10:33:50.071888Z",
     "start_time": "2022-06-30T10:33:50.049950Z"
    }
   },
   "outputs": [
    {
     "name": "stdout",
     "output_type": "stream",
     "text": [
      "<class 'pandas.core.frame.DataFrame'>\n",
      "RangeIndex: 8 entries, 0 to 7\n",
      "Data columns (total 3 columns):\n",
      " #   Column  Non-Null Count  Dtype \n",
      "---  ------  --------------  ----- \n",
      " 0   Item    8 non-null      object\n",
      " 1   Count   8 non-null      int64 \n",
      " 2   Level   8 non-null      int64 \n",
      "dtypes: int64(2), object(1)\n",
      "memory usage: 320.0+ bytes\n"
     ]
    }
   ],
   "source": [
    "df.info()"
   ]
  },
  {
   "cell_type": "code",
   "execution_count": 24,
   "id": "97c04010",
   "metadata": {
    "ExecuteTime": {
     "end_time": "2022-06-30T10:34:34.544391Z",
     "start_time": "2022-06-30T10:34:34.525416Z"
    }
   },
   "outputs": [
    {
     "data": {
      "text/html": [
       "<div>\n",
       "<style scoped>\n",
       "    .dataframe tbody tr th:only-of-type {\n",
       "        vertical-align: middle;\n",
       "    }\n",
       "\n",
       "    .dataframe tbody tr th {\n",
       "        vertical-align: top;\n",
       "    }\n",
       "\n",
       "    .dataframe thead th {\n",
       "        text-align: right;\n",
       "    }\n",
       "</style>\n",
       "<table border=\"1\" class=\"dataframe\">\n",
       "  <thead>\n",
       "    <tr style=\"text-align: right;\">\n",
       "      <th></th>\n",
       "      <th>Count</th>\n",
       "      <th>Level</th>\n",
       "      <th>Item_TV</th>\n",
       "      <th>Item_냉장고</th>\n",
       "      <th>Item_믹서</th>\n",
       "      <th>Item_선풍기</th>\n",
       "      <th>Item_전자렌지</th>\n",
       "      <th>Item_컴퓨터</th>\n",
       "    </tr>\n",
       "  </thead>\n",
       "  <tbody>\n",
       "    <tr>\n",
       "      <th>0</th>\n",
       "      <td>10</td>\n",
       "      <td>1</td>\n",
       "      <td>1</td>\n",
       "      <td>0</td>\n",
       "      <td>0</td>\n",
       "      <td>0</td>\n",
       "      <td>0</td>\n",
       "      <td>0</td>\n",
       "    </tr>\n",
       "    <tr>\n",
       "      <th>1</th>\n",
       "      <td>10</td>\n",
       "      <td>1</td>\n",
       "      <td>0</td>\n",
       "      <td>1</td>\n",
       "      <td>0</td>\n",
       "      <td>0</td>\n",
       "      <td>0</td>\n",
       "      <td>0</td>\n",
       "    </tr>\n",
       "    <tr>\n",
       "      <th>2</th>\n",
       "      <td>20</td>\n",
       "      <td>1</td>\n",
       "      <td>0</td>\n",
       "      <td>0</td>\n",
       "      <td>0</td>\n",
       "      <td>0</td>\n",
       "      <td>1</td>\n",
       "      <td>0</td>\n",
       "    </tr>\n",
       "    <tr>\n",
       "      <th>3</th>\n",
       "      <td>15</td>\n",
       "      <td>2</td>\n",
       "      <td>0</td>\n",
       "      <td>0</td>\n",
       "      <td>0</td>\n",
       "      <td>0</td>\n",
       "      <td>0</td>\n",
       "      <td>1</td>\n",
       "    </tr>\n",
       "    <tr>\n",
       "      <th>4</th>\n",
       "      <td>13</td>\n",
       "      <td>3</td>\n",
       "      <td>0</td>\n",
       "      <td>0</td>\n",
       "      <td>0</td>\n",
       "      <td>1</td>\n",
       "      <td>0</td>\n",
       "      <td>0</td>\n",
       "    </tr>\n",
       "    <tr>\n",
       "      <th>5</th>\n",
       "      <td>3</td>\n",
       "      <td>3</td>\n",
       "      <td>0</td>\n",
       "      <td>0</td>\n",
       "      <td>0</td>\n",
       "      <td>1</td>\n",
       "      <td>0</td>\n",
       "      <td>0</td>\n",
       "    </tr>\n",
       "    <tr>\n",
       "      <th>6</th>\n",
       "      <td>12</td>\n",
       "      <td>1</td>\n",
       "      <td>0</td>\n",
       "      <td>0</td>\n",
       "      <td>1</td>\n",
       "      <td>0</td>\n",
       "      <td>0</td>\n",
       "      <td>0</td>\n",
       "    </tr>\n",
       "    <tr>\n",
       "      <th>7</th>\n",
       "      <td>33</td>\n",
       "      <td>1</td>\n",
       "      <td>0</td>\n",
       "      <td>0</td>\n",
       "      <td>1</td>\n",
       "      <td>0</td>\n",
       "      <td>0</td>\n",
       "      <td>0</td>\n",
       "    </tr>\n",
       "  </tbody>\n",
       "</table>\n",
       "</div>"
      ],
      "text/plain": [
       "   Count  Level  Item_TV  Item_냉장고  Item_믹서  Item_선풍기  Item_전자렌지  Item_컴퓨터\n",
       "0     10      1        1         0        0         0          0         0\n",
       "1     10      1        0         1        0         0          0         0\n",
       "2     20      1        0         0        0         0          1         0\n",
       "3     15      2        0         0        0         0          0         1\n",
       "4     13      3        0         0        0         1          0         0\n",
       "5      3      3        0         0        0         1          0         0\n",
       "6     12      1        0         0        1         0          0         0\n",
       "7     33      1        0         0        1         0          0         0"
      ]
     },
     "execution_count": 24,
     "metadata": {},
     "output_type": "execute_result"
    }
   ],
   "source": [
    "pd.get_dummies(df)\n",
    "# dataframe에서 object, categroy 타입의 Feature(컬럼) 들만 변환"
   ]
  },
  {
   "cell_type": "code",
   "execution_count": 25,
   "id": "f14683cf",
   "metadata": {
    "ExecuteTime": {
     "end_time": "2022-06-30T10:34:44.874926Z",
     "start_time": "2022-06-30T10:34:44.841006Z"
    }
   },
   "outputs": [
    {
     "data": {
      "text/html": [
       "<div>\n",
       "<style scoped>\n",
       "    .dataframe tbody tr th:only-of-type {\n",
       "        vertical-align: middle;\n",
       "    }\n",
       "\n",
       "    .dataframe tbody tr th {\n",
       "        vertical-align: top;\n",
       "    }\n",
       "\n",
       "    .dataframe thead th {\n",
       "        text-align: right;\n",
       "    }\n",
       "</style>\n",
       "<table border=\"1\" class=\"dataframe\">\n",
       "  <thead>\n",
       "    <tr style=\"text-align: right;\">\n",
       "      <th></th>\n",
       "      <th>Count</th>\n",
       "      <th>Item_TV</th>\n",
       "      <th>Item_냉장고</th>\n",
       "      <th>Item_믹서</th>\n",
       "      <th>Item_선풍기</th>\n",
       "      <th>Item_전자렌지</th>\n",
       "      <th>Item_컴퓨터</th>\n",
       "      <th>Level_1</th>\n",
       "      <th>Level_2</th>\n",
       "      <th>Level_3</th>\n",
       "    </tr>\n",
       "  </thead>\n",
       "  <tbody>\n",
       "    <tr>\n",
       "      <th>0</th>\n",
       "      <td>10</td>\n",
       "      <td>1</td>\n",
       "      <td>0</td>\n",
       "      <td>0</td>\n",
       "      <td>0</td>\n",
       "      <td>0</td>\n",
       "      <td>0</td>\n",
       "      <td>1</td>\n",
       "      <td>0</td>\n",
       "      <td>0</td>\n",
       "    </tr>\n",
       "    <tr>\n",
       "      <th>1</th>\n",
       "      <td>10</td>\n",
       "      <td>0</td>\n",
       "      <td>1</td>\n",
       "      <td>0</td>\n",
       "      <td>0</td>\n",
       "      <td>0</td>\n",
       "      <td>0</td>\n",
       "      <td>1</td>\n",
       "      <td>0</td>\n",
       "      <td>0</td>\n",
       "    </tr>\n",
       "    <tr>\n",
       "      <th>2</th>\n",
       "      <td>20</td>\n",
       "      <td>0</td>\n",
       "      <td>0</td>\n",
       "      <td>0</td>\n",
       "      <td>0</td>\n",
       "      <td>1</td>\n",
       "      <td>0</td>\n",
       "      <td>1</td>\n",
       "      <td>0</td>\n",
       "      <td>0</td>\n",
       "    </tr>\n",
       "    <tr>\n",
       "      <th>3</th>\n",
       "      <td>15</td>\n",
       "      <td>0</td>\n",
       "      <td>0</td>\n",
       "      <td>0</td>\n",
       "      <td>0</td>\n",
       "      <td>0</td>\n",
       "      <td>1</td>\n",
       "      <td>0</td>\n",
       "      <td>1</td>\n",
       "      <td>0</td>\n",
       "    </tr>\n",
       "    <tr>\n",
       "      <th>4</th>\n",
       "      <td>13</td>\n",
       "      <td>0</td>\n",
       "      <td>0</td>\n",
       "      <td>0</td>\n",
       "      <td>1</td>\n",
       "      <td>0</td>\n",
       "      <td>0</td>\n",
       "      <td>0</td>\n",
       "      <td>0</td>\n",
       "      <td>1</td>\n",
       "    </tr>\n",
       "    <tr>\n",
       "      <th>5</th>\n",
       "      <td>3</td>\n",
       "      <td>0</td>\n",
       "      <td>0</td>\n",
       "      <td>0</td>\n",
       "      <td>1</td>\n",
       "      <td>0</td>\n",
       "      <td>0</td>\n",
       "      <td>0</td>\n",
       "      <td>0</td>\n",
       "      <td>1</td>\n",
       "    </tr>\n",
       "    <tr>\n",
       "      <th>6</th>\n",
       "      <td>12</td>\n",
       "      <td>0</td>\n",
       "      <td>0</td>\n",
       "      <td>1</td>\n",
       "      <td>0</td>\n",
       "      <td>0</td>\n",
       "      <td>0</td>\n",
       "      <td>1</td>\n",
       "      <td>0</td>\n",
       "      <td>0</td>\n",
       "    </tr>\n",
       "    <tr>\n",
       "      <th>7</th>\n",
       "      <td>33</td>\n",
       "      <td>0</td>\n",
       "      <td>0</td>\n",
       "      <td>1</td>\n",
       "      <td>0</td>\n",
       "      <td>0</td>\n",
       "      <td>0</td>\n",
       "      <td>1</td>\n",
       "      <td>0</td>\n",
       "      <td>0</td>\n",
       "    </tr>\n",
       "  </tbody>\n",
       "</table>\n",
       "</div>"
      ],
      "text/plain": [
       "   Count  Item_TV  Item_냉장고  Item_믹서  Item_선풍기  Item_전자렌지  Item_컴퓨터  Level_1  \\\n",
       "0     10        1         0        0         0          0         0        1   \n",
       "1     10        0         1        0         0          0         0        1   \n",
       "2     20        0         0        0         0          1         0        1   \n",
       "3     15        0         0        0         0          0         1        0   \n",
       "4     13        0         0        0         1          0         0        0   \n",
       "5      3        0         0        0         1          0         0        0   \n",
       "6     12        0         0        1         0          0         0        1   \n",
       "7     33        0         0        1         0          0         0        1   \n",
       "\n",
       "   Level_2  Level_3  \n",
       "0        0        0  \n",
       "1        0        0  \n",
       "2        0        0  \n",
       "3        1        0  \n",
       "4        0        1  \n",
       "5        0        1  \n",
       "6        0        0  \n",
       "7        0        0  "
      ]
     },
     "execution_count": 25,
     "metadata": {},
     "output_type": "execute_result"
    }
   ],
   "source": [
    "pd.get_dummies(df, columns=['Item', 'Level'])  \n",
    "#변환할 컬럼들을 지정하면 지정된 컬럼들은 one hot encoding 되고 나머지 컬럼들은 값을 유지하는 dataframe을 반환한다."
   ]
  },
  {
   "cell_type": "markdown",
   "id": "3066bb25",
   "metadata": {},
   "source": [
    "# TODO: adult dataset에 one-hot encoding 적용\n",
    "- 범주형: 'workclass','education', 'education-num', 'marital-status', 'occupation','relationship', 'race', 'gender', 'native-country', 'income'\n",
    "- 연속형: 'age', fnlwgt', 'capital-gain', 'capital-loss', 'hours-per-week'\n",
    "- **위 Feature 중 'age', 'workclass','education', 'occupation', 'gender', 'hours-per-week' 만 사용한다.**\n",
    "- 범주형 Feature중 **income은 출력 데이터이므로 Label Encoding 처리**를 한다.\n",
    "- 나머지 범주형Feature들은 One-hot encoding 처리한다."
   ]
  },
  {
   "cell_type": "markdown",
   "id": "b2a5fa9f",
   "metadata": {},
   "source": [
    "- X: 'age', 'workclass','education', 'occupation', 'gender', 'hours-per-week'     \n",
    "    - 범주형: 'workclass','education', 'occupation', 'gender' ==> one hot encoding\n",
    "    - 연속형: 'age', 'hours-per-week' ==> 유지\n",
    "- y: 'income' ==> Label Encoding\n",
    "    "
   ]
  },
  {
   "cell_type": "markdown",
   "id": "29ccbf88",
   "metadata": {},
   "source": [
    "1. DataSet 읽기\n",
    "\n",
    "1. 읽은 데이터셋이서 필요한 Feature만 추출해서 새로운 DataFrame생성\n",
    "\n",
    "1. 결측치 처리 (제거)\n",
    "\n",
    "1. One hot encoding\n",
    "\n",
    "1. 모델링\n",
    "    - Train/validation/Test set 분리\n",
    "    - 모델 생성\n",
    "    - 학습\n",
    "    - 검증\n",
    "    - 최종평가"
   ]
  },
  {
   "cell_type": "markdown",
   "id": "f4a8b4ee",
   "metadata": {},
   "source": [
    "##### 데이터 로딩"
   ]
  },
  {
   "cell_type": "code",
   "execution_count": 26,
   "id": "102d88ca",
   "metadata": {
    "ExecuteTime": {
     "end_time": "2022-06-30T10:36:09.339048Z",
     "start_time": "2022-06-30T10:36:09.242820Z"
    }
   },
   "outputs": [
    {
     "data": {
      "text/plain": [
       "(32561, 15)"
      ]
     },
     "execution_count": 26,
     "metadata": {},
     "output_type": "execute_result"
    }
   ],
   "source": [
    "cols = ['age', 'workclass','fnlwgt','education', 'education-num', 'marital-status', 'occupation','relationship', 'race', 'gender','capital-gain','capital-loss', 'hours-per-week','native-country', 'income']\n",
    "\n",
    "data = pd.read_csv('data/adult.data', header=None, names=cols, skipinitialspace=True, na_values='?')\n",
    "data.shape"
   ]
  },
  {
   "cell_type": "code",
   "execution_count": 29,
   "id": "ebc4e468",
   "metadata": {
    "ExecuteTime": {
     "end_time": "2022-06-30T10:37:04.733098Z",
     "start_time": "2022-06-30T10:37:04.663291Z"
    }
   },
   "outputs": [
    {
     "name": "stdout",
     "output_type": "stream",
     "text": [
      "<class 'pandas.core.frame.DataFrame'>\n",
      "RangeIndex: 32561 entries, 0 to 32560\n",
      "Data columns (total 15 columns):\n",
      " #   Column          Non-Null Count  Dtype \n",
      "---  ------          --------------  ----- \n",
      " 0   age             32561 non-null  int64 \n",
      " 1   workclass       30725 non-null  object\n",
      " 2   fnlwgt          32561 non-null  int64 \n",
      " 3   education       32561 non-null  object\n",
      " 4   education-num   32561 non-null  int64 \n",
      " 5   marital-status  32561 non-null  object\n",
      " 6   occupation      30718 non-null  object\n",
      " 7   relationship    32561 non-null  object\n",
      " 8   race            32561 non-null  object\n",
      " 9   gender          32561 non-null  object\n",
      " 10  capital-gain    32561 non-null  int64 \n",
      " 11  capital-loss    32561 non-null  int64 \n",
      " 12  hours-per-week  32561 non-null  int64 \n",
      " 13  native-country  31978 non-null  object\n",
      " 14  income          32561 non-null  object\n",
      "dtypes: int64(6), object(9)\n",
      "memory usage: 3.7+ MB\n"
     ]
    }
   ],
   "source": [
    "data.info()"
   ]
  },
  {
   "cell_type": "markdown",
   "id": "104797c1",
   "metadata": {},
   "source": [
    "##### 필요한 Feature들만 추출"
   ]
  },
  {
   "cell_type": "code",
   "execution_count": 30,
   "id": "72bcabeb",
   "metadata": {
    "ExecuteTime": {
     "end_time": "2022-06-30T10:38:29.203259Z",
     "start_time": "2022-06-30T10:38:29.160279Z"
    }
   },
   "outputs": [
    {
     "name": "stdout",
     "output_type": "stream",
     "text": [
      "<class 'pandas.core.frame.DataFrame'>\n",
      "RangeIndex: 32561 entries, 0 to 32560\n",
      "Data columns (total 7 columns):\n",
      " #   Column          Non-Null Count  Dtype \n",
      "---  ------          --------------  ----- \n",
      " 0   age             32561 non-null  int64 \n",
      " 1   workclass       30725 non-null  object\n",
      " 2   education       32561 non-null  object\n",
      " 3   occupation      30718 non-null  object\n",
      " 4   gender          32561 non-null  object\n",
      " 5   hours-per-week  32561 non-null  int64 \n",
      " 6   income          32561 non-null  object\n",
      "dtypes: int64(2), object(5)\n",
      "memory usage: 1.7+ MB\n"
     ]
    }
   ],
   "source": [
    "df = data[['age', 'workclass','education', 'occupation', 'gender', 'hours-per-week', 'income']]\n",
    "df.info()"
   ]
  },
  {
   "cell_type": "markdown",
   "id": "6dc63071",
   "metadata": {},
   "source": [
    "##### 결측치 제거 "
   ]
  },
  {
   "cell_type": "code",
   "execution_count": 31,
   "id": "d2f0eb8c",
   "metadata": {
    "ExecuteTime": {
     "end_time": "2022-06-30T10:38:45.522023Z",
     "start_time": "2022-06-30T10:38:45.479110Z"
    }
   },
   "outputs": [
    {
     "data": {
      "text/plain": [
       "age                  0\n",
       "workclass         1836\n",
       "education            0\n",
       "occupation        1843\n",
       "gender               0\n",
       "hours-per-week       0\n",
       "income               0\n",
       "dtype: int64"
      ]
     },
     "execution_count": 31,
     "metadata": {},
     "output_type": "execute_result"
    }
   ],
   "source": [
    "# 결측치 확인\n",
    "df.isnull().sum()"
   ]
  },
  {
   "cell_type": "code",
   "execution_count": 32,
   "id": "9b897304",
   "metadata": {
    "ExecuteTime": {
     "end_time": "2022-06-30T10:38:57.161832Z",
     "start_time": "2022-06-30T10:38:56.439028Z"
    }
   },
   "outputs": [
    {
     "name": "stderr",
     "output_type": "stream",
     "text": [
      "C:\\Users\\user\\AppData\\Local\\Temp\\ipykernel_18884\\2053667463.py:1: SettingWithCopyWarning: \n",
      "A value is trying to be set on a copy of a slice from a DataFrame\n",
      "\n",
      "See the caveats in the documentation: https://pandas.pydata.org/pandas-docs/stable/user_guide/indexing.html#returning-a-view-versus-a-copy\n",
      "  df.dropna(inplace=True)\n"
     ]
    },
    {
     "data": {
      "text/plain": [
       "(30718, 7)"
      ]
     },
     "execution_count": 32,
     "metadata": {},
     "output_type": "execute_result"
    }
   ],
   "source": [
    "df.dropna(inplace=True)\n",
    "df.shape"
   ]
  },
  {
   "cell_type": "markdown",
   "id": "c5a3bd83",
   "metadata": {},
   "source": [
    "##### income(출력데이터): LabelEncoding"
   ]
  },
  {
   "cell_type": "code",
   "execution_count": 33,
   "id": "ae9e8426",
   "metadata": {
    "ExecuteTime": {
     "end_time": "2022-06-30T10:39:23.491146Z",
     "start_time": "2022-06-30T10:39:23.455243Z"
    }
   },
   "outputs": [
    {
     "data": {
      "text/plain": [
       "(30718,)"
      ]
     },
     "execution_count": 33,
     "metadata": {},
     "output_type": "execute_result"
    }
   ],
   "source": [
    "from sklearn.preprocessing import LabelEncoder\n",
    "\n",
    "le = LabelEncoder()\n",
    "y = le.fit_transform(df['income']) # Label y 변수에 대입\n",
    "y.shape"
   ]
  },
  {
   "cell_type": "code",
   "execution_count": 34,
   "id": "2182b66c",
   "metadata": {
    "ExecuteTime": {
     "end_time": "2022-06-30T10:39:30.256562Z",
     "start_time": "2022-06-30T10:39:30.246612Z"
    }
   },
   "outputs": [
    {
     "data": {
      "text/plain": [
       "(array([0, 1]), array([23068,  7650], dtype=int64))"
      ]
     },
     "execution_count": 34,
     "metadata": {},
     "output_type": "execute_result"
    }
   ],
   "source": [
    "np.unique(y, return_counts=True)"
   ]
  },
  {
   "cell_type": "code",
   "execution_count": 35,
   "id": "5f5a8514",
   "metadata": {
    "ExecuteTime": {
     "end_time": "2022-06-30T10:39:37.717889Z",
     "start_time": "2022-06-30T10:39:37.686980Z"
    },
    "collapsed": true
   },
   "outputs": [
    {
     "name": "stderr",
     "output_type": "stream",
     "text": [
      "C:\\Users\\user\\AppData\\Local\\Temp\\ipykernel_18884\\3600015500.py:2: SettingWithCopyWarning: \n",
      "A value is trying to be set on a copy of a slice from a DataFrame\n",
      "\n",
      "See the caveats in the documentation: https://pandas.pydata.org/pandas-docs/stable/user_guide/indexing.html#returning-a-view-versus-a-copy\n",
      "  df.drop(columns='income', inplace=True)\n"
     ]
    }
   ],
   "source": [
    "# df에서 income을 제거\n",
    "df.drop(columns='income', inplace=True)"
   ]
  },
  {
   "cell_type": "markdown",
   "id": "ae899239",
   "metadata": {},
   "source": [
    "##### 원핫인코딩"
   ]
  },
  {
   "cell_type": "markdown",
   "id": "0d3bf9e2",
   "metadata": {},
   "source": [
    "##### 1. pandas get_dummies() 사용해 변환"
   ]
  },
  {
   "cell_type": "code",
   "execution_count": 36,
   "id": "8759e83b",
   "metadata": {
    "ExecuteTime": {
     "end_time": "2022-06-30T10:41:03.657513Z",
     "start_time": "2022-06-30T10:41:03.613634Z"
    }
   },
   "outputs": [
    {
     "data": {
      "text/plain": [
       "(30718, 41)"
      ]
     },
     "execution_count": 36,
     "metadata": {},
     "output_type": "execute_result"
    }
   ],
   "source": [
    "X = pd.get_dummies(df)\n",
    "X.shape"
   ]
  },
  {
   "cell_type": "markdown",
   "id": "15c68e41",
   "metadata": {},
   "source": [
    "##### 2. scikit-learn OneHotEncoder 사용"
   ]
  },
  {
   "cell_type": "code",
   "execution_count": 38,
   "id": "c5ceb396",
   "metadata": {
    "ExecuteTime": {
     "end_time": "2022-06-30T10:44:17.051923Z",
     "start_time": "2022-06-30T10:44:17.000750Z"
    }
   },
   "outputs": [],
   "source": [
    "ohe = OneHotEncoder(sparse=False)\n",
    "categorical_feature = ohe.fit_transform(df[['workclass','education', 'occupation', 'gender']])"
   ]
  },
  {
   "cell_type": "code",
   "execution_count": 58,
   "id": "df1b2547",
   "metadata": {
    "ExecuteTime": {
     "end_time": "2022-06-30T10:50:03.328612Z",
     "start_time": "2022-06-30T10:50:03.305672Z"
    }
   },
   "outputs": [],
   "source": [
    "X2 = np.concatenate([categorical_feature,df[['age','hours-per-week']].values],axis=1)"
   ]
  },
  {
   "cell_type": "code",
   "execution_count": 61,
   "id": "1b58c386",
   "metadata": {
    "ExecuteTime": {
     "end_time": "2022-06-30T10:50:50.045315Z",
     "start_time": "2022-06-30T10:50:50.024361Z"
    }
   },
   "outputs": [
    {
     "data": {
      "text/plain": [
       "(30718, 41)"
      ]
     },
     "execution_count": 61,
     "metadata": {},
     "output_type": "execute_result"
    }
   ],
   "source": [
    "X2.shape"
   ]
  },
  {
   "cell_type": "markdown",
   "id": "e4bc7a01",
   "metadata": {},
   "source": [
    "#### 모델 학습"
   ]
  },
  {
   "cell_type": "markdown",
   "id": "759567e9",
   "metadata": {},
   "source": [
    "##### train, validation, test set 나누기"
   ]
  },
  {
   "cell_type": "code",
   "execution_count": 62,
   "id": "57a4e4de",
   "metadata": {
    "ExecuteTime": {
     "end_time": "2022-06-30T10:52:33.440731Z",
     "start_time": "2022-06-30T10:52:33.344007Z"
    }
   },
   "outputs": [],
   "source": [
    "from sklearn.model_selection import train_test_split\n",
    "\n",
    "X_train, X_test, y_train, y_test = train_test_split(X, y, test_size=0.2, stratify=y, random_state=0)\n",
    "X_train, X_val, y_train, y_val = train_test_split(X_train, y_train, test_size=0.25, stratify=y_train, random_state=0)"
   ]
  },
  {
   "cell_type": "markdown",
   "id": "6bca8939",
   "metadata": {},
   "source": [
    "##### 모델생성\n",
    "- DecisionTreeClassifier 사용"
   ]
  },
  {
   "cell_type": "code",
   "execution_count": 63,
   "id": "0de2cd51",
   "metadata": {
    "ExecuteTime": {
     "end_time": "2022-06-30T10:53:31.534494Z",
     "start_time": "2022-06-30T10:53:31.368302Z"
    }
   },
   "outputs": [
    {
     "data": {
      "text/html": [
       "<style>#sk-container-id-1 {color: black;background-color: white;}#sk-container-id-1 pre{padding: 0;}#sk-container-id-1 div.sk-toggleable {background-color: white;}#sk-container-id-1 label.sk-toggleable__label {cursor: pointer;display: block;width: 100%;margin-bottom: 0;padding: 0.3em;box-sizing: border-box;text-align: center;}#sk-container-id-1 label.sk-toggleable__label-arrow:before {content: \"▸\";float: left;margin-right: 0.25em;color: #696969;}#sk-container-id-1 label.sk-toggleable__label-arrow:hover:before {color: black;}#sk-container-id-1 div.sk-estimator:hover label.sk-toggleable__label-arrow:before {color: black;}#sk-container-id-1 div.sk-toggleable__content {max-height: 0;max-width: 0;overflow: hidden;text-align: left;background-color: #f0f8ff;}#sk-container-id-1 div.sk-toggleable__content pre {margin: 0.2em;color: black;border-radius: 0.25em;background-color: #f0f8ff;}#sk-container-id-1 input.sk-toggleable__control:checked~div.sk-toggleable__content {max-height: 200px;max-width: 100%;overflow: auto;}#sk-container-id-1 input.sk-toggleable__control:checked~label.sk-toggleable__label-arrow:before {content: \"▾\";}#sk-container-id-1 div.sk-estimator input.sk-toggleable__control:checked~label.sk-toggleable__label {background-color: #d4ebff;}#sk-container-id-1 div.sk-label input.sk-toggleable__control:checked~label.sk-toggleable__label {background-color: #d4ebff;}#sk-container-id-1 input.sk-hidden--visually {border: 0;clip: rect(1px 1px 1px 1px);clip: rect(1px, 1px, 1px, 1px);height: 1px;margin: -1px;overflow: hidden;padding: 0;position: absolute;width: 1px;}#sk-container-id-1 div.sk-estimator {font-family: monospace;background-color: #f0f8ff;border: 1px dotted black;border-radius: 0.25em;box-sizing: border-box;margin-bottom: 0.5em;}#sk-container-id-1 div.sk-estimator:hover {background-color: #d4ebff;}#sk-container-id-1 div.sk-parallel-item::after {content: \"\";width: 100%;border-bottom: 1px solid gray;flex-grow: 1;}#sk-container-id-1 div.sk-label:hover label.sk-toggleable__label {background-color: #d4ebff;}#sk-container-id-1 div.sk-serial::before {content: \"\";position: absolute;border-left: 1px solid gray;box-sizing: border-box;top: 0;bottom: 0;left: 50%;z-index: 0;}#sk-container-id-1 div.sk-serial {display: flex;flex-direction: column;align-items: center;background-color: white;padding-right: 0.2em;padding-left: 0.2em;position: relative;}#sk-container-id-1 div.sk-item {position: relative;z-index: 1;}#sk-container-id-1 div.sk-parallel {display: flex;align-items: stretch;justify-content: center;background-color: white;position: relative;}#sk-container-id-1 div.sk-item::before, #sk-container-id-1 div.sk-parallel-item::before {content: \"\";position: absolute;border-left: 1px solid gray;box-sizing: border-box;top: 0;bottom: 0;left: 50%;z-index: -1;}#sk-container-id-1 div.sk-parallel-item {display: flex;flex-direction: column;z-index: 1;position: relative;background-color: white;}#sk-container-id-1 div.sk-parallel-item:first-child::after {align-self: flex-end;width: 50%;}#sk-container-id-1 div.sk-parallel-item:last-child::after {align-self: flex-start;width: 50%;}#sk-container-id-1 div.sk-parallel-item:only-child::after {width: 0;}#sk-container-id-1 div.sk-dashed-wrapped {border: 1px dashed gray;margin: 0 0.4em 0.5em 0.4em;box-sizing: border-box;padding-bottom: 0.4em;background-color: white;}#sk-container-id-1 div.sk-label label {font-family: monospace;font-weight: bold;display: inline-block;line-height: 1.2em;}#sk-container-id-1 div.sk-label-container {text-align: center;}#sk-container-id-1 div.sk-container {/* jupyter's `normalize.less` sets `[hidden] { display: none; }` but bootstrap.min.css set `[hidden] { display: none !important; }` so we also need the `!important` here to be able to override the default hidden behavior on the sphinx rendered scikit-learn.org. See: https://github.com/scikit-learn/scikit-learn/issues/21755 */display: inline-block !important;position: relative;}#sk-container-id-1 div.sk-text-repr-fallback {display: none;}</style><div id=\"sk-container-id-1\" class=\"sk-top-container\"><div class=\"sk-text-repr-fallback\"><pre>DecisionTreeClassifier(max_depth=7, random_state=0)</pre><b>In a Jupyter environment, please rerun this cell to show the HTML representation or trust the notebook. <br />On GitHub, the HTML representation is unable to render, please try loading this page with nbviewer.org.</b></div><div class=\"sk-container\" hidden><div class=\"sk-item\"><div class=\"sk-estimator sk-toggleable\"><input class=\"sk-toggleable__control sk-hidden--visually\" id=\"sk-estimator-id-1\" type=\"checkbox\" checked><label for=\"sk-estimator-id-1\" class=\"sk-toggleable__label sk-toggleable__label-arrow\">DecisionTreeClassifier</label><div class=\"sk-toggleable__content\"><pre>DecisionTreeClassifier(max_depth=7, random_state=0)</pre></div></div></div></div></div>"
      ],
      "text/plain": [
       "DecisionTreeClassifier(max_depth=7, random_state=0)"
      ]
     },
     "execution_count": 63,
     "metadata": {},
     "output_type": "execute_result"
    }
   ],
   "source": [
    "from sklearn.tree import DecisionTreeClassifier\n",
    "\n",
    "tree =  DecisionTreeClassifier(max_depth=7, random_state=0)\n",
    "tree.fit(X_train, y_train)"
   ]
  },
  {
   "cell_type": "markdown",
   "id": "2a096a20",
   "metadata": {},
   "source": [
    "##### 추론, 검증"
   ]
  },
  {
   "cell_type": "code",
   "execution_count": 64,
   "id": "8ec63dc6",
   "metadata": {
    "ExecuteTime": {
     "end_time": "2022-06-30T10:53:53.560201Z",
     "start_time": "2022-06-30T10:53:53.536251Z"
    }
   },
   "outputs": [],
   "source": [
    "pred_train = tree.predict(X_train)\n",
    "pred_val = tree.predict(X_val)"
   ]
  },
  {
   "cell_type": "code",
   "execution_count": 66,
   "id": "2a2c3140",
   "metadata": {
    "ExecuteTime": {
     "end_time": "2022-06-30T10:54:13.598131Z",
     "start_time": "2022-06-30T10:54:13.574217Z"
    }
   },
   "outputs": [
    {
     "data": {
      "text/plain": [
       "(0.8116115029842648, 0.7985026041666666)"
      ]
     },
     "execution_count": 66,
     "metadata": {},
     "output_type": "execute_result"
    }
   ],
   "source": [
    "from sklearn.metrics import accuracy_score\n",
    "\n",
    "accuracy_score(y_train, pred_train), accuracy_score(y_val, pred_val)"
   ]
  },
  {
   "cell_type": "markdown",
   "id": "56fee0ad",
   "metadata": {},
   "source": [
    "##### 평가"
   ]
  },
  {
   "cell_type": "code",
   "execution_count": 67,
   "id": "127eb5e3",
   "metadata": {
    "ExecuteTime": {
     "end_time": "2022-06-30T10:54:25.961914Z",
     "start_time": "2022-06-30T10:54:25.942967Z"
    }
   },
   "outputs": [
    {
     "data": {
      "text/plain": [
       "0.79736328125"
      ]
     },
     "execution_count": 67,
     "metadata": {},
     "output_type": "execute_result"
    }
   ],
   "source": [
    "pred_test = tree.predict(X_test)\n",
    "accuracy_score(y_test, pred_test)"
   ]
  },
  {
   "cell_type": "markdown",
   "id": "a627317e",
   "metadata": {},
   "source": [
    "# 연속형(수치형) 데이터 전처리\n",
    "\n",
    "- 연속형 데이터는 변수가 가지는 값들이 연속된 값인 경우로 보통 정해진 범위 안의 모든 실수가 값이 될 수 있다.\n",
    "\n",
    "\n",
    "## Feature Scaling(정규화)\n",
    "- 각 피처들간의 값의 범위(척도-Scale)가 다를 경우 이 값의 범위를 일정한 범위로 맞추는 작업\n",
    "- 트리계열을 제외한 대부분의 머신러닝 알고리즘들이 Feature간의 서로 다른 척도(Scale)에 영향을 받는다.\n",
    "    - 선형모델, SVM 모델, 신경망 모델\n",
    "- **Scaling(정규화)은 train set으로 fitting 한다. test set이나 예측할 새로운 데이터는 train set으로 fitting한 것으로 변환한다.**"
   ]
  },
  {
   "cell_type": "markdown",
   "id": "8d66d1d4",
   "metadata": {},
   "source": [
    "### 종류\n",
    "- 표준화(Standardization)\n",
    "- Min Max Scaling"
   ]
  },
  {
   "cell_type": "markdown",
   "id": "4c14d797",
   "metadata": {},
   "source": [
    "### 함수\n",
    "- fit(): 어떻게 변환할 지 학습\n",
    "- transform(): 변환\n",
    "- fit_transform(): 학습과 변환을 한번에 처리 \n",
    "- inverse_transform(): 변환된 값을 원래값으로 복원"
   ]
  },
  {
   "cell_type": "markdown",
   "id": "7ef35e7a",
   "metadata": {},
   "source": [
    "- Feature Scaling\n",
    "    - 어떤 방식을 사용하나?\n",
    "        - 둘다 해보고 더 좋은 성능을 내는 방식을 사용한다. (Data set에 따라 다르다.)\n",
    "    - 언제 하는가?\n",
    "        - Dataset을 Train/Validation/Test set으로 나눈뒤에 한다.\n",
    "        - Train set으로 학습시킨 Scaler로 Train/Validation/Test set 모두 변환한다."
   ]
  },
  {
   "cell_type": "markdown",
   "id": "51cd3e96",
   "metadata": {},
   "source": [
    "##  표준화(StandardScaler)\n",
    "- 피쳐의 값들이 평균이 0이고 표준편차가 1인 범위에 있도록 변환한다.\n",
    "    - 0을 기준으로 모든 데이터들이 모여있게 된다\n",
    "\n",
    "$$\n",
    "New\\,x_i = \\cfrac{X_i-\\mu}{\\sigma}\\\\\n",
    "\\mu-평균,\\;  \\sigma-표준편차\n",
    "$$\n",
    "\n",
    "- **sklearn.preprocessing.StandardScaler** 를 이용"
   ]
  },
  {
   "cell_type": "code",
   "execution_count": 68,
   "id": "1557140c",
   "metadata": {
    "ExecuteTime": {
     "end_time": "2022-06-30T10:57:25.224796Z",
     "start_time": "2022-06-30T10:57:25.214823Z"
    }
   },
   "outputs": [
    {
     "name": "stdout",
     "output_type": "stream",
     "text": [
      "(3, 1)\n",
      "[[10]\n",
      " [ 2]\n",
      " [30]]\n"
     ]
    }
   ],
   "source": [
    "import numpy as np\n",
    "from sklearn.preprocessing import StandardScaler\n",
    "\n",
    "# 변환할 데이터  (2차원)\n",
    "\n",
    "data = np.array([10,2,30]).reshape(3,1)\n",
    "print(data.shape)\n",
    "print(data)"
   ]
  },
  {
   "cell_type": "code",
   "execution_count": 69,
   "id": "1b0ca6e6",
   "metadata": {
    "ExecuteTime": {
     "end_time": "2022-06-30T10:57:36.348002Z",
     "start_time": "2022-06-30T10:57:36.340023Z"
    }
   },
   "outputs": [
    {
     "name": "stdout",
     "output_type": "stream",
     "text": [
      "평균: 14.0, 표준편차: 11.775681155103795\n"
     ]
    }
   ],
   "source": [
    "print(f'평균: {np.mean(data)}, 표준편차: {np.std(data)}')"
   ]
  },
  {
   "cell_type": "code",
   "execution_count": 70,
   "id": "941fb8d3",
   "metadata": {
    "ExecuteTime": {
     "end_time": "2022-06-30T10:58:13.200037Z",
     "start_time": "2022-06-30T10:58:13.189052Z"
    }
   },
   "outputs": [
    {
     "data": {
      "text/plain": [
       "array([[-0.33968311],\n",
       "       [-1.01904933],\n",
       "       [ 1.35873244]])"
      ]
     },
     "execution_count": 70,
     "metadata": {},
     "output_type": "execute_result"
    }
   ],
   "source": [
    "# StandardScaler 객체 생성\n",
    "stn_scaler = StandardScaler()\n",
    "# 학습시키기 -> data의 평균과 표준편차 계산\n",
    "stn_scaler.fit(data)\n",
    "# 변환\n",
    "result = stn_scaler.transform(data)\n",
    "result"
   ]
  },
  {
   "cell_type": "markdown",
   "id": "261ddd18",
   "metadata": {},
   "source": [
    "#### iris"
   ]
  },
  {
   "cell_type": "code",
   "execution_count": 73,
   "id": "9af51ed3",
   "metadata": {
    "ExecuteTime": {
     "end_time": "2022-06-30T11:01:31.329770Z",
     "start_time": "2022-06-30T11:01:31.195133Z"
    }
   },
   "outputs": [
    {
     "name": "stdout",
     "output_type": "stream",
     "text": [
      "feature 들의 평균 값\n",
      "sepal length (cm)   -1.690315e-15\n",
      "sepal width (cm)    -1.842970e-15\n",
      "petal length (cm)   -1.698641e-15\n",
      "petal width (cm)    -1.409243e-15\n",
      "dtype: float64\n",
      "\n",
      "feature 들의 표준편차 값\n",
      "sepal length (cm)    1.00335\n",
      "sepal width (cm)     1.00335\n",
      "petal length (cm)    1.00335\n",
      "petal width (cm)     1.00335\n",
      "dtype: float64\n"
     ]
    }
   ],
   "source": [
    "from sklearn.datasets import load_iris\n",
    "import pandas as pd\n",
    "from sklearn.preprocessing import StandardScaler\n",
    "from sklearn.model_selection import train_test_split\n",
    "\n",
    "iris = load_iris()\n",
    "iris_data = iris.data\n",
    "iris_df = pd.DataFrame(data=iris_data,columns = iris.feature_names)\n",
    "\n",
    "scaler = StandardScaler()\n",
    "\n",
    "scaler.fit(iris_df)\n",
    "iris_scaled = scaler.transform(iris_df)\n",
    "\n",
    "\n",
    "iris_df_scaled = pd.DataFrame(data=iris_scaled, columns=iris.feature_names)\n",
    "# iris_df_scaled.head()\n",
    "print('feature 들의 평균 값')\n",
    "print(iris_df_scaled.mean())\n",
    "print('\\nfeature 들의 표준편차 값')\n",
    "print(iris_df_scaled.std())"
   ]
  },
  {
   "cell_type": "markdown",
   "id": "eed6d21e",
   "metadata": {},
   "source": [
    "## MinMaxScaler\n",
    "- 데이터셋의 모든 값을 0(Min value)과 1(Max value) 사이의 값으로 변환한다.\n",
    "$$\n",
    "New\\,x_i = \\cfrac{x_i - min(X)}{max(X) - min(X)}\n",
    "$$"
   ]
  },
  {
   "cell_type": "code",
   "execution_count": 75,
   "id": "65281146",
   "metadata": {
    "ExecuteTime": {
     "end_time": "2022-06-30T11:03:13.825608Z",
     "start_time": "2022-06-30T11:03:13.809661Z"
    }
   },
   "outputs": [
    {
     "data": {
      "text/plain": [
       "array([[10],\n",
       "       [ 2],\n",
       "       [30]])"
      ]
     },
     "execution_count": 75,
     "metadata": {},
     "output_type": "execute_result"
    }
   ],
   "source": [
    "from sklearn.preprocessing import MinMaxScaler\n",
    "\n",
    "data"
   ]
  },
  {
   "cell_type": "code",
   "execution_count": 76,
   "id": "c9a4fff0",
   "metadata": {
    "ExecuteTime": {
     "end_time": "2022-06-30T11:03:18.019721Z",
     "start_time": "2022-06-30T11:03:18.001769Z"
    }
   },
   "outputs": [
    {
     "name": "stdout",
     "output_type": "stream",
     "text": [
      "최소값: 2, 최대값: 30\n"
     ]
    }
   ],
   "source": [
    "print(f'최소값: {np.min(data)}, 최대값: {np.max(data)}')"
   ]
  },
  {
   "cell_type": "code",
   "execution_count": 77,
   "id": "c17ab93f",
   "metadata": {
    "ExecuteTime": {
     "end_time": "2022-06-30T11:04:03.988963Z",
     "start_time": "2022-06-30T11:04:03.969016Z"
    }
   },
   "outputs": [],
   "source": [
    "# 객체생성\n",
    "mm_scaler = MinMaxScaler()\n",
    "# 학습 - 최소/최대값을 계산\n",
    "mm_scaler.fit(data)\n",
    "# 변환\n",
    "result = mm_scaler.transform(data)\n",
    "\n",
    "result2 = mm_scaler.fit_transform(data) # 학습과 변환을 동시에 한다. "
   ]
  },
  {
   "cell_type": "code",
   "execution_count": 78,
   "id": "b06bd236",
   "metadata": {
    "ExecuteTime": {
     "end_time": "2022-06-30T11:04:07.597363Z",
     "start_time": "2022-06-30T11:04:07.577412Z"
    }
   },
   "outputs": [
    {
     "data": {
      "text/plain": [
       "array([[0.28571429],\n",
       "       [0.        ],\n",
       "       [1.        ]])"
      ]
     },
     "execution_count": 78,
     "metadata": {},
     "output_type": "execute_result"
    }
   ],
   "source": [
    "result"
   ]
  },
  {
   "cell_type": "markdown",
   "id": "bc2fd2ed",
   "metadata": {},
   "source": [
    "#### iris"
   ]
  },
  {
   "cell_type": "code",
   "execution_count": 79,
   "id": "93dd7b68",
   "metadata": {
    "ExecuteTime": {
     "end_time": "2022-06-30T11:04:34.837431Z",
     "start_time": "2022-06-30T11:04:34.817464Z"
    }
   },
   "outputs": [
    {
     "name": "stdout",
     "output_type": "stream",
     "text": [
      "feature들의 최소 값\n",
      "sepal length (cm)    0.0\n",
      "sepal width (cm)     0.0\n",
      "petal length (cm)    0.0\n",
      "petal width (cm)     0.0\n",
      "dtype: float64\n",
      "\n",
      "feature들의 최대 값\n",
      "sepal length (cm)    1.0\n",
      "sepal width (cm)     1.0\n",
      "petal length (cm)    1.0\n",
      "petal width (cm)     1.0\n",
      "dtype: float64\n"
     ]
    }
   ],
   "source": [
    "from sklearn.preprocessing import MinMaxScaler\n",
    "\n",
    "scaler = MinMaxScaler()\n",
    "\n",
    "scaler.fit(iris_df)\n",
    "iris_scaled = scaler.transform(iris_df) #ndarray반환\n",
    "\n",
    "iris_df_scaled = pd.DataFrame(data=iris_scaled, columns=iris.feature_names)\n",
    "print('feature들의 최소 값')\n",
    "print(iris_df_scaled.min())\n",
    "print('\\nfeature들의 최대 값')\n",
    "print(iris_df_scaled.max())\n"
   ]
  },
  {
   "cell_type": "code",
   "execution_count": 80,
   "id": "c4205d29",
   "metadata": {
    "ExecuteTime": {
     "end_time": "2022-06-30T11:05:04.069240Z",
     "start_time": "2022-06-30T11:05:04.041312Z"
    }
   },
   "outputs": [
    {
     "data": {
      "text/html": [
       "<div>\n",
       "<style scoped>\n",
       "    .dataframe tbody tr th:only-of-type {\n",
       "        vertical-align: middle;\n",
       "    }\n",
       "\n",
       "    .dataframe tbody tr th {\n",
       "        vertical-align: top;\n",
       "    }\n",
       "\n",
       "    .dataframe thead th {\n",
       "        text-align: right;\n",
       "    }\n",
       "</style>\n",
       "<table border=\"1\" class=\"dataframe\">\n",
       "  <thead>\n",
       "    <tr style=\"text-align: right;\">\n",
       "      <th></th>\n",
       "      <th>sepal length (cm)</th>\n",
       "      <th>sepal width (cm)</th>\n",
       "      <th>petal length (cm)</th>\n",
       "      <th>petal width (cm)</th>\n",
       "    </tr>\n",
       "  </thead>\n",
       "  <tbody>\n",
       "    <tr>\n",
       "      <th>0</th>\n",
       "      <td>0.222222</td>\n",
       "      <td>0.625000</td>\n",
       "      <td>0.067797</td>\n",
       "      <td>0.041667</td>\n",
       "    </tr>\n",
       "    <tr>\n",
       "      <th>1</th>\n",
       "      <td>0.166667</td>\n",
       "      <td>0.416667</td>\n",
       "      <td>0.067797</td>\n",
       "      <td>0.041667</td>\n",
       "    </tr>\n",
       "    <tr>\n",
       "      <th>2</th>\n",
       "      <td>0.111111</td>\n",
       "      <td>0.500000</td>\n",
       "      <td>0.050847</td>\n",
       "      <td>0.041667</td>\n",
       "    </tr>\n",
       "    <tr>\n",
       "      <th>3</th>\n",
       "      <td>0.083333</td>\n",
       "      <td>0.458333</td>\n",
       "      <td>0.084746</td>\n",
       "      <td>0.041667</td>\n",
       "    </tr>\n",
       "    <tr>\n",
       "      <th>4</th>\n",
       "      <td>0.194444</td>\n",
       "      <td>0.666667</td>\n",
       "      <td>0.067797</td>\n",
       "      <td>0.041667</td>\n",
       "    </tr>\n",
       "    <tr>\n",
       "      <th>...</th>\n",
       "      <td>...</td>\n",
       "      <td>...</td>\n",
       "      <td>...</td>\n",
       "      <td>...</td>\n",
       "    </tr>\n",
       "    <tr>\n",
       "      <th>145</th>\n",
       "      <td>0.666667</td>\n",
       "      <td>0.416667</td>\n",
       "      <td>0.711864</td>\n",
       "      <td>0.916667</td>\n",
       "    </tr>\n",
       "    <tr>\n",
       "      <th>146</th>\n",
       "      <td>0.555556</td>\n",
       "      <td>0.208333</td>\n",
       "      <td>0.677966</td>\n",
       "      <td>0.750000</td>\n",
       "    </tr>\n",
       "    <tr>\n",
       "      <th>147</th>\n",
       "      <td>0.611111</td>\n",
       "      <td>0.416667</td>\n",
       "      <td>0.711864</td>\n",
       "      <td>0.791667</td>\n",
       "    </tr>\n",
       "    <tr>\n",
       "      <th>148</th>\n",
       "      <td>0.527778</td>\n",
       "      <td>0.583333</td>\n",
       "      <td>0.745763</td>\n",
       "      <td>0.916667</td>\n",
       "    </tr>\n",
       "    <tr>\n",
       "      <th>149</th>\n",
       "      <td>0.444444</td>\n",
       "      <td>0.416667</td>\n",
       "      <td>0.694915</td>\n",
       "      <td>0.708333</td>\n",
       "    </tr>\n",
       "  </tbody>\n",
       "</table>\n",
       "<p>150 rows × 4 columns</p>\n",
       "</div>"
      ],
      "text/plain": [
       "     sepal length (cm)  sepal width (cm)  petal length (cm)  petal width (cm)\n",
       "0             0.222222          0.625000           0.067797          0.041667\n",
       "1             0.166667          0.416667           0.067797          0.041667\n",
       "2             0.111111          0.500000           0.050847          0.041667\n",
       "3             0.083333          0.458333           0.084746          0.041667\n",
       "4             0.194444          0.666667           0.067797          0.041667\n",
       "..                 ...               ...                ...               ...\n",
       "145           0.666667          0.416667           0.711864          0.916667\n",
       "146           0.555556          0.208333           0.677966          0.750000\n",
       "147           0.611111          0.416667           0.711864          0.791667\n",
       "148           0.527778          0.583333           0.745763          0.916667\n",
       "149           0.444444          0.416667           0.694915          0.708333\n",
       "\n",
       "[150 rows x 4 columns]"
      ]
     },
     "execution_count": 80,
     "metadata": {},
     "output_type": "execute_result"
    }
   ],
   "source": [
    "iris_df_scaled"
   ]
  },
  {
   "cell_type": "markdown",
   "id": "b681d9cc",
   "metadata": {},
   "source": [
    "### 위스콘신 유방암 데이터셋\n",
    "- 위스콘신 대학교에서 제공한 유방암 진단결과 데이터\n",
    "- Feature: 종양 측정값들\n",
    "    - 모든 Feature들은 연속형(continous)이다.\n",
    "- target: 악성, 양성 여부\n",
    "- scikit-learn에서 toy dataset으로 제공한다. \n",
    "    - load_breast_cancer() 함수 이용"
   ]
  },
  {
   "cell_type": "markdown",
   "id": "c6462945",
   "metadata": {},
   "source": [
    "### StandardScaler 와 MinMaxScaler 비교"
   ]
  },
  {
   "cell_type": "markdown",
   "id": "5cc63fa9",
   "metadata": {},
   "source": [
    "- StandardScaler와 MinMax Scaler를 이용해 Feature Scaling 위스콘신 유방암 데이터셋의 Feature들을 처리를 한다.\n",
    "    - Scaler 학습은 Train set으로 만 하고 그 학습된 것을 이용해 Train/Validation/Test set을 변환한다.\n",
    "- StandardScaler 로 변환한 결과를 저장할 변수\n",
    "    - X_train_scaled1, X_val_scaled1, X_test_scaled1\n",
    "- MinMaxScaler 로 변환한 결과를 저장할 변수\n",
    "    - X_train_scaled2, X_val_scaled2, X_test_scaled2"
   ]
  },
  {
   "cell_type": "markdown",
   "id": "32e3ebca",
   "metadata": {},
   "source": [
    "##### 데이터 나누기\n",
    "train/validation/test set으로 나눈다."
   ]
  },
  {
   "cell_type": "code",
   "execution_count": 84,
   "id": "bda66c8e",
   "metadata": {
    "ExecuteTime": {
     "end_time": "2022-06-30T11:09:59.255424Z",
     "start_time": "2022-06-30T11:09:59.199566Z"
    }
   },
   "outputs": [
    {
     "data": {
      "text/plain": [
       "((341, 30), (114, 30), (114, 30))"
      ]
     },
     "execution_count": 84,
     "metadata": {},
     "output_type": "execute_result"
    }
   ],
   "source": [
    "from sklearn.model_selection import train_test_split\n",
    "from sklearn.datasets import load_breast_cancer \n",
    "\n",
    "data = load_breast_cancer()\n",
    "\n",
    "X = data.data\n",
    "y = data.target\n",
    "# Test set 분리\n",
    "X_train, X_test, y_train, y_test = train_test_split(X, y, test_size=0.2, stratify=y, random_state=0)\n",
    "# Train/Val 분리\n",
    "X_train, X_val, y_train, y_val = train_test_split(X_train, y_train, test_size=0.25, stratify=y_train, random_state=0)\n",
    "\n",
    "X_train.shape, X_val.shape, X_test.shape"
   ]
  },
  {
   "cell_type": "markdown",
   "id": "44a11b56",
   "metadata": {},
   "source": [
    "#### scaling 처리\n",
    "##### 표준화 (Standard Scaling)"
   ]
  },
  {
   "cell_type": "code",
   "execution_count": 85,
   "id": "f3f39122",
   "metadata": {
    "ExecuteTime": {
     "end_time": "2022-06-30T11:10:19.337928Z",
     "start_time": "2022-06-30T11:10:19.320957Z"
    }
   },
   "outputs": [],
   "source": [
    "from sklearn.preprocessing import StandardScaler\n",
    "\n",
    "s_scaler = StandardScaler()\n",
    "# train 학습->변환\n",
    "X_train_scaled1 = s_scaler.fit_transform(X_train)\n",
    "X_val_scaled1 = s_scaler.transform(X_val)\n",
    "X_test_scaled1 = s_scaler.transform(X_test)"
   ]
  },
  {
   "cell_type": "markdown",
   "id": "303949a1",
   "metadata": {},
   "source": [
    "##### MinMax Scaling"
   ]
  },
  {
   "cell_type": "code",
   "execution_count": 86,
   "id": "1f13cc61",
   "metadata": {
    "ExecuteTime": {
     "end_time": "2022-06-30T11:10:36.585443Z",
     "start_time": "2022-06-30T11:10:36.576441Z"
    }
   },
   "outputs": [],
   "source": [
    "from sklearn.preprocessing import MinMaxScaler\n",
    "\n",
    "m_scaler = MinMaxScaler()\n",
    "X_train_scaled2 = m_scaler.fit_transform(X_train)\n",
    "X_val_scaled2 = m_scaler.transform(X_val)\n",
    "X_test_scaled2 = m_scaler.transform(X_test)"
   ]
  },
  {
   "cell_type": "markdown",
   "id": "df41a45a",
   "metadata": {},
   "source": [
    "### Modeling"
   ]
  },
  {
   "cell_type": "markdown",
   "id": "76791f6c",
   "metadata": {},
   "source": [
    "##### Standard Scaling 데이터셋 이용"
   ]
  },
  {
   "cell_type": "code",
   "execution_count": 88,
   "id": "3209a105",
   "metadata": {
    "ExecuteTime": {
     "end_time": "2022-06-30T11:11:19.552948Z",
     "start_time": "2022-06-30T11:11:19.527015Z"
    }
   },
   "outputs": [
    {
     "name": "stdout",
     "output_type": "stream",
     "text": [
      "0.9912023460410557 0.9824561403508771 0.956140350877193\n"
     ]
    }
   ],
   "source": [
    "from sklearn.svm import SVC\n",
    "from sklearn.metrics import accuracy_score\n",
    "# scaling 된 X_train_scaled 로 학습 및 평가\n",
    "# StandardScaler로 전처리된 데이터셋\n",
    "svc = SVC( random_state=0)\n",
    "#학습\n",
    "svc.fit(X_train_scaled1, y_train)\n",
    "#평가\n",
    "# 추론 -> 학습데이터셋(Train dataset)에 처리한 전처리를 똑같이 적용한 뒤 추론해야 한다. \n",
    "pred_train1 = svc.predict(X_train_scaled1)\n",
    "pred_val1 = svc.predict(X_val_scaled1)\n",
    "pred_test1 = svc.predict(X_test_scaled1)\n",
    "\n",
    "print(accuracy_score(y_train, pred_train1), accuracy_score(y_val, pred_val1), accuracy_score(y_test, pred_test1))"
   ]
  },
  {
   "cell_type": "markdown",
   "id": "2f712abd",
   "metadata": {},
   "source": [
    "##### MinMax Scaling 데이터셋 이용"
   ]
  },
  {
   "cell_type": "code",
   "execution_count": 89,
   "id": "4133615d",
   "metadata": {
    "ExecuteTime": {
     "end_time": "2022-06-30T11:11:41.454094Z",
     "start_time": "2022-06-30T11:11:41.433151Z"
    }
   },
   "outputs": [
    {
     "name": "stdout",
     "output_type": "stream",
     "text": [
      "0.9882697947214076 0.9824561403508771 0.956140350877193\n"
     ]
    }
   ],
   "source": [
    "# scaling 된 X_train_scaled 로 학습 및 평가\n",
    "# StandardScaler로 전처리된 데이터셋\n",
    "svc = SVC(random_state=0)\n",
    "#학습\n",
    "svc.fit(X_train_scaled2, y_train)\n",
    "#평가\n",
    "# 추론 -> 학습데이터셋(Train dataset)에 처리한 전처리를 똑같이 적용한 뒤 추론해야 한다. \n",
    "pred_train2 = svc.predict(X_train_scaled2)\n",
    "pred_val2 = svc.predict(X_val_scaled2)\n",
    "pred_test2 = svc.predict(X_test_scaled2)\n",
    "\n",
    "print(accuracy_score(y_train, pred_train2), accuracy_score(y_val, pred_val2), accuracy_score(y_test, pred_test2))"
   ]
  }
 ],
 "metadata": {
  "kernelspec": {
   "display_name": "Python 3 (ipykernel)",
   "language": "python",
   "name": "python3"
  },
  "language_info": {
   "codemirror_mode": {
    "name": "ipython",
    "version": 3
   },
   "file_extension": ".py",
   "mimetype": "text/x-python",
   "name": "python",
   "nbconvert_exporter": "python",
   "pygments_lexer": "ipython3",
   "version": "3.9.12"
  }
 },
 "nbformat": 4,
 "nbformat_minor": 5
}
