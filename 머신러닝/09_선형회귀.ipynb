{
 "cells": [
  {
   "cell_type": "markdown",
   "id": "678e6c2e",
   "metadata": {},
   "source": [
    "# 선형회귀 개요\n",
    "\n",
    "선형 회귀(線型回歸, Linear regression)는 종속 변수 y와 한 개 이상의 독립 변수X와의 선형 상관 관계를 모델링하는 회귀분석 기법. [위키백과](https://ko.wikipedia.org/wiki/%EC%84%A0%ED%98%95_%ED%9A%8C%EA%B7%80)"
   ]
  },
  {
   "cell_type": "markdown",
   "id": "55e87bf0",
   "metadata": {},
   "source": [
    "## 선형회귀 모델\n",
    "- 입력 Feature에 가중치(Weight)를 곱하고 편향(bias)를 더해 예측 결과를 출력한다.\n",
    "- Weight와 bias가 학습대상 Parameter가 된다.\n",
    "\n",
    "$$\n",
    "\\hat{y_i} = w_1 x_{i1} + w_2 x_{i2}... + w_{p} x_{ip} + b\n",
    "\\\\\n",
    "\\hat{y_i} = \\mathbf{w}^{T} \\cdot \\mathbf{X} \n",
    "$$\n",
    "\n",
    "- $\\hat{y_i}$: 예측값\n",
    "- $x$: 특성(feature-컬럼)\n",
    "- $w$: 가중치(weight), 회귀계수(regression coefficient). 특성이 $\\hat{y_i}$ 에 얼마나 영향을 주는지 정도\n",
    "- $b$: 절편\n",
    "- $p$: p 번째 특성(feature)/p번째 가중치\n",
    "- $i$: i번째 관측치(sample)"
   ]
  },
  {
   "cell_type": "markdown",
   "id": "60108778",
   "metadata": {},
   "source": [
    "## LinearRegression\n",
    "- 가장 기본적인 선형 회귀 모델\n",
    "\n",
    "### 데이터 전처리\n",
    "\n",
    "- **선형회귀 모델사용시 전처리**\n",
    "    - **범주형 Feature**\n",
    "        - : 원핫 인코딩\n",
    "    - **연속형 Feature**\n",
    "        - Feature Scaling을 통해서 각 컬럼들의 값의 단위를 맞춰준다.\n",
    "        - StandardScaler를 사용할 때 성능이 더 잘나오는 경향이 있다."
   ]
  },
  {
   "cell_type": "code",
   "execution_count": 60,
   "id": "3257466c",
   "metadata": {
    "ExecuteTime": {
     "end_time": "2022-07-10T08:39:08.217900Z",
     "start_time": "2022-07-10T08:39:08.169022Z"
    },
    "scrolled": true
   },
   "outputs": [
    {
     "name": "stderr",
     "output_type": "stream",
     "text": [
      "E:\\anaconda3\\envs\\ml\\lib\\site-packages\\sklearn\\utils\\deprecation.py:87: FutureWarning: Function load_boston is deprecated; `load_boston` is deprecated in 1.0 and will be removed in 1.2.\n",
      "\n",
      "    The Boston housing prices dataset has an ethical problem. You can refer to\n",
      "    the documentation of this function for further details.\n",
      "\n",
      "    The scikit-learn maintainers therefore strongly discourage the use of this\n",
      "    dataset unless the purpose of the code is to study and educate about\n",
      "    ethical issues in data science and machine learning.\n",
      "\n",
      "    In this special case, you can fetch the dataset from the original\n",
      "    source::\n",
      "\n",
      "        import pandas as pd\n",
      "        import numpy as np\n",
      "\n",
      "\n",
      "        data_url = \"http://lib.stat.cmu.edu/datasets/boston\"\n",
      "        raw_df = pd.read_csv(data_url, sep=\"\\s+\", skiprows=22, header=None)\n",
      "        data = np.hstack([raw_df.values[::2, :], raw_df.values[1::2, :2]])\n",
      "        target = raw_df.values[1::2, 2]\n",
      "\n",
      "    Alternative datasets include the California housing dataset (i.e.\n",
      "    :func:`~sklearn.datasets.fetch_california_housing`) and the Ames housing\n",
      "    dataset. You can load the datasets as follows::\n",
      "\n",
      "        from sklearn.datasets import fetch_california_housing\n",
      "        housing = fetch_california_housing()\n",
      "\n",
      "    for the California housing dataset and::\n",
      "\n",
      "        from sklearn.datasets import fetch_openml\n",
      "        housing = fetch_openml(name=\"house_prices\", as_frame=True)\n",
      "\n",
      "    for the Ames housing dataset.\n",
      "    \n",
      "  warnings.warn(msg, category=FutureWarning)\n"
     ]
    },
    {
     "data": {
      "text/html": [
       "<div>\n",
       "<style scoped>\n",
       "    .dataframe tbody tr th:only-of-type {\n",
       "        vertical-align: middle;\n",
       "    }\n",
       "\n",
       "    .dataframe tbody tr th {\n",
       "        vertical-align: top;\n",
       "    }\n",
       "\n",
       "    .dataframe thead th {\n",
       "        text-align: right;\n",
       "    }\n",
       "</style>\n",
       "<table border=\"1\" class=\"dataframe\">\n",
       "  <thead>\n",
       "    <tr style=\"text-align: right;\">\n",
       "      <th></th>\n",
       "      <th>CRIM</th>\n",
       "      <th>ZN</th>\n",
       "      <th>INDUS</th>\n",
       "      <th>CHAS</th>\n",
       "      <th>NOX</th>\n",
       "      <th>RM</th>\n",
       "      <th>AGE</th>\n",
       "      <th>DIS</th>\n",
       "      <th>RAD</th>\n",
       "      <th>TAX</th>\n",
       "      <th>PTRATIO</th>\n",
       "      <th>B</th>\n",
       "      <th>LSTAT</th>\n",
       "      <th>MEDV</th>\n",
       "    </tr>\n",
       "  </thead>\n",
       "  <tbody>\n",
       "    <tr>\n",
       "      <th>0</th>\n",
       "      <td>0.00632</td>\n",
       "      <td>18.0</td>\n",
       "      <td>2.31</td>\n",
       "      <td>0.0</td>\n",
       "      <td>0.538</td>\n",
       "      <td>6.575</td>\n",
       "      <td>65.2</td>\n",
       "      <td>4.0900</td>\n",
       "      <td>1.0</td>\n",
       "      <td>296.0</td>\n",
       "      <td>15.3</td>\n",
       "      <td>396.90</td>\n",
       "      <td>4.98</td>\n",
       "      <td>24.0</td>\n",
       "    </tr>\n",
       "    <tr>\n",
       "      <th>1</th>\n",
       "      <td>0.02731</td>\n",
       "      <td>0.0</td>\n",
       "      <td>7.07</td>\n",
       "      <td>0.0</td>\n",
       "      <td>0.469</td>\n",
       "      <td>6.421</td>\n",
       "      <td>78.9</td>\n",
       "      <td>4.9671</td>\n",
       "      <td>2.0</td>\n",
       "      <td>242.0</td>\n",
       "      <td>17.8</td>\n",
       "      <td>396.90</td>\n",
       "      <td>9.14</td>\n",
       "      <td>21.6</td>\n",
       "    </tr>\n",
       "    <tr>\n",
       "      <th>2</th>\n",
       "      <td>0.02729</td>\n",
       "      <td>0.0</td>\n",
       "      <td>7.07</td>\n",
       "      <td>0.0</td>\n",
       "      <td>0.469</td>\n",
       "      <td>7.185</td>\n",
       "      <td>61.1</td>\n",
       "      <td>4.9671</td>\n",
       "      <td>2.0</td>\n",
       "      <td>242.0</td>\n",
       "      <td>17.8</td>\n",
       "      <td>392.83</td>\n",
       "      <td>4.03</td>\n",
       "      <td>34.7</td>\n",
       "    </tr>\n",
       "    <tr>\n",
       "      <th>3</th>\n",
       "      <td>0.03237</td>\n",
       "      <td>0.0</td>\n",
       "      <td>2.18</td>\n",
       "      <td>0.0</td>\n",
       "      <td>0.458</td>\n",
       "      <td>6.998</td>\n",
       "      <td>45.8</td>\n",
       "      <td>6.0622</td>\n",
       "      <td>3.0</td>\n",
       "      <td>222.0</td>\n",
       "      <td>18.7</td>\n",
       "      <td>394.63</td>\n",
       "      <td>2.94</td>\n",
       "      <td>33.4</td>\n",
       "    </tr>\n",
       "    <tr>\n",
       "      <th>4</th>\n",
       "      <td>0.06905</td>\n",
       "      <td>0.0</td>\n",
       "      <td>2.18</td>\n",
       "      <td>0.0</td>\n",
       "      <td>0.458</td>\n",
       "      <td>7.147</td>\n",
       "      <td>54.2</td>\n",
       "      <td>6.0622</td>\n",
       "      <td>3.0</td>\n",
       "      <td>222.0</td>\n",
       "      <td>18.7</td>\n",
       "      <td>396.90</td>\n",
       "      <td>5.33</td>\n",
       "      <td>36.2</td>\n",
       "    </tr>\n",
       "  </tbody>\n",
       "</table>\n",
       "</div>"
      ],
      "text/plain": [
       "      CRIM    ZN  INDUS  CHAS    NOX     RM   AGE     DIS  RAD    TAX  \\\n",
       "0  0.00632  18.0   2.31   0.0  0.538  6.575  65.2  4.0900  1.0  296.0   \n",
       "1  0.02731   0.0   7.07   0.0  0.469  6.421  78.9  4.9671  2.0  242.0   \n",
       "2  0.02729   0.0   7.07   0.0  0.469  7.185  61.1  4.9671  2.0  242.0   \n",
       "3  0.03237   0.0   2.18   0.0  0.458  6.998  45.8  6.0622  3.0  222.0   \n",
       "4  0.06905   0.0   2.18   0.0  0.458  7.147  54.2  6.0622  3.0  222.0   \n",
       "\n",
       "   PTRATIO       B  LSTAT  MEDV  \n",
       "0     15.3  396.90   4.98  24.0  \n",
       "1     17.8  396.90   9.14  21.6  \n",
       "2     17.8  392.83   4.03  34.7  \n",
       "3     18.7  394.63   2.94  33.4  \n",
       "4     18.7  396.90   5.33  36.2  "
      ]
     },
     "execution_count": 60,
     "metadata": {},
     "output_type": "execute_result"
    }
   ],
   "source": [
    "import pandas as pd\n",
    "import numpy as np\n",
    "from sklearn.datasets import load_boston\n",
    "\n",
    "boston = load_boston()\n",
    "X, y = boston.data, boston.target\n",
    "\n",
    "df = pd.DataFrame(X, columns=boston.feature_names)\n",
    "df['MEDV'] = y\n",
    "df.head()"
   ]
  },
  {
   "cell_type": "markdown",
   "id": "bb8d2198",
   "metadata": {},
   "source": [
    "#####  CHAS Feature 원핫인코딩"
   ]
  },
  {
   "cell_type": "code",
   "execution_count": 85,
   "id": "b80b7a77",
   "metadata": {
    "ExecuteTime": {
     "end_time": "2022-07-10T08:45:26.241343Z",
     "start_time": "2022-07-10T08:45:26.195853Z"
    }
   },
   "outputs": [
    {
     "data": {
      "text/html": [
       "<div>\n",
       "<style scoped>\n",
       "    .dataframe tbody tr th:only-of-type {\n",
       "        vertical-align: middle;\n",
       "    }\n",
       "\n",
       "    .dataframe tbody tr th {\n",
       "        vertical-align: top;\n",
       "    }\n",
       "\n",
       "    .dataframe thead th {\n",
       "        text-align: right;\n",
       "    }\n",
       "</style>\n",
       "<table border=\"1\" class=\"dataframe\">\n",
       "  <thead>\n",
       "    <tr style=\"text-align: right;\">\n",
       "      <th></th>\n",
       "      <th>CRIM</th>\n",
       "      <th>ZN</th>\n",
       "      <th>INDUS</th>\n",
       "      <th>NOX</th>\n",
       "      <th>RM</th>\n",
       "      <th>AGE</th>\n",
       "      <th>DIS</th>\n",
       "      <th>RAD</th>\n",
       "      <th>TAX</th>\n",
       "      <th>PTRATIO</th>\n",
       "      <th>B</th>\n",
       "      <th>LSTAT</th>\n",
       "      <th>MEDV</th>\n",
       "      <th>CHAS_0.0</th>\n",
       "      <th>CHAS_1.0</th>\n",
       "    </tr>\n",
       "  </thead>\n",
       "  <tbody>\n",
       "    <tr>\n",
       "      <th>0</th>\n",
       "      <td>0.00632</td>\n",
       "      <td>18.0</td>\n",
       "      <td>2.31</td>\n",
       "      <td>0.538</td>\n",
       "      <td>6.575</td>\n",
       "      <td>65.2</td>\n",
       "      <td>4.0900</td>\n",
       "      <td>1.0</td>\n",
       "      <td>296.0</td>\n",
       "      <td>15.3</td>\n",
       "      <td>396.90</td>\n",
       "      <td>4.98</td>\n",
       "      <td>24.0</td>\n",
       "      <td>1</td>\n",
       "      <td>0</td>\n",
       "    </tr>\n",
       "    <tr>\n",
       "      <th>1</th>\n",
       "      <td>0.02731</td>\n",
       "      <td>0.0</td>\n",
       "      <td>7.07</td>\n",
       "      <td>0.469</td>\n",
       "      <td>6.421</td>\n",
       "      <td>78.9</td>\n",
       "      <td>4.9671</td>\n",
       "      <td>2.0</td>\n",
       "      <td>242.0</td>\n",
       "      <td>17.8</td>\n",
       "      <td>396.90</td>\n",
       "      <td>9.14</td>\n",
       "      <td>21.6</td>\n",
       "      <td>1</td>\n",
       "      <td>0</td>\n",
       "    </tr>\n",
       "    <tr>\n",
       "      <th>2</th>\n",
       "      <td>0.02729</td>\n",
       "      <td>0.0</td>\n",
       "      <td>7.07</td>\n",
       "      <td>0.469</td>\n",
       "      <td>7.185</td>\n",
       "      <td>61.1</td>\n",
       "      <td>4.9671</td>\n",
       "      <td>2.0</td>\n",
       "      <td>242.0</td>\n",
       "      <td>17.8</td>\n",
       "      <td>392.83</td>\n",
       "      <td>4.03</td>\n",
       "      <td>34.7</td>\n",
       "      <td>1</td>\n",
       "      <td>0</td>\n",
       "    </tr>\n",
       "    <tr>\n",
       "      <th>3</th>\n",
       "      <td>0.03237</td>\n",
       "      <td>0.0</td>\n",
       "      <td>2.18</td>\n",
       "      <td>0.458</td>\n",
       "      <td>6.998</td>\n",
       "      <td>45.8</td>\n",
       "      <td>6.0622</td>\n",
       "      <td>3.0</td>\n",
       "      <td>222.0</td>\n",
       "      <td>18.7</td>\n",
       "      <td>394.63</td>\n",
       "      <td>2.94</td>\n",
       "      <td>33.4</td>\n",
       "      <td>1</td>\n",
       "      <td>0</td>\n",
       "    </tr>\n",
       "    <tr>\n",
       "      <th>4</th>\n",
       "      <td>0.06905</td>\n",
       "      <td>0.0</td>\n",
       "      <td>2.18</td>\n",
       "      <td>0.458</td>\n",
       "      <td>7.147</td>\n",
       "      <td>54.2</td>\n",
       "      <td>6.0622</td>\n",
       "      <td>3.0</td>\n",
       "      <td>222.0</td>\n",
       "      <td>18.7</td>\n",
       "      <td>396.90</td>\n",
       "      <td>5.33</td>\n",
       "      <td>36.2</td>\n",
       "      <td>1</td>\n",
       "      <td>0</td>\n",
       "    </tr>\n",
       "  </tbody>\n",
       "</table>\n",
       "</div>"
      ],
      "text/plain": [
       "      CRIM    ZN  INDUS    NOX     RM   AGE     DIS  RAD    TAX  PTRATIO  \\\n",
       "0  0.00632  18.0   2.31  0.538  6.575  65.2  4.0900  1.0  296.0     15.3   \n",
       "1  0.02731   0.0   7.07  0.469  6.421  78.9  4.9671  2.0  242.0     17.8   \n",
       "2  0.02729   0.0   7.07  0.469  7.185  61.1  4.9671  2.0  242.0     17.8   \n",
       "3  0.03237   0.0   2.18  0.458  6.998  45.8  6.0622  3.0  222.0     18.7   \n",
       "4  0.06905   0.0   2.18  0.458  7.147  54.2  6.0622  3.0  222.0     18.7   \n",
       "\n",
       "        B  LSTAT  MEDV  CHAS_0.0  CHAS_1.0  \n",
       "0  396.90   4.98  24.0         1         0  \n",
       "1  396.90   9.14  21.6         1         0  \n",
       "2  392.83   4.03  34.7         1         0  \n",
       "3  394.63   2.94  33.4         1         0  \n",
       "4  396.90   5.33  36.2         1         0  "
      ]
     },
     "execution_count": 85,
     "metadata": {},
     "output_type": "execute_result"
    }
   ],
   "source": [
    "df2 = pd.get_dummies(df, columns=['CHAS'])#, drop_first=True)\n",
    "df2.head()"
   ]
  },
  {
   "cell_type": "markdown",
   "id": "d2a60744",
   "metadata": {},
   "source": [
    "##### X, y 분리, train/test set 나누기"
   ]
  },
  {
   "cell_type": "code",
   "execution_count": 86,
   "id": "397681e3",
   "metadata": {
    "ExecuteTime": {
     "end_time": "2022-07-10T08:45:26.923580Z",
     "start_time": "2022-07-10T08:45:26.898646Z"
    }
   },
   "outputs": [
    {
     "data": {
      "text/plain": [
       "((379, 14), (127, 14))"
      ]
     },
     "execution_count": 86,
     "metadata": {},
     "output_type": "execute_result"
    }
   ],
   "source": [
    "y = df2['MEDV']\n",
    "X = df2.drop(columns='MEDV')\n",
    "X.shape, y.shape\n",
    "\n",
    "from sklearn.model_selection import train_test_split\n",
    "X_train, X_test, y_train, y_test = train_test_split(X, y, random_state=0)  #회귀: stratify를 설정하지 않는다.\n",
    "X_train.shape, X_test.shape"
   ]
  },
  {
   "cell_type": "markdown",
   "id": "5e99a804",
   "metadata": {},
   "source": [
    "##### Feature scaling"
   ]
  },
  {
   "cell_type": "code",
   "execution_count": 87,
   "id": "37ee803e",
   "metadata": {
    "ExecuteTime": {
     "end_time": "2022-07-10T08:45:27.859076Z",
     "start_time": "2022-07-10T08:45:27.835139Z"
    }
   },
   "outputs": [],
   "source": [
    "from sklearn.preprocessing import StandardScaler, MinMaxScaler\n",
    "\n",
    "scaler = StandardScaler()\n",
    "X_train_scaled = scaler.fit_transform(X_train)\n",
    "X_test_scaled = scaler.transform(X_test)"
   ]
  },
  {
   "cell_type": "markdown",
   "id": "2a62a1c4",
   "metadata": {},
   "source": [
    "##### 모델 생성, 학습, 추론"
   ]
  },
  {
   "cell_type": "code",
   "execution_count": 88,
   "id": "3e80a21a",
   "metadata": {
    "ExecuteTime": {
     "end_time": "2022-07-10T08:45:28.179218Z",
     "start_time": "2022-07-10T08:45:28.154285Z"
    }
   },
   "outputs": [
    {
     "data": {
      "text/plain": [
       "LinearRegression()"
      ]
     },
     "execution_count": 88,
     "metadata": {},
     "output_type": "execute_result"
    }
   ],
   "source": [
    "from sklearn.linear_model import LinearRegression\n",
    "\n",
    "lr = LinearRegression()\n",
    "lr.fit(X_train_scaled, y_train)"
   ]
  },
  {
   "cell_type": "code",
   "execution_count": 89,
   "id": "fb5f7909",
   "metadata": {
    "ExecuteTime": {
     "end_time": "2022-07-10T08:45:28.361732Z",
     "start_time": "2022-07-10T08:45:28.341783Z"
    }
   },
   "outputs": [
    {
     "data": {
      "text/plain": [
       "22.608707124010557"
      ]
     },
     "execution_count": 89,
     "metadata": {},
     "output_type": "execute_result"
    }
   ],
   "source": [
    "# bias\n",
    "lr.intercept_"
   ]
  },
  {
   "cell_type": "code",
   "execution_count": 90,
   "id": "a88a1162",
   "metadata": {
    "ExecuteTime": {
     "end_time": "2022-07-10T08:45:28.513836Z",
     "start_time": "2022-07-10T08:45:28.500871Z"
    }
   },
   "outputs": [
    {
     "data": {
      "text/plain": [
       "array([-0.97100092,  1.04667838, -0.04044753, -1.80876877,  2.60991991,\n",
       "       -0.19823317, -3.00216551,  2.08021582, -1.93289037, -2.15743759,\n",
       "        0.75199122, -3.59027047, -0.29704388,  0.29704388])"
      ]
     },
     "execution_count": 90,
     "metadata": {},
     "output_type": "execute_result"
    }
   ],
   "source": [
    "# 각 feature 에 곱해주는 가중치(weight, coefficient)\n",
    "lr.coef_"
   ]
  },
  {
   "cell_type": "markdown",
   "id": "db1aa14a",
   "metadata": {},
   "source": [
    "### Coeficient의 부호\n",
    "- weight가 \n",
    "- 양수: Feature가 1 증가할때 y(집값)도 weight만큼 증가한다.\n",
    "- 음수: Feature가 1 증가할때 y(집값)도 weight만큼 감소한다.\n",
    "- 절대값 기준으로 0에 가까울 수록 집값에 영향을 주지 않고 크면 클수록(0에서 멀어질 수록) 집값에 영향을 많이 주는 Feature 란 의미가 된다."
   ]
  },
  {
   "cell_type": "code",
   "execution_count": 91,
   "id": "248d7b10",
   "metadata": {
    "ExecuteTime": {
     "end_time": "2022-07-10T08:45:28.842632Z",
     "start_time": "2022-07-10T08:45:28.832658Z"
    }
   },
   "outputs": [
    {
     "data": {
      "text/plain": [
       "CRIM       -0.971001\n",
       "ZN          1.046678\n",
       "INDUS      -0.040448\n",
       "NOX        -1.808769\n",
       "RM          2.609920\n",
       "AGE        -0.198233\n",
       "DIS        -3.002166\n",
       "RAD         2.080216\n",
       "TAX        -1.932890\n",
       "PTRATIO    -2.157438\n",
       "B           0.751991\n",
       "LSTAT      -3.590270\n",
       "CHAS_0.0   -0.297044\n",
       "CHAS_1.0    0.297044\n",
       "dtype: float64"
      ]
     },
     "execution_count": 91,
     "metadata": {},
     "output_type": "execute_result"
    }
   ],
   "source": [
    "pd.Series(lr.coef_, index=X_train.columns)"
   ]
  },
  {
   "cell_type": "markdown",
   "id": "5e95dc10",
   "metadata": {},
   "source": [
    "##### 평가"
   ]
  },
  {
   "cell_type": "code",
   "execution_count": 92,
   "id": "6367972c",
   "metadata": {
    "ExecuteTime": {
     "end_time": "2022-07-10T08:45:29.205661Z",
     "start_time": "2022-07-10T08:45:29.186713Z"
    }
   },
   "outputs": [],
   "source": [
    "def print_regression_metrics(y, y_pred, title=None):\n",
    "    '''\n",
    "    회귀에대한 평가지표를 출력하는 함수\n",
    "    mse, rmse, r2 값을 계산해서 출력\n",
    "    [Parameter]\n",
    "        y: ndarray - 정답배열\n",
    "        y_pred: ndarray - 모델이 예측한 배열\n",
    "        title: str - 제목\n",
    "    '''\n",
    "    mse = mean_squared_error(y, y_pred)\n",
    "    rmse = mean_squared_error(y, y_pred, squared=False)\n",
    "    r2 = r2_score(y, y_pred)\n",
    "    if title:\n",
    "        print(title)\n",
    "    print(f\"MSE:{mse}, RMSE:{rmse}, R Square:{r2}\")\n",
    "    "
   ]
  },
  {
   "cell_type": "code",
   "execution_count": 93,
   "id": "c656b120",
   "metadata": {
    "ExecuteTime": {
     "end_time": "2022-07-10T08:45:29.375211Z",
     "start_time": "2022-07-10T08:45:29.361245Z"
    },
    "scrolled": true
   },
   "outputs": [
    {
     "name": "stdout",
     "output_type": "stream",
     "text": [
      "LinearRegressor: Train\n",
      "MSE:19.640519427908046, RMSE:4.4317625644779355, R Square:0.7697699488741149\n",
      "LinearRegressor: Test\n",
      "MSE:29.782245092302407, RMSE:5.457311159564059, R Square:0.6354638433202124\n"
     ]
    }
   ],
   "source": [
    "from sklearn.metrics import mean_squared_error, r2_score\n",
    "pred_train = lr.predict(X_train_scaled)\n",
    "pred_test = lr.predict(X_test_scaled)\n",
    "\n",
    "print_regression_metrics(y_train, pred_train, title='LinearRegressor: Train')\n",
    "print_regression_metrics(y_test, pred_test, title=\"LinearRegressor: Test\")"
   ]
  },
  {
   "cell_type": "code",
   "execution_count": 94,
   "id": "9f320f46",
   "metadata": {
    "ExecuteTime": {
     "end_time": "2022-07-10T08:45:29.580677Z",
     "start_time": "2022-07-10T08:45:29.561712Z"
    }
   },
   "outputs": [
    {
     "name": "stdout",
     "output_type": "stream",
     "text": [
      "정답: [22.6 50.  23.   8.3 21.2]\n",
      "예측: [24.95233283 23.61699724 29.20588553 11.96070515 21.33362042]\n"
     ]
    }
   ],
   "source": [
    "print('정답:', y_test[:5].values)\n",
    "print('예측:', pred_test[:5])"
   ]
  },
  {
   "cell_type": "code",
   "execution_count": 95,
   "id": "4ae6e02a",
   "metadata": {
    "ExecuteTime": {
     "end_time": "2022-07-10T08:45:30.002403Z",
     "start_time": "2022-07-10T08:45:29.722279Z"
    }
   },
   "outputs": [
    {
     "data": {
      "image/png": "[encoded data removed]",
      "text/plain": [
       "<Figure size 1440x504 with 1 Axes>"
      ]
     },
     "metadata": {
      "needs_background": "light"
     },
     "output_type": "display_data"
    }
   ],
   "source": [
    "import matplotlib.pyplot as plt\n",
    "plt.figure(figsize=(20, 7))\n",
    "plt.plot(range(len(y_test)), y_test, label='MEDV', marker='x')\n",
    "plt.plot(range(len(y_test)), pred_test, label='Pred', marker='o')\n",
    "plt.legend()\n",
    "plt.show()"
   ]
  },
  {
   "cell_type": "markdown",
   "id": "01a79f6d",
   "metadata": {},
   "source": [
    "# 다항회귀 (Polynomial Regression)\n",
    "- 단순한 직선형 보다 복잡한 비선형의 데이터셋을 학습하기 위한 방식.\n",
    "    - Feature가 너무 적어 y의 값들을 다 표현 하지 못하여 underfitting이 된 경우 Feature를 늘려준다.\n",
    "- 각 Feature들을 거듭제곱한 것과 Feature들 끼리 곱한 새로운 특성들을 추가한 뒤 선형모델로 훈련시킨다.\n",
    "    - 파라미터 가중치를 기준으로는 일차식이 되어 선형모델이다. 파라미터(Coef, weight)들을 기준으로는 N차식이 되어 비선형 데이터를 추론할 수 있는 모델이 된다.\n",
    "- `PolynomialFeatures` Transformer를 사용해서 변환한다."
   ]
  },
  {
   "cell_type": "markdown",
   "id": "3b17ab0b",
   "metadata": {},
   "source": [
    "##### PolynomialFeatures를 이용해 다항회귀 구현\n",
    "- PolynomialFeautres: Transformer(변환기)\n",
    "    - 기존 Feature에 N제곱한 Feature들을 생성해주는 변환기"
   ]
  },
  {
   "cell_type": "code",
   "execution_count": 96,
   "id": "7dded54e",
   "metadata": {
    "ExecuteTime": {
     "end_time": "2022-07-10T08:45:30.286241Z",
     "start_time": "2022-07-10T08:45:30.265297Z"
    }
   },
   "outputs": [
    {
     "name": "stdout",
     "output_type": "stream",
     "text": [
      "(100, 1) (100,)\n"
     ]
    }
   ],
   "source": [
    "import numpy as np\n",
    "import pandas as pd\n",
    "import matplotlib.pyplot as plt\n",
    "\n",
    "np.random.seed(0)\n",
    "\n",
    "m = 100   # 데이터개수\n",
    "X = 6 * np.random.rand(m, 1) - 3   #X: feature(1개)\n",
    "y = X**2 + X + 2 + np.random.normal(0,1, size=(m,1))  # y: Target\n",
    "y = y.flatten()\n",
    "print(X.shape, y.shape)"
   ]
  },
  {
   "cell_type": "code",
   "execution_count": 97,
   "id": "11849fc9",
   "metadata": {
    "ExecuteTime": {
     "end_time": "2022-07-10T08:45:30.458780Z",
     "start_time": "2022-07-10T08:45:30.450800Z"
    }
   },
   "outputs": [],
   "source": [
    "from sklearn.preprocessing import PolynomialFeatures"
   ]
  },
  {
   "cell_type": "code",
   "execution_count": 98,
   "id": "3cda4ae5",
   "metadata": {
    "ExecuteTime": {
     "end_time": "2022-07-10T08:45:30.661019Z",
     "start_time": "2022-07-10T08:45:30.645060Z"
    }
   },
   "outputs": [],
   "source": [
    "poly_f = PolynomialFeatures(degree=2,  # 생성할 Feature의 최고차항 차수를 지정. (2: X + X**2,   3: X + X**2, X**3)\n",
    "                            include_bias=False) # 상수항을 추가할 것인지 여부 (True: 모든값이 1인 Feature가 추가.)\n",
    "X_poly = poly_f.fit_transform(X)"
   ]
  },
  {
   "cell_type": "code",
   "execution_count": 99,
   "id": "0c55e3e2",
   "metadata": {
    "ExecuteTime": {
     "end_time": "2022-07-10T08:45:30.847940Z",
     "start_time": "2022-07-10T08:45:30.833977Z"
    }
   },
   "outputs": [
    {
     "data": {
      "text/plain": [
       "((100, 1), (100, 2))"
      ]
     },
     "execution_count": 99,
     "metadata": {},
     "output_type": "execute_result"
    }
   ],
   "source": [
    "X.shape, X_poly.shape"
   ]
  },
  {
   "cell_type": "code",
   "execution_count": 100,
   "id": "f9e92452",
   "metadata": {
    "ExecuteTime": {
     "end_time": "2022-07-10T08:45:31.036947Z",
     "start_time": "2022-07-10T08:45:31.026971Z"
    }
   },
   "outputs": [
    {
     "data": {
      "text/plain": [
       "array([[ 0.29288102],\n",
       "       [ 1.2911362 ],\n",
       "       [ 0.61658026],\n",
       "       [ 0.2692991 ],\n",
       "       [-0.4580712 ]])"
      ]
     },
     "execution_count": 100,
     "metadata": {},
     "output_type": "execute_result"
    }
   ],
   "source": [
    "X[:5]"
   ]
  },
  {
   "cell_type": "code",
   "execution_count": 101,
   "id": "43cf9294",
   "metadata": {
    "ExecuteTime": {
     "end_time": "2022-07-10T08:45:31.254364Z",
     "start_time": "2022-07-10T08:45:31.244389Z"
    }
   },
   "outputs": [
    {
     "data": {
      "text/plain": [
       "array([[ 0.29288102,  0.08577929],\n",
       "       [ 1.2911362 ,  1.66703268],\n",
       "       [ 0.61658026,  0.38017121],\n",
       "       [ 0.2692991 ,  0.072522  ],\n",
       "       [-0.4580712 ,  0.20982923]])"
      ]
     },
     "execution_count": 101,
     "metadata": {},
     "output_type": "execute_result"
    }
   ],
   "source": [
    "X_poly[:5]"
   ]
  },
  {
   "cell_type": "code",
   "execution_count": 102,
   "id": "b345d44a",
   "metadata": {
    "ExecuteTime": {
     "end_time": "2022-07-10T08:45:31.606441Z",
     "start_time": "2022-07-10T08:45:31.594458Z"
    }
   },
   "outputs": [
    {
     "data": {
      "text/plain": [
       "array(['x0', 'x0^2'], dtype=object)"
      ]
     },
     "execution_count": 102,
     "metadata": {},
     "output_type": "execute_result"
    }
   ],
   "source": [
    "poly_f.get_feature_names_out()  #각 feature를 어떤 계산을 통해서 만들었는지 알려준다."
   ]
  },
  {
   "cell_type": "markdown",
   "id": "67ae1f57",
   "metadata": {},
   "source": [
    "##### LinearRegression 모델을 이용해 평가"
   ]
  },
  {
   "cell_type": "code",
   "execution_count": 103,
   "id": "2f4dfcc0",
   "metadata": {
    "ExecuteTime": {
     "end_time": "2022-07-10T08:45:32.243253Z",
     "start_time": "2022-07-10T08:45:32.233279Z"
    }
   },
   "outputs": [
    {
     "data": {
      "text/plain": [
       "LinearRegression()"
      ]
     },
     "execution_count": 103,
     "metadata": {},
     "output_type": "execute_result"
    }
   ],
   "source": [
    "lr2 = LinearRegression()\n",
    "lr2.fit(X_poly, y)"
   ]
  },
  {
   "cell_type": "code",
   "execution_count": 104,
   "id": "70239a63",
   "metadata": {
    "ExecuteTime": {
     "end_time": "2022-07-10T08:45:32.589157Z",
     "start_time": "2022-07-10T08:45:32.577189Z"
    }
   },
   "outputs": [
    {
     "name": "stdout",
     "output_type": "stream",
     "text": [
      "[0.97906552 0.94978823] 2.340500756262887\n"
     ]
    }
   ],
   "source": [
    "print(lr2.coef_, lr2.intercept_)"
   ]
  },
  {
   "cell_type": "code",
   "execution_count": 107,
   "id": "dbbf8da9",
   "metadata": {
    "ExecuteTime": {
     "end_time": "2022-07-10T08:46:47.921635Z",
     "start_time": "2022-07-10T08:46:47.897675Z"
    },
    "scrolled": true
   },
   "outputs": [
    {
     "name": "stdout",
     "output_type": "stream",
     "text": [
      "다항회귀\n",
      "MSE:0.9735576723414217, RMSE:0.9866902616026073, R Square:0.8981478985551461\n",
      "변환없이\n",
      "MSE:7.729204760808937, RMSE:2.7801447373848966, R Square:0.19138252437306003\n"
     ]
    }
   ],
   "source": [
    "pred2 = lr2.predict(X_poly)\n",
    "print_regression_metrics(y, pred2, title=\"다항회귀\")\n",
    "print_regression_metrics(y, lr3.predict(X), title=\"변환없이\")"
   ]
  },
  {
   "cell_type": "markdown",
   "id": "a2363393",
   "metadata": {},
   "source": [
    "##### 시각화"
   ]
  },
  {
   "cell_type": "code",
   "execution_count": 51,
   "id": "b427f9b3",
   "metadata": {
    "ExecuteTime": {
     "end_time": "2022-07-10T08:35:22.736797Z",
     "start_time": "2022-07-10T08:35:22.714854Z"
    }
   },
   "outputs": [
    {
     "data": {
      "text/plain": [
       "LinearRegression()"
      ]
     },
     "execution_count": 51,
     "metadata": {},
     "output_type": "execute_result"
    }
   ],
   "source": [
    "lr3 = LinearRegression()\n",
    "lr3.fit(X,y)"
   ]
  },
  {
   "cell_type": "code",
   "execution_count": 46,
   "id": "fdde8073",
   "metadata": {
    "ExecuteTime": {
     "end_time": "2022-07-10T08:30:41.997578Z",
     "start_time": "2022-07-10T08:30:41.979626Z"
    }
   },
   "outputs": [],
   "source": [
    "X_new = np.linspace(-3,3,100).reshape(-1, 1)\n",
    "X_new_poly = poly_f.transform(X_new)\n",
    "pred_new2 = lr2.predict(X_new_poly)"
   ]
  },
  {
   "cell_type": "code",
   "execution_count": 52,
   "id": "fd37d2b2",
   "metadata": {
    "ExecuteTime": {
     "end_time": "2022-07-10T08:35:27.806458Z",
     "start_time": "2022-07-10T08:35:27.594388Z"
    }
   },
   "outputs": [
    {
     "data": {
      "image/png": "[encoded data removed]",
      "text/plain": [
       "<Figure size 504x432 with 1 Axes>"
      ]
     },
     "metadata": {
      "needs_background": "light"
     },
     "output_type": "display_data"
    }
   ],
   "source": [
    "plt.figure(figsize=(7,6))\n",
    "\n",
    "plt.scatter(X, y)  # 원래 데이터셋\n",
    "plt.plot(X_new, pred_new2, color='red', label='변환후')  # -3 ~ 3 사이의 값을 이용해서 추론한 결과\n",
    "\n",
    "plt.plot(X_new, lr3.predict(X_new), color='green', label='변환전')\n",
    "\n",
    "plt.legend()\n",
    "plt.grid(True)\n",
    "plt.show()"
   ]
  },
  {
   "cell_type": "markdown",
   "id": "d292c197",
   "metadata": {},
   "source": [
    "## degree를 크게\n",
    "- Feature가 너무 많으면 Overfitting 문제가 생긴다."
   ]
  },
  {
   "cell_type": "code",
   "execution_count": 53,
   "id": "78c252be",
   "metadata": {
    "ExecuteTime": {
     "end_time": "2022-07-10T08:36:15.086547Z",
     "start_time": "2022-07-10T08:36:15.065623Z"
    }
   },
   "outputs": [
    {
     "data": {
      "text/plain": [
       "((100, 100), (100, 1))"
      ]
     },
     "execution_count": 53,
     "metadata": {},
     "output_type": "execute_result"
    }
   ],
   "source": [
    "pnf = PolynomialFeatures(degree=100, include_bias=False)\n",
    "X_train_poly_100 = pnf.fit_transform(X)\n",
    "X_train_poly_100.shape, X.shape"
   ]
  },
  {
   "cell_type": "code",
   "execution_count": 54,
   "id": "466a193f",
   "metadata": {
    "ExecuteTime": {
     "end_time": "2022-07-10T08:36:52.101641Z",
     "start_time": "2022-07-10T08:36:52.081691Z"
    }
   },
   "outputs": [
    {
     "data": {
      "text/plain": [
       "LinearRegression()"
      ]
     },
     "execution_count": 54,
     "metadata": {},
     "output_type": "execute_result"
    }
   ],
   "source": [
    "lr = LinearRegression()\n",
    "lr.fit(X_train_poly_100, y)"
   ]
  },
  {
   "cell_type": "code",
   "execution_count": 55,
   "id": "f1ffe295",
   "metadata": {
    "ExecuteTime": {
     "end_time": "2022-07-10T08:37:47.313892Z",
     "start_time": "2022-07-10T08:37:47.305913Z"
    }
   },
   "outputs": [],
   "source": [
    "X_new = np.linspace(-3,3,100).reshape(-1, 1)\n",
    "X_new_poly_100 = pnf.transform(X_new)\n",
    "pred_new_100 = lr.predict(X_new_poly_100)"
   ]
  },
  {
   "cell_type": "code",
   "execution_count": 56,
   "id": "6a3e6eeb",
   "metadata": {
    "ExecuteTime": {
     "end_time": "2022-07-10T08:37:54.366410Z",
     "start_time": "2022-07-10T08:37:54.192875Z"
    }
   },
   "outputs": [
    {
     "data": {
      "image/png": "[encoded data removed]",
      "text/plain": [
       "<Figure size 504x432 with 1 Axes>"
      ]
     },
     "metadata": {
      "needs_background": "light"
     },
     "output_type": "display_data"
    }
   ],
   "source": [
    "plt.figure(figsize=(7,6))\n",
    "plt.scatter(X, y)\n",
    "plt.plot(X_new, pred_new_100, color='r', alpha=0.5)\n",
    "plt.show()"
   ]
  },
  {
   "cell_type": "markdown",
   "id": "d22b8645",
   "metadata": {},
   "source": [
    "## 규제 (Regularization) \n",
    "- 선형 회귀 모델에서 과대적합(Overfitting) 문제를 해결하기 위해 가중치(회귀계수)에 페널티 값을 적용한다.\n",
    "- 입력데이터의 Feature들이 너무 많은 경우 Overfitting이 발생.\n",
    "    - Feature수에 비해 관측치 수가 적은 경우 모델이 복잡해 지면서 Overfitting이 발생한다.\n",
    "- 해결\n",
    "    - 데이터를 더 수집한다. \n",
    "    - Feature selection\n",
    "        - 불필요한 Features들을 제거한다.\n",
    "    - 규제 (Regularization) 을 통해 Feature들에 곱해지는 가중치가 커지지 않도록 제한한다.(0에 가까운 값으로 만들어 준다.)\n",
    "        - L1 규제 (Lasso)\n",
    "        - L2 규제 (Ridge)\n",
    "    "
   ]
  },
  {
   "cell_type": "markdown",
   "id": "05ab3f01",
   "metadata": {},
   "source": [
    "## Ridge Regression (L2규제)\n",
    "- 손실함수(loss function)에 규제항으로 $\\alpha \\sum_{i=1}^{n}{w_{i}^{2}}$ (L2 Norm)을 더해준다.\n",
    "- $\\alpha$는 하이퍼파라미터로 모델을 얼마나 많이 규제할지 조절한다. \n",
    "    - $\\alpha = 0$ 에 가까울수록 규제가 약해진다. (0일 경우 선형 회귀동일)\n",
    "    - $\\alpha$ 가 커질 수록 모든 가중치가 작아져 입력데이터의 Feature들 중 중요하지 않은 Feature의 예측에 대한 영향력이 작아지게 된다.\n",
    "\n",
    "$$\n",
    "\\text{손실함수}(w) = \\text{MSE}(w) + \\alpha \\cfrac{1}{2}\\sum_{i=1}^{n}{w_{i}^{2}}\n",
    "$$\n",
    "\n",
    "> **손실함수(Loss Function):** 모델의 예측한 값과 실제값 사이의 차이를 정의하는 함수로 모델이 학습할 때 사용된다."
   ]
  },
  {
   "cell_type": "markdown",
   "id": "05e06ab0",
   "metadata": {},
   "source": [
    "### 예제"
   ]
  },
  {
   "cell_type": "code",
   "execution_count": 108,
   "id": "6aabdfbc",
   "metadata": {
    "ExecuteTime": {
     "end_time": "2022-07-10T08:51:40.494420Z",
     "start_time": "2022-07-10T08:51:40.472477Z"
    },
    "collapsed": true
   },
   "outputs": [
    {
     "name": "stderr",
     "output_type": "stream",
     "text": [
      "E:\\anaconda3\\envs\\ml\\lib\\site-packages\\sklearn\\utils\\deprecation.py:87: FutureWarning: Function load_boston is deprecated; `load_boston` is deprecated in 1.0 and will be removed in 1.2.\n",
      "\n",
      "    The Boston housing prices dataset has an ethical problem. You can refer to\n",
      "    the documentation of this function for further details.\n",
      "\n",
      "    The scikit-learn maintainers therefore strongly discourage the use of this\n",
      "    dataset unless the purpose of the code is to study and educate about\n",
      "    ethical issues in data science and machine learning.\n",
      "\n",
      "    In this special case, you can fetch the dataset from the original\n",
      "    source::\n",
      "\n",
      "        import pandas as pd\n",
      "        import numpy as np\n",
      "\n",
      "\n",
      "        data_url = \"http://lib.stat.cmu.edu/datasets/boston\"\n",
      "        raw_df = pd.read_csv(data_url, sep=\"\\s+\", skiprows=22, header=None)\n",
      "        data = np.hstack([raw_df.values[::2, :], raw_df.values[1::2, :2]])\n",
      "        target = raw_df.values[1::2, 2]\n",
      "\n",
      "    Alternative datasets include the California housing dataset (i.e.\n",
      "    :func:`~sklearn.datasets.fetch_california_housing`) and the Ames housing\n",
      "    dataset. You can load the datasets as follows::\n",
      "\n",
      "        from sklearn.datasets import fetch_california_housing\n",
      "        housing = fetch_california_housing()\n",
      "\n",
      "    for the California housing dataset and::\n",
      "\n",
      "        from sklearn.datasets import fetch_openml\n",
      "        housing = fetch_openml(name=\"house_prices\", as_frame=True)\n",
      "\n",
      "    for the Ames housing dataset.\n",
      "    \n",
      "  warnings.warn(msg, category=FutureWarning)\n"
     ]
    }
   ],
   "source": [
    "from sklearn.datasets import load_boston\n",
    "from sklearn.preprocessing import StandardScaler\n",
    "\n",
    "data = load_boston()\n",
    "X, y = data['data'], data['target']\n",
    "X_train, X_test, y_train, y_test = train_test_split(X, y, random_state=0)\n",
    "\n",
    "scaler = StandardScaler()\n",
    "X_train_scaled = scaler.fit_transform(X_train)\n",
    "X_test_scaled = scaler.transform(X_test)"
   ]
  },
  {
   "cell_type": "code",
   "execution_count": 109,
   "id": "4e21e4c1",
   "metadata": {
    "ExecuteTime": {
     "end_time": "2022-07-10T08:52:06.824419Z",
     "start_time": "2022-07-10T08:52:06.800504Z"
    }
   },
   "outputs": [],
   "source": [
    "from sklearn.linear_model import Ridge  # L2규제를 적용한 Linear Regression 모델\n",
    "\n",
    "# 객체 생성\n",
    "ridge1 = Ridge(random_state=0)  # alpha: 1.0 (기본) - 규제항의 값을 조절하는 규제하이퍼파라미터\n",
    "# 학습\n",
    "ridge1.fit(X_train_scaled, y_train)\n",
    "# 추론\n",
    "pred_train1 = ridge1.predict(X_train_scaled)\n",
    "pred_test1 = ridge1.predict(X_test_scaled)"
   ]
  },
  {
   "cell_type": "code",
   "execution_count": 112,
   "id": "9643b20a",
   "metadata": {
    "ExecuteTime": {
     "end_time": "2022-07-10T08:53:18.129071Z",
     "start_time": "2022-07-10T08:53:18.112118Z"
    }
   },
   "outputs": [
    {
     "name": "stdout",
     "output_type": "stream",
     "text": [
      "alpha=1\n",
      "Train\n",
      "MSE:19.641949353818962, RMSE:4.43192388854084, R Square:0.7697531869999299\n",
      "Test\n",
      "MSE:29.853763334547615, RMSE:5.463859746968952, R Square:0.6345884564889053\n"
     ]
    }
   ],
   "source": [
    "print('alpha=1')\n",
    "print_regression_metrics(y_train, pred_train1, title='Train')\n",
    "print_regression_metrics(y_test, pred_test1, title=\"Test\")"
   ]
  },
  {
   "cell_type": "code",
   "execution_count": 113,
   "id": "665981f9",
   "metadata": {
    "ExecuteTime": {
     "end_time": "2022-07-10T08:53:32.757681Z",
     "start_time": "2022-07-10T08:53:32.744208Z"
    }
   },
   "outputs": [
    {
     "name": "stdout",
     "output_type": "stream",
     "text": [
      "alpha=0.01\n",
      "Train\n",
      "MSE:19.640519579533198, RMSE:4.431762581584577, R Square:0.7697699470967349\n",
      "Test\n",
      "MSE:29.782964300126427, RMSE:5.4573770531388455, R Square:0.6354550401807846\n"
     ]
    }
   ],
   "source": [
    "from sklearn.linear_model import Ridge\n",
    "ridge1 = Ridge(alpha=0.01, random_state=0) #alpah=0.01\n",
    "ridge1.fit(X_train_scaled, y_train)\n",
    "pred_train1 = ridge1.predict(X_train_scaled)\n",
    "pred_test1 = ridge1.predict(X_test_scaled)\n",
    "\n",
    "print('alpha=0.01')\n",
    "print_regression_metrics(y_train, pred_train1, title='Train')\n",
    "print_regression_metrics(y_test, pred_test1, title=\"Test\")"
   ]
  },
  {
   "cell_type": "code",
   "execution_count": 114,
   "id": "f32773b8",
   "metadata": {
    "ExecuteTime": {
     "end_time": "2022-07-10T08:53:42.823812Z",
     "start_time": "2022-07-10T08:53:42.800893Z"
    }
   },
   "outputs": [
    {
     "name": "stdout",
     "output_type": "stream",
     "text": [
      "alpha=1000\n",
      "Train\n",
      "MSE:37.6379127019148, RMSE:6.13497454778052, R Square:0.5588009473252299\n",
      "Test\n",
      "MSE:47.385118128796044, RMSE:6.883684923701552, R Square:0.42000380451661745\n"
     ]
    }
   ],
   "source": [
    "from sklearn.linear_model import Ridge\n",
    "ridge1 = Ridge(alpha=1000, random_state=0) #alpah=100  # 규제강도를 크게\n",
    "ridge1.fit(X_train_scaled, y_train)\n",
    "pred_train1 = ridge1.predict(X_train_scaled)\n",
    "pred_test1 = ridge1.predict(X_test_scaled)\n",
    "\n",
    "print('alpha=1000')\n",
    "print_regression_metrics(y_train, pred_train1, title='Train')\n",
    "print_regression_metrics(y_test, pred_test1, title=\"Test\")\n",
    "\n",
    "# 알파를 1.0 했을때에 비해서 underfitting발생 -> 단순모델"
   ]
  },
  {
   "cell_type": "markdown",
   "id": "dda2e878",
   "metadata": {},
   "source": [
    "## GridSearchCV를 이용해 최적의 alpha 탐색"
   ]
  },
  {
   "cell_type": "code",
   "execution_count": 115,
   "id": "bc99d3b8",
   "metadata": {
    "ExecuteTime": {
     "end_time": "2022-07-10T08:54:17.293543Z",
     "start_time": "2022-07-10T08:54:17.191837Z"
    }
   },
   "outputs": [
    {
     "data": {
      "text/plain": [
       "GridSearchCV(cv=4, estimator=Ridge(random_state=0),\n",
       "             param_grid={'alpha': [0.01, 0.1, 1, 5, 10, 20, 30, 40, 100]},\n",
       "             refit='r2', scoring=['r2', 'neg_mean_squared_error'])"
      ]
     },
     "execution_count": 115,
     "metadata": {},
     "output_type": "execute_result"
    }
   ],
   "source": [
    "from sklearn.model_selection import GridSearchCV\n",
    "param = {\"alpha\":[0.01, 0.1, 1, 5, 10, 20, 30, 40, 100]}\n",
    "ridge = Ridge(random_state=0)\n",
    "gs = GridSearchCV(ridge, param, cv=4, scoring=['r2', 'neg_mean_squared_error'], refit='r2')\n",
    "\n",
    "gs.fit(X_train_scaled, y_train)"
   ]
  },
  {
   "cell_type": "code",
   "execution_count": 116,
   "id": "c3c34b19",
   "metadata": {
    "ExecuteTime": {
     "end_time": "2022-07-10T08:55:23.148343Z",
     "start_time": "2022-07-10T08:55:23.096392Z"
    }
   },
   "outputs": [
    {
     "data": {
      "text/html": [
       "<div>\n",
       "<style scoped>\n",
       "    .dataframe tbody tr th:only-of-type {\n",
       "        vertical-align: middle;\n",
       "    }\n",
       "\n",
       "    .dataframe tbody tr th {\n",
       "        vertical-align: top;\n",
       "    }\n",
       "\n",
       "    .dataframe thead th {\n",
       "        text-align: right;\n",
       "    }\n",
       "</style>\n",
       "<table border=\"1\" class=\"dataframe\">\n",
       "  <thead>\n",
       "    <tr style=\"text-align: right;\">\n",
       "      <th></th>\n",
       "      <th>mean_fit_time</th>\n",
       "      <th>std_fit_time</th>\n",
       "      <th>mean_score_time</th>\n",
       "      <th>std_score_time</th>\n",
       "      <th>param_alpha</th>\n",
       "      <th>params</th>\n",
       "      <th>split0_test_r2</th>\n",
       "      <th>split1_test_r2</th>\n",
       "      <th>split2_test_r2</th>\n",
       "      <th>split3_test_r2</th>\n",
       "      <th>mean_test_r2</th>\n",
       "      <th>std_test_r2</th>\n",
       "      <th>rank_test_r2</th>\n",
       "      <th>split0_test_neg_mean_squared_error</th>\n",
       "      <th>split1_test_neg_mean_squared_error</th>\n",
       "      <th>split2_test_neg_mean_squared_error</th>\n",
       "      <th>split3_test_neg_mean_squared_error</th>\n",
       "      <th>mean_test_neg_mean_squared_error</th>\n",
       "      <th>std_test_neg_mean_squared_error</th>\n",
       "      <th>rank_test_neg_mean_squared_error</th>\n",
       "    </tr>\n",
       "  </thead>\n",
       "  <tbody>\n",
       "    <tr>\n",
       "      <th>5</th>\n",
       "      <td>0.001491</td>\n",
       "      <td>5.048614e-04</td>\n",
       "      <td>0.001496</td>\n",
       "      <td>4.980007e-04</td>\n",
       "      <td>20</td>\n",
       "      <td>{'alpha': 20}</td>\n",
       "      <td>0.769783</td>\n",
       "      <td>0.645949</td>\n",
       "      <td>0.646802</td>\n",
       "      <td>0.818040</td>\n",
       "      <td>0.720144</td>\n",
       "      <td>0.075716</td>\n",
       "      <td>1</td>\n",
       "      <td>-17.823357</td>\n",
       "      <td>-26.999550</td>\n",
       "      <td>-30.525873</td>\n",
       "      <td>-18.104060</td>\n",
       "      <td>-23.363210</td>\n",
       "      <td>5.542457</td>\n",
       "      <td>2</td>\n",
       "    </tr>\n",
       "    <tr>\n",
       "      <th>4</th>\n",
       "      <td>0.000750</td>\n",
       "      <td>4.328124e-04</td>\n",
       "      <td>0.000747</td>\n",
       "      <td>4.314715e-04</td>\n",
       "      <td>10</td>\n",
       "      <td>{'alpha': 10}</td>\n",
       "      <td>0.762913</td>\n",
       "      <td>0.645798</td>\n",
       "      <td>0.650567</td>\n",
       "      <td>0.820667</td>\n",
       "      <td>0.719986</td>\n",
       "      <td>0.074670</td>\n",
       "      <td>2</td>\n",
       "      <td>-18.355176</td>\n",
       "      <td>-27.011065</td>\n",
       "      <td>-30.200460</td>\n",
       "      <td>-17.842694</td>\n",
       "      <td>-23.352349</td>\n",
       "      <td>5.376125</td>\n",
       "      <td>1</td>\n",
       "    </tr>\n",
       "    <tr>\n",
       "      <th>6</th>\n",
       "      <td>0.000750</td>\n",
       "      <td>4.328866e-04</td>\n",
       "      <td>0.000997</td>\n",
       "      <td>4.036867e-06</td>\n",
       "      <td>30</td>\n",
       "      <td>{'alpha': 30}</td>\n",
       "      <td>0.773569</td>\n",
       "      <td>0.646587</td>\n",
       "      <td>0.644039</td>\n",
       "      <td>0.814082</td>\n",
       "      <td>0.719569</td>\n",
       "      <td>0.075631</td>\n",
       "      <td>3</td>\n",
       "      <td>-17.530173</td>\n",
       "      <td>-26.950941</td>\n",
       "      <td>-30.764711</td>\n",
       "      <td>-18.497835</td>\n",
       "      <td>-23.435915</td>\n",
       "      <td>5.597524</td>\n",
       "      <td>4</td>\n",
       "    </tr>\n",
       "    <tr>\n",
       "      <th>3</th>\n",
       "      <td>0.000997</td>\n",
       "      <td>3.576279e-07</td>\n",
       "      <td>0.001242</td>\n",
       "      <td>4.336625e-04</td>\n",
       "      <td>5</td>\n",
       "      <td>{'alpha': 5}</td>\n",
       "      <td>0.757436</td>\n",
       "      <td>0.646131</td>\n",
       "      <td>0.653369</td>\n",
       "      <td>0.820574</td>\n",
       "      <td>0.719378</td>\n",
       "      <td>0.073163</td>\n",
       "      <td>4</td>\n",
       "      <td>-18.779233</td>\n",
       "      <td>-26.985694</td>\n",
       "      <td>-29.958289</td>\n",
       "      <td>-17.851926</td>\n",
       "      <td>-23.393786</td>\n",
       "      <td>5.196172</td>\n",
       "      <td>3</td>\n",
       "    </tr>\n",
       "    <tr>\n",
       "      <th>7</th>\n",
       "      <td>0.000749</td>\n",
       "      <td>4.323660e-04</td>\n",
       "      <td>0.000996</td>\n",
       "      <td>9.684608e-07</td>\n",
       "      <td>40</td>\n",
       "      <td>{'alpha': 40}</td>\n",
       "      <td>0.775585</td>\n",
       "      <td>0.647291</td>\n",
       "      <td>0.641584</td>\n",
       "      <td>0.809645</td>\n",
       "      <td>0.718526</td>\n",
       "      <td>0.075088</td>\n",
       "      <td>5</td>\n",
       "      <td>-17.374137</td>\n",
       "      <td>-26.897195</td>\n",
       "      <td>-30.976839</td>\n",
       "      <td>-18.939336</td>\n",
       "      <td>-23.546877</td>\n",
       "      <td>5.607163</td>\n",
       "      <td>8</td>\n",
       "    </tr>\n",
       "  </tbody>\n",
       "</table>\n",
       "</div>"
      ],
      "text/plain": [
       "   mean_fit_time  std_fit_time  mean_score_time  std_score_time param_alpha  \\\n",
       "5       0.001491  5.048614e-04         0.001496    4.980007e-04          20   \n",
       "4       0.000750  4.328124e-04         0.000747    4.314715e-04          10   \n",
       "6       0.000750  4.328866e-04         0.000997    4.036867e-06          30   \n",
       "3       0.000997  3.576279e-07         0.001242    4.336625e-04           5   \n",
       "7       0.000749  4.323660e-04         0.000996    9.684608e-07          40   \n",
       "\n",
       "          params  split0_test_r2  split1_test_r2  split2_test_r2  \\\n",
       "5  {'alpha': 20}        0.769783        0.645949        0.646802   \n",
       "4  {'alpha': 10}        0.762913        0.645798        0.650567   \n",
       "6  {'alpha': 30}        0.773569        0.646587        0.644039   \n",
       "3   {'alpha': 5}        0.757436        0.646131        0.653369   \n",
       "7  {'alpha': 40}        0.775585        0.647291        0.641584   \n",
       "\n",
       "   split3_test_r2  mean_test_r2  std_test_r2  rank_test_r2  \\\n",
       "5        0.818040      0.720144     0.075716             1   \n",
       "4        0.820667      0.719986     0.074670             2   \n",
       "6        0.814082      0.719569     0.075631             3   \n",
       "3        0.820574      0.719378     0.073163             4   \n",
       "7        0.809645      0.718526     0.075088             5   \n",
       "\n",
       "   split0_test_neg_mean_squared_error  split1_test_neg_mean_squared_error  \\\n",
       "5                          -17.823357                          -26.999550   \n",
       "4                          -18.355176                          -27.011065   \n",
       "6                          -17.530173                          -26.950941   \n",
       "3                          -18.779233                          -26.985694   \n",
       "7                          -17.374137                          -26.897195   \n",
       "\n",
       "   split2_test_neg_mean_squared_error  split3_test_neg_mean_squared_error  \\\n",
       "5                          -30.525873                          -18.104060   \n",
       "4                          -30.200460                          -17.842694   \n",
       "6                          -30.764711                          -18.497835   \n",
       "3                          -29.958289                          -17.851926   \n",
       "7                          -30.976839                          -18.939336   \n",
       "\n",
       "   mean_test_neg_mean_squared_error  std_test_neg_mean_squared_error  \\\n",
       "5                        -23.363210                         5.542457   \n",
       "4                        -23.352349                         5.376125   \n",
       "6                        -23.435915                         5.597524   \n",
       "3                        -23.393786                         5.196172   \n",
       "7                        -23.546877                         5.607163   \n",
       "\n",
       "   rank_test_neg_mean_squared_error  \n",
       "5                                 2  \n",
       "4                                 1  \n",
       "6                                 4  \n",
       "3                                 3  \n",
       "7                                 8  "
      ]
     },
     "execution_count": 116,
     "metadata": {},
     "output_type": "execute_result"
    }
   ],
   "source": [
    "result_df = pd.DataFrame(gs.cv_results_)\n",
    "result_df.sort_values('rank_test_r2').head()"
   ]
  },
  {
   "cell_type": "markdown",
   "id": "c370bf22",
   "metadata": {},
   "source": [
    "## 규제 alpha 에 따른 weight 변화"
   ]
  },
  {
   "cell_type": "code",
   "execution_count": 117,
   "id": "b453d060",
   "metadata": {
    "ExecuteTime": {
     "end_time": "2022-07-10T08:56:22.813112Z",
     "start_time": "2022-07-10T08:56:21.704432Z"
    }
   },
   "outputs": [
    {
     "data": {
      "image/png": "[encoded data removed]",
      "text/plain": [
       "<Figure size 432x1800 with 6 Axes>"
      ]
     },
     "metadata": {
      "needs_background": "light"
     },
     "output_type": "display_data"
    }
   ],
   "source": [
    "import matplotlib.pyplot as plt\n",
    "np.random.seed(1)\n",
    "alpha_list = [0,  1, 10, 100,500,1000]\n",
    "coef_df = pd.DataFrame()\n",
    "\n",
    "plt.figure(figsize=(6,25))\n",
    "for idx, alpha in enumerate(alpha_list, start=1):\n",
    "\n",
    "    ridge = Ridge(alpha=alpha)\n",
    "    ridge.fit(X_train_scaled, y_train)\n",
    "    \n",
    "    pred_train = ridge.predict(X_train_scaled)\n",
    "    pred_test = ridge.predict(X_test_scaled)\n",
    "\n",
    "#     각 feature(컬럼)들에 곱해지는 weight들을 Series로 만들기\n",
    "    w = pd.Series(np.round(ridge.coef_,3), index=data[\"feature_names\"])\n",
    "    coef_df[f'alpha {alpha}'] = w.copy()  # weight serise를 DataFrame에 추가\n",
    "    \n",
    "    w = w.sort_values()\n",
    "    # weight 그래프로 출력\n",
    "    plt.subplot(7,1,idx)\n",
    "    \n",
    "    plt.bar(x=w.index, height=w)\n",
    "    plt.xticks(rotation=45)\n",
    "    plt.ylim(-20, 20)\n",
    "    plt.title(f\"alpha {alpha}\")\n",
    "    plt.grid(True)\n",
    "\n",
    "plt.tight_layout()\n",
    "plt.show()"
   ]
  },
  {
   "cell_type": "markdown",
   "id": "b43a1d04",
   "metadata": {},
   "source": [
    "## Lasso(Least Absolut Shrinkage and Selection Operator) Regression (L1 규제)\n",
    "\n",
    "- 손실함수에 규제항으로 $\\alpha \\sum_{i=1}^{n}{\\left| w_i \\right|}$ (L1 Norm)더한다.\n",
    "- Lasso 회귀의 상대적으로 덜 중요한 특성의 가중치를 0으로 만들어 자동으로 Feature Selection이 된다.\n",
    "\n",
    "$$\n",
    "\\text{손실함수}(w) = \\text{MSE}(w) + \\alpha \\sum_{i=1}^{n}{\\left| w_i \\right|}\n",
    "$$"
   ]
  },
  {
   "cell_type": "markdown",
   "id": "73181032",
   "metadata": {},
   "source": [
    "### 예제"
   ]
  },
  {
   "cell_type": "code",
   "execution_count": 118,
   "id": "a86b838d",
   "metadata": {
    "ExecuteTime": {
     "end_time": "2022-07-10T08:58:29.259928Z",
     "start_time": "2022-07-10T08:58:29.247941Z"
    }
   },
   "outputs": [],
   "source": [
    "from sklearn.linear_model import Lasso"
   ]
  },
  {
   "cell_type": "code",
   "execution_count": 119,
   "id": "e4b13907",
   "metadata": {
    "ExecuteTime": {
     "end_time": "2022-07-10T08:58:33.842680Z",
     "start_time": "2022-07-10T08:58:33.816750Z"
    }
   },
   "outputs": [
    {
     "name": "stdout",
     "output_type": "stream",
     "text": [
      "alpha=1\n",
      "alpha=1 Train\n",
      "MSE:25.38793844433231, RMSE:5.038644504659196, R Square:0.702397567056503\n",
      "alpha=1 Test\n",
      "MSE:35.48963616828034, RMSE:5.957317866983458, R Square:0.5656050935497574\n"
     ]
    }
   ],
   "source": [
    "# alpah 하이퍼파라미터로 규제 강도를 설정(기본: 1.0) - 클수록 강한 규제 -> 강한규제: 더 단순한 모델을 만든다.  \n",
    "lasso = Lasso(random_state=0) #alpha: 1.0\n",
    "lasso.fit(X_train_scaled, y_train)\n",
    "pred_train = lasso.predict(X_train_scaled)\n",
    "pred_test = lasso.predict(X_test_scaled)\n",
    "\n",
    "print('alpha=1')\n",
    "print_regression_metrics(y_train, pred_train, \"alpha=1 Train\")\n",
    "print_regression_metrics(y_test, pred_test, \"alpha=1 Test\")"
   ]
  },
  {
   "cell_type": "code",
   "execution_count": 120,
   "id": "883122d8",
   "metadata": {
    "ExecuteTime": {
     "end_time": "2022-07-10T08:59:15.047941Z",
     "start_time": "2022-07-10T08:59:15.032002Z"
    }
   },
   "outputs": [
    {
     "name": "stdout",
     "output_type": "stream",
     "text": [
      "alpha=10\n",
      "alpha=10 Train\n",
      "MSE:85.30823553163789, RMSE:9.236245748768159, R Square:0.0\n",
      "alpha=10 Test\n",
      "MSE:81.7904659829155, RMSE:9.043808157126925, R Square:-0.001119359203955339\n"
     ]
    }
   ],
   "source": [
    "lasso = Lasso(alpha=10, random_state=0) #alpha=10\n",
    "lasso.fit(X_train_scaled, y_train)\n",
    "pred_train = lasso.predict(X_train_scaled)\n",
    "pred_test = lasso.predict(X_test_scaled)\n",
    "\n",
    "print('alpha=10')\n",
    "print_regression_metrics(y_train, pred_train, \"alpha=10 Train\")\n",
    "print_regression_metrics(y_test, pred_test, \"alpha=10 Test\")"
   ]
  },
  {
   "cell_type": "code",
   "execution_count": 121,
   "id": "10c71888",
   "metadata": {
    "ExecuteTime": {
     "end_time": "2022-07-10T08:59:34.933116Z",
     "start_time": "2022-07-10T08:59:33.463542Z"
    }
   },
   "outputs": [
    {
     "name": "stderr",
     "output_type": "stream",
     "text": [
      "C:\\Users\\user\\AppData\\Local\\Temp\\ipykernel_14412\\2860725074.py:9: UserWarning: With alpha=0, this algorithm does not converge well. You are advised to use the LinearRegression estimator\n",
      "  lasso.fit(X_train_scaled, y_train)\n",
      "E:\\anaconda3\\envs\\ml\\lib\\site-packages\\sklearn\\linear_model\\_coordinate_descent.py:647: UserWarning: Coordinate descent with no regularization may lead to unexpected results and is discouraged.\n",
      "  model = cd_fast.enet_coordinate_descent(\n",
      "E:\\anaconda3\\envs\\ml\\lib\\site-packages\\sklearn\\linear_model\\_coordinate_descent.py:647: ConvergenceWarning: Objective did not converge. You might want to increase the number of iterations, check the scale of the features or consider increasing regularisation. Duality gap: 3.722e+03, tolerance: 3.233e+00 Linear regression models with null weight for the l1 regularization term are more efficiently fitted using one of the solvers implemented in sklearn.linear_model.Ridge/RidgeCV instead.\n",
      "  model = cd_fast.enet_coordinate_descent(\n"
     ]
    },
    {
     "data": {
      "image/png": "[encoded data removed]",
      "text/plain": [
       "<Figure size 504x1800 with 6 Axes>"
      ]
     },
     "metadata": {
      "needs_background": "light"
     },
     "output_type": "display_data"
    }
   ],
   "source": [
    "import matplotlib.pyplot as plt\n",
    "alpha_list = [0, 0.1, 0.5, 1, 5, 10]\n",
    "\n",
    "lasso_coef_df = pd.DataFrame()\n",
    "\n",
    "plt.figure(figsize=(7,25))\n",
    "for idx, alpha in enumerate(alpha_list, start=1):\n",
    "    lasso = Lasso(alpha=alpha, random_state=0)\n",
    "    lasso.fit(X_train_scaled, y_train)\n",
    "    \n",
    "    w = pd.Series(lasso.coef_, index=data[\"feature_names\"])\n",
    "    lasso_coef_df[f'alpha {alpha}'] = w\n",
    "    \n",
    "    # weight 들을 막대그래프로 시각화\n",
    "    w = w.copy().sort_values()\n",
    "    plt.subplot(6,1,idx)\n",
    "    \n",
    "    plt.bar(x=w.index, height=w)\n",
    "    plt.xticks(rotation=45)\n",
    "    plt.ylim(-20, 20)\n",
    "    plt.grid(True)\n",
    "    plt.title(f\"Lasso alpha {alpha}\")\n",
    "    \n",
    "plt.tight_layout()\n",
    "plt.show()    "
   ]
  },
  {
   "cell_type": "markdown",
   "id": "f6690ce6",
   "metadata": {},
   "source": [
    "## ElasticNet(엘라스틱넷)\n",
    "- 릿지와 라쏘를 절충한 모델.\n",
    "- 규제항에 릿지, 라쏘 규제항을 더해서 추가한다. \n",
    "- 혼합비율 $r$을 사용해 혼합정도를 조절($r$은 Lassa(L1규제) 쪽 비율)\n",
    "- $r=0$이면 릿지와 같고 $r=1$이면 라쏘와 같다.\n",
    "\n",
    "$$\n",
    "\\text{손실함수}(w) = \\text{MSE}(w) + r\\alpha \\sum_{i=1}^{n}{\\left| w_i \\right|}  + \\cfrac{1-r}{2}\\alpha\\sum_{i=1}^{n}{w_{i}^{2}}\n",
    "$$"
   ]
  },
  {
   "cell_type": "code",
   "execution_count": 123,
   "id": "76c87a90",
   "metadata": {
    "ExecuteTime": {
     "end_time": "2022-07-10T09:01:28.435827Z",
     "start_time": "2022-07-10T09:01:28.416770Z"
    }
   },
   "outputs": [
    {
     "name": "stdout",
     "output_type": "stream",
     "text": [
      "ElasticNet alpha 0.1: Train\n",
      "MSE:20.128961453751398, RMSE:4.486531115879104, R Square:0.7640443348955887\n",
      "ElasticNet alpha 0.1: Trest\n",
      "MSE:31.441232021951834, RMSE:5.607248168393462, R Square:0.6151577610405823\n"
     ]
    }
   ],
   "source": [
    "from sklearn.linear_model import ElasticNet\n",
    "\n",
    "# 모델 생성\n",
    "elastic = ElasticNet(alpha=0.1, l1_ratio=0.6) #alpha 페날티(규제강도), l1_ratio: 비율(라쏘쪽. 위의것으로 보면 앞의것의 r 지정.)\n",
    "# 학습\n",
    "elastic.fit(X_train_scaled, y_train)\n",
    "\n",
    "# 추론\n",
    "pred_train = elastic.predict(X_train_scaled)\n",
    "pred_test = elastic.predict(X_test_scaled)\n",
    "# 평가\n",
    "print_regression_metrics(y_train, pred_train, title='ElasticNet alpha 0.1: Train')\n",
    "print_regression_metrics(y_test, pred_test, title=\"ElasticNet alpha 0.1: Trest\")"
   ]
  },
  {
   "cell_type": "markdown",
   "id": "ff79769d",
   "metadata": {},
   "source": [
    "# 정리\n",
    "- 일반적으로 선형회귀의 경우 어느정도 규제가 있는 경우가 성능이 좋다.\n",
    "- 기본적으로 **Ridge**를 사용한다.\n",
    "- Target에 영향을 주는 Feature가 몇 개뿐일 경우 특성의 가중치를 0으로 만들어 주는 **Lasso** 사용한다. \n",
    "- 특성 수가 학습 샘플 수 보다 많거나 feature간에 연관성이 높을 때는 **ElasticNet**을 사용한다."
   ]
  }
 ],
 "metadata": {
  "kernelspec": {
   "display_name": "Python 3 (ipykernel)",
   "language": "python",
   "name": "python3"
  },
  "language_info": {
   "codemirror_mode": {
    "name": "ipython",
    "version": 3
   },
   "file_extension": ".py",
   "mimetype": "text/x-python",
   "name": "python",
   "nbconvert_exporter": "python",
   "pygments_lexer": "ipython3",
   "version": "3.9.12"
  }
 },
 "nbformat": 4,
 "nbformat_minor": 5
}
